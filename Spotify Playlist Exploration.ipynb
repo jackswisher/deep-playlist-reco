{
 "cells": [
  {
   "cell_type": "code",
   "execution_count": 18,
   "metadata": {},
   "outputs": [],
   "source": [
    "import os\n",
    "import sys\n",
    "import glob\n",
    "import time\n",
    "import datetime\n",
    "import numpy as np\n",
    "import pandas as pd\n",
    "import sqlite3\n",
    "import random\n",
    "import math\n",
    "import requests"
   ]
  },
  {
   "cell_type": "code",
   "execution_count": 3,
   "metadata": {},
   "outputs": [],
   "source": [
    "playlist_path = \"./Songs/\""
   ]
  },
  {
   "cell_type": "markdown",
   "metadata": {},
   "source": [
    "## Open one of the playlists"
   ]
  },
  {
   "cell_type": "code",
   "execution_count": 9,
   "metadata": {},
   "outputs": [],
   "source": [
    "rand_file = random.randint(0,1000)"
   ]
  },
  {
   "cell_type": "code",
   "execution_count": 10,
   "metadata": {},
   "outputs": [],
   "source": [
    "df = pd.read_csv(playlist_path + f\"songs{rand_file}.csv\")"
   ]
  },
  {
   "cell_type": "code",
   "execution_count": 12,
   "metadata": {},
   "outputs": [
    {
     "data": {
      "text/html": [
       "<div>\n",
       "<style scoped>\n",
       "    .dataframe tbody tr th:only-of-type {\n",
       "        vertical-align: middle;\n",
       "    }\n",
       "\n",
       "    .dataframe tbody tr th {\n",
       "        vertical-align: top;\n",
       "    }\n",
       "\n",
       "    .dataframe thead th {\n",
       "        text-align: right;\n",
       "    }\n",
       "</style>\n",
       "<table border=\"1\" class=\"dataframe\">\n",
       "  <thead>\n",
       "    <tr style=\"text-align: right;\">\n",
       "      <th></th>\n",
       "      <th>pid</th>\n",
       "      <th>pos</th>\n",
       "      <th>artist_name</th>\n",
       "      <th>track_uri</th>\n",
       "      <th>artist_uri</th>\n",
       "      <th>track_name</th>\n",
       "      <th>album_uri</th>\n",
       "      <th>duration_ms</th>\n",
       "      <th>album_name</th>\n",
       "    </tr>\n",
       "  </thead>\n",
       "  <tbody>\n",
       "    <tr>\n",
       "      <th>0</th>\n",
       "      <td>0</td>\n",
       "      <td>0</td>\n",
       "      <td>Major Lazer</td>\n",
       "      <td>spotify:track:4WjH9Bzt3kx7z8kl0awxh4</td>\n",
       "      <td>spotify:artist:738wLrAtLtCtFOLvQBXOXp</td>\n",
       "      <td>Lean On (feat. MØ &amp; DJ Snake)</td>\n",
       "      <td>spotify:album:2XBnxKeRZi76u2iyGcMych</td>\n",
       "      <td>176561</td>\n",
       "      <td>Peace Is The Mission</td>\n",
       "    </tr>\n",
       "    <tr>\n",
       "      <th>1</th>\n",
       "      <td>0</td>\n",
       "      <td>1</td>\n",
       "      <td>Miley Cyrus</td>\n",
       "      <td>spotify:track:2y4lAQpi5VTNLu2ldeTdUH</td>\n",
       "      <td>spotify:artist:5YGY8feqx7naU7z4HrwZM6</td>\n",
       "      <td>We Can't Stop</td>\n",
       "      <td>spotify:album:3RDqXDc1bAETps54MSSOW0</td>\n",
       "      <td>231240</td>\n",
       "      <td>Bangerz (Deluxe Version)</td>\n",
       "    </tr>\n",
       "    <tr>\n",
       "      <th>2</th>\n",
       "      <td>0</td>\n",
       "      <td>2</td>\n",
       "      <td>Tegan and Sara</td>\n",
       "      <td>spotify:track:4fT30Ghhn5p7vDtUtn9bdK</td>\n",
       "      <td>spotify:artist:5e1BZulIiYWPRm8yogwUYH</td>\n",
       "      <td>Drove Me Wild</td>\n",
       "      <td>spotify:album:5IUJ6v408Z7pECC3BXUJxX</td>\n",
       "      <td>229253</td>\n",
       "      <td>Heartthrob</td>\n",
       "    </tr>\n",
       "    <tr>\n",
       "      <th>3</th>\n",
       "      <td>0</td>\n",
       "      <td>3</td>\n",
       "      <td>blink-182</td>\n",
       "      <td>spotify:track:12qZHAeOyTf93YAWvGDTat</td>\n",
       "      <td>spotify:artist:6FBDaR13swtiWwGhX1WQsP</td>\n",
       "      <td>All The Small Things</td>\n",
       "      <td>spotify:album:1fF8kYX49s5Ufv4XEY5sjW</td>\n",
       "      <td>168000</td>\n",
       "      <td>Enema Of The State</td>\n",
       "    </tr>\n",
       "    <tr>\n",
       "      <th>4</th>\n",
       "      <td>0</td>\n",
       "      <td>4</td>\n",
       "      <td>Natalie Imbruglia</td>\n",
       "      <td>spotify:track:1Jaah2tmN9Hv81A87KZ1MU</td>\n",
       "      <td>spotify:artist:0dlOr0VIysztGWvU1dpjmP</td>\n",
       "      <td>Torn</td>\n",
       "      <td>spotify:album:38alWeQVP9UUAGJvLptys9</td>\n",
       "      <td>244666</td>\n",
       "      <td>Left Of The Middle</td>\n",
       "    </tr>\n",
       "  </tbody>\n",
       "</table>\n",
       "</div>"
      ],
      "text/plain": [
       "   pid  pos        artist_name                             track_uri  \\\n",
       "0    0    0        Major Lazer  spotify:track:4WjH9Bzt3kx7z8kl0awxh4   \n",
       "1    0    1        Miley Cyrus  spotify:track:2y4lAQpi5VTNLu2ldeTdUH   \n",
       "2    0    2     Tegan and Sara  spotify:track:4fT30Ghhn5p7vDtUtn9bdK   \n",
       "3    0    3          blink-182  spotify:track:12qZHAeOyTf93YAWvGDTat   \n",
       "4    0    4  Natalie Imbruglia  spotify:track:1Jaah2tmN9Hv81A87KZ1MU   \n",
       "\n",
       "                              artist_uri                     track_name  \\\n",
       "0  spotify:artist:738wLrAtLtCtFOLvQBXOXp  Lean On (feat. MØ & DJ Snake)   \n",
       "1  spotify:artist:5YGY8feqx7naU7z4HrwZM6                  We Can't Stop   \n",
       "2  spotify:artist:5e1BZulIiYWPRm8yogwUYH                  Drove Me Wild   \n",
       "3  spotify:artist:6FBDaR13swtiWwGhX1WQsP           All The Small Things   \n",
       "4  spotify:artist:0dlOr0VIysztGWvU1dpjmP                           Torn   \n",
       "\n",
       "                              album_uri  duration_ms                album_name  \n",
       "0  spotify:album:2XBnxKeRZi76u2iyGcMych       176561      Peace Is The Mission  \n",
       "1  spotify:album:3RDqXDc1bAETps54MSSOW0       231240  Bangerz (Deluxe Version)  \n",
       "2  spotify:album:5IUJ6v408Z7pECC3BXUJxX       229253                Heartthrob  \n",
       "3  spotify:album:1fF8kYX49s5Ufv4XEY5sjW       168000        Enema Of The State  \n",
       "4  spotify:album:38alWeQVP9UUAGJvLptys9       244666        Left Of The Middle  "
      ]
     },
     "execution_count": 12,
     "metadata": {},
     "output_type": "execute_result"
    }
   ],
   "source": [
    "df.head()"
   ]
  },
  {
   "cell_type": "code",
   "execution_count": 14,
   "metadata": {},
   "outputs": [
    {
     "data": {
      "text/plain": [
       "1000"
      ]
     },
     "execution_count": 14,
     "metadata": {},
     "output_type": "execute_result"
    }
   ],
   "source": [
    "len(df.pid.unique())"
   ]
  },
  {
   "cell_type": "code",
   "execution_count": 21,
   "metadata": {},
   "outputs": [
    {
     "data": {
      "text/plain": [
       "count    1000.00000\n",
       "mean       62.79000\n",
       "std        50.08807\n",
       "min         4.00000\n",
       "25%        25.00000\n",
       "50%        48.00000\n",
       "75%        87.00000\n",
       "max       249.00000\n",
       "Name: pos, dtype: float64"
      ]
     },
     "execution_count": 21,
     "metadata": {},
     "output_type": "execute_result"
    }
   ],
   "source": [
    "df.groupby(\"pid\").pos.max().describe()"
   ]
  },
  {
   "cell_type": "code",
   "execution_count": 28,
   "metadata": {},
   "outputs": [
    {
     "data": {
      "text/plain": [
       "track_uri\n",
       "spotify:track:7KXjTSCq5nL1LoYtL7XAwS    45\n",
       "spotify:track:7BKLCZ1jbUBVqRi2FVlTVw    40\n",
       "spotify:track:1xznGGDReH1oQq0xzbwXa3    39\n",
       "spotify:track:7GX5flRQZVHRAGd6B4TmDO    38\n",
       "spotify:track:7KOlJ92bu51cltsD9KU5I7    37\n",
       "                                        ..\n",
       "spotify:track:4nJz9vscAzanC1ryjOtoJo     1\n",
       "spotify:track:4nKB7W7skS894mHSgWD8v7     1\n",
       "spotify:track:4nNSgSfqhtAQ9upuIp1QgM     1\n",
       "spotify:track:4nOKwZf1XRw2gI4FGAGhXf     1\n",
       "spotify:track:3tAplt4FkuuOBYvMlfq8wA     1\n",
       "Name: pid, Length: 34773, dtype: int64"
      ]
     },
     "execution_count": 28,
     "metadata": {},
     "output_type": "execute_result"
    }
   ],
   "source": [
    "df.groupby(\"track_uri\").pid.count().sort_values(ascending=False)"
   ]
  },
  {
   "cell_type": "code",
   "execution_count": 31,
   "metadata": {},
   "outputs": [
    {
     "data": {
      "text/plain": [
       "pid                                                9\n",
       "pos                                               97\n",
       "artist_name                           Kendrick Lamar\n",
       "track_uri       spotify:track:7KXjTSCq5nL1LoYtL7XAwS\n",
       "artist_uri     spotify:artist:2YZyLoL8N0Wb9xBt1NhZWg\n",
       "track_name                                   HUMBLE.\n",
       "album_uri       spotify:album:4eLPsYPBmXABThSJ821sqY\n",
       "duration_ms                                   177000\n",
       "album_name                                     DAMN.\n",
       "Name: 686, dtype: object"
      ]
     },
     "execution_count": 31,
     "metadata": {},
     "output_type": "execute_result"
    }
   ],
   "source": [
    "df.loc[df['track_uri'] == \"spotify:track:7KXjTSCq5nL1LoYtL7XAwS\"].iloc[0]"
   ]
  },
  {
   "cell_type": "markdown",
   "metadata": {},
   "source": [
    "## Create train/test dataframe from CSVs"
   ]
  },
  {
   "cell_type": "code",
   "execution_count": 1,
   "metadata": {
    "scrolled": true
   },
   "outputs": [],
   "source": [
    "# total = []\n",
    "# for root, dirs, files in os.walk(playlist_path_jack):\n",
    "#     files = glob.glob(os.path.join(root,'*'+'.csv'))\n",
    "#     for f in files:\n",
    "#         fid = int(f.split('/')[-1][5:].split('.')[0])\n",
    "#         df = pd.read_csv(f)\n",
    "#         df[\"fid\"] = fid\n",
    "#         total.append(df)\n",
    "# processed_df = pd.concat(total, axis=0)\n",
    "# processed_df.to_csv(\"playlist_data.csv\", index=False)"
   ]
  },
  {
   "cell_type": "markdown",
   "metadata": {},
   "source": [
    "## Popularity"
   ]
  },
  {
   "cell_type": "code",
   "execution_count": 72,
   "metadata": {},
   "outputs": [],
   "source": [
    "# total = pd.DataFrame()\n",
    "# random.seed(109)\n",
    "# train_proportion = 0.6\n",
    "# for root, dirs, files in os.walk(playlist_path_jack):\n",
    "#     files = glob.glob(os.path.join(root,'*'+'.csv'))\n",
    "#     train_files = random.sample(files, math.floor(len(files) * train_proportion))\n",
    "#     test_files = list(set(files) - set(train_files))\n",
    "#     for f in files[0:100]:\n",
    "#         fid = int(f.split('/')[-1][5:].split('.')[0])\n",
    "#         df = pd.read_csv(f)\n",
    "#         most_common = df.groupby(\"track_uri\").pid.count()        \n",
    "#         total = pd.concat([total] + [most_common], axis=0)"
   ]
  },
  {
   "cell_type": "code",
   "execution_count": 77,
   "metadata": {},
   "outputs": [],
   "source": [
    "popularity = total.groupby(level=0)[0].sum()"
   ]
  },
  {
   "cell_type": "code",
   "execution_count": 78,
   "metadata": {},
   "outputs": [
    {
     "data": {
      "text/plain": [
       "spotify:track:7KXjTSCq5nL1LoYtL7XAwS    4607.0\n",
       "spotify:track:1xznGGDReH1oQq0xzbwXa3    4281.0\n",
       "spotify:track:7yyRTcZmCiyzzJlNzGC9Ol    4139.0\n",
       "spotify:track:7BKLCZ1jbUBVqRi2FVlTVw    4089.0\n",
       "spotify:track:3a1lNhkSLSkpJE4MSHpDu9    3928.0\n",
       "                                         ...  \n",
       "spotify:track:4R55eLGAYEpn9tFaclCqrn       1.0\n",
       "spotify:track:4R5D0ZxUfI2nPJVraTjW2x       1.0\n",
       "spotify:track:4R5EYhS1HCuzB0gNfFfG5P       1.0\n",
       "spotify:track:4R5FEwR2N8Q0ot9oZE7EXC       1.0\n",
       "spotify:track:0002yNGLtYSYtc0X6ZnFvp       1.0\n",
       "Name: 0, Length: 687376, dtype: float64"
      ]
     },
     "execution_count": 78,
     "metadata": {},
     "output_type": "execute_result"
    }
   ],
   "source": [
    "popularity.sort_values(ascending=False)"
   ]
  },
  {
   "cell_type": "code",
   "execution_count": 81,
   "metadata": {},
   "outputs": [
    {
     "data": {
      "text/plain": [
       "pid                                                6\n",
       "pos                                               98\n",
       "artist_name                                    Drake\n",
       "track_uri       spotify:track:1xznGGDReH1oQq0xzbwXa3\n",
       "artist_uri     spotify:artist:3TVXtAsR1Inumwj472S9r4\n",
       "track_name                                 One Dance\n",
       "album_uri       spotify:album:3hARKC8cinq3mZLLAEaBh9\n",
       "duration_ms                                   173986\n",
       "album_name                                     Views\n",
       "Name: 356, dtype: object"
      ]
     },
     "execution_count": 81,
     "metadata": {},
     "output_type": "execute_result"
    }
   ],
   "source": [
    "df.loc[df[\"track_uri\"] == \"spotify:track:1xznGGDReH1oQq0xzbwXa3\"].iloc[0]"
   ]
  },
  {
   "cell_type": "markdown",
   "metadata": {},
   "source": [
    "## Check that the CSV works"
   ]
  },
  {
   "cell_type": "code",
   "execution_count": 4,
   "metadata": {},
   "outputs": [],
   "source": [
    "full_df = pd.read_csv(\"playlist_data.csv\")"
   ]
  },
  {
   "cell_type": "code",
   "execution_count": 5,
   "metadata": {},
   "outputs": [
    {
     "data": {
      "text/html": [
       "<div>\n",
       "<style scoped>\n",
       "    .dataframe tbody tr th:only-of-type {\n",
       "        vertical-align: middle;\n",
       "    }\n",
       "\n",
       "    .dataframe tbody tr th {\n",
       "        vertical-align: top;\n",
       "    }\n",
       "\n",
       "    .dataframe thead th {\n",
       "        text-align: right;\n",
       "    }\n",
       "</style>\n",
       "<table border=\"1\" class=\"dataframe\">\n",
       "  <thead>\n",
       "    <tr style=\"text-align: right;\">\n",
       "      <th></th>\n",
       "      <th>pid</th>\n",
       "      <th>pos</th>\n",
       "      <th>artist_name</th>\n",
       "      <th>track_uri</th>\n",
       "      <th>artist_uri</th>\n",
       "      <th>track_name</th>\n",
       "      <th>album_uri</th>\n",
       "      <th>duration_ms</th>\n",
       "      <th>album_name</th>\n",
       "      <th>fid</th>\n",
       "    </tr>\n",
       "  </thead>\n",
       "  <tbody>\n",
       "    <tr>\n",
       "      <th>0</th>\n",
       "      <td>0</td>\n",
       "      <td>0</td>\n",
       "      <td>Sleeping At Last</td>\n",
       "      <td>spotify:track:2d7LPtieXdIYzf7yHPooWd</td>\n",
       "      <td>spotify:artist:0MeLMJJcouYXCymQSHPn8g</td>\n",
       "      <td>Chasing Cars</td>\n",
       "      <td>spotify:album:0UIIvTTWNB3gRQWFoxoEDh</td>\n",
       "      <td>242564</td>\n",
       "      <td>Covers, Vol. 2</td>\n",
       "      <td>284</td>\n",
       "    </tr>\n",
       "    <tr>\n",
       "      <th>1</th>\n",
       "      <td>0</td>\n",
       "      <td>1</td>\n",
       "      <td>Rachael Yamagata</td>\n",
       "      <td>spotify:track:0y4TKcc7p2H6P0GJlt01EI</td>\n",
       "      <td>spotify:artist:7w0qj2HiAPIeUcoPogvOZ6</td>\n",
       "      <td>Elephants</td>\n",
       "      <td>spotify:album:6KzK9fDNmj7GHFbcE4gVJD</td>\n",
       "      <td>253701</td>\n",
       "      <td>Elephants...Teeth Sinking Into Heart</td>\n",
       "      <td>284</td>\n",
       "    </tr>\n",
       "    <tr>\n",
       "      <th>2</th>\n",
       "      <td>0</td>\n",
       "      <td>2</td>\n",
       "      <td>The Cinematic Orchestra</td>\n",
       "      <td>spotify:track:6q4c1vPRZREh7nw3wG7Ixz</td>\n",
       "      <td>spotify:artist:32ogthv0BdaSMPml02X9YB</td>\n",
       "      <td>That Home</td>\n",
       "      <td>spotify:album:5cPHT4yMCfETLRYAoBFcOZ</td>\n",
       "      <td>103920</td>\n",
       "      <td>Ma Fleur</td>\n",
       "      <td>284</td>\n",
       "    </tr>\n",
       "    <tr>\n",
       "      <th>3</th>\n",
       "      <td>0</td>\n",
       "      <td>3</td>\n",
       "      <td>The Cinematic Orchestra</td>\n",
       "      <td>spotify:track:54KFQB6N4pn926IUUYZGzK</td>\n",
       "      <td>spotify:artist:32ogthv0BdaSMPml02X9YB</td>\n",
       "      <td>To Build A Home</td>\n",
       "      <td>spotify:album:5cPHT4yMCfETLRYAoBFcOZ</td>\n",
       "      <td>371320</td>\n",
       "      <td>Ma Fleur</td>\n",
       "      <td>284</td>\n",
       "    </tr>\n",
       "    <tr>\n",
       "      <th>4</th>\n",
       "      <td>0</td>\n",
       "      <td>4</td>\n",
       "      <td>Leon Bridges</td>\n",
       "      <td>spotify:track:0NeJjNlprGfZpeX2LQuN6c</td>\n",
       "      <td>spotify:artist:3qnGvpP8Yth1AqSBMqON5x</td>\n",
       "      <td>River</td>\n",
       "      <td>spotify:album:4svLfrPPk2npPVuI4kXPYg</td>\n",
       "      <td>238560</td>\n",
       "      <td>Coming Home</td>\n",
       "      <td>284</td>\n",
       "    </tr>\n",
       "  </tbody>\n",
       "</table>\n",
       "</div>"
      ],
      "text/plain": [
       "   pid  pos              artist_name                             track_uri  \\\n",
       "0    0    0         Sleeping At Last  spotify:track:2d7LPtieXdIYzf7yHPooWd   \n",
       "1    0    1         Rachael Yamagata  spotify:track:0y4TKcc7p2H6P0GJlt01EI   \n",
       "2    0    2  The Cinematic Orchestra  spotify:track:6q4c1vPRZREh7nw3wG7Ixz   \n",
       "3    0    3  The Cinematic Orchestra  spotify:track:54KFQB6N4pn926IUUYZGzK   \n",
       "4    0    4             Leon Bridges  spotify:track:0NeJjNlprGfZpeX2LQuN6c   \n",
       "\n",
       "                              artist_uri       track_name  \\\n",
       "0  spotify:artist:0MeLMJJcouYXCymQSHPn8g     Chasing Cars   \n",
       "1  spotify:artist:7w0qj2HiAPIeUcoPogvOZ6        Elephants   \n",
       "2  spotify:artist:32ogthv0BdaSMPml02X9YB        That Home   \n",
       "3  spotify:artist:32ogthv0BdaSMPml02X9YB  To Build A Home   \n",
       "4  spotify:artist:3qnGvpP8Yth1AqSBMqON5x            River   \n",
       "\n",
       "                              album_uri  duration_ms  \\\n",
       "0  spotify:album:0UIIvTTWNB3gRQWFoxoEDh       242564   \n",
       "1  spotify:album:6KzK9fDNmj7GHFbcE4gVJD       253701   \n",
       "2  spotify:album:5cPHT4yMCfETLRYAoBFcOZ       103920   \n",
       "3  spotify:album:5cPHT4yMCfETLRYAoBFcOZ       371320   \n",
       "4  spotify:album:4svLfrPPk2npPVuI4kXPYg       238560   \n",
       "\n",
       "                             album_name  fid  \n",
       "0                        Covers, Vol. 2  284  \n",
       "1  Elephants...Teeth Sinking Into Heart  284  \n",
       "2                              Ma Fleur  284  \n",
       "3                              Ma Fleur  284  \n",
       "4                           Coming Home  284  "
      ]
     },
     "execution_count": 5,
     "metadata": {},
     "output_type": "execute_result"
    }
   ],
   "source": [
    "full_df.head()"
   ]
  },
  {
   "cell_type": "code",
   "execution_count": 6,
   "metadata": {},
   "outputs": [],
   "source": [
    "new_df = full_df.set_index([\"fid\", \"pid\"])"
   ]
  },
  {
   "cell_type": "code",
   "execution_count": 7,
   "metadata": {},
   "outputs": [
    {
     "data": {
      "text/html": [
       "<div>\n",
       "<style scoped>\n",
       "    .dataframe tbody tr th:only-of-type {\n",
       "        vertical-align: middle;\n",
       "    }\n",
       "\n",
       "    .dataframe tbody tr th {\n",
       "        vertical-align: top;\n",
       "    }\n",
       "\n",
       "    .dataframe thead th {\n",
       "        text-align: right;\n",
       "    }\n",
       "</style>\n",
       "<table border=\"1\" class=\"dataframe\">\n",
       "  <thead>\n",
       "    <tr style=\"text-align: right;\">\n",
       "      <th></th>\n",
       "      <th></th>\n",
       "      <th>pos</th>\n",
       "      <th>artist_name</th>\n",
       "      <th>track_uri</th>\n",
       "      <th>artist_uri</th>\n",
       "      <th>track_name</th>\n",
       "      <th>album_uri</th>\n",
       "      <th>duration_ms</th>\n",
       "      <th>album_name</th>\n",
       "    </tr>\n",
       "    <tr>\n",
       "      <th>fid</th>\n",
       "      <th>pid</th>\n",
       "      <th></th>\n",
       "      <th></th>\n",
       "      <th></th>\n",
       "      <th></th>\n",
       "      <th></th>\n",
       "      <th></th>\n",
       "      <th></th>\n",
       "      <th></th>\n",
       "    </tr>\n",
       "  </thead>\n",
       "  <tbody>\n",
       "    <tr>\n",
       "      <th rowspan=\"5\" valign=\"top\">284</th>\n",
       "      <th>0</th>\n",
       "      <td>0</td>\n",
       "      <td>Sleeping At Last</td>\n",
       "      <td>spotify:track:2d7LPtieXdIYzf7yHPooWd</td>\n",
       "      <td>spotify:artist:0MeLMJJcouYXCymQSHPn8g</td>\n",
       "      <td>Chasing Cars</td>\n",
       "      <td>spotify:album:0UIIvTTWNB3gRQWFoxoEDh</td>\n",
       "      <td>242564</td>\n",
       "      <td>Covers, Vol. 2</td>\n",
       "    </tr>\n",
       "    <tr>\n",
       "      <th>0</th>\n",
       "      <td>1</td>\n",
       "      <td>Rachael Yamagata</td>\n",
       "      <td>spotify:track:0y4TKcc7p2H6P0GJlt01EI</td>\n",
       "      <td>spotify:artist:7w0qj2HiAPIeUcoPogvOZ6</td>\n",
       "      <td>Elephants</td>\n",
       "      <td>spotify:album:6KzK9fDNmj7GHFbcE4gVJD</td>\n",
       "      <td>253701</td>\n",
       "      <td>Elephants...Teeth Sinking Into Heart</td>\n",
       "    </tr>\n",
       "    <tr>\n",
       "      <th>0</th>\n",
       "      <td>2</td>\n",
       "      <td>The Cinematic Orchestra</td>\n",
       "      <td>spotify:track:6q4c1vPRZREh7nw3wG7Ixz</td>\n",
       "      <td>spotify:artist:32ogthv0BdaSMPml02X9YB</td>\n",
       "      <td>That Home</td>\n",
       "      <td>spotify:album:5cPHT4yMCfETLRYAoBFcOZ</td>\n",
       "      <td>103920</td>\n",
       "      <td>Ma Fleur</td>\n",
       "    </tr>\n",
       "    <tr>\n",
       "      <th>0</th>\n",
       "      <td>3</td>\n",
       "      <td>The Cinematic Orchestra</td>\n",
       "      <td>spotify:track:54KFQB6N4pn926IUUYZGzK</td>\n",
       "      <td>spotify:artist:32ogthv0BdaSMPml02X9YB</td>\n",
       "      <td>To Build A Home</td>\n",
       "      <td>spotify:album:5cPHT4yMCfETLRYAoBFcOZ</td>\n",
       "      <td>371320</td>\n",
       "      <td>Ma Fleur</td>\n",
       "    </tr>\n",
       "    <tr>\n",
       "      <th>0</th>\n",
       "      <td>4</td>\n",
       "      <td>Leon Bridges</td>\n",
       "      <td>spotify:track:0NeJjNlprGfZpeX2LQuN6c</td>\n",
       "      <td>spotify:artist:3qnGvpP8Yth1AqSBMqON5x</td>\n",
       "      <td>River</td>\n",
       "      <td>spotify:album:4svLfrPPk2npPVuI4kXPYg</td>\n",
       "      <td>238560</td>\n",
       "      <td>Coming Home</td>\n",
       "    </tr>\n",
       "  </tbody>\n",
       "</table>\n",
       "</div>"
      ],
      "text/plain": [
       "         pos              artist_name                             track_uri  \\\n",
       "fid pid                                                                       \n",
       "284 0      0         Sleeping At Last  spotify:track:2d7LPtieXdIYzf7yHPooWd   \n",
       "    0      1         Rachael Yamagata  spotify:track:0y4TKcc7p2H6P0GJlt01EI   \n",
       "    0      2  The Cinematic Orchestra  spotify:track:6q4c1vPRZREh7nw3wG7Ixz   \n",
       "    0      3  The Cinematic Orchestra  spotify:track:54KFQB6N4pn926IUUYZGzK   \n",
       "    0      4             Leon Bridges  spotify:track:0NeJjNlprGfZpeX2LQuN6c   \n",
       "\n",
       "                                    artist_uri       track_name  \\\n",
       "fid pid                                                           \n",
       "284 0    spotify:artist:0MeLMJJcouYXCymQSHPn8g     Chasing Cars   \n",
       "    0    spotify:artist:7w0qj2HiAPIeUcoPogvOZ6        Elephants   \n",
       "    0    spotify:artist:32ogthv0BdaSMPml02X9YB        That Home   \n",
       "    0    spotify:artist:32ogthv0BdaSMPml02X9YB  To Build A Home   \n",
       "    0    spotify:artist:3qnGvpP8Yth1AqSBMqON5x            River   \n",
       "\n",
       "                                    album_uri  duration_ms  \\\n",
       "fid pid                                                      \n",
       "284 0    spotify:album:0UIIvTTWNB3gRQWFoxoEDh       242564   \n",
       "    0    spotify:album:6KzK9fDNmj7GHFbcE4gVJD       253701   \n",
       "    0    spotify:album:5cPHT4yMCfETLRYAoBFcOZ       103920   \n",
       "    0    spotify:album:5cPHT4yMCfETLRYAoBFcOZ       371320   \n",
       "    0    spotify:album:4svLfrPPk2npPVuI4kXPYg       238560   \n",
       "\n",
       "                                   album_name  \n",
       "fid pid                                        \n",
       "284 0                          Covers, Vol. 2  \n",
       "    0    Elephants...Teeth Sinking Into Heart  \n",
       "    0                                Ma Fleur  \n",
       "    0                                Ma Fleur  \n",
       "    0                             Coming Home  "
      ]
     },
     "execution_count": 7,
     "metadata": {},
     "output_type": "execute_result"
    }
   ],
   "source": [
    "new_df.head()"
   ]
  },
  {
   "cell_type": "markdown",
   "metadata": {},
   "source": [
    "# Idea: Pull track information from songs with # inclusions greater than k"
   ]
  },
  {
   "cell_type": "code",
   "execution_count": 8,
   "metadata": {},
   "outputs": [],
   "source": [
    "unique_songs = new_df['track_uri'].unique()"
   ]
  },
  {
   "cell_type": "code",
   "execution_count": 9,
   "metadata": {},
   "outputs": [
    {
     "data": {
      "text/plain": [
       "2262292"
      ]
     },
     "execution_count": 9,
     "metadata": {},
     "output_type": "execute_result"
    }
   ],
   "source": [
    "len(unique_songs)"
   ]
  },
  {
   "cell_type": "code",
   "execution_count": 10,
   "metadata": {},
   "outputs": [],
   "source": [
    "song_popularities = full_df.groupby(\"track_uri\").pid.count()"
   ]
  },
  {
   "cell_type": "code",
   "execution_count": 12,
   "metadata": {},
   "outputs": [],
   "source": [
    "song_popularities.sort_values(ascending = False, inplace=True)"
   ]
  },
  {
   "cell_type": "code",
   "execution_count": 49,
   "metadata": {},
   "outputs": [],
   "source": [
    "top_songs = song_popularities[song_popularities > 100]"
   ]
  },
  {
   "cell_type": "code",
   "execution_count": 31,
   "metadata": {},
   "outputs": [],
   "source": [
    "spotify_key_file = \"spotify.txt\"\n",
    "with open(spotify_key_file, \"r\") as f:\n",
    "    api_key = f.readline()[:-1]"
   ]
  },
  {
   "cell_type": "code",
   "execution_count": 94,
   "metadata": {},
   "outputs": [],
   "source": [
    "BASE_URL = \"https://api.spotify.com/v1/audio-features?ids=\"\n",
    "test = requests.get(BASE_URL + \",\".join(track_ids_filtered[i:end]), headers = {\"Authorization\": \"Bearer \" + api_key})"
   ]
  },
  {
   "cell_type": "code",
   "execution_count": 95,
   "metadata": {
    "scrolled": true
   },
   "outputs": [
    {
     "data": {
      "text/html": [
       "<div>\n",
       "<style scoped>\n",
       "    .dataframe tbody tr th:only-of-type {\n",
       "        vertical-align: middle;\n",
       "    }\n",
       "\n",
       "    .dataframe tbody tr th {\n",
       "        vertical-align: top;\n",
       "    }\n",
       "\n",
       "    .dataframe thead th {\n",
       "        text-align: right;\n",
       "    }\n",
       "</style>\n",
       "<table border=\"1\" class=\"dataframe\">\n",
       "  <thead>\n",
       "    <tr style=\"text-align: right;\">\n",
       "      <th></th>\n",
       "      <th>danceability</th>\n",
       "      <th>energy</th>\n",
       "      <th>key</th>\n",
       "      <th>loudness</th>\n",
       "      <th>mode</th>\n",
       "      <th>speechiness</th>\n",
       "      <th>acousticness</th>\n",
       "      <th>instrumentalness</th>\n",
       "      <th>liveness</th>\n",
       "      <th>valence</th>\n",
       "      <th>tempo</th>\n",
       "      <th>type</th>\n",
       "      <th>id</th>\n",
       "      <th>uri</th>\n",
       "      <th>track_href</th>\n",
       "      <th>analysis_url</th>\n",
       "      <th>duration_ms</th>\n",
       "      <th>time_signature</th>\n",
       "    </tr>\n",
       "  </thead>\n",
       "  <tbody>\n",
       "    <tr>\n",
       "      <th>0</th>\n",
       "      <td>0.130</td>\n",
       "      <td>0.086</td>\n",
       "      <td>10</td>\n",
       "      <td>-21.920</td>\n",
       "      <td>1</td>\n",
       "      <td>0.0373</td>\n",
       "      <td>0.932000</td>\n",
       "      <td>0.912000</td>\n",
       "      <td>0.1080</td>\n",
       "      <td>0.0375</td>\n",
       "      <td>90.223</td>\n",
       "      <td>audio_features</td>\n",
       "      <td>3Sy6wgTNEp6vSgLs4EyXAf</td>\n",
       "      <td>spotify:track:3Sy6wgTNEp6vSgLs4EyXAf</td>\n",
       "      <td>https://api.spotify.com/v1/tracks/3Sy6wgTNEp6v...</td>\n",
       "      <td>https://api.spotify.com/v1/audio-analysis/3Sy6...</td>\n",
       "      <td>391160</td>\n",
       "      <td>4</td>\n",
       "    </tr>\n",
       "    <tr>\n",
       "      <th>1</th>\n",
       "      <td>0.833</td>\n",
       "      <td>0.326</td>\n",
       "      <td>1</td>\n",
       "      <td>-12.943</td>\n",
       "      <td>1</td>\n",
       "      <td>0.4530</td>\n",
       "      <td>0.001220</td>\n",
       "      <td>0.003370</td>\n",
       "      <td>0.0697</td>\n",
       "      <td>0.2030</td>\n",
       "      <td>129.270</td>\n",
       "      <td>audio_features</td>\n",
       "      <td>2BPzAJ7bphennLbLoyPaGX</td>\n",
       "      <td>spotify:track:2BPzAJ7bphennLbLoyPaGX</td>\n",
       "      <td>https://api.spotify.com/v1/tracks/2BPzAJ7bphen...</td>\n",
       "      <td>https://api.spotify.com/v1/audio-analysis/2BPz...</td>\n",
       "      <td>198034</td>\n",
       "      <td>5</td>\n",
       "    </tr>\n",
       "    <tr>\n",
       "      <th>2</th>\n",
       "      <td>0.562</td>\n",
       "      <td>0.745</td>\n",
       "      <td>9</td>\n",
       "      <td>-3.607</td>\n",
       "      <td>1</td>\n",
       "      <td>0.0396</td>\n",
       "      <td>0.014400</td>\n",
       "      <td>0.000000</td>\n",
       "      <td>0.0654</td>\n",
       "      <td>0.5140</td>\n",
       "      <td>164.100</td>\n",
       "      <td>audio_features</td>\n",
       "      <td>7qY5YqcX8cLnDSr2b7dW6d</td>\n",
       "      <td>spotify:track:7qY5YqcX8cLnDSr2b7dW6d</td>\n",
       "      <td>https://api.spotify.com/v1/tracks/7qY5YqcX8cLn...</td>\n",
       "      <td>https://api.spotify.com/v1/audio-analysis/7qY5...</td>\n",
       "      <td>192547</td>\n",
       "      <td>4</td>\n",
       "    </tr>\n",
       "    <tr>\n",
       "      <th>3</th>\n",
       "      <td>0.710</td>\n",
       "      <td>0.630</td>\n",
       "      <td>4</td>\n",
       "      <td>-6.992</td>\n",
       "      <td>0</td>\n",
       "      <td>0.1970</td>\n",
       "      <td>0.000568</td>\n",
       "      <td>0.000000</td>\n",
       "      <td>0.2260</td>\n",
       "      <td>0.5970</td>\n",
       "      <td>168.771</td>\n",
       "      <td>audio_features</td>\n",
       "      <td>2gptzz4gsWDAdBmR0kAPxc</td>\n",
       "      <td>spotify:track:2gptzz4gsWDAdBmR0kAPxc</td>\n",
       "      <td>https://api.spotify.com/v1/tracks/2gptzz4gsWDA...</td>\n",
       "      <td>https://api.spotify.com/v1/audio-analysis/2gpt...</td>\n",
       "      <td>328267</td>\n",
       "      <td>4</td>\n",
       "    </tr>\n",
       "    <tr>\n",
       "      <th>4</th>\n",
       "      <td>0.755</td>\n",
       "      <td>0.390</td>\n",
       "      <td>7</td>\n",
       "      <td>-7.938</td>\n",
       "      <td>1</td>\n",
       "      <td>0.0398</td>\n",
       "      <td>0.265000</td>\n",
       "      <td>0.000000</td>\n",
       "      <td>0.2570</td>\n",
       "      <td>0.5320</td>\n",
       "      <td>113.888</td>\n",
       "      <td>audio_features</td>\n",
       "      <td>3EGLDaSVEJdQNvOQvm2dmv</td>\n",
       "      <td>spotify:track:3EGLDaSVEJdQNvOQvm2dmv</td>\n",
       "      <td>https://api.spotify.com/v1/tracks/3EGLDaSVEJdQ...</td>\n",
       "      <td>https://api.spotify.com/v1/audio-analysis/3EGL...</td>\n",
       "      <td>225173</td>\n",
       "      <td>4</td>\n",
       "    </tr>\n",
       "    <tr>\n",
       "      <th>...</th>\n",
       "      <td>...</td>\n",
       "      <td>...</td>\n",
       "      <td>...</td>\n",
       "      <td>...</td>\n",
       "      <td>...</td>\n",
       "      <td>...</td>\n",
       "      <td>...</td>\n",
       "      <td>...</td>\n",
       "      <td>...</td>\n",
       "      <td>...</td>\n",
       "      <td>...</td>\n",
       "      <td>...</td>\n",
       "      <td>...</td>\n",
       "      <td>...</td>\n",
       "      <td>...</td>\n",
       "      <td>...</td>\n",
       "      <td>...</td>\n",
       "      <td>...</td>\n",
       "    </tr>\n",
       "    <tr>\n",
       "      <th>73</th>\n",
       "      <td>0.586</td>\n",
       "      <td>0.751</td>\n",
       "      <td>6</td>\n",
       "      <td>-4.974</td>\n",
       "      <td>0</td>\n",
       "      <td>0.1240</td>\n",
       "      <td>0.045500</td>\n",
       "      <td>0.000006</td>\n",
       "      <td>0.4530</td>\n",
       "      <td>0.3320</td>\n",
       "      <td>133.792</td>\n",
       "      <td>audio_features</td>\n",
       "      <td>5yGI8YrAj998tFv4lXLhum</td>\n",
       "      <td>spotify:track:5yGI8YrAj998tFv4lXLhum</td>\n",
       "      <td>https://api.spotify.com/v1/tracks/5yGI8YrAj998...</td>\n",
       "      <td>https://api.spotify.com/v1/audio-analysis/5yGI...</td>\n",
       "      <td>188093</td>\n",
       "      <td>4</td>\n",
       "    </tr>\n",
       "    <tr>\n",
       "      <th>74</th>\n",
       "      <td>0.459</td>\n",
       "      <td>0.111</td>\n",
       "      <td>10</td>\n",
       "      <td>-17.195</td>\n",
       "      <td>1</td>\n",
       "      <td>0.0380</td>\n",
       "      <td>0.866000</td>\n",
       "      <td>0.000000</td>\n",
       "      <td>0.0862</td>\n",
       "      <td>0.3660</td>\n",
       "      <td>109.988</td>\n",
       "      <td>audio_features</td>\n",
       "      <td>5oLiSipb2KXPaHg511gUxk</td>\n",
       "      <td>spotify:track:5oLiSipb2KXPaHg511gUxk</td>\n",
       "      <td>https://api.spotify.com/v1/tracks/5oLiSipb2KXP...</td>\n",
       "      <td>https://api.spotify.com/v1/audio-analysis/5oLi...</td>\n",
       "      <td>260507</td>\n",
       "      <td>4</td>\n",
       "    </tr>\n",
       "    <tr>\n",
       "      <th>75</th>\n",
       "      <td>0.793</td>\n",
       "      <td>0.868</td>\n",
       "      <td>10</td>\n",
       "      <td>-5.157</td>\n",
       "      <td>0</td>\n",
       "      <td>0.0550</td>\n",
       "      <td>0.024700</td>\n",
       "      <td>0.000002</td>\n",
       "      <td>0.2710</td>\n",
       "      <td>0.7560</td>\n",
       "      <td>94.016</td>\n",
       "      <td>audio_features</td>\n",
       "      <td>6Xc5cfbWz7MUxqAZpxj2bT</td>\n",
       "      <td>spotify:track:6Xc5cfbWz7MUxqAZpxj2bT</td>\n",
       "      <td>https://api.spotify.com/v1/tracks/6Xc5cfbWz7MU...</td>\n",
       "      <td>https://api.spotify.com/v1/audio-analysis/6Xc5...</td>\n",
       "      <td>152613</td>\n",
       "      <td>4</td>\n",
       "    </tr>\n",
       "    <tr>\n",
       "      <th>76</th>\n",
       "      <td>0.236</td>\n",
       "      <td>0.493</td>\n",
       "      <td>5</td>\n",
       "      <td>-7.509</td>\n",
       "      <td>0</td>\n",
       "      <td>0.0351</td>\n",
       "      <td>0.067500</td>\n",
       "      <td>0.000073</td>\n",
       "      <td>0.1350</td>\n",
       "      <td>0.0606</td>\n",
       "      <td>142.193</td>\n",
       "      <td>audio_features</td>\n",
       "      <td>7ezYoacve0O14O8LEUZXTf</td>\n",
       "      <td>spotify:track:7ezYoacve0O14O8LEUZXTf</td>\n",
       "      <td>https://api.spotify.com/v1/tracks/7ezYoacve0O1...</td>\n",
       "      <td>https://api.spotify.com/v1/audio-analysis/7ezY...</td>\n",
       "      <td>243747</td>\n",
       "      <td>4</td>\n",
       "    </tr>\n",
       "    <tr>\n",
       "      <th>77</th>\n",
       "      <td>0.622</td>\n",
       "      <td>0.882</td>\n",
       "      <td>0</td>\n",
       "      <td>-4.696</td>\n",
       "      <td>1</td>\n",
       "      <td>0.1330</td>\n",
       "      <td>0.015000</td>\n",
       "      <td>0.000040</td>\n",
       "      <td>0.6790</td>\n",
       "      <td>0.3220</td>\n",
       "      <td>111.040</td>\n",
       "      <td>audio_features</td>\n",
       "      <td>7t9aExfvl6ow7Vzf8nwZIW</td>\n",
       "      <td>spotify:track:7t9aExfvl6ow7Vzf8nwZIW</td>\n",
       "      <td>https://api.spotify.com/v1/tracks/7t9aExfvl6ow...</td>\n",
       "      <td>https://api.spotify.com/v1/audio-analysis/7t9a...</td>\n",
       "      <td>203760</td>\n",
       "      <td>4</td>\n",
       "    </tr>\n",
       "  </tbody>\n",
       "</table>\n",
       "<p>78 rows × 18 columns</p>\n",
       "</div>"
      ],
      "text/plain": [
       "    danceability  energy  key  loudness  mode  speechiness  acousticness  \\\n",
       "0          0.130   0.086   10   -21.920     1       0.0373      0.932000   \n",
       "1          0.833   0.326    1   -12.943     1       0.4530      0.001220   \n",
       "2          0.562   0.745    9    -3.607     1       0.0396      0.014400   \n",
       "3          0.710   0.630    4    -6.992     0       0.1970      0.000568   \n",
       "4          0.755   0.390    7    -7.938     1       0.0398      0.265000   \n",
       "..           ...     ...  ...       ...   ...          ...           ...   \n",
       "73         0.586   0.751    6    -4.974     0       0.1240      0.045500   \n",
       "74         0.459   0.111   10   -17.195     1       0.0380      0.866000   \n",
       "75         0.793   0.868   10    -5.157     0       0.0550      0.024700   \n",
       "76         0.236   0.493    5    -7.509     0       0.0351      0.067500   \n",
       "77         0.622   0.882    0    -4.696     1       0.1330      0.015000   \n",
       "\n",
       "    instrumentalness  liveness  valence    tempo            type  \\\n",
       "0           0.912000    0.1080   0.0375   90.223  audio_features   \n",
       "1           0.003370    0.0697   0.2030  129.270  audio_features   \n",
       "2           0.000000    0.0654   0.5140  164.100  audio_features   \n",
       "3           0.000000    0.2260   0.5970  168.771  audio_features   \n",
       "4           0.000000    0.2570   0.5320  113.888  audio_features   \n",
       "..               ...       ...      ...      ...             ...   \n",
       "73          0.000006    0.4530   0.3320  133.792  audio_features   \n",
       "74          0.000000    0.0862   0.3660  109.988  audio_features   \n",
       "75          0.000002    0.2710   0.7560   94.016  audio_features   \n",
       "76          0.000073    0.1350   0.0606  142.193  audio_features   \n",
       "77          0.000040    0.6790   0.3220  111.040  audio_features   \n",
       "\n",
       "                        id                                   uri  \\\n",
       "0   3Sy6wgTNEp6vSgLs4EyXAf  spotify:track:3Sy6wgTNEp6vSgLs4EyXAf   \n",
       "1   2BPzAJ7bphennLbLoyPaGX  spotify:track:2BPzAJ7bphennLbLoyPaGX   \n",
       "2   7qY5YqcX8cLnDSr2b7dW6d  spotify:track:7qY5YqcX8cLnDSr2b7dW6d   \n",
       "3   2gptzz4gsWDAdBmR0kAPxc  spotify:track:2gptzz4gsWDAdBmR0kAPxc   \n",
       "4   3EGLDaSVEJdQNvOQvm2dmv  spotify:track:3EGLDaSVEJdQNvOQvm2dmv   \n",
       "..                     ...                                   ...   \n",
       "73  5yGI8YrAj998tFv4lXLhum  spotify:track:5yGI8YrAj998tFv4lXLhum   \n",
       "74  5oLiSipb2KXPaHg511gUxk  spotify:track:5oLiSipb2KXPaHg511gUxk   \n",
       "75  6Xc5cfbWz7MUxqAZpxj2bT  spotify:track:6Xc5cfbWz7MUxqAZpxj2bT   \n",
       "76  7ezYoacve0O14O8LEUZXTf  spotify:track:7ezYoacve0O14O8LEUZXTf   \n",
       "77  7t9aExfvl6ow7Vzf8nwZIW  spotify:track:7t9aExfvl6ow7Vzf8nwZIW   \n",
       "\n",
       "                                           track_href  \\\n",
       "0   https://api.spotify.com/v1/tracks/3Sy6wgTNEp6v...   \n",
       "1   https://api.spotify.com/v1/tracks/2BPzAJ7bphen...   \n",
       "2   https://api.spotify.com/v1/tracks/7qY5YqcX8cLn...   \n",
       "3   https://api.spotify.com/v1/tracks/2gptzz4gsWDA...   \n",
       "4   https://api.spotify.com/v1/tracks/3EGLDaSVEJdQ...   \n",
       "..                                                ...   \n",
       "73  https://api.spotify.com/v1/tracks/5yGI8YrAj998...   \n",
       "74  https://api.spotify.com/v1/tracks/5oLiSipb2KXP...   \n",
       "75  https://api.spotify.com/v1/tracks/6Xc5cfbWz7MU...   \n",
       "76  https://api.spotify.com/v1/tracks/7ezYoacve0O1...   \n",
       "77  https://api.spotify.com/v1/tracks/7t9aExfvl6ow...   \n",
       "\n",
       "                                         analysis_url  duration_ms  \\\n",
       "0   https://api.spotify.com/v1/audio-analysis/3Sy6...       391160   \n",
       "1   https://api.spotify.com/v1/audio-analysis/2BPz...       198034   \n",
       "2   https://api.spotify.com/v1/audio-analysis/7qY5...       192547   \n",
       "3   https://api.spotify.com/v1/audio-analysis/2gpt...       328267   \n",
       "4   https://api.spotify.com/v1/audio-analysis/3EGL...       225173   \n",
       "..                                                ...          ...   \n",
       "73  https://api.spotify.com/v1/audio-analysis/5yGI...       188093   \n",
       "74  https://api.spotify.com/v1/audio-analysis/5oLi...       260507   \n",
       "75  https://api.spotify.com/v1/audio-analysis/6Xc5...       152613   \n",
       "76  https://api.spotify.com/v1/audio-analysis/7ezY...       243747   \n",
       "77  https://api.spotify.com/v1/audio-analysis/7t9a...       203760   \n",
       "\n",
       "    time_signature  \n",
       "0                4  \n",
       "1                5  \n",
       "2                4  \n",
       "3                4  \n",
       "4                4  \n",
       "..             ...  \n",
       "73               4  \n",
       "74               4  \n",
       "75               4  \n",
       "76               4  \n",
       "77               4  \n",
       "\n",
       "[78 rows x 18 columns]"
      ]
     },
     "execution_count": 95,
     "metadata": {},
     "output_type": "execute_result"
    }
   ],
   "source": [
    "pd.DataFrame(test.json()[\"audio_features\"])"
   ]
  },
  {
   "cell_type": "code",
   "execution_count": 53,
   "metadata": {},
   "outputs": [],
   "source": [
    "track_ids = list(top_songs.keys())"
   ]
  },
  {
   "cell_type": "code",
   "execution_count": 55,
   "metadata": {},
   "outputs": [],
   "source": [
    "track_ids_filtered = [i.split(\":\")[-1] for i in track_ids]"
   ]
  },
  {
   "cell_type": "code",
   "execution_count": 93,
   "metadata": {
    "scrolled": true
   },
   "outputs": [
    {
     "data": {
      "text/plain": [
       "'6i0V12jOa3mr6uu4WYhUBr,3yrSvpt2l1xhsV9Em88Pul,4pdPtRcBmOSQDlJ3Fk945m,20dP2DaMHIAmwWAbp7peSr,0IqKeD8ZSP72KbGYyzEcAs,6Ius4TC0L3cN74HT7ENE6e,2ANLarE8yHVsLWW21nj79M,6ZYS6QQxTLsQ6IFXdVx1r4,40riOy7x9W7GXjyGp4pjAv,4tCtwWceOPWzenK2HAIJSb'"
      ]
     },
     "execution_count": 93,
     "metadata": {},
     "output_type": "execute_result"
    }
   ],
   "source": [
    "\",\".join(track_ids_filtered[100:110])"
   ]
  },
  {
   "cell_type": "markdown",
   "metadata": {},
   "source": [
    "### Finished Code"
   ]
  },
  {
   "cell_type": "code",
   "execution_count": 103,
   "metadata": {
    "scrolled": true
   },
   "outputs": [],
   "source": [
    "features_dfs = []\n",
    "for i in range(0, len(track_ids_filtered), 100):\n",
    "    end = i+100 if i+100 < len(track_ids_filtered) else len(track_ids_filtered)\n",
    "    response = requests.get(BASE_URL + \",\".join(track_ids_filtered[i:end]), \n",
    "                            headers = {\"Authorization\": \"Bearer \" + api_key})\n",
    "    while response.status_code != 200:\n",
    "        if response.status_code == 429:\n",
    "            retry_after = int(response.headers['Retry-After'])\n",
    "            print(f\"Too many requests. Sleeping for {retry_after} seconds.\")\n",
    "            time.sleep(retry_after)\n",
    "        else:\n",
    "            print(\"Request failed! Trying again in 2 seconds.\")\n",
    "            time.sleep(2)\n",
    "        response = requests.get(BASE_URL + \",\".join(track_ids_filtered[i:end]), \n",
    "                                headers = {\"Authorization\": \"Bearer \" + api_key})\n",
    "    features_dfs.append(pd.DataFrame(response.json()[\"audio_features\"]))"
   ]
  },
  {
   "cell_type": "code",
   "execution_count": 105,
   "metadata": {
    "scrolled": false
   },
   "outputs": [],
   "source": [
    "song_df = pd.concat(features_dfs, axis=0).reset_index(drop=True)"
   ]
  },
  {
   "cell_type": "code",
   "execution_count": 106,
   "metadata": {},
   "outputs": [],
   "source": [
    "song_df.to_csv(\"top70ksongs.csv\", index=False)"
   ]
  },
  {
   "cell_type": "code",
   "execution_count": null,
   "metadata": {},
   "outputs": [],
   "source": []
  }
 ],
 "metadata": {
  "kernelspec": {
   "display_name": "Python 3",
   "language": "python",
   "name": "python3"
  },
  "language_info": {
   "codemirror_mode": {
    "name": "ipython",
    "version": 3
   },
   "file_extension": ".py",
   "mimetype": "text/x-python",
   "name": "python",
   "nbconvert_exporter": "python",
   "pygments_lexer": "ipython3",
   "version": "3.6.9"
  }
 },
 "nbformat": 4,
 "nbformat_minor": 2
}
