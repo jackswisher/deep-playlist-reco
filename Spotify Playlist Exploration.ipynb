{
 "cells": [
  {
   "cell_type": "code",
   "execution_count": 66,
   "metadata": {},
   "outputs": [],
   "source": [
    "import os\n",
    "import sys\n",
    "import glob\n",
    "import time\n",
    "import datetime\n",
    "import numpy as np\n",
    "import pandas as pd\n",
    "import sqlite3\n",
    "import random\n",
    "import math"
   ]
  },
  {
   "cell_type": "code",
   "execution_count": 8,
   "metadata": {},
   "outputs": [],
   "source": [
    "playlist_path_jack = \"./Songs.nosync/\"\n",
    "playlist_path = \"./Songs/\""
   ]
  },
  {
   "cell_type": "markdown",
   "metadata": {},
   "source": [
    "## Open one of the playlists"
   ]
  },
  {
   "cell_type": "code",
   "execution_count": 9,
   "metadata": {},
   "outputs": [],
   "source": [
    "rand_file = random.randint(0,1000)"
   ]
  },
  {
   "cell_type": "code",
   "execution_count": 10,
   "metadata": {},
   "outputs": [],
   "source": [
    "df = pd.read_csv(playlist_path_jack + f\"songs{rand_file}.csv\")"
   ]
  },
  {
   "cell_type": "code",
   "execution_count": 12,
   "metadata": {},
   "outputs": [
    {
     "data": {
      "text/html": [
       "<div>\n",
       "<style scoped>\n",
       "    .dataframe tbody tr th:only-of-type {\n",
       "        vertical-align: middle;\n",
       "    }\n",
       "\n",
       "    .dataframe tbody tr th {\n",
       "        vertical-align: top;\n",
       "    }\n",
       "\n",
       "    .dataframe thead th {\n",
       "        text-align: right;\n",
       "    }\n",
       "</style>\n",
       "<table border=\"1\" class=\"dataframe\">\n",
       "  <thead>\n",
       "    <tr style=\"text-align: right;\">\n",
       "      <th></th>\n",
       "      <th>pid</th>\n",
       "      <th>pos</th>\n",
       "      <th>artist_name</th>\n",
       "      <th>track_uri</th>\n",
       "      <th>artist_uri</th>\n",
       "      <th>track_name</th>\n",
       "      <th>album_uri</th>\n",
       "      <th>duration_ms</th>\n",
       "      <th>album_name</th>\n",
       "    </tr>\n",
       "  </thead>\n",
       "  <tbody>\n",
       "    <tr>\n",
       "      <th>0</th>\n",
       "      <td>0</td>\n",
       "      <td>0</td>\n",
       "      <td>Major Lazer</td>\n",
       "      <td>spotify:track:4WjH9Bzt3kx7z8kl0awxh4</td>\n",
       "      <td>spotify:artist:738wLrAtLtCtFOLvQBXOXp</td>\n",
       "      <td>Lean On (feat. MØ &amp; DJ Snake)</td>\n",
       "      <td>spotify:album:2XBnxKeRZi76u2iyGcMych</td>\n",
       "      <td>176561</td>\n",
       "      <td>Peace Is The Mission</td>\n",
       "    </tr>\n",
       "    <tr>\n",
       "      <th>1</th>\n",
       "      <td>0</td>\n",
       "      <td>1</td>\n",
       "      <td>Miley Cyrus</td>\n",
       "      <td>spotify:track:2y4lAQpi5VTNLu2ldeTdUH</td>\n",
       "      <td>spotify:artist:5YGY8feqx7naU7z4HrwZM6</td>\n",
       "      <td>We Can't Stop</td>\n",
       "      <td>spotify:album:3RDqXDc1bAETps54MSSOW0</td>\n",
       "      <td>231240</td>\n",
       "      <td>Bangerz (Deluxe Version)</td>\n",
       "    </tr>\n",
       "    <tr>\n",
       "      <th>2</th>\n",
       "      <td>0</td>\n",
       "      <td>2</td>\n",
       "      <td>Tegan and Sara</td>\n",
       "      <td>spotify:track:4fT30Ghhn5p7vDtUtn9bdK</td>\n",
       "      <td>spotify:artist:5e1BZulIiYWPRm8yogwUYH</td>\n",
       "      <td>Drove Me Wild</td>\n",
       "      <td>spotify:album:5IUJ6v408Z7pECC3BXUJxX</td>\n",
       "      <td>229253</td>\n",
       "      <td>Heartthrob</td>\n",
       "    </tr>\n",
       "    <tr>\n",
       "      <th>3</th>\n",
       "      <td>0</td>\n",
       "      <td>3</td>\n",
       "      <td>blink-182</td>\n",
       "      <td>spotify:track:12qZHAeOyTf93YAWvGDTat</td>\n",
       "      <td>spotify:artist:6FBDaR13swtiWwGhX1WQsP</td>\n",
       "      <td>All The Small Things</td>\n",
       "      <td>spotify:album:1fF8kYX49s5Ufv4XEY5sjW</td>\n",
       "      <td>168000</td>\n",
       "      <td>Enema Of The State</td>\n",
       "    </tr>\n",
       "    <tr>\n",
       "      <th>4</th>\n",
       "      <td>0</td>\n",
       "      <td>4</td>\n",
       "      <td>Natalie Imbruglia</td>\n",
       "      <td>spotify:track:1Jaah2tmN9Hv81A87KZ1MU</td>\n",
       "      <td>spotify:artist:0dlOr0VIysztGWvU1dpjmP</td>\n",
       "      <td>Torn</td>\n",
       "      <td>spotify:album:38alWeQVP9UUAGJvLptys9</td>\n",
       "      <td>244666</td>\n",
       "      <td>Left Of The Middle</td>\n",
       "    </tr>\n",
       "  </tbody>\n",
       "</table>\n",
       "</div>"
      ],
      "text/plain": [
       "   pid  pos        artist_name                             track_uri  \\\n",
       "0    0    0        Major Lazer  spotify:track:4WjH9Bzt3kx7z8kl0awxh4   \n",
       "1    0    1        Miley Cyrus  spotify:track:2y4lAQpi5VTNLu2ldeTdUH   \n",
       "2    0    2     Tegan and Sara  spotify:track:4fT30Ghhn5p7vDtUtn9bdK   \n",
       "3    0    3          blink-182  spotify:track:12qZHAeOyTf93YAWvGDTat   \n",
       "4    0    4  Natalie Imbruglia  spotify:track:1Jaah2tmN9Hv81A87KZ1MU   \n",
       "\n",
       "                              artist_uri                     track_name  \\\n",
       "0  spotify:artist:738wLrAtLtCtFOLvQBXOXp  Lean On (feat. MØ & DJ Snake)   \n",
       "1  spotify:artist:5YGY8feqx7naU7z4HrwZM6                  We Can't Stop   \n",
       "2  spotify:artist:5e1BZulIiYWPRm8yogwUYH                  Drove Me Wild   \n",
       "3  spotify:artist:6FBDaR13swtiWwGhX1WQsP           All The Small Things   \n",
       "4  spotify:artist:0dlOr0VIysztGWvU1dpjmP                           Torn   \n",
       "\n",
       "                              album_uri  duration_ms                album_name  \n",
       "0  spotify:album:2XBnxKeRZi76u2iyGcMych       176561      Peace Is The Mission  \n",
       "1  spotify:album:3RDqXDc1bAETps54MSSOW0       231240  Bangerz (Deluxe Version)  \n",
       "2  spotify:album:5IUJ6v408Z7pECC3BXUJxX       229253                Heartthrob  \n",
       "3  spotify:album:1fF8kYX49s5Ufv4XEY5sjW       168000        Enema Of The State  \n",
       "4  spotify:album:38alWeQVP9UUAGJvLptys9       244666        Left Of The Middle  "
      ]
     },
     "execution_count": 12,
     "metadata": {},
     "output_type": "execute_result"
    }
   ],
   "source": [
    "df.head()"
   ]
  },
  {
   "cell_type": "code",
   "execution_count": 14,
   "metadata": {},
   "outputs": [
    {
     "data": {
      "text/plain": [
       "1000"
      ]
     },
     "execution_count": 14,
     "metadata": {},
     "output_type": "execute_result"
    }
   ],
   "source": [
    "len(df.pid.unique())"
   ]
  },
  {
   "cell_type": "code",
   "execution_count": 21,
   "metadata": {},
   "outputs": [
    {
     "data": {
      "text/plain": [
       "count    1000.00000\n",
       "mean       62.79000\n",
       "std        50.08807\n",
       "min         4.00000\n",
       "25%        25.00000\n",
       "50%        48.00000\n",
       "75%        87.00000\n",
       "max       249.00000\n",
       "Name: pos, dtype: float64"
      ]
     },
     "execution_count": 21,
     "metadata": {},
     "output_type": "execute_result"
    }
   ],
   "source": [
    "df.groupby(\"pid\").pos.max().describe()"
   ]
  },
  {
   "cell_type": "code",
   "execution_count": 28,
   "metadata": {},
   "outputs": [
    {
     "data": {
      "text/plain": [
       "track_uri\n",
       "spotify:track:7KXjTSCq5nL1LoYtL7XAwS    45\n",
       "spotify:track:7BKLCZ1jbUBVqRi2FVlTVw    40\n",
       "spotify:track:1xznGGDReH1oQq0xzbwXa3    39\n",
       "spotify:track:7GX5flRQZVHRAGd6B4TmDO    38\n",
       "spotify:track:7KOlJ92bu51cltsD9KU5I7    37\n",
       "                                        ..\n",
       "spotify:track:4nJz9vscAzanC1ryjOtoJo     1\n",
       "spotify:track:4nKB7W7skS894mHSgWD8v7     1\n",
       "spotify:track:4nNSgSfqhtAQ9upuIp1QgM     1\n",
       "spotify:track:4nOKwZf1XRw2gI4FGAGhXf     1\n",
       "spotify:track:3tAplt4FkuuOBYvMlfq8wA     1\n",
       "Name: pid, Length: 34773, dtype: int64"
      ]
     },
     "execution_count": 28,
     "metadata": {},
     "output_type": "execute_result"
    }
   ],
   "source": [
    "df.groupby(\"track_uri\").pid.count().sort_values(ascending=False)"
   ]
  },
  {
   "cell_type": "code",
   "execution_count": 31,
   "metadata": {},
   "outputs": [
    {
     "data": {
      "text/plain": [
       "pid                                                9\n",
       "pos                                               97\n",
       "artist_name                           Kendrick Lamar\n",
       "track_uri       spotify:track:7KXjTSCq5nL1LoYtL7XAwS\n",
       "artist_uri     spotify:artist:2YZyLoL8N0Wb9xBt1NhZWg\n",
       "track_name                                   HUMBLE.\n",
       "album_uri       spotify:album:4eLPsYPBmXABThSJ821sqY\n",
       "duration_ms                                   177000\n",
       "album_name                                     DAMN.\n",
       "Name: 686, dtype: object"
      ]
     },
     "execution_count": 31,
     "metadata": {},
     "output_type": "execute_result"
    }
   ],
   "source": [
    "df.loc[df['track_uri'] == \"spotify:track:7KXjTSCq5nL1LoYtL7XAwS\"].iloc[0]"
   ]
  },
  {
   "cell_type": "markdown",
   "metadata": {},
   "source": [
    "## Create train/test dataframe from CSVs"
   ]
  },
  {
   "cell_type": "code",
   "execution_count": 82,
   "metadata": {
    "scrolled": true
   },
   "outputs": [
    {
     "ename": "KeyboardInterrupt",
     "evalue": "",
     "output_type": "error",
     "traceback": [
      "\u001b[0;31m---------------------------------------------------------------------------\u001b[0m",
      "\u001b[0;31mKeyboardInterrupt\u001b[0m                         Traceback (most recent call last)",
      "\u001b[0;32m<ipython-input-82-ebfac06647f1>\u001b[0m in \u001b[0;36m<module>\u001b[0;34m\u001b[0m\n\u001b[1;32m      6\u001b[0m         \u001b[0mdf\u001b[0m \u001b[0;34m=\u001b[0m \u001b[0mpd\u001b[0m\u001b[0;34m.\u001b[0m\u001b[0mread_csv\u001b[0m\u001b[0;34m(\u001b[0m\u001b[0mf\u001b[0m\u001b[0;34m)\u001b[0m\u001b[0;34m\u001b[0m\u001b[0;34m\u001b[0m\u001b[0m\n\u001b[1;32m      7\u001b[0m         \u001b[0mdf\u001b[0m\u001b[0;34m[\u001b[0m\u001b[0;34m\"fid\"\u001b[0m\u001b[0;34m]\u001b[0m \u001b[0;34m=\u001b[0m \u001b[0mfid\u001b[0m\u001b[0;34m\u001b[0m\u001b[0;34m\u001b[0m\u001b[0m\n\u001b[0;32m----> 8\u001b[0;31m         \u001b[0mtotal\u001b[0m \u001b[0;34m=\u001b[0m \u001b[0mpd\u001b[0m\u001b[0;34m.\u001b[0m\u001b[0mconcat\u001b[0m\u001b[0;34m(\u001b[0m\u001b[0;34m[\u001b[0m\u001b[0mtotal\u001b[0m\u001b[0;34m]\u001b[0m \u001b[0;34m+\u001b[0m \u001b[0;34m[\u001b[0m\u001b[0mdf\u001b[0m\u001b[0;34m]\u001b[0m\u001b[0;34m,\u001b[0m \u001b[0maxis\u001b[0m\u001b[0;34m=\u001b[0m\u001b[0;36m0\u001b[0m\u001b[0;34m)\u001b[0m\u001b[0;34m\u001b[0m\u001b[0;34m\u001b[0m\u001b[0m\n\u001b[0m",
      "\u001b[0;32m//anaconda3/envs/tfcs109a/lib/python3.6/site-packages/pandas/core/reshape/concat.py\u001b[0m in \u001b[0;36mconcat\u001b[0;34m(objs, axis, join, join_axes, ignore_index, keys, levels, names, verify_integrity, sort, copy)\u001b[0m\n\u001b[1;32m    253\u001b[0m         \u001b[0mverify_integrity\u001b[0m\u001b[0;34m=\u001b[0m\u001b[0mverify_integrity\u001b[0m\u001b[0;34m,\u001b[0m\u001b[0;34m\u001b[0m\u001b[0;34m\u001b[0m\u001b[0m\n\u001b[1;32m    254\u001b[0m         \u001b[0mcopy\u001b[0m\u001b[0;34m=\u001b[0m\u001b[0mcopy\u001b[0m\u001b[0;34m,\u001b[0m\u001b[0;34m\u001b[0m\u001b[0;34m\u001b[0m\u001b[0m\n\u001b[0;32m--> 255\u001b[0;31m         \u001b[0msort\u001b[0m\u001b[0;34m=\u001b[0m\u001b[0msort\u001b[0m\u001b[0;34m,\u001b[0m\u001b[0;34m\u001b[0m\u001b[0;34m\u001b[0m\u001b[0m\n\u001b[0m\u001b[1;32m    256\u001b[0m     )\n\u001b[1;32m    257\u001b[0m \u001b[0;34m\u001b[0m\u001b[0m\n",
      "\u001b[0;32m//anaconda3/envs/tfcs109a/lib/python3.6/site-packages/pandas/core/reshape/concat.py\u001b[0m in \u001b[0;36m__init__\u001b[0;34m(self, objs, axis, join, join_axes, keys, levels, names, ignore_index, verify_integrity, copy, sort)\u001b[0m\n\u001b[1;32m    333\u001b[0m \u001b[0;34m\u001b[0m\u001b[0m\n\u001b[1;32m    334\u001b[0m             \u001b[0;31m# consolidate\u001b[0m\u001b[0;34m\u001b[0m\u001b[0;34m\u001b[0m\u001b[0;34m\u001b[0m\u001b[0m\n\u001b[0;32m--> 335\u001b[0;31m             \u001b[0mobj\u001b[0m\u001b[0;34m.\u001b[0m\u001b[0m_consolidate\u001b[0m\u001b[0;34m(\u001b[0m\u001b[0minplace\u001b[0m\u001b[0;34m=\u001b[0m\u001b[0;32mTrue\u001b[0m\u001b[0;34m)\u001b[0m\u001b[0;34m\u001b[0m\u001b[0;34m\u001b[0m\u001b[0m\n\u001b[0m\u001b[1;32m    336\u001b[0m             \u001b[0mndims\u001b[0m\u001b[0;34m.\u001b[0m\u001b[0madd\u001b[0m\u001b[0;34m(\u001b[0m\u001b[0mobj\u001b[0m\u001b[0;34m.\u001b[0m\u001b[0mndim\u001b[0m\u001b[0;34m)\u001b[0m\u001b[0;34m\u001b[0m\u001b[0;34m\u001b[0m\u001b[0m\n\u001b[1;32m    337\u001b[0m \u001b[0;34m\u001b[0m\u001b[0m\n",
      "\u001b[0;32m//anaconda3/envs/tfcs109a/lib/python3.6/site-packages/pandas/core/generic.py\u001b[0m in \u001b[0;36m_consolidate\u001b[0;34m(self, inplace)\u001b[0m\n\u001b[1;32m   5268\u001b[0m         \u001b[0minplace\u001b[0m \u001b[0;34m=\u001b[0m \u001b[0mvalidate_bool_kwarg\u001b[0m\u001b[0;34m(\u001b[0m\u001b[0minplace\u001b[0m\u001b[0;34m,\u001b[0m \u001b[0;34m\"inplace\"\u001b[0m\u001b[0;34m)\u001b[0m\u001b[0;34m\u001b[0m\u001b[0;34m\u001b[0m\u001b[0m\n\u001b[1;32m   5269\u001b[0m         \u001b[0;32mif\u001b[0m \u001b[0minplace\u001b[0m\u001b[0;34m:\u001b[0m\u001b[0;34m\u001b[0m\u001b[0;34m\u001b[0m\u001b[0m\n\u001b[0;32m-> 5270\u001b[0;31m             \u001b[0mself\u001b[0m\u001b[0;34m.\u001b[0m\u001b[0m_consolidate_inplace\u001b[0m\u001b[0;34m(\u001b[0m\u001b[0;34m)\u001b[0m\u001b[0;34m\u001b[0m\u001b[0;34m\u001b[0m\u001b[0m\n\u001b[0m\u001b[1;32m   5271\u001b[0m         \u001b[0;32melse\u001b[0m\u001b[0;34m:\u001b[0m\u001b[0;34m\u001b[0m\u001b[0;34m\u001b[0m\u001b[0m\n\u001b[1;32m   5272\u001b[0m             \u001b[0mf\u001b[0m \u001b[0;34m=\u001b[0m \u001b[0;32mlambda\u001b[0m\u001b[0;34m:\u001b[0m \u001b[0mself\u001b[0m\u001b[0;34m.\u001b[0m\u001b[0m_data\u001b[0m\u001b[0;34m.\u001b[0m\u001b[0mconsolidate\u001b[0m\u001b[0;34m(\u001b[0m\u001b[0;34m)\u001b[0m\u001b[0;34m\u001b[0m\u001b[0;34m\u001b[0m\u001b[0m\n",
      "\u001b[0;32m//anaconda3/envs/tfcs109a/lib/python3.6/site-packages/pandas/core/generic.py\u001b[0m in \u001b[0;36m_consolidate_inplace\u001b[0;34m(self)\u001b[0m\n\u001b[1;32m   5250\u001b[0m             \u001b[0mself\u001b[0m\u001b[0;34m.\u001b[0m\u001b[0m_data\u001b[0m \u001b[0;34m=\u001b[0m \u001b[0mself\u001b[0m\u001b[0;34m.\u001b[0m\u001b[0m_data\u001b[0m\u001b[0;34m.\u001b[0m\u001b[0mconsolidate\u001b[0m\u001b[0;34m(\u001b[0m\u001b[0;34m)\u001b[0m\u001b[0;34m\u001b[0m\u001b[0;34m\u001b[0m\u001b[0m\n\u001b[1;32m   5251\u001b[0m \u001b[0;34m\u001b[0m\u001b[0m\n\u001b[0;32m-> 5252\u001b[0;31m         \u001b[0mself\u001b[0m\u001b[0;34m.\u001b[0m\u001b[0m_protect_consolidate\u001b[0m\u001b[0;34m(\u001b[0m\u001b[0mf\u001b[0m\u001b[0;34m)\u001b[0m\u001b[0;34m\u001b[0m\u001b[0;34m\u001b[0m\u001b[0m\n\u001b[0m\u001b[1;32m   5253\u001b[0m \u001b[0;34m\u001b[0m\u001b[0m\n\u001b[1;32m   5254\u001b[0m     \u001b[0;32mdef\u001b[0m \u001b[0m_consolidate\u001b[0m\u001b[0;34m(\u001b[0m\u001b[0mself\u001b[0m\u001b[0;34m,\u001b[0m \u001b[0minplace\u001b[0m\u001b[0;34m=\u001b[0m\u001b[0;32mFalse\u001b[0m\u001b[0;34m)\u001b[0m\u001b[0;34m:\u001b[0m\u001b[0;34m\u001b[0m\u001b[0;34m\u001b[0m\u001b[0m\n",
      "\u001b[0;32m//anaconda3/envs/tfcs109a/lib/python3.6/site-packages/pandas/core/generic.py\u001b[0m in \u001b[0;36m_protect_consolidate\u001b[0;34m(self, f)\u001b[0m\n\u001b[1;32m   5239\u001b[0m         \"\"\"\n\u001b[1;32m   5240\u001b[0m         \u001b[0mblocks_before\u001b[0m \u001b[0;34m=\u001b[0m \u001b[0mlen\u001b[0m\u001b[0;34m(\u001b[0m\u001b[0mself\u001b[0m\u001b[0;34m.\u001b[0m\u001b[0m_data\u001b[0m\u001b[0;34m.\u001b[0m\u001b[0mblocks\u001b[0m\u001b[0;34m)\u001b[0m\u001b[0;34m\u001b[0m\u001b[0;34m\u001b[0m\u001b[0m\n\u001b[0;32m-> 5241\u001b[0;31m         \u001b[0mresult\u001b[0m \u001b[0;34m=\u001b[0m \u001b[0mf\u001b[0m\u001b[0;34m(\u001b[0m\u001b[0;34m)\u001b[0m\u001b[0;34m\u001b[0m\u001b[0;34m\u001b[0m\u001b[0m\n\u001b[0m\u001b[1;32m   5242\u001b[0m         \u001b[0;32mif\u001b[0m \u001b[0mlen\u001b[0m\u001b[0;34m(\u001b[0m\u001b[0mself\u001b[0m\u001b[0;34m.\u001b[0m\u001b[0m_data\u001b[0m\u001b[0;34m.\u001b[0m\u001b[0mblocks\u001b[0m\u001b[0;34m)\u001b[0m \u001b[0;34m!=\u001b[0m \u001b[0mblocks_before\u001b[0m\u001b[0;34m:\u001b[0m\u001b[0;34m\u001b[0m\u001b[0;34m\u001b[0m\u001b[0m\n\u001b[1;32m   5243\u001b[0m             \u001b[0mself\u001b[0m\u001b[0;34m.\u001b[0m\u001b[0m_clear_item_cache\u001b[0m\u001b[0;34m(\u001b[0m\u001b[0;34m)\u001b[0m\u001b[0;34m\u001b[0m\u001b[0;34m\u001b[0m\u001b[0m\n",
      "\u001b[0;32m//anaconda3/envs/tfcs109a/lib/python3.6/site-packages/pandas/core/generic.py\u001b[0m in \u001b[0;36mf\u001b[0;34m()\u001b[0m\n\u001b[1;32m   5248\u001b[0m \u001b[0;34m\u001b[0m\u001b[0m\n\u001b[1;32m   5249\u001b[0m         \u001b[0;32mdef\u001b[0m \u001b[0mf\u001b[0m\u001b[0;34m(\u001b[0m\u001b[0;34m)\u001b[0m\u001b[0;34m:\u001b[0m\u001b[0;34m\u001b[0m\u001b[0;34m\u001b[0m\u001b[0m\n\u001b[0;32m-> 5250\u001b[0;31m             \u001b[0mself\u001b[0m\u001b[0;34m.\u001b[0m\u001b[0m_data\u001b[0m \u001b[0;34m=\u001b[0m \u001b[0mself\u001b[0m\u001b[0;34m.\u001b[0m\u001b[0m_data\u001b[0m\u001b[0;34m.\u001b[0m\u001b[0mconsolidate\u001b[0m\u001b[0;34m(\u001b[0m\u001b[0;34m)\u001b[0m\u001b[0;34m\u001b[0m\u001b[0;34m\u001b[0m\u001b[0m\n\u001b[0m\u001b[1;32m   5251\u001b[0m \u001b[0;34m\u001b[0m\u001b[0m\n\u001b[1;32m   5252\u001b[0m         \u001b[0mself\u001b[0m\u001b[0;34m.\u001b[0m\u001b[0m_protect_consolidate\u001b[0m\u001b[0;34m(\u001b[0m\u001b[0mf\u001b[0m\u001b[0;34m)\u001b[0m\u001b[0;34m\u001b[0m\u001b[0;34m\u001b[0m\u001b[0m\n",
      "\u001b[0;32m//anaconda3/envs/tfcs109a/lib/python3.6/site-packages/pandas/core/internals/managers.py\u001b[0m in \u001b[0;36mconsolidate\u001b[0;34m(self)\u001b[0m\n\u001b[1;32m    930\u001b[0m         \u001b[0mbm\u001b[0m \u001b[0;34m=\u001b[0m \u001b[0mself\u001b[0m\u001b[0;34m.\u001b[0m\u001b[0m__class__\u001b[0m\u001b[0;34m(\u001b[0m\u001b[0mself\u001b[0m\u001b[0;34m.\u001b[0m\u001b[0mblocks\u001b[0m\u001b[0;34m,\u001b[0m \u001b[0mself\u001b[0m\u001b[0;34m.\u001b[0m\u001b[0maxes\u001b[0m\u001b[0;34m)\u001b[0m\u001b[0;34m\u001b[0m\u001b[0;34m\u001b[0m\u001b[0m\n\u001b[1;32m    931\u001b[0m         \u001b[0mbm\u001b[0m\u001b[0;34m.\u001b[0m\u001b[0m_is_consolidated\u001b[0m \u001b[0;34m=\u001b[0m \u001b[0;32mFalse\u001b[0m\u001b[0;34m\u001b[0m\u001b[0;34m\u001b[0m\u001b[0m\n\u001b[0;32m--> 932\u001b[0;31m         \u001b[0mbm\u001b[0m\u001b[0;34m.\u001b[0m\u001b[0m_consolidate_inplace\u001b[0m\u001b[0;34m(\u001b[0m\u001b[0;34m)\u001b[0m\u001b[0;34m\u001b[0m\u001b[0;34m\u001b[0m\u001b[0m\n\u001b[0m\u001b[1;32m    933\u001b[0m         \u001b[0;32mreturn\u001b[0m \u001b[0mbm\u001b[0m\u001b[0;34m\u001b[0m\u001b[0;34m\u001b[0m\u001b[0m\n\u001b[1;32m    934\u001b[0m \u001b[0;34m\u001b[0m\u001b[0m\n",
      "\u001b[0;32m//anaconda3/envs/tfcs109a/lib/python3.6/site-packages/pandas/core/internals/managers.py\u001b[0m in \u001b[0;36m_consolidate_inplace\u001b[0;34m(self)\u001b[0m\n\u001b[1;32m    935\u001b[0m     \u001b[0;32mdef\u001b[0m \u001b[0m_consolidate_inplace\u001b[0m\u001b[0;34m(\u001b[0m\u001b[0mself\u001b[0m\u001b[0;34m)\u001b[0m\u001b[0;34m:\u001b[0m\u001b[0;34m\u001b[0m\u001b[0;34m\u001b[0m\u001b[0m\n\u001b[1;32m    936\u001b[0m         \u001b[0;32mif\u001b[0m \u001b[0;32mnot\u001b[0m \u001b[0mself\u001b[0m\u001b[0;34m.\u001b[0m\u001b[0mis_consolidated\u001b[0m\u001b[0;34m(\u001b[0m\u001b[0;34m)\u001b[0m\u001b[0;34m:\u001b[0m\u001b[0;34m\u001b[0m\u001b[0;34m\u001b[0m\u001b[0m\n\u001b[0;32m--> 937\u001b[0;31m             \u001b[0mself\u001b[0m\u001b[0;34m.\u001b[0m\u001b[0mblocks\u001b[0m \u001b[0;34m=\u001b[0m \u001b[0mtuple\u001b[0m\u001b[0;34m(\u001b[0m\u001b[0m_consolidate\u001b[0m\u001b[0;34m(\u001b[0m\u001b[0mself\u001b[0m\u001b[0;34m.\u001b[0m\u001b[0mblocks\u001b[0m\u001b[0;34m)\u001b[0m\u001b[0;34m)\u001b[0m\u001b[0;34m\u001b[0m\u001b[0;34m\u001b[0m\u001b[0m\n\u001b[0m\u001b[1;32m    938\u001b[0m             \u001b[0mself\u001b[0m\u001b[0;34m.\u001b[0m\u001b[0m_is_consolidated\u001b[0m \u001b[0;34m=\u001b[0m \u001b[0;32mTrue\u001b[0m\u001b[0;34m\u001b[0m\u001b[0;34m\u001b[0m\u001b[0m\n\u001b[1;32m    939\u001b[0m             \u001b[0mself\u001b[0m\u001b[0;34m.\u001b[0m\u001b[0m_known_consolidated\u001b[0m \u001b[0;34m=\u001b[0m \u001b[0;32mTrue\u001b[0m\u001b[0;34m\u001b[0m\u001b[0;34m\u001b[0m\u001b[0m\n",
      "\u001b[0;32m//anaconda3/envs/tfcs109a/lib/python3.6/site-packages/pandas/core/internals/managers.py\u001b[0m in \u001b[0;36m_consolidate\u001b[0;34m(blocks)\u001b[0m\n\u001b[1;32m   1911\u001b[0m     \u001b[0;32mfor\u001b[0m \u001b[0;34m(\u001b[0m\u001b[0m_can_consolidate\u001b[0m\u001b[0;34m,\u001b[0m \u001b[0mdtype\u001b[0m\u001b[0;34m)\u001b[0m\u001b[0;34m,\u001b[0m \u001b[0mgroup_blocks\u001b[0m \u001b[0;32min\u001b[0m \u001b[0mgrouper\u001b[0m\u001b[0;34m:\u001b[0m\u001b[0;34m\u001b[0m\u001b[0;34m\u001b[0m\u001b[0m\n\u001b[1;32m   1912\u001b[0m         merged_blocks = _merge_blocks(\n\u001b[0;32m-> 1913\u001b[0;31m             \u001b[0mlist\u001b[0m\u001b[0;34m(\u001b[0m\u001b[0mgroup_blocks\u001b[0m\u001b[0;34m)\u001b[0m\u001b[0;34m,\u001b[0m \u001b[0mdtype\u001b[0m\u001b[0;34m=\u001b[0m\u001b[0mdtype\u001b[0m\u001b[0;34m,\u001b[0m \u001b[0m_can_consolidate\u001b[0m\u001b[0;34m=\u001b[0m\u001b[0m_can_consolidate\u001b[0m\u001b[0;34m\u001b[0m\u001b[0;34m\u001b[0m\u001b[0m\n\u001b[0m\u001b[1;32m   1914\u001b[0m         )\n\u001b[1;32m   1915\u001b[0m         \u001b[0mnew_blocks\u001b[0m \u001b[0;34m=\u001b[0m \u001b[0m_extend_blocks\u001b[0m\u001b[0;34m(\u001b[0m\u001b[0mmerged_blocks\u001b[0m\u001b[0;34m,\u001b[0m \u001b[0mnew_blocks\u001b[0m\u001b[0;34m)\u001b[0m\u001b[0;34m\u001b[0m\u001b[0;34m\u001b[0m\u001b[0m\n",
      "\u001b[0;32m//anaconda3/envs/tfcs109a/lib/python3.6/site-packages/pandas/core/internals/blocks.py\u001b[0m in \u001b[0;36m_merge_blocks\u001b[0;34m(blocks, dtype, _can_consolidate)\u001b[0m\n\u001b[1;32m   3338\u001b[0m \u001b[0;34m\u001b[0m\u001b[0m\n\u001b[1;32m   3339\u001b[0m         \u001b[0margsort\u001b[0m \u001b[0;34m=\u001b[0m \u001b[0mnp\u001b[0m\u001b[0;34m.\u001b[0m\u001b[0margsort\u001b[0m\u001b[0;34m(\u001b[0m\u001b[0mnew_mgr_locs\u001b[0m\u001b[0;34m)\u001b[0m\u001b[0;34m\u001b[0m\u001b[0;34m\u001b[0m\u001b[0m\n\u001b[0;32m-> 3340\u001b[0;31m         \u001b[0mnew_values\u001b[0m \u001b[0;34m=\u001b[0m \u001b[0mnew_values\u001b[0m\u001b[0;34m[\u001b[0m\u001b[0margsort\u001b[0m\u001b[0;34m]\u001b[0m\u001b[0;34m\u001b[0m\u001b[0;34m\u001b[0m\u001b[0m\n\u001b[0m\u001b[1;32m   3341\u001b[0m         \u001b[0mnew_mgr_locs\u001b[0m \u001b[0;34m=\u001b[0m \u001b[0mnew_mgr_locs\u001b[0m\u001b[0;34m[\u001b[0m\u001b[0margsort\u001b[0m\u001b[0;34m]\u001b[0m\u001b[0;34m\u001b[0m\u001b[0;34m\u001b[0m\u001b[0m\n\u001b[1;32m   3342\u001b[0m \u001b[0;34m\u001b[0m\u001b[0m\n",
      "\u001b[0;31mKeyboardInterrupt\u001b[0m: "
     ]
    }
   ],
   "source": [
    "# total = pd.DataFrame()\n",
    "# for root, dirs, files in os.walk(playlist_path_jack):\n",
    "#     files = glob.glob(os.path.join(root,'*'+'.csv'))\n",
    "#     for f in files:\n",
    "#         fid = int(f.split('/')[-1][5:].split('.')[0])\n",
    "#         df = pd.read_csv(f)\n",
    "#         df[\"fid\"] = fid\n",
    "#         total = pd.concat([total] + [df], axis=0)"
   ]
  },
  {
   "cell_type": "code",
   "execution_count": 89,
   "metadata": {},
   "outputs": [],
   "source": [
    "done_ids = set(total.fid.unique())\n",
    "remaining = []\n",
    "for f in files:\n",
    "    fid = int(f.split('/')[-1][5:].split('.')[0])\n",
    "    if fid not in done_ids:\n",
    "        df = pd.read_csv(f)\n",
    "        df[\"fid\"] = fid\n",
    "        remaining.append(df)\n",
    "#     total = pd.concat([total] + [df], axis=0)"
   ]
  },
  {
   "cell_type": "code",
   "execution_count": 92,
   "metadata": {},
   "outputs": [],
   "source": [
    "processed_df = pd.concat([total] + remaining, axis=0)"
   ]
  },
  {
   "cell_type": "code",
   "execution_count": 94,
   "metadata": {},
   "outputs": [],
   "source": [
    "processed_df.to_csv(\"playlist_data.csv\", index=False)"
   ]
  },
  {
   "cell_type": "code",
   "execution_count": 95,
   "metadata": {},
   "outputs": [
    {
     "data": {
      "text/html": [
       "<div>\n",
       "<style scoped>\n",
       "    .dataframe tbody tr th:only-of-type {\n",
       "        vertical-align: middle;\n",
       "    }\n",
       "\n",
       "    .dataframe tbody tr th {\n",
       "        vertical-align: top;\n",
       "    }\n",
       "\n",
       "    .dataframe thead th {\n",
       "        text-align: right;\n",
       "    }\n",
       "</style>\n",
       "<table border=\"1\" class=\"dataframe\">\n",
       "  <thead>\n",
       "    <tr style=\"text-align: right;\">\n",
       "      <th></th>\n",
       "      <th>pid</th>\n",
       "      <th>pos</th>\n",
       "      <th>artist_name</th>\n",
       "      <th>track_uri</th>\n",
       "      <th>artist_uri</th>\n",
       "      <th>track_name</th>\n",
       "      <th>album_uri</th>\n",
       "      <th>duration_ms</th>\n",
       "      <th>album_name</th>\n",
       "      <th>fid</th>\n",
       "    </tr>\n",
       "  </thead>\n",
       "  <tbody>\n",
       "    <tr>\n",
       "      <th>0</th>\n",
       "      <td>0</td>\n",
       "      <td>0</td>\n",
       "      <td>Sleeping At Last</td>\n",
       "      <td>spotify:track:2d7LPtieXdIYzf7yHPooWd</td>\n",
       "      <td>spotify:artist:0MeLMJJcouYXCymQSHPn8g</td>\n",
       "      <td>Chasing Cars</td>\n",
       "      <td>spotify:album:0UIIvTTWNB3gRQWFoxoEDh</td>\n",
       "      <td>242564</td>\n",
       "      <td>Covers, Vol. 2</td>\n",
       "      <td>284</td>\n",
       "    </tr>\n",
       "    <tr>\n",
       "      <th>1</th>\n",
       "      <td>0</td>\n",
       "      <td>1</td>\n",
       "      <td>Rachael Yamagata</td>\n",
       "      <td>spotify:track:0y4TKcc7p2H6P0GJlt01EI</td>\n",
       "      <td>spotify:artist:7w0qj2HiAPIeUcoPogvOZ6</td>\n",
       "      <td>Elephants</td>\n",
       "      <td>spotify:album:6KzK9fDNmj7GHFbcE4gVJD</td>\n",
       "      <td>253701</td>\n",
       "      <td>Elephants...Teeth Sinking Into Heart</td>\n",
       "      <td>284</td>\n",
       "    </tr>\n",
       "    <tr>\n",
       "      <th>2</th>\n",
       "      <td>0</td>\n",
       "      <td>2</td>\n",
       "      <td>The Cinematic Orchestra</td>\n",
       "      <td>spotify:track:6q4c1vPRZREh7nw3wG7Ixz</td>\n",
       "      <td>spotify:artist:32ogthv0BdaSMPml02X9YB</td>\n",
       "      <td>That Home</td>\n",
       "      <td>spotify:album:5cPHT4yMCfETLRYAoBFcOZ</td>\n",
       "      <td>103920</td>\n",
       "      <td>Ma Fleur</td>\n",
       "      <td>284</td>\n",
       "    </tr>\n",
       "    <tr>\n",
       "      <th>3</th>\n",
       "      <td>0</td>\n",
       "      <td>3</td>\n",
       "      <td>The Cinematic Orchestra</td>\n",
       "      <td>spotify:track:54KFQB6N4pn926IUUYZGzK</td>\n",
       "      <td>spotify:artist:32ogthv0BdaSMPml02X9YB</td>\n",
       "      <td>To Build A Home</td>\n",
       "      <td>spotify:album:5cPHT4yMCfETLRYAoBFcOZ</td>\n",
       "      <td>371320</td>\n",
       "      <td>Ma Fleur</td>\n",
       "      <td>284</td>\n",
       "    </tr>\n",
       "    <tr>\n",
       "      <th>4</th>\n",
       "      <td>0</td>\n",
       "      <td>4</td>\n",
       "      <td>Leon Bridges</td>\n",
       "      <td>spotify:track:0NeJjNlprGfZpeX2LQuN6c</td>\n",
       "      <td>spotify:artist:3qnGvpP8Yth1AqSBMqON5x</td>\n",
       "      <td>River</td>\n",
       "      <td>spotify:album:4svLfrPPk2npPVuI4kXPYg</td>\n",
       "      <td>238560</td>\n",
       "      <td>Coming Home</td>\n",
       "      <td>284</td>\n",
       "    </tr>\n",
       "    <tr>\n",
       "      <th>...</th>\n",
       "      <td>...</td>\n",
       "      <td>...</td>\n",
       "      <td>...</td>\n",
       "      <td>...</td>\n",
       "      <td>...</td>\n",
       "      <td>...</td>\n",
       "      <td>...</td>\n",
       "      <td>...</td>\n",
       "      <td>...</td>\n",
       "      <td>...</td>\n",
       "    </tr>\n",
       "    <tr>\n",
       "      <th>66358</th>\n",
       "      <td>999</td>\n",
       "      <td>16</td>\n",
       "      <td>Sam Smith</td>\n",
       "      <td>spotify:track:7Hz6LLOVxrojLPIHJJ1S0E</td>\n",
       "      <td>spotify:artist:2wY79sveU1sp5g7SokKOiI</td>\n",
       "      <td>Have Yourself A Merry Little Christmas</td>\n",
       "      <td>spotify:album:6aT8FGBTfyAhIDQ0IDaebz</td>\n",
       "      <td>170964</td>\n",
       "      <td>Have Yourself A Merry Little Christmas</td>\n",
       "      <td>289</td>\n",
       "    </tr>\n",
       "    <tr>\n",
       "      <th>66359</th>\n",
       "      <td>999</td>\n",
       "      <td>17</td>\n",
       "      <td>Paul McCartney</td>\n",
       "      <td>spotify:track:4gavOCQdZ2g86gkvi17FM7</td>\n",
       "      <td>spotify:artist:4STHEaNw4mPZ2tzheohgXB</td>\n",
       "      <td>Wonderful Christmastime - Remastered 2011 / Ed...</td>\n",
       "      <td>spotify:album:7G2kEoHNNWxq6j8okgMvCr</td>\n",
       "      <td>227653</td>\n",
       "      <td>McCartney II</td>\n",
       "      <td>289</td>\n",
       "    </tr>\n",
       "    <tr>\n",
       "      <th>66360</th>\n",
       "      <td>999</td>\n",
       "      <td>18</td>\n",
       "      <td>Christina Aguilera</td>\n",
       "      <td>spotify:track:7vL54Ke5fNvWGD5BicNSMG</td>\n",
       "      <td>spotify:artist:1l7ZsJRRS8wlW3WfJfPfNS</td>\n",
       "      <td>Oh Holy Night</td>\n",
       "      <td>spotify:album:0EmIJRj74RImuDbGJh4iOu</td>\n",
       "      <td>289133</td>\n",
       "      <td>My Kind Of Christmas</td>\n",
       "      <td>289</td>\n",
       "    </tr>\n",
       "    <tr>\n",
       "      <th>66361</th>\n",
       "      <td>999</td>\n",
       "      <td>19</td>\n",
       "      <td>Pentatonix</td>\n",
       "      <td>spotify:track:28vlppNXOSeMYi6Mwou6qs</td>\n",
       "      <td>spotify:artist:26AHtbjWKiwYzsoGoUZq53</td>\n",
       "      <td>Joy to the World</td>\n",
       "      <td>spotify:album:082VlX7cBth0o8xqDGclNn</td>\n",
       "      <td>139880</td>\n",
       "      <td>That's Christmas To Me (Deluxe Edition)</td>\n",
       "      <td>289</td>\n",
       "    </tr>\n",
       "    <tr>\n",
       "      <th>66362</th>\n",
       "      <td>999</td>\n",
       "      <td>20</td>\n",
       "      <td>Melanie Martinez</td>\n",
       "      <td>spotify:track:1taY3X7Ifq1989d6eI3raI</td>\n",
       "      <td>spotify:artist:63yrD80RY3RNEM2YDpUpO8</td>\n",
       "      <td>Gingerbread Man</td>\n",
       "      <td>spotify:album:0Em5Gzbwz3SsWKVP5rIe24</td>\n",
       "      <td>207520</td>\n",
       "      <td>Gingerbread Man</td>\n",
       "      <td>289</td>\n",
       "    </tr>\n",
       "  </tbody>\n",
       "</table>\n",
       "<p>66346428 rows × 10 columns</p>\n",
       "</div>"
      ],
      "text/plain": [
       "       pid  pos              artist_name  \\\n",
       "0        0    0         Sleeping At Last   \n",
       "1        0    1         Rachael Yamagata   \n",
       "2        0    2  The Cinematic Orchestra   \n",
       "3        0    3  The Cinematic Orchestra   \n",
       "4        0    4             Leon Bridges   \n",
       "...    ...  ...                      ...   \n",
       "66358  999   16                Sam Smith   \n",
       "66359  999   17           Paul McCartney   \n",
       "66360  999   18       Christina Aguilera   \n",
       "66361  999   19               Pentatonix   \n",
       "66362  999   20         Melanie Martinez   \n",
       "\n",
       "                                  track_uri  \\\n",
       "0      spotify:track:2d7LPtieXdIYzf7yHPooWd   \n",
       "1      spotify:track:0y4TKcc7p2H6P0GJlt01EI   \n",
       "2      spotify:track:6q4c1vPRZREh7nw3wG7Ixz   \n",
       "3      spotify:track:54KFQB6N4pn926IUUYZGzK   \n",
       "4      spotify:track:0NeJjNlprGfZpeX2LQuN6c   \n",
       "...                                     ...   \n",
       "66358  spotify:track:7Hz6LLOVxrojLPIHJJ1S0E   \n",
       "66359  spotify:track:4gavOCQdZ2g86gkvi17FM7   \n",
       "66360  spotify:track:7vL54Ke5fNvWGD5BicNSMG   \n",
       "66361  spotify:track:28vlppNXOSeMYi6Mwou6qs   \n",
       "66362  spotify:track:1taY3X7Ifq1989d6eI3raI   \n",
       "\n",
       "                                  artist_uri  \\\n",
       "0      spotify:artist:0MeLMJJcouYXCymQSHPn8g   \n",
       "1      spotify:artist:7w0qj2HiAPIeUcoPogvOZ6   \n",
       "2      spotify:artist:32ogthv0BdaSMPml02X9YB   \n",
       "3      spotify:artist:32ogthv0BdaSMPml02X9YB   \n",
       "4      spotify:artist:3qnGvpP8Yth1AqSBMqON5x   \n",
       "...                                      ...   \n",
       "66358  spotify:artist:2wY79sveU1sp5g7SokKOiI   \n",
       "66359  spotify:artist:4STHEaNw4mPZ2tzheohgXB   \n",
       "66360  spotify:artist:1l7ZsJRRS8wlW3WfJfPfNS   \n",
       "66361  spotify:artist:26AHtbjWKiwYzsoGoUZq53   \n",
       "66362  spotify:artist:63yrD80RY3RNEM2YDpUpO8   \n",
       "\n",
       "                                              track_name  \\\n",
       "0                                           Chasing Cars   \n",
       "1                                              Elephants   \n",
       "2                                              That Home   \n",
       "3                                        To Build A Home   \n",
       "4                                                  River   \n",
       "...                                                  ...   \n",
       "66358             Have Yourself A Merry Little Christmas   \n",
       "66359  Wonderful Christmastime - Remastered 2011 / Ed...   \n",
       "66360                                      Oh Holy Night   \n",
       "66361                                   Joy to the World   \n",
       "66362                                    Gingerbread Man   \n",
       "\n",
       "                                  album_uri  duration_ms  \\\n",
       "0      spotify:album:0UIIvTTWNB3gRQWFoxoEDh       242564   \n",
       "1      spotify:album:6KzK9fDNmj7GHFbcE4gVJD       253701   \n",
       "2      spotify:album:5cPHT4yMCfETLRYAoBFcOZ       103920   \n",
       "3      spotify:album:5cPHT4yMCfETLRYAoBFcOZ       371320   \n",
       "4      spotify:album:4svLfrPPk2npPVuI4kXPYg       238560   \n",
       "...                                     ...          ...   \n",
       "66358  spotify:album:6aT8FGBTfyAhIDQ0IDaebz       170964   \n",
       "66359  spotify:album:7G2kEoHNNWxq6j8okgMvCr       227653   \n",
       "66360  spotify:album:0EmIJRj74RImuDbGJh4iOu       289133   \n",
       "66361  spotify:album:082VlX7cBth0o8xqDGclNn       139880   \n",
       "66362  spotify:album:0Em5Gzbwz3SsWKVP5rIe24       207520   \n",
       "\n",
       "                                    album_name  fid  \n",
       "0                               Covers, Vol. 2  284  \n",
       "1         Elephants...Teeth Sinking Into Heart  284  \n",
       "2                                     Ma Fleur  284  \n",
       "3                                     Ma Fleur  284  \n",
       "4                                  Coming Home  284  \n",
       "...                                        ...  ...  \n",
       "66358   Have Yourself A Merry Little Christmas  289  \n",
       "66359                             McCartney II  289  \n",
       "66360                     My Kind Of Christmas  289  \n",
       "66361  That's Christmas To Me (Deluxe Edition)  289  \n",
       "66362                          Gingerbread Man  289  \n",
       "\n",
       "[66346428 rows x 10 columns]"
      ]
     },
     "execution_count": 95,
     "metadata": {},
     "output_type": "execute_result"
    }
   ],
   "source": [
    "processed_df"
   ]
  },
  {
   "cell_type": "code",
   "execution_count": 72,
   "metadata": {},
   "outputs": [],
   "source": [
    "# total = pd.DataFrame()\n",
    "# random.seed(109)\n",
    "# train_proportion = 0.6\n",
    "# for root, dirs, files in os.walk(playlist_path_jack):\n",
    "#     files = glob.glob(os.path.join(root,'*'+'.csv'))\n",
    "#     train_files = random.sample(files, math.floor(len(files) * train_proportion))\n",
    "#     test_files = list(set(files) - set(train_files))\n",
    "#     for f in files[0:100]:\n",
    "#         fid = int(f.split('/')[-1][5:].split('.')[0])\n",
    "#         df = pd.read_csv(f)\n",
    "#         most_common = df.groupby(\"track_uri\").pid.count()        \n",
    "#         total = pd.concat([total] + [most_common], axis=0)"
   ]
  },
  {
   "cell_type": "code",
   "execution_count": 77,
   "metadata": {},
   "outputs": [],
   "source": [
    "popularity = total.groupby(level=0)[0].sum()"
   ]
  },
  {
   "cell_type": "code",
   "execution_count": 78,
   "metadata": {},
   "outputs": [
    {
     "data": {
      "text/plain": [
       "spotify:track:7KXjTSCq5nL1LoYtL7XAwS    4607.0\n",
       "spotify:track:1xznGGDReH1oQq0xzbwXa3    4281.0\n",
       "spotify:track:7yyRTcZmCiyzzJlNzGC9Ol    4139.0\n",
       "spotify:track:7BKLCZ1jbUBVqRi2FVlTVw    4089.0\n",
       "spotify:track:3a1lNhkSLSkpJE4MSHpDu9    3928.0\n",
       "                                         ...  \n",
       "spotify:track:4R55eLGAYEpn9tFaclCqrn       1.0\n",
       "spotify:track:4R5D0ZxUfI2nPJVraTjW2x       1.0\n",
       "spotify:track:4R5EYhS1HCuzB0gNfFfG5P       1.0\n",
       "spotify:track:4R5FEwR2N8Q0ot9oZE7EXC       1.0\n",
       "spotify:track:0002yNGLtYSYtc0X6ZnFvp       1.0\n",
       "Name: 0, Length: 687376, dtype: float64"
      ]
     },
     "execution_count": 78,
     "metadata": {},
     "output_type": "execute_result"
    }
   ],
   "source": [
    "popularity.sort_values(ascending=False)"
   ]
  },
  {
   "cell_type": "code",
   "execution_count": 81,
   "metadata": {},
   "outputs": [
    {
     "data": {
      "text/plain": [
       "pid                                                6\n",
       "pos                                               98\n",
       "artist_name                                    Drake\n",
       "track_uri       spotify:track:1xznGGDReH1oQq0xzbwXa3\n",
       "artist_uri     spotify:artist:3TVXtAsR1Inumwj472S9r4\n",
       "track_name                                 One Dance\n",
       "album_uri       spotify:album:3hARKC8cinq3mZLLAEaBh9\n",
       "duration_ms                                   173986\n",
       "album_name                                     Views\n",
       "Name: 356, dtype: object"
      ]
     },
     "execution_count": 81,
     "metadata": {},
     "output_type": "execute_result"
    }
   ],
   "source": [
    "df.loc[df[\"track_uri\"] == \"spotify:track:1xznGGDReH1oQq0xzbwXa3\"].iloc[0]"
   ]
  },
  {
   "cell_type": "code",
   "execution_count": null,
   "metadata": {},
   "outputs": [],
   "source": []
  }
 ],
 "metadata": {
  "kernelspec": {
   "display_name": "Python 3",
   "language": "python",
   "name": "python3"
  },
  "language_info": {
   "codemirror_mode": {
    "name": "ipython",
    "version": 3
   },
   "file_extension": ".py",
   "mimetype": "text/x-python",
   "name": "python",
   "nbconvert_exporter": "python",
   "pygments_lexer": "ipython3",
   "version": "3.6.9"
  }
 },
 "nbformat": 4,
 "nbformat_minor": 2
}
