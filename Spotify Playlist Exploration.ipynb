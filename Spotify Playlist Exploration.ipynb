{
 "cells": [
  {
   "cell_type": "code",
   "execution_count": 18,
   "metadata": {},
   "outputs": [],
   "source": [
    "import os\n",
    "import sys\n",
    "import glob\n",
    "import time\n",
    "import datetime\n",
    "import numpy as np\n",
    "import pandas as pd\n",
    "import sqlite3\n",
    "import random\n",
    "import math\n",
    "import requests"
   ]
  },
  {
   "cell_type": "code",
   "execution_count": 3,
   "metadata": {},
   "outputs": [],
   "source": [
    "playlist_path = \"./Songs/\""
   ]
  },
  {
   "cell_type": "markdown",
   "metadata": {},
   "source": [
    "## Open one of the playlists"
   ]
  },
  {
   "cell_type": "code",
   "execution_count": 9,
   "metadata": {},
   "outputs": [],
   "source": [
    "rand_file = random.randint(0,1000)"
   ]
  },
  {
   "cell_type": "code",
   "execution_count": 10,
   "metadata": {},
   "outputs": [],
   "source": [
    "df = pd.read_csv(playlist_path + f\"songs{rand_file}.csv\")"
   ]
  },
  {
   "cell_type": "code",
   "execution_count": 12,
   "metadata": {},
   "outputs": [
    {
     "data": {
      "text/html": [
       "<div>\n",
       "<style scoped>\n",
       "    .dataframe tbody tr th:only-of-type {\n",
       "        vertical-align: middle;\n",
       "    }\n",
       "\n",
       "    .dataframe tbody tr th {\n",
       "        vertical-align: top;\n",
       "    }\n",
       "\n",
       "    .dataframe thead th {\n",
       "        text-align: right;\n",
       "    }\n",
       "</style>\n",
       "<table border=\"1\" class=\"dataframe\">\n",
       "  <thead>\n",
       "    <tr style=\"text-align: right;\">\n",
       "      <th></th>\n",
       "      <th>pid</th>\n",
       "      <th>pos</th>\n",
       "      <th>artist_name</th>\n",
       "      <th>track_uri</th>\n",
       "      <th>artist_uri</th>\n",
       "      <th>track_name</th>\n",
       "      <th>album_uri</th>\n",
       "      <th>duration_ms</th>\n",
       "      <th>album_name</th>\n",
       "    </tr>\n",
       "  </thead>\n",
       "  <tbody>\n",
       "    <tr>\n",
       "      <th>0</th>\n",
       "      <td>0</td>\n",
       "      <td>0</td>\n",
       "      <td>Major Lazer</td>\n",
       "      <td>spotify:track:4WjH9Bzt3kx7z8kl0awxh4</td>\n",
       "      <td>spotify:artist:738wLrAtLtCtFOLvQBXOXp</td>\n",
       "      <td>Lean On (feat. MØ &amp; DJ Snake)</td>\n",
       "      <td>spotify:album:2XBnxKeRZi76u2iyGcMych</td>\n",
       "      <td>176561</td>\n",
       "      <td>Peace Is The Mission</td>\n",
       "    </tr>\n",
       "    <tr>\n",
       "      <th>1</th>\n",
       "      <td>0</td>\n",
       "      <td>1</td>\n",
       "      <td>Miley Cyrus</td>\n",
       "      <td>spotify:track:2y4lAQpi5VTNLu2ldeTdUH</td>\n",
       "      <td>spotify:artist:5YGY8feqx7naU7z4HrwZM6</td>\n",
       "      <td>We Can't Stop</td>\n",
       "      <td>spotify:album:3RDqXDc1bAETps54MSSOW0</td>\n",
       "      <td>231240</td>\n",
       "      <td>Bangerz (Deluxe Version)</td>\n",
       "    </tr>\n",
       "    <tr>\n",
       "      <th>2</th>\n",
       "      <td>0</td>\n",
       "      <td>2</td>\n",
       "      <td>Tegan and Sara</td>\n",
       "      <td>spotify:track:4fT30Ghhn5p7vDtUtn9bdK</td>\n",
       "      <td>spotify:artist:5e1BZulIiYWPRm8yogwUYH</td>\n",
       "      <td>Drove Me Wild</td>\n",
       "      <td>spotify:album:5IUJ6v408Z7pECC3BXUJxX</td>\n",
       "      <td>229253</td>\n",
       "      <td>Heartthrob</td>\n",
       "    </tr>\n",
       "    <tr>\n",
       "      <th>3</th>\n",
       "      <td>0</td>\n",
       "      <td>3</td>\n",
       "      <td>blink-182</td>\n",
       "      <td>spotify:track:12qZHAeOyTf93YAWvGDTat</td>\n",
       "      <td>spotify:artist:6FBDaR13swtiWwGhX1WQsP</td>\n",
       "      <td>All The Small Things</td>\n",
       "      <td>spotify:album:1fF8kYX49s5Ufv4XEY5sjW</td>\n",
       "      <td>168000</td>\n",
       "      <td>Enema Of The State</td>\n",
       "    </tr>\n",
       "    <tr>\n",
       "      <th>4</th>\n",
       "      <td>0</td>\n",
       "      <td>4</td>\n",
       "      <td>Natalie Imbruglia</td>\n",
       "      <td>spotify:track:1Jaah2tmN9Hv81A87KZ1MU</td>\n",
       "      <td>spotify:artist:0dlOr0VIysztGWvU1dpjmP</td>\n",
       "      <td>Torn</td>\n",
       "      <td>spotify:album:38alWeQVP9UUAGJvLptys9</td>\n",
       "      <td>244666</td>\n",
       "      <td>Left Of The Middle</td>\n",
       "    </tr>\n",
       "  </tbody>\n",
       "</table>\n",
       "</div>"
      ],
      "text/plain": [
       "   pid  pos        artist_name                             track_uri  \\\n",
       "0    0    0        Major Lazer  spotify:track:4WjH9Bzt3kx7z8kl0awxh4   \n",
       "1    0    1        Miley Cyrus  spotify:track:2y4lAQpi5VTNLu2ldeTdUH   \n",
       "2    0    2     Tegan and Sara  spotify:track:4fT30Ghhn5p7vDtUtn9bdK   \n",
       "3    0    3          blink-182  spotify:track:12qZHAeOyTf93YAWvGDTat   \n",
       "4    0    4  Natalie Imbruglia  spotify:track:1Jaah2tmN9Hv81A87KZ1MU   \n",
       "\n",
       "                              artist_uri                     track_name  \\\n",
       "0  spotify:artist:738wLrAtLtCtFOLvQBXOXp  Lean On (feat. MØ & DJ Snake)   \n",
       "1  spotify:artist:5YGY8feqx7naU7z4HrwZM6                  We Can't Stop   \n",
       "2  spotify:artist:5e1BZulIiYWPRm8yogwUYH                  Drove Me Wild   \n",
       "3  spotify:artist:6FBDaR13swtiWwGhX1WQsP           All The Small Things   \n",
       "4  spotify:artist:0dlOr0VIysztGWvU1dpjmP                           Torn   \n",
       "\n",
       "                              album_uri  duration_ms                album_name  \n",
       "0  spotify:album:2XBnxKeRZi76u2iyGcMych       176561      Peace Is The Mission  \n",
       "1  spotify:album:3RDqXDc1bAETps54MSSOW0       231240  Bangerz (Deluxe Version)  \n",
       "2  spotify:album:5IUJ6v408Z7pECC3BXUJxX       229253                Heartthrob  \n",
       "3  spotify:album:1fF8kYX49s5Ufv4XEY5sjW       168000        Enema Of The State  \n",
       "4  spotify:album:38alWeQVP9UUAGJvLptys9       244666        Left Of The Middle  "
      ]
     },
     "execution_count": 12,
     "metadata": {},
     "output_type": "execute_result"
    }
   ],
   "source": [
    "df.head()"
   ]
  },
  {
   "cell_type": "code",
   "execution_count": 14,
   "metadata": {},
   "outputs": [
    {
     "data": {
      "text/plain": [
       "1000"
      ]
     },
     "execution_count": 14,
     "metadata": {},
     "output_type": "execute_result"
    }
   ],
   "source": [
    "len(df.pid.unique())"
   ]
  },
  {
   "cell_type": "code",
   "execution_count": 21,
   "metadata": {},
   "outputs": [
    {
     "data": {
      "text/plain": [
       "count    1000.00000\n",
       "mean       62.79000\n",
       "std        50.08807\n",
       "min         4.00000\n",
       "25%        25.00000\n",
       "50%        48.00000\n",
       "75%        87.00000\n",
       "max       249.00000\n",
       "Name: pos, dtype: float64"
      ]
     },
     "execution_count": 21,
     "metadata": {},
     "output_type": "execute_result"
    }
   ],
   "source": [
    "df.groupby(\"pid\").pos.max().describe()"
   ]
  },
  {
   "cell_type": "code",
   "execution_count": 28,
   "metadata": {},
   "outputs": [
    {
     "data": {
      "text/plain": [
       "track_uri\n",
       "spotify:track:7KXjTSCq5nL1LoYtL7XAwS    45\n",
       "spotify:track:7BKLCZ1jbUBVqRi2FVlTVw    40\n",
       "spotify:track:1xznGGDReH1oQq0xzbwXa3    39\n",
       "spotify:track:7GX5flRQZVHRAGd6B4TmDO    38\n",
       "spotify:track:7KOlJ92bu51cltsD9KU5I7    37\n",
       "                                        ..\n",
       "spotify:track:4nJz9vscAzanC1ryjOtoJo     1\n",
       "spotify:track:4nKB7W7skS894mHSgWD8v7     1\n",
       "spotify:track:4nNSgSfqhtAQ9upuIp1QgM     1\n",
       "spotify:track:4nOKwZf1XRw2gI4FGAGhXf     1\n",
       "spotify:track:3tAplt4FkuuOBYvMlfq8wA     1\n",
       "Name: pid, Length: 34773, dtype: int64"
      ]
     },
     "execution_count": 28,
     "metadata": {},
     "output_type": "execute_result"
    }
   ],
   "source": [
    "df.groupby(\"track_uri\").pid.count().sort_values(ascending=False)"
   ]
  },
  {
   "cell_type": "code",
   "execution_count": 31,
   "metadata": {},
   "outputs": [
    {
     "data": {
      "text/plain": [
       "pid                                                9\n",
       "pos                                               97\n",
       "artist_name                           Kendrick Lamar\n",
       "track_uri       spotify:track:7KXjTSCq5nL1LoYtL7XAwS\n",
       "artist_uri     spotify:artist:2YZyLoL8N0Wb9xBt1NhZWg\n",
       "track_name                                   HUMBLE.\n",
       "album_uri       spotify:album:4eLPsYPBmXABThSJ821sqY\n",
       "duration_ms                                   177000\n",
       "album_name                                     DAMN.\n",
       "Name: 686, dtype: object"
      ]
     },
     "execution_count": 31,
     "metadata": {},
     "output_type": "execute_result"
    }
   ],
   "source": [
    "df.loc[df['track_uri'] == \"spotify:track:7KXjTSCq5nL1LoYtL7XAwS\"].iloc[0]"
   ]
  },
  {
   "cell_type": "markdown",
   "metadata": {},
   "source": [
    "## Create train/test dataframe from CSVs"
   ]
  },
  {
   "cell_type": "code",
   "execution_count": 1,
   "metadata": {
    "scrolled": true
   },
   "outputs": [],
   "source": [
    "# total = []\n",
    "# for root, dirs, files in os.walk(playlist_path_jack):\n",
    "#     files = glob.glob(os.path.join(root,'*'+'.csv'))\n",
    "#     for f in files:\n",
    "#         fid = int(f.split('/')[-1][5:].split('.')[0])\n",
    "#         df = pd.read_csv(f)\n",
    "#         df[\"fid\"] = fid\n",
    "#         total.append(df)\n",
    "# processed_df = pd.concat(total, axis=0)\n",
    "# processed_df.to_csv(\"playlist_data.csv\", index=False)"
   ]
  },
  {
   "cell_type": "markdown",
   "metadata": {},
   "source": [
    "## Popularity"
   ]
  },
  {
   "cell_type": "code",
   "execution_count": 72,
   "metadata": {},
   "outputs": [],
   "source": [
    "# total = pd.DataFrame()\n",
    "# random.seed(109)\n",
    "# train_proportion = 0.6\n",
    "# for root, dirs, files in os.walk(playlist_path_jack):\n",
    "#     files = glob.glob(os.path.join(root,'*'+'.csv'))\n",
    "#     train_files = random.sample(files, math.floor(len(files) * train_proportion))\n",
    "#     test_files = list(set(files) - set(train_files))\n",
    "#     for f in files[0:100]:\n",
    "#         fid = int(f.split('/')[-1][5:].split('.')[0])\n",
    "#         df = pd.read_csv(f)\n",
    "#         most_common = df.groupby(\"track_uri\").pid.count()        \n",
    "#         total = pd.concat([total] + [most_common], axis=0)"
   ]
  },
  {
   "cell_type": "code",
   "execution_count": 77,
   "metadata": {},
   "outputs": [],
   "source": [
    "popularity = total.groupby(level=0)[0].sum()"
   ]
  },
  {
   "cell_type": "code",
   "execution_count": 78,
   "metadata": {},
   "outputs": [
    {
     "data": {
      "text/plain": [
       "spotify:track:7KXjTSCq5nL1LoYtL7XAwS    4607.0\n",
       "spotify:track:1xznGGDReH1oQq0xzbwXa3    4281.0\n",
       "spotify:track:7yyRTcZmCiyzzJlNzGC9Ol    4139.0\n",
       "spotify:track:7BKLCZ1jbUBVqRi2FVlTVw    4089.0\n",
       "spotify:track:3a1lNhkSLSkpJE4MSHpDu9    3928.0\n",
       "                                         ...  \n",
       "spotify:track:4R55eLGAYEpn9tFaclCqrn       1.0\n",
       "spotify:track:4R5D0ZxUfI2nPJVraTjW2x       1.0\n",
       "spotify:track:4R5EYhS1HCuzB0gNfFfG5P       1.0\n",
       "spotify:track:4R5FEwR2N8Q0ot9oZE7EXC       1.0\n",
       "spotify:track:0002yNGLtYSYtc0X6ZnFvp       1.0\n",
       "Name: 0, Length: 687376, dtype: float64"
      ]
     },
     "execution_count": 78,
     "metadata": {},
     "output_type": "execute_result"
    }
   ],
   "source": [
    "popularity.sort_values(ascending=False)"
   ]
  },
  {
   "cell_type": "code",
   "execution_count": 81,
   "metadata": {},
   "outputs": [
    {
     "data": {
      "text/plain": [
       "pid                                                6\n",
       "pos                                               98\n",
       "artist_name                                    Drake\n",
       "track_uri       spotify:track:1xznGGDReH1oQq0xzbwXa3\n",
       "artist_uri     spotify:artist:3TVXtAsR1Inumwj472S9r4\n",
       "track_name                                 One Dance\n",
       "album_uri       spotify:album:3hARKC8cinq3mZLLAEaBh9\n",
       "duration_ms                                   173986\n",
       "album_name                                     Views\n",
       "Name: 356, dtype: object"
      ]
     },
     "execution_count": 81,
     "metadata": {},
     "output_type": "execute_result"
    }
   ],
   "source": [
    "df.loc[df[\"track_uri\"] == \"spotify:track:1xznGGDReH1oQq0xzbwXa3\"].iloc[0]"
   ]
  },
  {
   "cell_type": "markdown",
   "metadata": {},
   "source": [
    "## Check that the CSV works / Some EDA"
   ]
  },
  {
   "cell_type": "code",
   "execution_count": 4,
   "metadata": {},
   "outputs": [],
   "source": [
    "full_df = pd.read_csv(\"playlist_data.csv\")"
   ]
  },
  {
   "cell_type": "code",
   "execution_count": 5,
   "metadata": {},
   "outputs": [
    {
     "data": {
      "text/html": [
       "<div>\n",
       "<style scoped>\n",
       "    .dataframe tbody tr th:only-of-type {\n",
       "        vertical-align: middle;\n",
       "    }\n",
       "\n",
       "    .dataframe tbody tr th {\n",
       "        vertical-align: top;\n",
       "    }\n",
       "\n",
       "    .dataframe thead th {\n",
       "        text-align: right;\n",
       "    }\n",
       "</style>\n",
       "<table border=\"1\" class=\"dataframe\">\n",
       "  <thead>\n",
       "    <tr style=\"text-align: right;\">\n",
       "      <th></th>\n",
       "      <th>pid</th>\n",
       "      <th>pos</th>\n",
       "      <th>artist_name</th>\n",
       "      <th>track_uri</th>\n",
       "      <th>artist_uri</th>\n",
       "      <th>track_name</th>\n",
       "      <th>album_uri</th>\n",
       "      <th>duration_ms</th>\n",
       "      <th>album_name</th>\n",
       "      <th>fid</th>\n",
       "    </tr>\n",
       "  </thead>\n",
       "  <tbody>\n",
       "    <tr>\n",
       "      <th>0</th>\n",
       "      <td>0</td>\n",
       "      <td>0</td>\n",
       "      <td>Sleeping At Last</td>\n",
       "      <td>spotify:track:2d7LPtieXdIYzf7yHPooWd</td>\n",
       "      <td>spotify:artist:0MeLMJJcouYXCymQSHPn8g</td>\n",
       "      <td>Chasing Cars</td>\n",
       "      <td>spotify:album:0UIIvTTWNB3gRQWFoxoEDh</td>\n",
       "      <td>242564</td>\n",
       "      <td>Covers, Vol. 2</td>\n",
       "      <td>284</td>\n",
       "    </tr>\n",
       "    <tr>\n",
       "      <th>1</th>\n",
       "      <td>0</td>\n",
       "      <td>1</td>\n",
       "      <td>Rachael Yamagata</td>\n",
       "      <td>spotify:track:0y4TKcc7p2H6P0GJlt01EI</td>\n",
       "      <td>spotify:artist:7w0qj2HiAPIeUcoPogvOZ6</td>\n",
       "      <td>Elephants</td>\n",
       "      <td>spotify:album:6KzK9fDNmj7GHFbcE4gVJD</td>\n",
       "      <td>253701</td>\n",
       "      <td>Elephants...Teeth Sinking Into Heart</td>\n",
       "      <td>284</td>\n",
       "    </tr>\n",
       "    <tr>\n",
       "      <th>2</th>\n",
       "      <td>0</td>\n",
       "      <td>2</td>\n",
       "      <td>The Cinematic Orchestra</td>\n",
       "      <td>spotify:track:6q4c1vPRZREh7nw3wG7Ixz</td>\n",
       "      <td>spotify:artist:32ogthv0BdaSMPml02X9YB</td>\n",
       "      <td>That Home</td>\n",
       "      <td>spotify:album:5cPHT4yMCfETLRYAoBFcOZ</td>\n",
       "      <td>103920</td>\n",
       "      <td>Ma Fleur</td>\n",
       "      <td>284</td>\n",
       "    </tr>\n",
       "    <tr>\n",
       "      <th>3</th>\n",
       "      <td>0</td>\n",
       "      <td>3</td>\n",
       "      <td>The Cinematic Orchestra</td>\n",
       "      <td>spotify:track:54KFQB6N4pn926IUUYZGzK</td>\n",
       "      <td>spotify:artist:32ogthv0BdaSMPml02X9YB</td>\n",
       "      <td>To Build A Home</td>\n",
       "      <td>spotify:album:5cPHT4yMCfETLRYAoBFcOZ</td>\n",
       "      <td>371320</td>\n",
       "      <td>Ma Fleur</td>\n",
       "      <td>284</td>\n",
       "    </tr>\n",
       "    <tr>\n",
       "      <th>4</th>\n",
       "      <td>0</td>\n",
       "      <td>4</td>\n",
       "      <td>Leon Bridges</td>\n",
       "      <td>spotify:track:0NeJjNlprGfZpeX2LQuN6c</td>\n",
       "      <td>spotify:artist:3qnGvpP8Yth1AqSBMqON5x</td>\n",
       "      <td>River</td>\n",
       "      <td>spotify:album:4svLfrPPk2npPVuI4kXPYg</td>\n",
       "      <td>238560</td>\n",
       "      <td>Coming Home</td>\n",
       "      <td>284</td>\n",
       "    </tr>\n",
       "  </tbody>\n",
       "</table>\n",
       "</div>"
      ],
      "text/plain": [
       "   pid  pos              artist_name                             track_uri  \\\n",
       "0    0    0         Sleeping At Last  spotify:track:2d7LPtieXdIYzf7yHPooWd   \n",
       "1    0    1         Rachael Yamagata  spotify:track:0y4TKcc7p2H6P0GJlt01EI   \n",
       "2    0    2  The Cinematic Orchestra  spotify:track:6q4c1vPRZREh7nw3wG7Ixz   \n",
       "3    0    3  The Cinematic Orchestra  spotify:track:54KFQB6N4pn926IUUYZGzK   \n",
       "4    0    4             Leon Bridges  spotify:track:0NeJjNlprGfZpeX2LQuN6c   \n",
       "\n",
       "                              artist_uri       track_name  \\\n",
       "0  spotify:artist:0MeLMJJcouYXCymQSHPn8g     Chasing Cars   \n",
       "1  spotify:artist:7w0qj2HiAPIeUcoPogvOZ6        Elephants   \n",
       "2  spotify:artist:32ogthv0BdaSMPml02X9YB        That Home   \n",
       "3  spotify:artist:32ogthv0BdaSMPml02X9YB  To Build A Home   \n",
       "4  spotify:artist:3qnGvpP8Yth1AqSBMqON5x            River   \n",
       "\n",
       "                              album_uri  duration_ms  \\\n",
       "0  spotify:album:0UIIvTTWNB3gRQWFoxoEDh       242564   \n",
       "1  spotify:album:6KzK9fDNmj7GHFbcE4gVJD       253701   \n",
       "2  spotify:album:5cPHT4yMCfETLRYAoBFcOZ       103920   \n",
       "3  spotify:album:5cPHT4yMCfETLRYAoBFcOZ       371320   \n",
       "4  spotify:album:4svLfrPPk2npPVuI4kXPYg       238560   \n",
       "\n",
       "                             album_name  fid  \n",
       "0                        Covers, Vol. 2  284  \n",
       "1  Elephants...Teeth Sinking Into Heart  284  \n",
       "2                              Ma Fleur  284  \n",
       "3                              Ma Fleur  284  \n",
       "4                           Coming Home  284  "
      ]
     },
     "execution_count": 5,
     "metadata": {},
     "output_type": "execute_result"
    }
   ],
   "source": [
    "full_df.head()"
   ]
  },
  {
   "cell_type": "code",
   "execution_count": 110,
   "metadata": {},
   "outputs": [],
   "source": [
    "songs_in_playlist = full_df.groupby([\"fid\", \"pid\"]).pos.max()"
   ]
  },
  {
   "cell_type": "code",
   "execution_count": 111,
   "metadata": {},
   "outputs": [
    {
     "data": {
      "text/plain": [
       "count    1000000.000000\n",
       "mean          65.346428\n",
       "std           53.669358\n",
       "min            4.000000\n",
       "25%           25.000000\n",
       "50%           48.000000\n",
       "75%           91.000000\n",
       "max          375.000000\n",
       "Name: pos, dtype: float64"
      ]
     },
     "execution_count": 111,
     "metadata": {},
     "output_type": "execute_result"
    }
   ],
   "source": [
    "songs_in_playlist.describe()"
   ]
  },
  {
   "cell_type": "code",
   "execution_count": 116,
   "metadata": {},
   "outputs": [],
   "source": [
    "import matplotlib\n",
    "import matplotlib.pyplot as plt"
   ]
  },
  {
   "cell_type": "code",
   "execution_count": 118,
   "metadata": {
    "scrolled": true
   },
   "outputs": [
    {
     "data": {
      "image/png": "[encoded data removed]",
      "text/plain": [
       "<Figure size 432x288 with 1 Axes>"
      ]
     },
     "metadata": {
      "needs_background": "light"
     },
     "output_type": "display_data"
    }
   ],
   "source": [
    "plt.hist(songs_in_playlist)\n",
    "plt.show()"
   ]
  },
  {
   "cell_type": "code",
   "execution_count": 119,
   "metadata": {},
   "outputs": [
    {
     "data": {
      "text/plain": [
       "count    3.808821e+07\n",
       "mean     1.741915e+00\n",
       "std      2.747589e+00\n",
       "min      1.000000e+00\n",
       "25%      1.000000e+00\n",
       "50%      1.000000e+00\n",
       "75%      2.000000e+00\n",
       "max      2.450000e+02\n",
       "Name: pos, dtype: float64"
      ]
     },
     "execution_count": 119,
     "metadata": {},
     "output_type": "execute_result"
    }
   ],
   "source": [
    "full_df.groupby([\"fid\", \"pid\", \"artist_uri\"]).pos.count().describe()"
   ]
  },
  {
   "cell_type": "markdown",
   "metadata": {},
   "source": [
    "Possible error in our data? Check this playlist."
   ]
  },
  {
   "cell_type": "code",
   "execution_count": 120,
   "metadata": {},
   "outputs": [],
   "source": [
    "duration = full_df.groupby([\"fid\", \"pid\"]).duration_ms.sum() / 60000"
   ]
  },
  {
   "cell_type": "code",
   "execution_count": 134,
   "metadata": {},
   "outputs": [
    {
     "data": {
      "text/plain": [
       "fid  pid\n",
       "397  62     10584.5632\n",
       "Name: duration_ms, dtype: float64"
      ]
     },
     "execution_count": 134,
     "metadata": {},
     "output_type": "execute_result"
    }
   ],
   "source": [
    "duration[duration > 10000]"
   ]
  },
  {
   "cell_type": "code",
   "execution_count": 135,
   "metadata": {
    "scrolled": true
   },
   "outputs": [
    {
     "data": {
      "text/html": [
       "<div>\n",
       "<style scoped>\n",
       "    .dataframe tbody tr th:only-of-type {\n",
       "        vertical-align: middle;\n",
       "    }\n",
       "\n",
       "    .dataframe tbody tr th {\n",
       "        vertical-align: top;\n",
       "    }\n",
       "\n",
       "    .dataframe thead th {\n",
       "        text-align: right;\n",
       "    }\n",
       "</style>\n",
       "<table border=\"1\" class=\"dataframe\">\n",
       "  <thead>\n",
       "    <tr style=\"text-align: right;\">\n",
       "      <th></th>\n",
       "      <th>pid</th>\n",
       "      <th>pos</th>\n",
       "      <th>artist_name</th>\n",
       "      <th>track_uri</th>\n",
       "      <th>artist_uri</th>\n",
       "      <th>track_name</th>\n",
       "      <th>album_uri</th>\n",
       "      <th>duration_ms</th>\n",
       "      <th>album_name</th>\n",
       "      <th>fid</th>\n",
       "    </tr>\n",
       "  </thead>\n",
       "  <tbody>\n",
       "    <tr>\n",
       "      <th>33749240</th>\n",
       "      <td>62</td>\n",
       "      <td>0</td>\n",
       "      <td>Phil K</td>\n",
       "      <td>spotify:track:4s5nfXAXJVemLH7auEqG4O</td>\n",
       "      <td>spotify:artist:36WFgy2EYJpxwZua5iB8E7</td>\n",
       "      <td>The Therapy Sessions - Part 2 - Continuous DJ Mix</td>\n",
       "      <td>spotify:album:20v2jAxUMBCPkcuMfFr5Oq</td>\n",
       "      <td>4465733</td>\n",
       "      <td>Renaissance presents The Therapy Sessions</td>\n",
       "      <td>397</td>\n",
       "    </tr>\n",
       "    <tr>\n",
       "      <th>33749241</th>\n",
       "      <td>62</td>\n",
       "      <td>1</td>\n",
       "      <td>Deep Dish</td>\n",
       "      <td>spotify:track:5uuoc5ZxioFvcnaoX1fRV5</td>\n",
       "      <td>spotify:artist:720JYpdCgHuTmDeryW0wEA</td>\n",
       "      <td>Renaissance - The Masters Series - Part 2 - Ib...</td>\n",
       "      <td>spotify:album:0Y0vgViHbAXjzLqZAILmD6</td>\n",
       "      <td>4560475</td>\n",
       "      <td>Renaissance - The Masters Series - Part 2 - Ibiza</td>\n",
       "      <td>397</td>\n",
       "    </tr>\n",
       "    <tr>\n",
       "      <th>33749242</th>\n",
       "      <td>62</td>\n",
       "      <td>2</td>\n",
       "      <td>Sasha</td>\n",
       "      <td>spotify:track:4MGTS0EsKOuOIE7v2cCO8j</td>\n",
       "      <td>spotify:artist:6u4jLGLPuarS3i2XWHVxoS</td>\n",
       "      <td>Renaissance - The Mix Collection - Part 2 - Co...</td>\n",
       "      <td>spotify:album:0EfxuXSXhXfRGtteZ22eUu</td>\n",
       "      <td>4490440</td>\n",
       "      <td>Renaissance - The Mix Collection</td>\n",
       "      <td>397</td>\n",
       "    </tr>\n",
       "    <tr>\n",
       "      <th>33749243</th>\n",
       "      <td>62</td>\n",
       "      <td>3</td>\n",
       "      <td>Deep Dish</td>\n",
       "      <td>spotify:track:0jDhkKbW2B87MVQtJ8W3le</td>\n",
       "      <td>spotify:artist:720JYpdCgHuTmDeryW0wEA</td>\n",
       "      <td>Renaissance - The Masters Series - Part 2 - Ib...</td>\n",
       "      <td>spotify:album:0Y0vgViHbAXjzLqZAILmD6</td>\n",
       "      <td>4416402</td>\n",
       "      <td>Renaissance - The Masters Series - Part 2 - Ibiza</td>\n",
       "      <td>397</td>\n",
       "    </tr>\n",
       "    <tr>\n",
       "      <th>33749244</th>\n",
       "      <td>62</td>\n",
       "      <td>4</td>\n",
       "      <td>D:Fuse</td>\n",
       "      <td>spotify:track:1YqhtfXG4TIIaePmO0S6y8</td>\n",
       "      <td>spotify:artist:0BxH2B78Sy9Auh86NY9Rjr</td>\n",
       "      <td>People 3 (LIVE) [Disc 1] {Continuous DJ Mix By...</td>\n",
       "      <td>spotify:album:1pZVWZ1keVEw1e9XSSaGEY</td>\n",
       "      <td>4626360</td>\n",
       "      <td>People 3</td>\n",
       "      <td>397</td>\n",
       "    </tr>\n",
       "    <tr>\n",
       "      <th>...</th>\n",
       "      <td>...</td>\n",
       "      <td>...</td>\n",
       "      <td>...</td>\n",
       "      <td>...</td>\n",
       "      <td>...</td>\n",
       "      <td>...</td>\n",
       "      <td>...</td>\n",
       "      <td>...</td>\n",
       "      <td>...</td>\n",
       "      <td>...</td>\n",
       "    </tr>\n",
       "    <tr>\n",
       "      <th>33749451</th>\n",
       "      <td>62</td>\n",
       "      <td>211</td>\n",
       "      <td>Various Artists</td>\n",
       "      <td>spotify:track:49NF7rGAVxx7mhiUCDVxJF</td>\n",
       "      <td>spotify:artist:0LyfQWJT6nXafLPZqxe9Of</td>\n",
       "      <td>DJ Mix 1 by DJ Faydz - Continuous DJ Mix 1</td>\n",
       "      <td>spotify:album:183oZsEsOG9hxZdG5zcopF</td>\n",
       "      <td>3660000</td>\n",
       "      <td>Future Rave Anthems 2 - Mixed by DJ Faydz</td>\n",
       "      <td>397</td>\n",
       "    </tr>\n",
       "    <tr>\n",
       "      <th>33749452</th>\n",
       "      <td>62</td>\n",
       "      <td>212</td>\n",
       "      <td>MYNC</td>\n",
       "      <td>spotify:track:5driHFK86qjDEalMjSJzvk</td>\n",
       "      <td>spotify:artist:19Pf5iv3VY9tSLbS3Y04t9</td>\n",
       "      <td>Cr2 Presents LIVE &amp; DIRECT - MYNC, Harry Choo ...</td>\n",
       "      <td>spotify:album:2fvpeALTK94AGVbWecOkn8</td>\n",
       "      <td>3814622</td>\n",
       "      <td>Cr2 Presents LIVE &amp; DIRECT - MYNC, Harry Choo ...</td>\n",
       "      <td>397</td>\n",
       "    </tr>\n",
       "    <tr>\n",
       "      <th>33749453</th>\n",
       "      <td>62</td>\n",
       "      <td>213</td>\n",
       "      <td>Harry Romero</td>\n",
       "      <td>spotify:track:37dh8QtQGxu0uZd6dDtb92</td>\n",
       "      <td>spotify:artist:36AJmodiIrwV9U3QOiLMYM</td>\n",
       "      <td>Cr2 Presents LIVE &amp; DIRECT - MYNC, Harry Choo ...</td>\n",
       "      <td>spotify:album:2fvpeALTK94AGVbWecOkn8</td>\n",
       "      <td>4775622</td>\n",
       "      <td>Cr2 Presents LIVE &amp; DIRECT - MYNC, Harry Choo ...</td>\n",
       "      <td>397</td>\n",
       "    </tr>\n",
       "    <tr>\n",
       "      <th>33749454</th>\n",
       "      <td>62</td>\n",
       "      <td>214</td>\n",
       "      <td>MYNC</td>\n",
       "      <td>spotify:track:5djfTFmDMkRtNYmoyMwBtS</td>\n",
       "      <td>spotify:artist:19Pf5iv3VY9tSLbS3Y04t9</td>\n",
       "      <td>Space Ibiza 2013 Continuous DJ Mix 2</td>\n",
       "      <td>spotify:album:01DlcGlswBdBUU3g9gSv14</td>\n",
       "      <td>4338382</td>\n",
       "      <td>Space Ibiza 2013</td>\n",
       "      <td>397</td>\n",
       "    </tr>\n",
       "    <tr>\n",
       "      <th>33749455</th>\n",
       "      <td>62</td>\n",
       "      <td>215</td>\n",
       "      <td>Various Artists</td>\n",
       "      <td>spotify:track:6vl6TL3kQq34eBDTdGJHeC</td>\n",
       "      <td>spotify:artist:0LyfQWJT6nXafLPZqxe9Of</td>\n",
       "      <td>In The Mix 02 - Continuous Mix</td>\n",
       "      <td>spotify:album:44F04aNxpXIRGRS1hqzNMy</td>\n",
       "      <td>5751000</td>\n",
       "      <td>In The Mix 02: Drum &amp; Bass, Dubstep, Trap &amp; De...</td>\n",
       "      <td>397</td>\n",
       "    </tr>\n",
       "  </tbody>\n",
       "</table>\n",
       "<p>216 rows × 10 columns</p>\n",
       "</div>"
      ],
      "text/plain": [
       "          pid  pos      artist_name                             track_uri  \\\n",
       "33749240   62    0           Phil K  spotify:track:4s5nfXAXJVemLH7auEqG4O   \n",
       "33749241   62    1        Deep Dish  spotify:track:5uuoc5ZxioFvcnaoX1fRV5   \n",
       "33749242   62    2            Sasha  spotify:track:4MGTS0EsKOuOIE7v2cCO8j   \n",
       "33749243   62    3        Deep Dish  spotify:track:0jDhkKbW2B87MVQtJ8W3le   \n",
       "33749244   62    4           D:Fuse  spotify:track:1YqhtfXG4TIIaePmO0S6y8   \n",
       "...       ...  ...              ...                                   ...   \n",
       "33749451   62  211  Various Artists  spotify:track:49NF7rGAVxx7mhiUCDVxJF   \n",
       "33749452   62  212             MYNC  spotify:track:5driHFK86qjDEalMjSJzvk   \n",
       "33749453   62  213     Harry Romero  spotify:track:37dh8QtQGxu0uZd6dDtb92   \n",
       "33749454   62  214             MYNC  spotify:track:5djfTFmDMkRtNYmoyMwBtS   \n",
       "33749455   62  215  Various Artists  spotify:track:6vl6TL3kQq34eBDTdGJHeC   \n",
       "\n",
       "                                     artist_uri  \\\n",
       "33749240  spotify:artist:36WFgy2EYJpxwZua5iB8E7   \n",
       "33749241  spotify:artist:720JYpdCgHuTmDeryW0wEA   \n",
       "33749242  spotify:artist:6u4jLGLPuarS3i2XWHVxoS   \n",
       "33749243  spotify:artist:720JYpdCgHuTmDeryW0wEA   \n",
       "33749244  spotify:artist:0BxH2B78Sy9Auh86NY9Rjr   \n",
       "...                                         ...   \n",
       "33749451  spotify:artist:0LyfQWJT6nXafLPZqxe9Of   \n",
       "33749452  spotify:artist:19Pf5iv3VY9tSLbS3Y04t9   \n",
       "33749453  spotify:artist:36AJmodiIrwV9U3QOiLMYM   \n",
       "33749454  spotify:artist:19Pf5iv3VY9tSLbS3Y04t9   \n",
       "33749455  spotify:artist:0LyfQWJT6nXafLPZqxe9Of   \n",
       "\n",
       "                                                 track_name  \\\n",
       "33749240  The Therapy Sessions - Part 2 - Continuous DJ Mix   \n",
       "33749241  Renaissance - The Masters Series - Part 2 - Ib...   \n",
       "33749242  Renaissance - The Mix Collection - Part 2 - Co...   \n",
       "33749243  Renaissance - The Masters Series - Part 2 - Ib...   \n",
       "33749244  People 3 (LIVE) [Disc 1] {Continuous DJ Mix By...   \n",
       "...                                                     ...   \n",
       "33749451         DJ Mix 1 by DJ Faydz - Continuous DJ Mix 1   \n",
       "33749452  Cr2 Presents LIVE & DIRECT - MYNC, Harry Choo ...   \n",
       "33749453  Cr2 Presents LIVE & DIRECT - MYNC, Harry Choo ...   \n",
       "33749454               Space Ibiza 2013 Continuous DJ Mix 2   \n",
       "33749455                     In The Mix 02 - Continuous Mix   \n",
       "\n",
       "                                     album_uri  duration_ms  \\\n",
       "33749240  spotify:album:20v2jAxUMBCPkcuMfFr5Oq      4465733   \n",
       "33749241  spotify:album:0Y0vgViHbAXjzLqZAILmD6      4560475   \n",
       "33749242  spotify:album:0EfxuXSXhXfRGtteZ22eUu      4490440   \n",
       "33749243  spotify:album:0Y0vgViHbAXjzLqZAILmD6      4416402   \n",
       "33749244  spotify:album:1pZVWZ1keVEw1e9XSSaGEY      4626360   \n",
       "...                                        ...          ...   \n",
       "33749451  spotify:album:183oZsEsOG9hxZdG5zcopF      3660000   \n",
       "33749452  spotify:album:2fvpeALTK94AGVbWecOkn8      3814622   \n",
       "33749453  spotify:album:2fvpeALTK94AGVbWecOkn8      4775622   \n",
       "33749454  spotify:album:01DlcGlswBdBUU3g9gSv14      4338382   \n",
       "33749455  spotify:album:44F04aNxpXIRGRS1hqzNMy      5751000   \n",
       "\n",
       "                                                 album_name  fid  \n",
       "33749240          Renaissance presents The Therapy Sessions  397  \n",
       "33749241  Renaissance - The Masters Series - Part 2 - Ibiza  397  \n",
       "33749242                   Renaissance - The Mix Collection  397  \n",
       "33749243  Renaissance - The Masters Series - Part 2 - Ibiza  397  \n",
       "33749244                                           People 3  397  \n",
       "...                                                     ...  ...  \n",
       "33749451          Future Rave Anthems 2 - Mixed by DJ Faydz  397  \n",
       "33749452  Cr2 Presents LIVE & DIRECT - MYNC, Harry Choo ...  397  \n",
       "33749453  Cr2 Presents LIVE & DIRECT - MYNC, Harry Choo ...  397  \n",
       "33749454                                   Space Ibiza 2013  397  \n",
       "33749455  In The Mix 02: Drum & Bass, Dubstep, Trap & De...  397  \n",
       "\n",
       "[216 rows x 10 columns]"
      ]
     },
     "execution_count": 135,
     "metadata": {},
     "output_type": "execute_result"
    }
   ],
   "source": [
    "full_df.loc[(full_df[\"fid\"] == 397) & (full_df[\"pid\"] == 62)]"
   ]
  },
  {
   "cell_type": "markdown",
   "metadata": {},
   "source": [
    "Upon inspection, this does seem to be a legitimate outlier, but the data seems correct."
   ]
  },
  {
   "cell_type": "code",
   "execution_count": 133,
   "metadata": {},
   "outputs": [
    {
     "data": {
      "text/plain": [
       "count    1000000.000000\n",
       "mean         259.661281\n",
       "std          214.273910\n",
       "min            1.625633\n",
       "25%           99.923050\n",
       "50%          190.373967\n",
       "75%          357.228129\n",
       "max        10584.563200\n",
       "Name: duration_ms, dtype: float64"
      ]
     },
     "execution_count": 133,
     "metadata": {},
     "output_type": "execute_result"
    }
   ],
   "source": [
    "duration.describe()"
   ]
  },
  {
   "cell_type": "code",
   "execution_count": 139,
   "metadata": {},
   "outputs": [
    {
     "data": {
      "image/png": "[encoded data removed]",
      "text/plain": [
       "<Figure size 432x288 with 1 Axes>"
      ]
     },
     "metadata": {
      "needs_background": "light"
     },
     "output_type": "display_data"
    }
   ],
   "source": [
    "plt.hist(duration[duration < 1000])\n",
    "plt.show()"
   ]
  },
  {
   "cell_type": "markdown",
   "metadata": {},
   "source": [
    "# Idea: Pull track information from songs with # inclusions greater than k"
   ]
  },
  {
   "cell_type": "code",
   "execution_count": 8,
   "metadata": {},
   "outputs": [],
   "source": [
    "unique_songs = new_df['track_uri'].unique()"
   ]
  },
  {
   "cell_type": "code",
   "execution_count": 9,
   "metadata": {},
   "outputs": [
    {
     "data": {
      "text/plain": [
       "2262292"
      ]
     },
     "execution_count": 9,
     "metadata": {},
     "output_type": "execute_result"
    }
   ],
   "source": [
    "len(unique_songs)"
   ]
  },
  {
   "cell_type": "code",
   "execution_count": 10,
   "metadata": {},
   "outputs": [],
   "source": [
    "song_popularities = full_df.groupby(\"track_uri\").pid.count()"
   ]
  },
  {
   "cell_type": "code",
   "execution_count": 12,
   "metadata": {},
   "outputs": [],
   "source": [
    "song_popularities.sort_values(ascending = False, inplace=True)"
   ]
  },
  {
   "cell_type": "code",
   "execution_count": 49,
   "metadata": {},
   "outputs": [],
   "source": [
    "top_songs = song_popularities[song_popularities > 100]"
   ]
  },
  {
   "cell_type": "code",
   "execution_count": 53,
   "metadata": {},
   "outputs": [],
   "source": [
    "track_ids = list(top_songs.keys())"
   ]
  },
  {
   "cell_type": "code",
   "execution_count": 55,
   "metadata": {},
   "outputs": [],
   "source": [
    "track_ids_filtered = [i.split(\":\")[-1] for i in track_ids]"
   ]
  },
  {
   "cell_type": "code",
   "execution_count": 93,
   "metadata": {
    "scrolled": true
   },
   "outputs": [
    {
     "data": {
      "text/plain": [
       "'6i0V12jOa3mr6uu4WYhUBr,3yrSvpt2l1xhsV9Em88Pul,4pdPtRcBmOSQDlJ3Fk945m,20dP2DaMHIAmwWAbp7peSr,0IqKeD8ZSP72KbGYyzEcAs,6Ius4TC0L3cN74HT7ENE6e,2ANLarE8yHVsLWW21nj79M,6ZYS6QQxTLsQ6IFXdVx1r4,40riOy7x9W7GXjyGp4pjAv,4tCtwWceOPWzenK2HAIJSb'"
      ]
     },
     "execution_count": 93,
     "metadata": {},
     "output_type": "execute_result"
    }
   ],
   "source": [
    "\",\".join(track_ids_filtered[100:110])"
   ]
  },
  {
   "cell_type": "markdown",
   "metadata": {},
   "source": [
    "### Finished Code"
   ]
  },
  {
   "cell_type": "code",
   "execution_count": null,
   "metadata": {},
   "outputs": [],
   "source": [
    "spotify_key_file = \"spotify.txt\"\n",
    "BASE_URL = \"https://api.spotify.com/v1/audio-features?ids=\"\n",
    "with open(spotify_key_file, \"r\") as f:\n",
    "    api_key = f.readline()[:-1]"
   ]
  },
  {
   "cell_type": "code",
   "execution_count": 103,
   "metadata": {
    "scrolled": true
   },
   "outputs": [],
   "source": [
    "features_dfs = []\n",
    "for i in range(0, len(track_ids_filtered), 100):\n",
    "    end = i+100 if i+100 < len(track_ids_filtered) else len(track_ids_filtered)\n",
    "    response = requests.get(BASE_URL + \",\".join(track_ids_filtered[i:end]), \n",
    "                            headers = {\"Authorization\": \"Bearer \" + api_key})\n",
    "    while response.status_code != 200:\n",
    "        if response.status_code == 429:\n",
    "            retry_after = int(response.headers['Retry-After'])\n",
    "            print(f\"Too many requests. Sleeping for {retry_after} seconds.\")\n",
    "            time.sleep(retry_after)\n",
    "        else:\n",
    "            print(\"Request failed! Trying again in 2 seconds.\")\n",
    "            time.sleep(2)\n",
    "        response = requests.get(BASE_URL + \",\".join(track_ids_filtered[i:end]), \n",
    "                                headers = {\"Authorization\": \"Bearer \" + api_key})\n",
    "    features_dfs.append(pd.DataFrame(response.json()[\"audio_features\"]))"
   ]
  },
  {
   "cell_type": "code",
   "execution_count": 105,
   "metadata": {
    "scrolled": false
   },
   "outputs": [],
   "source": [
    "song_df = pd.concat(features_dfs, axis=0).reset_index(drop=True)"
   ]
  },
  {
   "cell_type": "code",
   "execution_count": 106,
   "metadata": {},
   "outputs": [],
   "source": [
    "song_df.to_csv(\"top70ksongs.csv\", index=False)"
   ]
  },
  {
   "cell_type": "code",
   "execution_count": null,
   "metadata": {},
   "outputs": [],
   "source": []
  }
 ],
 "metadata": {
  "kernelspec": {
   "display_name": "Python 3",
   "language": "python",
   "name": "python3"
  },
  "language_info": {
   "codemirror_mode": {
    "name": "ipython",
    "version": 3
   },
   "file_extension": ".py",
   "mimetype": "text/x-python",
   "name": "python",
   "nbconvert_exporter": "python",
   "pygments_lexer": "ipython3",
   "version": "3.6.9"
  }
 },
 "nbformat": 4,
 "nbformat_minor": 2
}
