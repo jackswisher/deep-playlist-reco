{
 "cells": [
  {
   "cell_type": "code",
   "execution_count": 2,
   "metadata": {},
   "outputs": [],
   "source": [
    "import os\n",
    "import sys\n",
    "import glob\n",
    "import time\n",
    "import datetime\n",
    "import numpy as np\n",
    "import pandas as pd\n",
    "import sqlite3\n",
    "import random\n",
    "import math\n",
    "import requests"
   ]
  },
  {
   "cell_type": "code",
   "execution_count": 3,
   "metadata": {},
   "outputs": [],
   "source": [
    "playlist_path = \"./Songs/\""
   ]
  },
  {
   "cell_type": "markdown",
   "metadata": {},
   "source": [
    "## Open one of the playlists"
   ]
  },
  {
   "cell_type": "code",
   "execution_count": 9,
   "metadata": {},
   "outputs": [],
   "source": [
    "rand_file = random.randint(0,1000)"
   ]
  },
  {
   "cell_type": "code",
   "execution_count": 10,
   "metadata": {},
   "outputs": [],
   "source": [
    "df = pd.read_csv(playlist_path + f\"songs{rand_file}.csv\")"
   ]
  },
  {
   "cell_type": "code",
   "execution_count": 12,
   "metadata": {},
   "outputs": [
    {
     "data": {
      "text/html": [
       "<div>\n",
       "<style scoped>\n",
       "    .dataframe tbody tr th:only-of-type {\n",
       "        vertical-align: middle;\n",
       "    }\n",
       "\n",
       "    .dataframe tbody tr th {\n",
       "        vertical-align: top;\n",
       "    }\n",
       "\n",
       "    .dataframe thead th {\n",
       "        text-align: right;\n",
       "    }\n",
       "</style>\n",
       "<table border=\"1\" class=\"dataframe\">\n",
       "  <thead>\n",
       "    <tr style=\"text-align: right;\">\n",
       "      <th></th>\n",
       "      <th>pid</th>\n",
       "      <th>pos</th>\n",
       "      <th>artist_name</th>\n",
       "      <th>track_uri</th>\n",
       "      <th>artist_uri</th>\n",
       "      <th>track_name</th>\n",
       "      <th>album_uri</th>\n",
       "      <th>duration_ms</th>\n",
       "      <th>album_name</th>\n",
       "    </tr>\n",
       "  </thead>\n",
       "  <tbody>\n",
       "    <tr>\n",
       "      <th>0</th>\n",
       "      <td>0</td>\n",
       "      <td>0</td>\n",
       "      <td>Major Lazer</td>\n",
       "      <td>spotify:track:4WjH9Bzt3kx7z8kl0awxh4</td>\n",
       "      <td>spotify:artist:738wLrAtLtCtFOLvQBXOXp</td>\n",
       "      <td>Lean On (feat. MØ &amp; DJ Snake)</td>\n",
       "      <td>spotify:album:2XBnxKeRZi76u2iyGcMych</td>\n",
       "      <td>176561</td>\n",
       "      <td>Peace Is The Mission</td>\n",
       "    </tr>\n",
       "    <tr>\n",
       "      <th>1</th>\n",
       "      <td>0</td>\n",
       "      <td>1</td>\n",
       "      <td>Miley Cyrus</td>\n",
       "      <td>spotify:track:2y4lAQpi5VTNLu2ldeTdUH</td>\n",
       "      <td>spotify:artist:5YGY8feqx7naU7z4HrwZM6</td>\n",
       "      <td>We Can't Stop</td>\n",
       "      <td>spotify:album:3RDqXDc1bAETps54MSSOW0</td>\n",
       "      <td>231240</td>\n",
       "      <td>Bangerz (Deluxe Version)</td>\n",
       "    </tr>\n",
       "    <tr>\n",
       "      <th>2</th>\n",
       "      <td>0</td>\n",
       "      <td>2</td>\n",
       "      <td>Tegan and Sara</td>\n",
       "      <td>spotify:track:4fT30Ghhn5p7vDtUtn9bdK</td>\n",
       "      <td>spotify:artist:5e1BZulIiYWPRm8yogwUYH</td>\n",
       "      <td>Drove Me Wild</td>\n",
       "      <td>spotify:album:5IUJ6v408Z7pECC3BXUJxX</td>\n",
       "      <td>229253</td>\n",
       "      <td>Heartthrob</td>\n",
       "    </tr>\n",
       "    <tr>\n",
       "      <th>3</th>\n",
       "      <td>0</td>\n",
       "      <td>3</td>\n",
       "      <td>blink-182</td>\n",
       "      <td>spotify:track:12qZHAeOyTf93YAWvGDTat</td>\n",
       "      <td>spotify:artist:6FBDaR13swtiWwGhX1WQsP</td>\n",
       "      <td>All The Small Things</td>\n",
       "      <td>spotify:album:1fF8kYX49s5Ufv4XEY5sjW</td>\n",
       "      <td>168000</td>\n",
       "      <td>Enema Of The State</td>\n",
       "    </tr>\n",
       "    <tr>\n",
       "      <th>4</th>\n",
       "      <td>0</td>\n",
       "      <td>4</td>\n",
       "      <td>Natalie Imbruglia</td>\n",
       "      <td>spotify:track:1Jaah2tmN9Hv81A87KZ1MU</td>\n",
       "      <td>spotify:artist:0dlOr0VIysztGWvU1dpjmP</td>\n",
       "      <td>Torn</td>\n",
       "      <td>spotify:album:38alWeQVP9UUAGJvLptys9</td>\n",
       "      <td>244666</td>\n",
       "      <td>Left Of The Middle</td>\n",
       "    </tr>\n",
       "  </tbody>\n",
       "</table>\n",
       "</div>"
      ],
      "text/plain": [
       "   pid  pos        artist_name                             track_uri  \\\n",
       "0    0    0        Major Lazer  spotify:track:4WjH9Bzt3kx7z8kl0awxh4   \n",
       "1    0    1        Miley Cyrus  spotify:track:2y4lAQpi5VTNLu2ldeTdUH   \n",
       "2    0    2     Tegan and Sara  spotify:track:4fT30Ghhn5p7vDtUtn9bdK   \n",
       "3    0    3          blink-182  spotify:track:12qZHAeOyTf93YAWvGDTat   \n",
       "4    0    4  Natalie Imbruglia  spotify:track:1Jaah2tmN9Hv81A87KZ1MU   \n",
       "\n",
       "                              artist_uri                     track_name  \\\n",
       "0  spotify:artist:738wLrAtLtCtFOLvQBXOXp  Lean On (feat. MØ & DJ Snake)   \n",
       "1  spotify:artist:5YGY8feqx7naU7z4HrwZM6                  We Can't Stop   \n",
       "2  spotify:artist:5e1BZulIiYWPRm8yogwUYH                  Drove Me Wild   \n",
       "3  spotify:artist:6FBDaR13swtiWwGhX1WQsP           All The Small Things   \n",
       "4  spotify:artist:0dlOr0VIysztGWvU1dpjmP                           Torn   \n",
       "\n",
       "                              album_uri  duration_ms                album_name  \n",
       "0  spotify:album:2XBnxKeRZi76u2iyGcMych       176561      Peace Is The Mission  \n",
       "1  spotify:album:3RDqXDc1bAETps54MSSOW0       231240  Bangerz (Deluxe Version)  \n",
       "2  spotify:album:5IUJ6v408Z7pECC3BXUJxX       229253                Heartthrob  \n",
       "3  spotify:album:1fF8kYX49s5Ufv4XEY5sjW       168000        Enema Of The State  \n",
       "4  spotify:album:38alWeQVP9UUAGJvLptys9       244666        Left Of The Middle  "
      ]
     },
     "execution_count": 12,
     "metadata": {},
     "output_type": "execute_result"
    }
   ],
   "source": [
    "df.head()"
   ]
  },
  {
   "cell_type": "code",
   "execution_count": 14,
   "metadata": {},
   "outputs": [
    {
     "data": {
      "text/plain": [
       "1000"
      ]
     },
     "execution_count": 14,
     "metadata": {},
     "output_type": "execute_result"
    }
   ],
   "source": [
    "len(df.pid.unique())"
   ]
  },
  {
   "cell_type": "code",
   "execution_count": 21,
   "metadata": {},
   "outputs": [
    {
     "data": {
      "text/plain": [
       "count    1000.00000\n",
       "mean       62.79000\n",
       "std        50.08807\n",
       "min         4.00000\n",
       "25%        25.00000\n",
       "50%        48.00000\n",
       "75%        87.00000\n",
       "max       249.00000\n",
       "Name: pos, dtype: float64"
      ]
     },
     "execution_count": 21,
     "metadata": {},
     "output_type": "execute_result"
    }
   ],
   "source": [
    "df.groupby(\"pid\").pos.max().describe()"
   ]
  },
  {
   "cell_type": "code",
   "execution_count": 28,
   "metadata": {},
   "outputs": [
    {
     "data": {
      "text/plain": [
       "track_uri\n",
       "spotify:track:7KXjTSCq5nL1LoYtL7XAwS    45\n",
       "spotify:track:7BKLCZ1jbUBVqRi2FVlTVw    40\n",
       "spotify:track:1xznGGDReH1oQq0xzbwXa3    39\n",
       "spotify:track:7GX5flRQZVHRAGd6B4TmDO    38\n",
       "spotify:track:7KOlJ92bu51cltsD9KU5I7    37\n",
       "                                        ..\n",
       "spotify:track:4nJz9vscAzanC1ryjOtoJo     1\n",
       "spotify:track:4nKB7W7skS894mHSgWD8v7     1\n",
       "spotify:track:4nNSgSfqhtAQ9upuIp1QgM     1\n",
       "spotify:track:4nOKwZf1XRw2gI4FGAGhXf     1\n",
       "spotify:track:3tAplt4FkuuOBYvMlfq8wA     1\n",
       "Name: pid, Length: 34773, dtype: int64"
      ]
     },
     "execution_count": 28,
     "metadata": {},
     "output_type": "execute_result"
    }
   ],
   "source": [
    "df.groupby(\"track_uri\").pid.count().sort_values(ascending=False)"
   ]
  },
  {
   "cell_type": "code",
   "execution_count": 31,
   "metadata": {},
   "outputs": [
    {
     "data": {
      "text/plain": [
       "pid                                                9\n",
       "pos                                               97\n",
       "artist_name                           Kendrick Lamar\n",
       "track_uri       spotify:track:7KXjTSCq5nL1LoYtL7XAwS\n",
       "artist_uri     spotify:artist:2YZyLoL8N0Wb9xBt1NhZWg\n",
       "track_name                                   HUMBLE.\n",
       "album_uri       spotify:album:4eLPsYPBmXABThSJ821sqY\n",
       "duration_ms                                   177000\n",
       "album_name                                     DAMN.\n",
       "Name: 686, dtype: object"
      ]
     },
     "execution_count": 31,
     "metadata": {},
     "output_type": "execute_result"
    }
   ],
   "source": [
    "df.loc[df['track_uri'] == \"spotify:track:7KXjTSCq5nL1LoYtL7XAwS\"].iloc[0]"
   ]
  },
  {
   "cell_type": "markdown",
   "metadata": {},
   "source": [
    "## Create train/test dataframe from CSVs"
   ]
  },
  {
   "cell_type": "code",
   "execution_count": 1,
   "metadata": {
    "scrolled": true
   },
   "outputs": [],
   "source": [
    "# total = []\n",
    "# for root, dirs, files in os.walk(playlist_path_jack):\n",
    "#     files = glob.glob(os.path.join(root,'*'+'.csv'))\n",
    "#     for f in files:\n",
    "#         fid = int(f.split('/')[-1][5:].split('.')[0])\n",
    "#         df = pd.read_csv(f)\n",
    "#         df[\"fid\"] = fid\n",
    "#         total.append(df)\n",
    "# processed_df = pd.concat(total, axis=0)\n",
    "# processed_df.to_csv(\"playlist_data.csv\", index=False)"
   ]
  },
  {
   "cell_type": "markdown",
   "metadata": {},
   "source": [
    "## Popularity"
   ]
  },
  {
   "cell_type": "code",
   "execution_count": 72,
   "metadata": {},
   "outputs": [],
   "source": [
    "# total = pd.DataFrame()\n",
    "# random.seed(109)\n",
    "# train_proportion = 0.6\n",
    "# for root, dirs, files in os.walk(playlist_path_jack):\n",
    "#     files = glob.glob(os.path.join(root,'*'+'.csv'))\n",
    "#     train_files = random.sample(files, math.floor(len(files) * train_proportion))\n",
    "#     test_files = list(set(files) - set(train_files))\n",
    "#     for f in files[0:100]:\n",
    "#         fid = int(f.split('/')[-1][5:].split('.')[0])\n",
    "#         df = pd.read_csv(f)\n",
    "#         most_common = df.groupby(\"track_uri\").pid.count()        \n",
    "#         total = pd.concat([total] + [most_common], axis=0)"
   ]
  },
  {
   "cell_type": "code",
   "execution_count": 77,
   "metadata": {},
   "outputs": [],
   "source": [
    "popularity = total.groupby(level=0)[0].sum()"
   ]
  },
  {
   "cell_type": "code",
   "execution_count": 78,
   "metadata": {},
   "outputs": [
    {
     "data": {
      "text/plain": [
       "spotify:track:7KXjTSCq5nL1LoYtL7XAwS    4607.0\n",
       "spotify:track:1xznGGDReH1oQq0xzbwXa3    4281.0\n",
       "spotify:track:7yyRTcZmCiyzzJlNzGC9Ol    4139.0\n",
       "spotify:track:7BKLCZ1jbUBVqRi2FVlTVw    4089.0\n",
       "spotify:track:3a1lNhkSLSkpJE4MSHpDu9    3928.0\n",
       "                                         ...  \n",
       "spotify:track:4R55eLGAYEpn9tFaclCqrn       1.0\n",
       "spotify:track:4R5D0ZxUfI2nPJVraTjW2x       1.0\n",
       "spotify:track:4R5EYhS1HCuzB0gNfFfG5P       1.0\n",
       "spotify:track:4R5FEwR2N8Q0ot9oZE7EXC       1.0\n",
       "spotify:track:0002yNGLtYSYtc0X6ZnFvp       1.0\n",
       "Name: 0, Length: 687376, dtype: float64"
      ]
     },
     "execution_count": 78,
     "metadata": {},
     "output_type": "execute_result"
    }
   ],
   "source": [
    "popularity.sort_values(ascending=False)"
   ]
  },
  {
   "cell_type": "code",
   "execution_count": 81,
   "metadata": {},
   "outputs": [
    {
     "data": {
      "text/plain": [
       "pid                                                6\n",
       "pos                                               98\n",
       "artist_name                                    Drake\n",
       "track_uri       spotify:track:1xznGGDReH1oQq0xzbwXa3\n",
       "artist_uri     spotify:artist:3TVXtAsR1Inumwj472S9r4\n",
       "track_name                                 One Dance\n",
       "album_uri       spotify:album:3hARKC8cinq3mZLLAEaBh9\n",
       "duration_ms                                   173986\n",
       "album_name                                     Views\n",
       "Name: 356, dtype: object"
      ]
     },
     "execution_count": 81,
     "metadata": {},
     "output_type": "execute_result"
    }
   ],
   "source": [
    "df.loc[df[\"track_uri\"] == \"spotify:track:1xznGGDReH1oQq0xzbwXa3\"].iloc[0]"
   ]
  },
  {
   "cell_type": "markdown",
   "metadata": {},
   "source": [
    "## Check that the CSV works / Some EDA"
   ]
  },
  {
   "cell_type": "code",
   "execution_count": 4,
   "metadata": {},
   "outputs": [],
   "source": [
    "full_df = pd.read_csv(\"playlist_data.csv\")"
   ]
  },
  {
   "cell_type": "code",
   "execution_count": 5,
   "metadata": {},
   "outputs": [
    {
     "data": {
      "text/html": [
       "<div>\n",
       "<style scoped>\n",
       "    .dataframe tbody tr th:only-of-type {\n",
       "        vertical-align: middle;\n",
       "    }\n",
       "\n",
       "    .dataframe tbody tr th {\n",
       "        vertical-align: top;\n",
       "    }\n",
       "\n",
       "    .dataframe thead th {\n",
       "        text-align: right;\n",
       "    }\n",
       "</style>\n",
       "<table border=\"1\" class=\"dataframe\">\n",
       "  <thead>\n",
       "    <tr style=\"text-align: right;\">\n",
       "      <th></th>\n",
       "      <th>pid</th>\n",
       "      <th>pos</th>\n",
       "      <th>artist_name</th>\n",
       "      <th>track_uri</th>\n",
       "      <th>artist_uri</th>\n",
       "      <th>track_name</th>\n",
       "      <th>album_uri</th>\n",
       "      <th>duration_ms</th>\n",
       "      <th>album_name</th>\n",
       "      <th>fid</th>\n",
       "    </tr>\n",
       "  </thead>\n",
       "  <tbody>\n",
       "    <tr>\n",
       "      <th>0</th>\n",
       "      <td>0</td>\n",
       "      <td>0</td>\n",
       "      <td>Sleeping At Last</td>\n",
       "      <td>spotify:track:2d7LPtieXdIYzf7yHPooWd</td>\n",
       "      <td>spotify:artist:0MeLMJJcouYXCymQSHPn8g</td>\n",
       "      <td>Chasing Cars</td>\n",
       "      <td>spotify:album:0UIIvTTWNB3gRQWFoxoEDh</td>\n",
       "      <td>242564</td>\n",
       "      <td>Covers, Vol. 2</td>\n",
       "      <td>284</td>\n",
       "    </tr>\n",
       "    <tr>\n",
       "      <th>1</th>\n",
       "      <td>0</td>\n",
       "      <td>1</td>\n",
       "      <td>Rachael Yamagata</td>\n",
       "      <td>spotify:track:0y4TKcc7p2H6P0GJlt01EI</td>\n",
       "      <td>spotify:artist:7w0qj2HiAPIeUcoPogvOZ6</td>\n",
       "      <td>Elephants</td>\n",
       "      <td>spotify:album:6KzK9fDNmj7GHFbcE4gVJD</td>\n",
       "      <td>253701</td>\n",
       "      <td>Elephants...Teeth Sinking Into Heart</td>\n",
       "      <td>284</td>\n",
       "    </tr>\n",
       "    <tr>\n",
       "      <th>2</th>\n",
       "      <td>0</td>\n",
       "      <td>2</td>\n",
       "      <td>The Cinematic Orchestra</td>\n",
       "      <td>spotify:track:6q4c1vPRZREh7nw3wG7Ixz</td>\n",
       "      <td>spotify:artist:32ogthv0BdaSMPml02X9YB</td>\n",
       "      <td>That Home</td>\n",
       "      <td>spotify:album:5cPHT4yMCfETLRYAoBFcOZ</td>\n",
       "      <td>103920</td>\n",
       "      <td>Ma Fleur</td>\n",
       "      <td>284</td>\n",
       "    </tr>\n",
       "    <tr>\n",
       "      <th>3</th>\n",
       "      <td>0</td>\n",
       "      <td>3</td>\n",
       "      <td>The Cinematic Orchestra</td>\n",
       "      <td>spotify:track:54KFQB6N4pn926IUUYZGzK</td>\n",
       "      <td>spotify:artist:32ogthv0BdaSMPml02X9YB</td>\n",
       "      <td>To Build A Home</td>\n",
       "      <td>spotify:album:5cPHT4yMCfETLRYAoBFcOZ</td>\n",
       "      <td>371320</td>\n",
       "      <td>Ma Fleur</td>\n",
       "      <td>284</td>\n",
       "    </tr>\n",
       "    <tr>\n",
       "      <th>4</th>\n",
       "      <td>0</td>\n",
       "      <td>4</td>\n",
       "      <td>Leon Bridges</td>\n",
       "      <td>spotify:track:0NeJjNlprGfZpeX2LQuN6c</td>\n",
       "      <td>spotify:artist:3qnGvpP8Yth1AqSBMqON5x</td>\n",
       "      <td>River</td>\n",
       "      <td>spotify:album:4svLfrPPk2npPVuI4kXPYg</td>\n",
       "      <td>238560</td>\n",
       "      <td>Coming Home</td>\n",
       "      <td>284</td>\n",
       "    </tr>\n",
       "  </tbody>\n",
       "</table>\n",
       "</div>"
      ],
      "text/plain": [
       "   pid  pos              artist_name                             track_uri  \\\n",
       "0    0    0         Sleeping At Last  spotify:track:2d7LPtieXdIYzf7yHPooWd   \n",
       "1    0    1         Rachael Yamagata  spotify:track:0y4TKcc7p2H6P0GJlt01EI   \n",
       "2    0    2  The Cinematic Orchestra  spotify:track:6q4c1vPRZREh7nw3wG7Ixz   \n",
       "3    0    3  The Cinematic Orchestra  spotify:track:54KFQB6N4pn926IUUYZGzK   \n",
       "4    0    4             Leon Bridges  spotify:track:0NeJjNlprGfZpeX2LQuN6c   \n",
       "\n",
       "                              artist_uri       track_name  \\\n",
       "0  spotify:artist:0MeLMJJcouYXCymQSHPn8g     Chasing Cars   \n",
       "1  spotify:artist:7w0qj2HiAPIeUcoPogvOZ6        Elephants   \n",
       "2  spotify:artist:32ogthv0BdaSMPml02X9YB        That Home   \n",
       "3  spotify:artist:32ogthv0BdaSMPml02X9YB  To Build A Home   \n",
       "4  spotify:artist:3qnGvpP8Yth1AqSBMqON5x            River   \n",
       "\n",
       "                              album_uri  duration_ms  \\\n",
       "0  spotify:album:0UIIvTTWNB3gRQWFoxoEDh       242564   \n",
       "1  spotify:album:6KzK9fDNmj7GHFbcE4gVJD       253701   \n",
       "2  spotify:album:5cPHT4yMCfETLRYAoBFcOZ       103920   \n",
       "3  spotify:album:5cPHT4yMCfETLRYAoBFcOZ       371320   \n",
       "4  spotify:album:4svLfrPPk2npPVuI4kXPYg       238560   \n",
       "\n",
       "                             album_name  fid  \n",
       "0                        Covers, Vol. 2  284  \n",
       "1  Elephants...Teeth Sinking Into Heart  284  \n",
       "2                              Ma Fleur  284  \n",
       "3                              Ma Fleur  284  \n",
       "4                           Coming Home  284  "
      ]
     },
     "execution_count": 5,
     "metadata": {},
     "output_type": "execute_result"
    }
   ],
   "source": [
    "full_df.head()"
   ]
  },
  {
   "cell_type": "code",
   "execution_count": 110,
   "metadata": {},
   "outputs": [],
   "source": [
    "songs_in_playlist = full_df.groupby([\"fid\", \"pid\"]).pos.max()"
   ]
  },
  {
   "cell_type": "code",
   "execution_count": 111,
   "metadata": {},
   "outputs": [
    {
     "data": {
      "text/plain": [
       "count    1000000.000000\n",
       "mean          65.346428\n",
       "std           53.669358\n",
       "min            4.000000\n",
       "25%           25.000000\n",
       "50%           48.000000\n",
       "75%           91.000000\n",
       "max          375.000000\n",
       "Name: pos, dtype: float64"
      ]
     },
     "execution_count": 111,
     "metadata": {},
     "output_type": "execute_result"
    }
   ],
   "source": [
    "songs_in_playlist.describe()"
   ]
  },
  {
   "cell_type": "code",
   "execution_count": 116,
   "metadata": {},
   "outputs": [],
   "source": [
    "import matplotlib\n",
    "import matplotlib.pyplot as plt"
   ]
  },
  {
   "cell_type": "code",
   "execution_count": 118,
   "metadata": {
    "scrolled": true
   },
   "outputs": [
    {
     "data": {
      "image/png": "[encoded data removed]",
      "text/plain": [
       "<Figure size 432x288 with 1 Axes>"
      ]
     },
     "metadata": {
      "needs_background": "light"
     },
     "output_type": "display_data"
    }
   ],
   "source": [
    "plt.hist(songs_in_playlist)\n",
    "plt.show()"
   ]
  },
  {
   "cell_type": "code",
   "execution_count": 119,
   "metadata": {},
   "outputs": [
    {
     "data": {
      "text/plain": [
       "count    3.808821e+07\n",
       "mean     1.741915e+00\n",
       "std      2.747589e+00\n",
       "min      1.000000e+00\n",
       "25%      1.000000e+00\n",
       "50%      1.000000e+00\n",
       "75%      2.000000e+00\n",
       "max      2.450000e+02\n",
       "Name: pos, dtype: float64"
      ]
     },
     "execution_count": 119,
     "metadata": {},
     "output_type": "execute_result"
    }
   ],
   "source": [
    "full_df.groupby([\"fid\", \"pid\", \"artist_uri\"]).pos.count().describe()"
   ]
  },
  {
   "cell_type": "markdown",
   "metadata": {},
   "source": [
    "Possible error in our data? Check this playlist."
   ]
  },
  {
   "cell_type": "code",
   "execution_count": 1,
   "metadata": {},
   "outputs": [
    {
     "ename": "NameError",
     "evalue": "name 'full_df' is not defined",
     "output_type": "error",
     "traceback": [
      "\u001b[0;31m---------------------------------------------------------------------------\u001b[0m",
      "\u001b[0;31mNameError\u001b[0m                                 Traceback (most recent call last)",
      "\u001b[0;32m<ipython-input-1-38751562a2a9>\u001b[0m in \u001b[0;36m<module>\u001b[0;34m\u001b[0m\n\u001b[0;32m----> 1\u001b[0;31m \u001b[0mfull_df\u001b[0m\u001b[0;34m.\u001b[0m\u001b[0mgroupby\u001b[0m\u001b[0;34m(\u001b[0m\u001b[0;34m[\u001b[0m\u001b[0;34m\"fid\"\u001b[0m\u001b[0;34m,\u001b[0m \u001b[0;34m\"pid\"\u001b[0m\u001b[0;34m]\u001b[0m\u001b[0;34m)\u001b[0m\u001b[0;34m.\u001b[0m\u001b[0mduration_ms\u001b[0m\u001b[0;34m.\u001b[0m\u001b[0msum\u001b[0m\u001b[0;34m(\u001b[0m\u001b[0;34m)\u001b[0m \u001b[0;34m/\u001b[0m \u001b[0;36m60000\u001b[0m\u001b[0;34m\u001b[0m\u001b[0;34m\u001b[0m\u001b[0m\n\u001b[0m",
      "\u001b[0;31mNameError\u001b[0m: name 'full_df' is not defined"
     ]
    }
   ],
   "source": [
    "full_df.groupby([\"fid\", \"pid\"]).duration_ms.sum() / 60000"
   ]
  },
  {
   "cell_type": "code",
   "execution_count": 134,
   "metadata": {},
   "outputs": [
    {
     "data": {
      "text/plain": [
       "fid  pid\n",
       "397  62     10584.5632\n",
       "Name: duration_ms, dtype: float64"
      ]
     },
     "execution_count": 134,
     "metadata": {},
     "output_type": "execute_result"
    }
   ],
   "source": [
    "duration[duration > 10000]"
   ]
  },
  {
   "cell_type": "code",
   "execution_count": 5,
   "metadata": {
    "scrolled": true
   },
   "outputs": [
    {
     "data": {
      "text/html": [
       "<div>\n",
       "<style scoped>\n",
       "    .dataframe tbody tr th:only-of-type {\n",
       "        vertical-align: middle;\n",
       "    }\n",
       "\n",
       "    .dataframe tbody tr th {\n",
       "        vertical-align: top;\n",
       "    }\n",
       "\n",
       "    .dataframe thead th {\n",
       "        text-align: right;\n",
       "    }\n",
       "</style>\n",
       "<table border=\"1\" class=\"dataframe\">\n",
       "  <thead>\n",
       "    <tr style=\"text-align: right;\">\n",
       "      <th></th>\n",
       "      <th>pid</th>\n",
       "      <th>pos</th>\n",
       "      <th>artist_name</th>\n",
       "      <th>track_uri</th>\n",
       "      <th>artist_uri</th>\n",
       "      <th>track_name</th>\n",
       "      <th>album_uri</th>\n",
       "      <th>duration_ms</th>\n",
       "      <th>album_name</th>\n",
       "      <th>fid</th>\n",
       "    </tr>\n",
       "  </thead>\n",
       "  <tbody>\n",
       "    <tr>\n",
       "      <th>33749240</th>\n",
       "      <td>62</td>\n",
       "      <td>0</td>\n",
       "      <td>Phil K</td>\n",
       "      <td>spotify:track:4s5nfXAXJVemLH7auEqG4O</td>\n",
       "      <td>spotify:artist:36WFgy2EYJpxwZua5iB8E7</td>\n",
       "      <td>The Therapy Sessions - Part 2 - Continuous DJ Mix</td>\n",
       "      <td>spotify:album:20v2jAxUMBCPkcuMfFr5Oq</td>\n",
       "      <td>4465733</td>\n",
       "      <td>Renaissance presents The Therapy Sessions</td>\n",
       "      <td>397</td>\n",
       "    </tr>\n",
       "    <tr>\n",
       "      <th>33749241</th>\n",
       "      <td>62</td>\n",
       "      <td>1</td>\n",
       "      <td>Deep Dish</td>\n",
       "      <td>spotify:track:5uuoc5ZxioFvcnaoX1fRV5</td>\n",
       "      <td>spotify:artist:720JYpdCgHuTmDeryW0wEA</td>\n",
       "      <td>Renaissance - The Masters Series - Part 2 - Ib...</td>\n",
       "      <td>spotify:album:0Y0vgViHbAXjzLqZAILmD6</td>\n",
       "      <td>4560475</td>\n",
       "      <td>Renaissance - The Masters Series - Part 2 - Ibiza</td>\n",
       "      <td>397</td>\n",
       "    </tr>\n",
       "    <tr>\n",
       "      <th>33749242</th>\n",
       "      <td>62</td>\n",
       "      <td>2</td>\n",
       "      <td>Sasha</td>\n",
       "      <td>spotify:track:4MGTS0EsKOuOIE7v2cCO8j</td>\n",
       "      <td>spotify:artist:6u4jLGLPuarS3i2XWHVxoS</td>\n",
       "      <td>Renaissance - The Mix Collection - Part 2 - Co...</td>\n",
       "      <td>spotify:album:0EfxuXSXhXfRGtteZ22eUu</td>\n",
       "      <td>4490440</td>\n",
       "      <td>Renaissance - The Mix Collection</td>\n",
       "      <td>397</td>\n",
       "    </tr>\n",
       "    <tr>\n",
       "      <th>33749243</th>\n",
       "      <td>62</td>\n",
       "      <td>3</td>\n",
       "      <td>Deep Dish</td>\n",
       "      <td>spotify:track:0jDhkKbW2B87MVQtJ8W3le</td>\n",
       "      <td>spotify:artist:720JYpdCgHuTmDeryW0wEA</td>\n",
       "      <td>Renaissance - The Masters Series - Part 2 - Ib...</td>\n",
       "      <td>spotify:album:0Y0vgViHbAXjzLqZAILmD6</td>\n",
       "      <td>4416402</td>\n",
       "      <td>Renaissance - The Masters Series - Part 2 - Ibiza</td>\n",
       "      <td>397</td>\n",
       "    </tr>\n",
       "    <tr>\n",
       "      <th>33749244</th>\n",
       "      <td>62</td>\n",
       "      <td>4</td>\n",
       "      <td>D:Fuse</td>\n",
       "      <td>spotify:track:1YqhtfXG4TIIaePmO0S6y8</td>\n",
       "      <td>spotify:artist:0BxH2B78Sy9Auh86NY9Rjr</td>\n",
       "      <td>People 3 (LIVE) [Disc 1] {Continuous DJ Mix By...</td>\n",
       "      <td>spotify:album:1pZVWZ1keVEw1e9XSSaGEY</td>\n",
       "      <td>4626360</td>\n",
       "      <td>People 3</td>\n",
       "      <td>397</td>\n",
       "    </tr>\n",
       "    <tr>\n",
       "      <th>...</th>\n",
       "      <td>...</td>\n",
       "      <td>...</td>\n",
       "      <td>...</td>\n",
       "      <td>...</td>\n",
       "      <td>...</td>\n",
       "      <td>...</td>\n",
       "      <td>...</td>\n",
       "      <td>...</td>\n",
       "      <td>...</td>\n",
       "      <td>...</td>\n",
       "    </tr>\n",
       "    <tr>\n",
       "      <th>33749451</th>\n",
       "      <td>62</td>\n",
       "      <td>211</td>\n",
       "      <td>Various Artists</td>\n",
       "      <td>spotify:track:49NF7rGAVxx7mhiUCDVxJF</td>\n",
       "      <td>spotify:artist:0LyfQWJT6nXafLPZqxe9Of</td>\n",
       "      <td>DJ Mix 1 by DJ Faydz - Continuous DJ Mix 1</td>\n",
       "      <td>spotify:album:183oZsEsOG9hxZdG5zcopF</td>\n",
       "      <td>3660000</td>\n",
       "      <td>Future Rave Anthems 2 - Mixed by DJ Faydz</td>\n",
       "      <td>397</td>\n",
       "    </tr>\n",
       "    <tr>\n",
       "      <th>33749452</th>\n",
       "      <td>62</td>\n",
       "      <td>212</td>\n",
       "      <td>MYNC</td>\n",
       "      <td>spotify:track:5driHFK86qjDEalMjSJzvk</td>\n",
       "      <td>spotify:artist:19Pf5iv3VY9tSLbS3Y04t9</td>\n",
       "      <td>Cr2 Presents LIVE &amp; DIRECT - MYNC, Harry Choo ...</td>\n",
       "      <td>spotify:album:2fvpeALTK94AGVbWecOkn8</td>\n",
       "      <td>3814622</td>\n",
       "      <td>Cr2 Presents LIVE &amp; DIRECT - MYNC, Harry Choo ...</td>\n",
       "      <td>397</td>\n",
       "    </tr>\n",
       "    <tr>\n",
       "      <th>33749453</th>\n",
       "      <td>62</td>\n",
       "      <td>213</td>\n",
       "      <td>Harry Romero</td>\n",
       "      <td>spotify:track:37dh8QtQGxu0uZd6dDtb92</td>\n",
       "      <td>spotify:artist:36AJmodiIrwV9U3QOiLMYM</td>\n",
       "      <td>Cr2 Presents LIVE &amp; DIRECT - MYNC, Harry Choo ...</td>\n",
       "      <td>spotify:album:2fvpeALTK94AGVbWecOkn8</td>\n",
       "      <td>4775622</td>\n",
       "      <td>Cr2 Presents LIVE &amp; DIRECT - MYNC, Harry Choo ...</td>\n",
       "      <td>397</td>\n",
       "    </tr>\n",
       "    <tr>\n",
       "      <th>33749454</th>\n",
       "      <td>62</td>\n",
       "      <td>214</td>\n",
       "      <td>MYNC</td>\n",
       "      <td>spotify:track:5djfTFmDMkRtNYmoyMwBtS</td>\n",
       "      <td>spotify:artist:19Pf5iv3VY9tSLbS3Y04t9</td>\n",
       "      <td>Space Ibiza 2013 Continuous DJ Mix 2</td>\n",
       "      <td>spotify:album:01DlcGlswBdBUU3g9gSv14</td>\n",
       "      <td>4338382</td>\n",
       "      <td>Space Ibiza 2013</td>\n",
       "      <td>397</td>\n",
       "    </tr>\n",
       "    <tr>\n",
       "      <th>33749455</th>\n",
       "      <td>62</td>\n",
       "      <td>215</td>\n",
       "      <td>Various Artists</td>\n",
       "      <td>spotify:track:6vl6TL3kQq34eBDTdGJHeC</td>\n",
       "      <td>spotify:artist:0LyfQWJT6nXafLPZqxe9Of</td>\n",
       "      <td>In The Mix 02 - Continuous Mix</td>\n",
       "      <td>spotify:album:44F04aNxpXIRGRS1hqzNMy</td>\n",
       "      <td>5751000</td>\n",
       "      <td>In The Mix 02: Drum &amp; Bass, Dubstep, Trap &amp; De...</td>\n",
       "      <td>397</td>\n",
       "    </tr>\n",
       "  </tbody>\n",
       "</table>\n",
       "<p>216 rows × 10 columns</p>\n",
       "</div>"
      ],
      "text/plain": [
       "          pid  pos      artist_name                             track_uri  \\\n",
       "33749240   62    0           Phil K  spotify:track:4s5nfXAXJVemLH7auEqG4O   \n",
       "33749241   62    1        Deep Dish  spotify:track:5uuoc5ZxioFvcnaoX1fRV5   \n",
       "33749242   62    2            Sasha  spotify:track:4MGTS0EsKOuOIE7v2cCO8j   \n",
       "33749243   62    3        Deep Dish  spotify:track:0jDhkKbW2B87MVQtJ8W3le   \n",
       "33749244   62    4           D:Fuse  spotify:track:1YqhtfXG4TIIaePmO0S6y8   \n",
       "...       ...  ...              ...                                   ...   \n",
       "33749451   62  211  Various Artists  spotify:track:49NF7rGAVxx7mhiUCDVxJF   \n",
       "33749452   62  212             MYNC  spotify:track:5driHFK86qjDEalMjSJzvk   \n",
       "33749453   62  213     Harry Romero  spotify:track:37dh8QtQGxu0uZd6dDtb92   \n",
       "33749454   62  214             MYNC  spotify:track:5djfTFmDMkRtNYmoyMwBtS   \n",
       "33749455   62  215  Various Artists  spotify:track:6vl6TL3kQq34eBDTdGJHeC   \n",
       "\n",
       "                                     artist_uri  \\\n",
       "33749240  spotify:artist:36WFgy2EYJpxwZua5iB8E7   \n",
       "33749241  spotify:artist:720JYpdCgHuTmDeryW0wEA   \n",
       "33749242  spotify:artist:6u4jLGLPuarS3i2XWHVxoS   \n",
       "33749243  spotify:artist:720JYpdCgHuTmDeryW0wEA   \n",
       "33749244  spotify:artist:0BxH2B78Sy9Auh86NY9Rjr   \n",
       "...                                         ...   \n",
       "33749451  spotify:artist:0LyfQWJT6nXafLPZqxe9Of   \n",
       "33749452  spotify:artist:19Pf5iv3VY9tSLbS3Y04t9   \n",
       "33749453  spotify:artist:36AJmodiIrwV9U3QOiLMYM   \n",
       "33749454  spotify:artist:19Pf5iv3VY9tSLbS3Y04t9   \n",
       "33749455  spotify:artist:0LyfQWJT6nXafLPZqxe9Of   \n",
       "\n",
       "                                                 track_name  \\\n",
       "33749240  The Therapy Sessions - Part 2 - Continuous DJ Mix   \n",
       "33749241  Renaissance - The Masters Series - Part 2 - Ib...   \n",
       "33749242  Renaissance - The Mix Collection - Part 2 - Co...   \n",
       "33749243  Renaissance - The Masters Series - Part 2 - Ib...   \n",
       "33749244  People 3 (LIVE) [Disc 1] {Continuous DJ Mix By...   \n",
       "...                                                     ...   \n",
       "33749451         DJ Mix 1 by DJ Faydz - Continuous DJ Mix 1   \n",
       "33749452  Cr2 Presents LIVE & DIRECT - MYNC, Harry Choo ...   \n",
       "33749453  Cr2 Presents LIVE & DIRECT - MYNC, Harry Choo ...   \n",
       "33749454               Space Ibiza 2013 Continuous DJ Mix 2   \n",
       "33749455                     In The Mix 02 - Continuous Mix   \n",
       "\n",
       "                                     album_uri  duration_ms  \\\n",
       "33749240  spotify:album:20v2jAxUMBCPkcuMfFr5Oq      4465733   \n",
       "33749241  spotify:album:0Y0vgViHbAXjzLqZAILmD6      4560475   \n",
       "33749242  spotify:album:0EfxuXSXhXfRGtteZ22eUu      4490440   \n",
       "33749243  spotify:album:0Y0vgViHbAXjzLqZAILmD6      4416402   \n",
       "33749244  spotify:album:1pZVWZ1keVEw1e9XSSaGEY      4626360   \n",
       "...                                        ...          ...   \n",
       "33749451  spotify:album:183oZsEsOG9hxZdG5zcopF      3660000   \n",
       "33749452  spotify:album:2fvpeALTK94AGVbWecOkn8      3814622   \n",
       "33749453  spotify:album:2fvpeALTK94AGVbWecOkn8      4775622   \n",
       "33749454  spotify:album:01DlcGlswBdBUU3g9gSv14      4338382   \n",
       "33749455  spotify:album:44F04aNxpXIRGRS1hqzNMy      5751000   \n",
       "\n",
       "                                                 album_name  fid  \n",
       "33749240          Renaissance presents The Therapy Sessions  397  \n",
       "33749241  Renaissance - The Masters Series - Part 2 - Ibiza  397  \n",
       "33749242                   Renaissance - The Mix Collection  397  \n",
       "33749243  Renaissance - The Masters Series - Part 2 - Ibiza  397  \n",
       "33749244                                           People 3  397  \n",
       "...                                                     ...  ...  \n",
       "33749451          Future Rave Anthems 2 - Mixed by DJ Faydz  397  \n",
       "33749452  Cr2 Presents LIVE & DIRECT - MYNC, Harry Choo ...  397  \n",
       "33749453  Cr2 Presents LIVE & DIRECT - MYNC, Harry Choo ...  397  \n",
       "33749454                                   Space Ibiza 2013  397  \n",
       "33749455  In The Mix 02: Drum & Bass, Dubstep, Trap & De...  397  \n",
       "\n",
       "[216 rows x 10 columns]"
      ]
     },
     "execution_count": 5,
     "metadata": {},
     "output_type": "execute_result"
    }
   ],
   "source": [
    "full_df.loc[(full_df[\"fid\"] == 397) & (full_df[\"pid\"] == 62)]"
   ]
  },
  {
   "cell_type": "markdown",
   "metadata": {},
   "source": [
    "Upon inspection, this does seem to be a legitimate outlier, but the data seems correct."
   ]
  },
  {
   "cell_type": "code",
   "execution_count": 133,
   "metadata": {},
   "outputs": [
    {
     "data": {
      "text/plain": [
       "count    1000000.000000\n",
       "mean         259.661281\n",
       "std          214.273910\n",
       "min            1.625633\n",
       "25%           99.923050\n",
       "50%          190.373967\n",
       "75%          357.228129\n",
       "max        10584.563200\n",
       "Name: duration_ms, dtype: float64"
      ]
     },
     "execution_count": 133,
     "metadata": {},
     "output_type": "execute_result"
    }
   ],
   "source": [
    "duration.describe()"
   ]
  },
  {
   "cell_type": "code",
   "execution_count": 139,
   "metadata": {},
   "outputs": [
    {
     "data": {
      "image/png": "[encoded data removed]",
      "text/plain": [
       "<Figure size 432x288 with 1 Axes>"
      ]
     },
     "metadata": {
      "needs_background": "light"
     },
     "output_type": "display_data"
    }
   ],
   "source": [
    "plt.hist(duration[duration < 1000])\n",
    "plt.show()"
   ]
  },
  {
   "cell_type": "markdown",
   "metadata": {},
   "source": [
    "# Idea: Pull track information from songs with # inclusions greater than k"
   ]
  },
  {
   "cell_type": "code",
   "execution_count": 7,
   "metadata": {},
   "outputs": [],
   "source": [
    "unique_songs = full_df['track_uri'].unique()"
   ]
  },
  {
   "cell_type": "code",
   "execution_count": 9,
   "metadata": {},
   "outputs": [
    {
     "data": {
      "text/plain": [
       "2262292"
      ]
     },
     "execution_count": 9,
     "metadata": {},
     "output_type": "execute_result"
    }
   ],
   "source": [
    "len(unique_songs)"
   ]
  },
  {
   "cell_type": "code",
   "execution_count": 10,
   "metadata": {},
   "outputs": [],
   "source": [
    "song_popularities = full_df.groupby(\"track_uri\").pid.count()"
   ]
  },
  {
   "cell_type": "code",
   "execution_count": 12,
   "metadata": {},
   "outputs": [],
   "source": [
    "song_popularities.sort_values(ascending = False, inplace=True)"
   ]
  },
  {
   "cell_type": "code",
   "execution_count": 49,
   "metadata": {},
   "outputs": [],
   "source": [
    "top_songs = song_popularities[song_popularities > 100]"
   ]
  },
  {
   "cell_type": "code",
   "execution_count": 53,
   "metadata": {},
   "outputs": [],
   "source": [
    "track_ids = list(top_songs.keys())"
   ]
  },
  {
   "cell_type": "code",
   "execution_count": 55,
   "metadata": {},
   "outputs": [],
   "source": [
    "track_ids_filtered = [i.split(\":\")[-1] for i in track_ids]"
   ]
  },
  {
   "cell_type": "code",
   "execution_count": 93,
   "metadata": {
    "scrolled": false
   },
   "outputs": [
    {
     "data": {
      "text/plain": [
       "'6i0V12jOa3mr6uu4WYhUBr,3yrSvpt2l1xhsV9Em88Pul,4pdPtRcBmOSQDlJ3Fk945m,20dP2DaMHIAmwWAbp7peSr,0IqKeD8ZSP72KbGYyzEcAs,6Ius4TC0L3cN74HT7ENE6e,2ANLarE8yHVsLWW21nj79M,6ZYS6QQxTLsQ6IFXdVx1r4,40riOy7x9W7GXjyGp4pjAv,4tCtwWceOPWzenK2HAIJSb'"
      ]
     },
     "execution_count": 93,
     "metadata": {},
     "output_type": "execute_result"
    }
   ],
   "source": [
    "\",\".join(track_ids_filtered[100:110])"
   ]
  },
  {
   "cell_type": "code",
   "execution_count": 1,
   "metadata": {},
   "outputs": [
    {
     "ename": "NameError",
     "evalue": "name 'song_popularities' is not defined",
     "output_type": "error",
     "traceback": [
      "\u001b[0;31m---------------------------------------------------------------------------\u001b[0m",
      "\u001b[0;31mNameError\u001b[0m                                 Traceback (most recent call last)",
      "\u001b[0;32m<ipython-input-1-dc132fcdb428>\u001b[0m in \u001b[0;36m<module>\u001b[0;34m\u001b[0m\n\u001b[0;32m----> 1\u001b[0;31m \u001b[0msong_popularities\u001b[0m\u001b[0;34m[\u001b[0m\u001b[0;34m-\u001b[0m\u001b[0;36m1\u001b[0m\u001b[0;34m]\u001b[0m\u001b[0;34m\u001b[0m\u001b[0;34m\u001b[0m\u001b[0m\n\u001b[0m",
      "\u001b[0;31mNameError\u001b[0m: name 'song_popularities' is not defined"
     ]
    }
   ],
   "source": [
    "song_popularities[-1]"
   ]
  },
  {
   "cell_type": "markdown",
   "metadata": {},
   "source": [
    "### Finished Code"
   ]
  },
  {
   "cell_type": "code",
   "execution_count": 58,
   "metadata": {},
   "outputs": [],
   "source": [
    "spotify_key_file = \"spotify.txt\"\n",
    "with open(spotify_key_file, \"r\") as f:\n",
    "    api_key = f.readline()[:-1]"
   ]
  },
  {
   "cell_type": "code",
   "execution_count": 139,
   "metadata": {
    "scrolled": true
   },
   "outputs": [],
   "source": [
    "def fetch_song_df(track_ids_filtered, api_key):\n",
    "    BASE_URL = \"https://api.spotify.com/v1/audio-features?ids=\"\n",
    "    features_dfs = []\n",
    "    for i in range(0, len(track_ids_filtered), 100):\n",
    "        # print(i)\n",
    "        end = i+100 if i+100 < len(track_ids_filtered) else len(track_ids_filtered)\n",
    "        response = requests.get(BASE_URL + \",\".join(track_ids_filtered[i:end]), \n",
    "                                headers = {\"Authorization\": \"Bearer \" + api_key})\n",
    "        while response.status_code != 200:\n",
    "            if response.status_code == 429:\n",
    "                retry_after = int(response.headers['Retry-After'])\n",
    "                print(f\"Too many requests. Sleeping for {retry_after} seconds.\")\n",
    "                time.sleep(retry_after)\n",
    "            else:\n",
    "                print(\"Request failed! Trying again in 2 seconds.\")\n",
    "                time.sleep(2)\n",
    "            response = requests.get(BASE_URL + \",\".join(track_ids_filtered[i:end]), \n",
    "                                    headers = {\"Authorization\": \"Bearer \" + api_key})\n",
    "        if \"audio_features\" in response.json():\n",
    "            features_dfs.append(response.json()[\"audio_features\"])\n",
    "    \n",
    "    # filter out jsons that are None!\n",
    "    df_list = []\n",
    "    for request in features_dfs:\n",
    "        for i in request:\n",
    "            if i:\n",
    "                df_list.append(i)\n",
    "    return pd.DataFrame(df_list)"
   ]
  },
  {
   "cell_type": "markdown",
   "metadata": {},
   "source": [
    "## Chose a SRS to use for EDA"
   ]
  },
  {
   "cell_type": "code",
   "execution_count": 14,
   "metadata": {},
   "outputs": [],
   "source": [
    "song_70k = pd.read_csv(\"top70ksongs.csv\")"
   ]
  },
  {
   "cell_type": "code",
   "execution_count": 96,
   "metadata": {},
   "outputs": [],
   "source": [
    "sz = 50000\n",
    "music_ids = random.sample(list(unique_songs), sz)"
   ]
  },
  {
   "cell_type": "code",
   "execution_count": 113,
   "metadata": {},
   "outputs": [],
   "source": [
    "to_fetch = []\n",
    "others = []\n",
    "ids = set(song_70k['uri'])\n",
    "\n",
    "for i in music_ids:\n",
    "    if i not in ids:\n",
    "        to_fetch.append(i.split(\":\")[-1])\n",
    "    else:\n",
    "        others.append(i.split(\":\")[-1])"
   ]
  },
  {
   "cell_type": "code",
   "execution_count": 114,
   "metadata": {},
   "outputs": [
    {
     "data": {
      "text/plain": [
       "48426"
      ]
     },
     "execution_count": 114,
     "metadata": {},
     "output_type": "execute_result"
    }
   ],
   "source": [
    "len(to_fetch)"
   ]
  },
  {
   "cell_type": "code",
   "execution_count": 144,
   "metadata": {
    "scrolled": true
   },
   "outputs": [],
   "source": [
    "srs_songs = fetch_song_df(to_fetch, \"BQDzEP95kSDX01-GgDor9AKtlJmjZ_FA6astKW-g0WKFisLDdFay0IbYtc-KHlEnXPSWLwx1n7OHHt98GFGf24ZkCAKH3k1k1XjuW01QFriOO1wBLmF-J7LFDts0x8CHHRfOLhSrETMZgeS-g4DgeusD71mNN96DkOQ\")"
   ]
  },
  {
   "cell_type": "code",
   "execution_count": 145,
   "metadata": {},
   "outputs": [
    {
     "data": {
      "text/plain": [
       "48422"
      ]
     },
     "execution_count": 145,
     "metadata": {},
     "output_type": "execute_result"
    }
   ],
   "source": [
    "len(srs_songs)"
   ]
  },
  {
   "cell_type": "code",
   "execution_count": 146,
   "metadata": {
    "scrolled": false
   },
   "outputs": [],
   "source": [
    "srs_sample = pd.concat([srs_songs, song_70k.loc[song_70k[\"id\"].isin(others)]], axis=0).reset_index(drop=True)"
   ]
  },
  {
   "cell_type": "code",
   "execution_count": 147,
   "metadata": {},
   "outputs": [],
   "source": [
    "srs_sample.to_csv(\"50k_srs_songs.csv\", index=False)"
   ]
  },
  {
   "cell_type": "code",
   "execution_count": 173,
   "metadata": {
    "scrolled": false
   },
   "outputs": [],
   "source": [
    "# pd.read_csv(\"50k_srs_songs.csv\")"
   ]
  },
  {
   "cell_type": "markdown",
   "metadata": {},
   "source": [
    "## Get a few playlists fully"
   ]
  },
  {
   "cell_type": "code",
   "execution_count": 190,
   "metadata": {},
   "outputs": [],
   "source": [
    "total_songs = pd.read_csv(\"total_songs.csv\")\n",
    "song_ids = set(total_songs['uri'])"
   ]
  },
  {
   "cell_type": "code",
   "execution_count": 191,
   "metadata": {},
   "outputs": [],
   "source": [
    "file = random.choices(list(range(1000)), k=50)\n",
    "playlists = random.choices(list(range(1000)), k=50)"
   ]
  },
  {
   "cell_type": "code",
   "execution_count": 192,
   "metadata": {},
   "outputs": [],
   "source": [
    "to_fetch = set()\n",
    "all_playlists = []\n",
    "for fid, pid in zip(file, playlists):\n",
    "    playlist = full_df.loc[(full_df[\"fid\"] == fid) & (full_df[\"pid\"] == pid)]\n",
    "    all_playlists.append(playlist)\n",
    "    sids = playlist[\"track_uri\"]\n",
    "    for sid in sids:\n",
    "        if sid not in song_ids:\n",
    "            to_fetch.add(sid.split(\":\")[-1])\n",
    "            song_ids.add(sid)"
   ]
  },
  {
   "cell_type": "code",
   "execution_count": 193,
   "metadata": {},
   "outputs": [],
   "source": [
    "playlists_df = pd.concat(all_playlists, axis=0)"
   ]
  },
  {
   "cell_type": "code",
   "execution_count": 198,
   "metadata": {},
   "outputs": [],
   "source": [
    "playlist_songs = fetch_song_df(list(to_fetch), \"BQDzEP95kSDX01-GgDor9AKtlJmjZ_FA6astKW-g0WKFisLDdFay0IbYtc-KHlEnXPSWLwx1n7OHHt98GFGf24ZkCAKH3k1k1XjuW01QFriOO1wBLmF-J7LFDts0x8CHHRfOLhSrETMZgeS-g4DgeusD71mNN96DkOQ\")"
   ]
  },
  {
   "cell_type": "code",
   "execution_count": 199,
   "metadata": {},
   "outputs": [],
   "source": [
    "total_songs = pd.concat([total_songs, playlist_songs], axis=0)"
   ]
  },
  {
   "cell_type": "code",
   "execution_count": 200,
   "metadata": {},
   "outputs": [
    {
     "data": {
      "text/html": [
       "<div>\n",
       "<style scoped>\n",
       "    .dataframe tbody tr th:only-of-type {\n",
       "        vertical-align: middle;\n",
       "    }\n",
       "\n",
       "    .dataframe tbody tr th {\n",
       "        vertical-align: top;\n",
       "    }\n",
       "\n",
       "    .dataframe thead th {\n",
       "        text-align: right;\n",
       "    }\n",
       "</style>\n",
       "<table border=\"1\" class=\"dataframe\">\n",
       "  <thead>\n",
       "    <tr style=\"text-align: right;\">\n",
       "      <th></th>\n",
       "      <th>danceability</th>\n",
       "      <th>energy</th>\n",
       "      <th>key</th>\n",
       "      <th>loudness</th>\n",
       "      <th>mode</th>\n",
       "      <th>speechiness</th>\n",
       "      <th>acousticness</th>\n",
       "      <th>instrumentalness</th>\n",
       "      <th>liveness</th>\n",
       "      <th>valence</th>\n",
       "      <th>tempo</th>\n",
       "      <th>type</th>\n",
       "      <th>id</th>\n",
       "      <th>uri</th>\n",
       "      <th>track_href</th>\n",
       "      <th>analysis_url</th>\n",
       "      <th>duration_ms</th>\n",
       "      <th>time_signature</th>\n",
       "    </tr>\n",
       "  </thead>\n",
       "  <tbody>\n",
       "    <tr>\n",
       "      <th>0</th>\n",
       "      <td>0.369</td>\n",
       "      <td>0.2230</td>\n",
       "      <td>9</td>\n",
       "      <td>-15.993</td>\n",
       "      <td>1</td>\n",
       "      <td>0.0564</td>\n",
       "      <td>0.957000</td>\n",
       "      <td>0.860000</td>\n",
       "      <td>0.1240</td>\n",
       "      <td>0.212</td>\n",
       "      <td>87.067</td>\n",
       "      <td>audio_features</td>\n",
       "      <td>3R8bbBLfCrl3wXELLDuZiA</td>\n",
       "      <td>spotify:track:3R8bbBLfCrl3wXELLDuZiA</td>\n",
       "      <td>https://api.spotify.com/v1/tracks/3R8bbBLfCrl3...</td>\n",
       "      <td>https://api.spotify.com/v1/audio-analysis/3R8b...</td>\n",
       "      <td>196733</td>\n",
       "      <td>4</td>\n",
       "    </tr>\n",
       "    <tr>\n",
       "      <th>1</th>\n",
       "      <td>0.664</td>\n",
       "      <td>0.6050</td>\n",
       "      <td>4</td>\n",
       "      <td>-5.477</td>\n",
       "      <td>0</td>\n",
       "      <td>0.2580</td>\n",
       "      <td>0.242000</td>\n",
       "      <td>0.000000</td>\n",
       "      <td>0.1610</td>\n",
       "      <td>0.397</td>\n",
       "      <td>85.690</td>\n",
       "      <td>audio_features</td>\n",
       "      <td>5Zk7ELDEXqcHZk2euHPVb9</td>\n",
       "      <td>spotify:track:5Zk7ELDEXqcHZk2euHPVb9</td>\n",
       "      <td>https://api.spotify.com/v1/tracks/5Zk7ELDEXqcH...</td>\n",
       "      <td>https://api.spotify.com/v1/audio-analysis/5Zk7...</td>\n",
       "      <td>192320</td>\n",
       "      <td>4</td>\n",
       "    </tr>\n",
       "    <tr>\n",
       "      <th>2</th>\n",
       "      <td>0.740</td>\n",
       "      <td>0.7120</td>\n",
       "      <td>9</td>\n",
       "      <td>-7.260</td>\n",
       "      <td>0</td>\n",
       "      <td>0.0814</td>\n",
       "      <td>0.071800</td>\n",
       "      <td>0.000000</td>\n",
       "      <td>0.3300</td>\n",
       "      <td>0.742</td>\n",
       "      <td>90.011</td>\n",
       "      <td>audio_features</td>\n",
       "      <td>5tg8mN8KqRfwIvkXF0tRr4</td>\n",
       "      <td>spotify:track:5tg8mN8KqRfwIvkXF0tRr4</td>\n",
       "      <td>https://api.spotify.com/v1/tracks/5tg8mN8KqRfw...</td>\n",
       "      <td>https://api.spotify.com/v1/audio-analysis/5tg8...</td>\n",
       "      <td>276093</td>\n",
       "      <td>4</td>\n",
       "    </tr>\n",
       "    <tr>\n",
       "      <th>3</th>\n",
       "      <td>0.623</td>\n",
       "      <td>0.8630</td>\n",
       "      <td>1</td>\n",
       "      <td>-8.161</td>\n",
       "      <td>0</td>\n",
       "      <td>0.0776</td>\n",
       "      <td>0.000811</td>\n",
       "      <td>0.000002</td>\n",
       "      <td>0.1280</td>\n",
       "      <td>0.734</td>\n",
       "      <td>95.814</td>\n",
       "      <td>audio_features</td>\n",
       "      <td>10qeFHxbayfrkH2kX9kTnv</td>\n",
       "      <td>spotify:track:10qeFHxbayfrkH2kX9kTnv</td>\n",
       "      <td>https://api.spotify.com/v1/tracks/10qeFHxbayfr...</td>\n",
       "      <td>https://api.spotify.com/v1/audio-analysis/10qe...</td>\n",
       "      <td>136067</td>\n",
       "      <td>4</td>\n",
       "    </tr>\n",
       "    <tr>\n",
       "      <th>4</th>\n",
       "      <td>0.413</td>\n",
       "      <td>0.0302</td>\n",
       "      <td>10</td>\n",
       "      <td>-26.692</td>\n",
       "      <td>1</td>\n",
       "      <td>0.0350</td>\n",
       "      <td>0.957000</td>\n",
       "      <td>0.443000</td>\n",
       "      <td>0.1130</td>\n",
       "      <td>0.254</td>\n",
       "      <td>87.286</td>\n",
       "      <td>audio_features</td>\n",
       "      <td>18LVcYNiF05oDfEQ7HEhNR</td>\n",
       "      <td>spotify:track:18LVcYNiF05oDfEQ7HEhNR</td>\n",
       "      <td>https://api.spotify.com/v1/tracks/18LVcYNiF05o...</td>\n",
       "      <td>https://api.spotify.com/v1/audio-analysis/18LV...</td>\n",
       "      <td>233627</td>\n",
       "      <td>4</td>\n",
       "    </tr>\n",
       "    <tr>\n",
       "      <th>...</th>\n",
       "      <td>...</td>\n",
       "      <td>...</td>\n",
       "      <td>...</td>\n",
       "      <td>...</td>\n",
       "      <td>...</td>\n",
       "      <td>...</td>\n",
       "      <td>...</td>\n",
       "      <td>...</td>\n",
       "      <td>...</td>\n",
       "      <td>...</td>\n",
       "      <td>...</td>\n",
       "      <td>...</td>\n",
       "      <td>...</td>\n",
       "      <td>...</td>\n",
       "      <td>...</td>\n",
       "      <td>...</td>\n",
       "      <td>...</td>\n",
       "      <td>...</td>\n",
       "    </tr>\n",
       "    <tr>\n",
       "      <th>789</th>\n",
       "      <td>0.680</td>\n",
       "      <td>0.8460</td>\n",
       "      <td>0</td>\n",
       "      <td>-4.767</td>\n",
       "      <td>0</td>\n",
       "      <td>0.0458</td>\n",
       "      <td>0.031600</td>\n",
       "      <td>0.000001</td>\n",
       "      <td>0.3240</td>\n",
       "      <td>0.676</td>\n",
       "      <td>124.993</td>\n",
       "      <td>audio_features</td>\n",
       "      <td>2h1p2FqkI0xaVbqTjrUGKx</td>\n",
       "      <td>spotify:track:2h1p2FqkI0xaVbqTjrUGKx</td>\n",
       "      <td>https://api.spotify.com/v1/tracks/2h1p2FqkI0xa...</td>\n",
       "      <td>https://api.spotify.com/v1/audio-analysis/2h1p...</td>\n",
       "      <td>235840</td>\n",
       "      <td>4</td>\n",
       "    </tr>\n",
       "    <tr>\n",
       "      <th>790</th>\n",
       "      <td>0.448</td>\n",
       "      <td>0.5360</td>\n",
       "      <td>8</td>\n",
       "      <td>-6.808</td>\n",
       "      <td>0</td>\n",
       "      <td>0.0343</td>\n",
       "      <td>0.775000</td>\n",
       "      <td>0.000020</td>\n",
       "      <td>0.0912</td>\n",
       "      <td>0.489</td>\n",
       "      <td>80.058</td>\n",
       "      <td>audio_features</td>\n",
       "      <td>1uJHTR9nLgF0AZL9QgH0wl</td>\n",
       "      <td>spotify:track:1uJHTR9nLgF0AZL9QgH0wl</td>\n",
       "      <td>https://api.spotify.com/v1/tracks/1uJHTR9nLgF0...</td>\n",
       "      <td>https://api.spotify.com/v1/audio-analysis/1uJH...</td>\n",
       "      <td>165400</td>\n",
       "      <td>4</td>\n",
       "    </tr>\n",
       "    <tr>\n",
       "      <th>791</th>\n",
       "      <td>0.835</td>\n",
       "      <td>0.3090</td>\n",
       "      <td>11</td>\n",
       "      <td>-16.254</td>\n",
       "      <td>0</td>\n",
       "      <td>0.0384</td>\n",
       "      <td>0.781000</td>\n",
       "      <td>0.002220</td>\n",
       "      <td>0.0674</td>\n",
       "      <td>0.813</td>\n",
       "      <td>125.172</td>\n",
       "      <td>audio_features</td>\n",
       "      <td>2dOF2NUuOkuxskCqYfKbUt</td>\n",
       "      <td>spotify:track:2dOF2NUuOkuxskCqYfKbUt</td>\n",
       "      <td>https://api.spotify.com/v1/tracks/2dOF2NUuOkux...</td>\n",
       "      <td>https://api.spotify.com/v1/audio-analysis/2dOF...</td>\n",
       "      <td>195907</td>\n",
       "      <td>4</td>\n",
       "    </tr>\n",
       "    <tr>\n",
       "      <th>792</th>\n",
       "      <td>0.692</td>\n",
       "      <td>0.9300</td>\n",
       "      <td>11</td>\n",
       "      <td>-5.564</td>\n",
       "      <td>0</td>\n",
       "      <td>0.0333</td>\n",
       "      <td>0.000346</td>\n",
       "      <td>0.054800</td>\n",
       "      <td>0.3410</td>\n",
       "      <td>0.596</td>\n",
       "      <td>120.026</td>\n",
       "      <td>audio_features</td>\n",
       "      <td>1tbat9rrKZWaD5EqH4clTJ</td>\n",
       "      <td>spotify:track:1tbat9rrKZWaD5EqH4clTJ</td>\n",
       "      <td>https://api.spotify.com/v1/tracks/1tbat9rrKZWa...</td>\n",
       "      <td>https://api.spotify.com/v1/audio-analysis/1tba...</td>\n",
       "      <td>202573</td>\n",
       "      <td>4</td>\n",
       "    </tr>\n",
       "    <tr>\n",
       "      <th>793</th>\n",
       "      <td>0.744</td>\n",
       "      <td>0.9380</td>\n",
       "      <td>1</td>\n",
       "      <td>-7.757</td>\n",
       "      <td>1</td>\n",
       "      <td>0.0778</td>\n",
       "      <td>0.481000</td>\n",
       "      <td>0.000129</td>\n",
       "      <td>0.0367</td>\n",
       "      <td>0.893</td>\n",
       "      <td>115.013</td>\n",
       "      <td>audio_features</td>\n",
       "      <td>5Vo9ox0njmdUSugtjsk0oK</td>\n",
       "      <td>spotify:track:5Vo9ox0njmdUSugtjsk0oK</td>\n",
       "      <td>https://api.spotify.com/v1/tracks/5Vo9ox0njmdU...</td>\n",
       "      <td>https://api.spotify.com/v1/audio-analysis/5Vo9...</td>\n",
       "      <td>229565</td>\n",
       "      <td>4</td>\n",
       "    </tr>\n",
       "  </tbody>\n",
       "</table>\n",
       "<p>120527 rows × 18 columns</p>\n",
       "</div>"
      ],
      "text/plain": [
       "     danceability  energy  key  loudness  mode  speechiness  acousticness  \\\n",
       "0           0.369  0.2230    9   -15.993     1       0.0564      0.957000   \n",
       "1           0.664  0.6050    4    -5.477     0       0.2580      0.242000   \n",
       "2           0.740  0.7120    9    -7.260     0       0.0814      0.071800   \n",
       "3           0.623  0.8630    1    -8.161     0       0.0776      0.000811   \n",
       "4           0.413  0.0302   10   -26.692     1       0.0350      0.957000   \n",
       "..            ...     ...  ...       ...   ...          ...           ...   \n",
       "789         0.680  0.8460    0    -4.767     0       0.0458      0.031600   \n",
       "790         0.448  0.5360    8    -6.808     0       0.0343      0.775000   \n",
       "791         0.835  0.3090   11   -16.254     0       0.0384      0.781000   \n",
       "792         0.692  0.9300   11    -5.564     0       0.0333      0.000346   \n",
       "793         0.744  0.9380    1    -7.757     1       0.0778      0.481000   \n",
       "\n",
       "     instrumentalness  liveness  valence    tempo            type  \\\n",
       "0            0.860000    0.1240    0.212   87.067  audio_features   \n",
       "1            0.000000    0.1610    0.397   85.690  audio_features   \n",
       "2            0.000000    0.3300    0.742   90.011  audio_features   \n",
       "3            0.000002    0.1280    0.734   95.814  audio_features   \n",
       "4            0.443000    0.1130    0.254   87.286  audio_features   \n",
       "..                ...       ...      ...      ...             ...   \n",
       "789          0.000001    0.3240    0.676  124.993  audio_features   \n",
       "790          0.000020    0.0912    0.489   80.058  audio_features   \n",
       "791          0.002220    0.0674    0.813  125.172  audio_features   \n",
       "792          0.054800    0.3410    0.596  120.026  audio_features   \n",
       "793          0.000129    0.0367    0.893  115.013  audio_features   \n",
       "\n",
       "                         id                                   uri  \\\n",
       "0    3R8bbBLfCrl3wXELLDuZiA  spotify:track:3R8bbBLfCrl3wXELLDuZiA   \n",
       "1    5Zk7ELDEXqcHZk2euHPVb9  spotify:track:5Zk7ELDEXqcHZk2euHPVb9   \n",
       "2    5tg8mN8KqRfwIvkXF0tRr4  spotify:track:5tg8mN8KqRfwIvkXF0tRr4   \n",
       "3    10qeFHxbayfrkH2kX9kTnv  spotify:track:10qeFHxbayfrkH2kX9kTnv   \n",
       "4    18LVcYNiF05oDfEQ7HEhNR  spotify:track:18LVcYNiF05oDfEQ7HEhNR   \n",
       "..                      ...                                   ...   \n",
       "789  2h1p2FqkI0xaVbqTjrUGKx  spotify:track:2h1p2FqkI0xaVbqTjrUGKx   \n",
       "790  1uJHTR9nLgF0AZL9QgH0wl  spotify:track:1uJHTR9nLgF0AZL9QgH0wl   \n",
       "791  2dOF2NUuOkuxskCqYfKbUt  spotify:track:2dOF2NUuOkuxskCqYfKbUt   \n",
       "792  1tbat9rrKZWaD5EqH4clTJ  spotify:track:1tbat9rrKZWaD5EqH4clTJ   \n",
       "793  5Vo9ox0njmdUSugtjsk0oK  spotify:track:5Vo9ox0njmdUSugtjsk0oK   \n",
       "\n",
       "                                            track_href  \\\n",
       "0    https://api.spotify.com/v1/tracks/3R8bbBLfCrl3...   \n",
       "1    https://api.spotify.com/v1/tracks/5Zk7ELDEXqcH...   \n",
       "2    https://api.spotify.com/v1/tracks/5tg8mN8KqRfw...   \n",
       "3    https://api.spotify.com/v1/tracks/10qeFHxbayfr...   \n",
       "4    https://api.spotify.com/v1/tracks/18LVcYNiF05o...   \n",
       "..                                                 ...   \n",
       "789  https://api.spotify.com/v1/tracks/2h1p2FqkI0xa...   \n",
       "790  https://api.spotify.com/v1/tracks/1uJHTR9nLgF0...   \n",
       "791  https://api.spotify.com/v1/tracks/2dOF2NUuOkux...   \n",
       "792  https://api.spotify.com/v1/tracks/1tbat9rrKZWa...   \n",
       "793  https://api.spotify.com/v1/tracks/5Vo9ox0njmdU...   \n",
       "\n",
       "                                          analysis_url  duration_ms  \\\n",
       "0    https://api.spotify.com/v1/audio-analysis/3R8b...       196733   \n",
       "1    https://api.spotify.com/v1/audio-analysis/5Zk7...       192320   \n",
       "2    https://api.spotify.com/v1/audio-analysis/5tg8...       276093   \n",
       "3    https://api.spotify.com/v1/audio-analysis/10qe...       136067   \n",
       "4    https://api.spotify.com/v1/audio-analysis/18LV...       233627   \n",
       "..                                                 ...          ...   \n",
       "789  https://api.spotify.com/v1/audio-analysis/2h1p...       235840   \n",
       "790  https://api.spotify.com/v1/audio-analysis/1uJH...       165400   \n",
       "791  https://api.spotify.com/v1/audio-analysis/2dOF...       195907   \n",
       "792  https://api.spotify.com/v1/audio-analysis/1tba...       202573   \n",
       "793  https://api.spotify.com/v1/audio-analysis/5Vo9...       229565   \n",
       "\n",
       "     time_signature  \n",
       "0                 4  \n",
       "1                 4  \n",
       "2                 4  \n",
       "3                 4  \n",
       "4                 4  \n",
       "..              ...  \n",
       "789               4  \n",
       "790               4  \n",
       "791               4  \n",
       "792               4  \n",
       "793               4  \n",
       "\n",
       "[120527 rows x 18 columns]"
      ]
     },
     "execution_count": 200,
     "metadata": {},
     "output_type": "execute_result"
    }
   ],
   "source": [
    "total_songs"
   ]
  },
  {
   "cell_type": "code",
   "execution_count": 201,
   "metadata": {},
   "outputs": [],
   "source": [
    "complete_playlists = playlists_df.join(total_songs.set_index(\"uri\").drop(\"duration_ms\", axis=1), on=\"track_uri\").reset_index(drop=True)"
   ]
  },
  {
   "cell_type": "code",
   "execution_count": 202,
   "metadata": {},
   "outputs": [],
   "source": [
    "complete_playlists.to_csv(\"complete_playlists_50.csv\", index=False)"
   ]
  },
  {
   "cell_type": "code",
   "execution_count": 203,
   "metadata": {},
   "outputs": [
    {
     "data": {
      "text/html": [
       "<div>\n",
       "<style scoped>\n",
       "    .dataframe tbody tr th:only-of-type {\n",
       "        vertical-align: middle;\n",
       "    }\n",
       "\n",
       "    .dataframe tbody tr th {\n",
       "        vertical-align: top;\n",
       "    }\n",
       "\n",
       "    .dataframe thead th {\n",
       "        text-align: right;\n",
       "    }\n",
       "</style>\n",
       "<table border=\"1\" class=\"dataframe\">\n",
       "  <thead>\n",
       "    <tr style=\"text-align: right;\">\n",
       "      <th></th>\n",
       "      <th>pid</th>\n",
       "      <th>pos</th>\n",
       "      <th>artist_name</th>\n",
       "      <th>track_uri</th>\n",
       "      <th>artist_uri</th>\n",
       "      <th>track_name</th>\n",
       "      <th>album_uri</th>\n",
       "      <th>duration_ms</th>\n",
       "      <th>album_name</th>\n",
       "      <th>fid</th>\n",
       "      <th>...</th>\n",
       "      <th>acousticness</th>\n",
       "      <th>instrumentalness</th>\n",
       "      <th>liveness</th>\n",
       "      <th>valence</th>\n",
       "      <th>tempo</th>\n",
       "      <th>type</th>\n",
       "      <th>id</th>\n",
       "      <th>track_href</th>\n",
       "      <th>analysis_url</th>\n",
       "      <th>time_signature</th>\n",
       "    </tr>\n",
       "  </thead>\n",
       "  <tbody>\n",
       "    <tr>\n",
       "      <th>0</th>\n",
       "      <td>557</td>\n",
       "      <td>0</td>\n",
       "      <td>50 Cent</td>\n",
       "      <td>spotify:track:1wI3UvluGGKUeFeVFsP9do</td>\n",
       "      <td>spotify:artist:3q7HBObVc0L8jNeTe5Gofh</td>\n",
       "      <td>Best Friend - Remix</td>\n",
       "      <td>spotify:album:27GrIQPCPtPyEUxONxAcRe</td>\n",
       "      <td>254493</td>\n",
       "      <td>Best Friend</td>\n",
       "      <td>354</td>\n",
       "      <td>...</td>\n",
       "      <td>0.40700</td>\n",
       "      <td>0.000000</td>\n",
       "      <td>0.1220</td>\n",
       "      <td>0.569</td>\n",
       "      <td>181.818</td>\n",
       "      <td>audio_features</td>\n",
       "      <td>1wI3UvluGGKUeFeVFsP9do</td>\n",
       "      <td>https://api.spotify.com/v1/tracks/1wI3UvluGGKU...</td>\n",
       "      <td>https://api.spotify.com/v1/audio-analysis/1wI3...</td>\n",
       "      <td>4</td>\n",
       "    </tr>\n",
       "    <tr>\n",
       "      <th>1</th>\n",
       "      <td>557</td>\n",
       "      <td>1</td>\n",
       "      <td>Vedo</td>\n",
       "      <td>spotify:track:5Wcw2hbK2bXYlNpEb07gL5</td>\n",
       "      <td>spotify:artist:3wVXTWabe3viT0jF7DfjOL</td>\n",
       "      <td>4 Walls</td>\n",
       "      <td>spotify:album:3A8RsxbFtSzRU2hs7eT1UL</td>\n",
       "      <td>211810</td>\n",
       "      <td>93</td>\n",
       "      <td>354</td>\n",
       "      <td>...</td>\n",
       "      <td>0.73300</td>\n",
       "      <td>0.000000</td>\n",
       "      <td>0.1500</td>\n",
       "      <td>0.739</td>\n",
       "      <td>127.955</td>\n",
       "      <td>audio_features</td>\n",
       "      <td>5Wcw2hbK2bXYlNpEb07gL5</td>\n",
       "      <td>https://api.spotify.com/v1/tracks/5Wcw2hbK2bXY...</td>\n",
       "      <td>https://api.spotify.com/v1/audio-analysis/5Wcw...</td>\n",
       "      <td>4</td>\n",
       "    </tr>\n",
       "    <tr>\n",
       "      <th>2</th>\n",
       "      <td>557</td>\n",
       "      <td>2</td>\n",
       "      <td>Destiny's Child</td>\n",
       "      <td>spotify:track:0FZvjrHpAmLKj574M4VwrF</td>\n",
       "      <td>spotify:artist:1Y8cdNmUJH7yBTd9yOvr5i</td>\n",
       "      <td>Cater 2 U</td>\n",
       "      <td>spotify:album:3xjdyJjSMNsSRkj3GTmBLi</td>\n",
       "      <td>245400</td>\n",
       "      <td>Destiny Fulfilled</td>\n",
       "      <td>354</td>\n",
       "      <td>...</td>\n",
       "      <td>0.28600</td>\n",
       "      <td>0.000000</td>\n",
       "      <td>0.2350</td>\n",
       "      <td>0.464</td>\n",
       "      <td>125.802</td>\n",
       "      <td>audio_features</td>\n",
       "      <td>0FZvjrHpAmLKj574M4VwrF</td>\n",
       "      <td>https://api.spotify.com/v1/tracks/0FZvjrHpAmLK...</td>\n",
       "      <td>https://api.spotify.com/v1/audio-analysis/0FZv...</td>\n",
       "      <td>4</td>\n",
       "    </tr>\n",
       "    <tr>\n",
       "      <th>3</th>\n",
       "      <td>557</td>\n",
       "      <td>3</td>\n",
       "      <td>Vedo</td>\n",
       "      <td>spotify:track:6WqmzH7FQDwCaqabn2xz2g</td>\n",
       "      <td>spotify:artist:3wVXTWabe3viT0jF7DfjOL</td>\n",
       "      <td>All Your Love</td>\n",
       "      <td>spotify:album:6CxKRU4KeLPHByLbe3ecwe</td>\n",
       "      <td>200543</td>\n",
       "      <td>State of Mind - EP</td>\n",
       "      <td>354</td>\n",
       "      <td>...</td>\n",
       "      <td>0.71000</td>\n",
       "      <td>0.000000</td>\n",
       "      <td>0.1540</td>\n",
       "      <td>0.511</td>\n",
       "      <td>69.619</td>\n",
       "      <td>audio_features</td>\n",
       "      <td>6WqmzH7FQDwCaqabn2xz2g</td>\n",
       "      <td>https://api.spotify.com/v1/tracks/6WqmzH7FQDwC...</td>\n",
       "      <td>https://api.spotify.com/v1/audio-analysis/6Wqm...</td>\n",
       "      <td>3</td>\n",
       "    </tr>\n",
       "    <tr>\n",
       "      <th>4</th>\n",
       "      <td>557</td>\n",
       "      <td>4</td>\n",
       "      <td>Bow Wow</td>\n",
       "      <td>spotify:track:5dLvErR6RBbMMvGuDMdur2</td>\n",
       "      <td>spotify:artist:7352aRY2mqSxBZwzUb6LmA</td>\n",
       "      <td>Like You</td>\n",
       "      <td>spotify:album:1dQGXePMNkrSavN2pxF48a</td>\n",
       "      <td>205640</td>\n",
       "      <td>Playlist: The Very Best Of Bow Wow</td>\n",
       "      <td>354</td>\n",
       "      <td>...</td>\n",
       "      <td>0.05040</td>\n",
       "      <td>0.000000</td>\n",
       "      <td>0.0746</td>\n",
       "      <td>0.501</td>\n",
       "      <td>81.900</td>\n",
       "      <td>audio_features</td>\n",
       "      <td>5dLvErR6RBbMMvGuDMdur2</td>\n",
       "      <td>https://api.spotify.com/v1/tracks/5dLvErR6RBbM...</td>\n",
       "      <td>https://api.spotify.com/v1/audio-analysis/5dLv...</td>\n",
       "      <td>4</td>\n",
       "    </tr>\n",
       "    <tr>\n",
       "      <th>...</th>\n",
       "      <td>...</td>\n",
       "      <td>...</td>\n",
       "      <td>...</td>\n",
       "      <td>...</td>\n",
       "      <td>...</td>\n",
       "      <td>...</td>\n",
       "      <td>...</td>\n",
       "      <td>...</td>\n",
       "      <td>...</td>\n",
       "      <td>...</td>\n",
       "      <td>...</td>\n",
       "      <td>...</td>\n",
       "      <td>...</td>\n",
       "      <td>...</td>\n",
       "      <td>...</td>\n",
       "      <td>...</td>\n",
       "      <td>...</td>\n",
       "      <td>...</td>\n",
       "      <td>...</td>\n",
       "      <td>...</td>\n",
       "      <td>...</td>\n",
       "    </tr>\n",
       "    <tr>\n",
       "      <th>3591</th>\n",
       "      <td>794</td>\n",
       "      <td>27</td>\n",
       "      <td>B.o.B</td>\n",
       "      <td>spotify:track:3myI1o0izYfh2z9JTQzCfJ</td>\n",
       "      <td>spotify:artist:5ndkK3dpZLKtBklKjxNQwT</td>\n",
       "      <td>Don't Let Me Fall - Explicit Album Version</td>\n",
       "      <td>spotify:album:7apLPYT8szV1IqTxyVSy5P</td>\n",
       "      <td>275386</td>\n",
       "      <td>B.o.B Presents: The Adventures of Bobby Ray</td>\n",
       "      <td>346</td>\n",
       "      <td>...</td>\n",
       "      <td>0.00631</td>\n",
       "      <td>0.000000</td>\n",
       "      <td>0.2130</td>\n",
       "      <td>0.267</td>\n",
       "      <td>150.187</td>\n",
       "      <td>audio_features</td>\n",
       "      <td>3myI1o0izYfh2z9JTQzCfJ</td>\n",
       "      <td>https://api.spotify.com/v1/tracks/3myI1o0izYfh...</td>\n",
       "      <td>https://api.spotify.com/v1/audio-analysis/3myI...</td>\n",
       "      <td>4</td>\n",
       "    </tr>\n",
       "    <tr>\n",
       "      <th>3592</th>\n",
       "      <td>794</td>\n",
       "      <td>28</td>\n",
       "      <td>Lana Del Rey</td>\n",
       "      <td>spotify:track:3BJe4B8zGnqEdQPMvfVjuS</td>\n",
       "      <td>spotify:artist:00FQb4jTyendYWaN8pK0wa</td>\n",
       "      <td>Summertime Sadness</td>\n",
       "      <td>spotify:album:5VoeRuTrGhTbKelUfwymwu</td>\n",
       "      <td>265427</td>\n",
       "      <td>Born To Die - The Paradise Edition</td>\n",
       "      <td>346</td>\n",
       "      <td>...</td>\n",
       "      <td>0.05420</td>\n",
       "      <td>0.000002</td>\n",
       "      <td>0.1220</td>\n",
       "      <td>0.235</td>\n",
       "      <td>111.968</td>\n",
       "      <td>audio_features</td>\n",
       "      <td>3BJe4B8zGnqEdQPMvfVjuS</td>\n",
       "      <td>https://api.spotify.com/v1/tracks/3BJe4B8zGnqE...</td>\n",
       "      <td>https://api.spotify.com/v1/audio-analysis/3BJe...</td>\n",
       "      <td>4</td>\n",
       "    </tr>\n",
       "    <tr>\n",
       "      <th>3593</th>\n",
       "      <td>794</td>\n",
       "      <td>29</td>\n",
       "      <td>Big Sean</td>\n",
       "      <td>spotify:track:6bxUnsSGZCmoHHU5auwtps</td>\n",
       "      <td>spotify:artist:0c173mlxpT3dSFRgMO8XPh</td>\n",
       "      <td>Beware</td>\n",
       "      <td>spotify:album:5RlT8X7XGGLKUhoimrDl54</td>\n",
       "      <td>235186</td>\n",
       "      <td>Hall Of Fame</td>\n",
       "      <td>346</td>\n",
       "      <td>...</td>\n",
       "      <td>0.21700</td>\n",
       "      <td>0.000000</td>\n",
       "      <td>0.4520</td>\n",
       "      <td>0.062</td>\n",
       "      <td>97.219</td>\n",
       "      <td>audio_features</td>\n",
       "      <td>6bxUnsSGZCmoHHU5auwtps</td>\n",
       "      <td>https://api.spotify.com/v1/tracks/6bxUnsSGZCmo...</td>\n",
       "      <td>https://api.spotify.com/v1/audio-analysis/6bxU...</td>\n",
       "      <td>4</td>\n",
       "    </tr>\n",
       "    <tr>\n",
       "      <th>3594</th>\n",
       "      <td>794</td>\n",
       "      <td>30</td>\n",
       "      <td>Ivan Gough</td>\n",
       "      <td>spotify:track:6Tufi5UMuDeN0QMYlkVJB1</td>\n",
       "      <td>spotify:artist:5aBWZE8TOaaA9O50ENS3EM</td>\n",
       "      <td>In My Mind (feat. Georgi Kay) - Axwell Mix</td>\n",
       "      <td>spotify:album:08XPxjZg6MQRWnHiSnoXLH</td>\n",
       "      <td>398121</td>\n",
       "      <td>In My Mind (feat. Georgi Kay)</td>\n",
       "      <td>346</td>\n",
       "      <td>...</td>\n",
       "      <td>0.04580</td>\n",
       "      <td>0.001220</td>\n",
       "      <td>0.2690</td>\n",
       "      <td>0.296</td>\n",
       "      <td>127.987</td>\n",
       "      <td>audio_features</td>\n",
       "      <td>6Tufi5UMuDeN0QMYlkVJB1</td>\n",
       "      <td>https://api.spotify.com/v1/tracks/6Tufi5UMuDeN...</td>\n",
       "      <td>https://api.spotify.com/v1/audio-analysis/6Tuf...</td>\n",
       "      <td>4</td>\n",
       "    </tr>\n",
       "    <tr>\n",
       "      <th>3595</th>\n",
       "      <td>794</td>\n",
       "      <td>31</td>\n",
       "      <td>Avicii</td>\n",
       "      <td>spotify:track:0ez1sBTH1IfKQXs1aXskNY</td>\n",
       "      <td>spotify:artist:1vCWHaC5f2uS3yhpwWbIA6</td>\n",
       "      <td>I Could Be The One [Avicii vs Nicky Romero] - ...</td>\n",
       "      <td>spotify:album:0z7Mr85v0hPSX0VOUxP51W</td>\n",
       "      <td>455625</td>\n",
       "      <td>I Could Be The One [Avicii vs Nicky Romero]</td>\n",
       "      <td>346</td>\n",
       "      <td>...</td>\n",
       "      <td>0.02210</td>\n",
       "      <td>0.038500</td>\n",
       "      <td>0.0484</td>\n",
       "      <td>0.470</td>\n",
       "      <td>127.997</td>\n",
       "      <td>audio_features</td>\n",
       "      <td>0ez1sBTH1IfKQXs1aXskNY</td>\n",
       "      <td>https://api.spotify.com/v1/tracks/0ez1sBTH1IfK...</td>\n",
       "      <td>https://api.spotify.com/v1/audio-analysis/0ez1...</td>\n",
       "      <td>4</td>\n",
       "    </tr>\n",
       "  </tbody>\n",
       "</table>\n",
       "<p>3596 rows × 26 columns</p>\n",
       "</div>"
      ],
      "text/plain": [
       "      pid  pos      artist_name                             track_uri  \\\n",
       "0     557    0          50 Cent  spotify:track:1wI3UvluGGKUeFeVFsP9do   \n",
       "1     557    1             Vedo  spotify:track:5Wcw2hbK2bXYlNpEb07gL5   \n",
       "2     557    2  Destiny's Child  spotify:track:0FZvjrHpAmLKj574M4VwrF   \n",
       "3     557    3             Vedo  spotify:track:6WqmzH7FQDwCaqabn2xz2g   \n",
       "4     557    4          Bow Wow  spotify:track:5dLvErR6RBbMMvGuDMdur2   \n",
       "...   ...  ...              ...                                   ...   \n",
       "3591  794   27            B.o.B  spotify:track:3myI1o0izYfh2z9JTQzCfJ   \n",
       "3592  794   28     Lana Del Rey  spotify:track:3BJe4B8zGnqEdQPMvfVjuS   \n",
       "3593  794   29         Big Sean  spotify:track:6bxUnsSGZCmoHHU5auwtps   \n",
       "3594  794   30       Ivan Gough  spotify:track:6Tufi5UMuDeN0QMYlkVJB1   \n",
       "3595  794   31           Avicii  spotify:track:0ez1sBTH1IfKQXs1aXskNY   \n",
       "\n",
       "                                 artist_uri  \\\n",
       "0     spotify:artist:3q7HBObVc0L8jNeTe5Gofh   \n",
       "1     spotify:artist:3wVXTWabe3viT0jF7DfjOL   \n",
       "2     spotify:artist:1Y8cdNmUJH7yBTd9yOvr5i   \n",
       "3     spotify:artist:3wVXTWabe3viT0jF7DfjOL   \n",
       "4     spotify:artist:7352aRY2mqSxBZwzUb6LmA   \n",
       "...                                     ...   \n",
       "3591  spotify:artist:5ndkK3dpZLKtBklKjxNQwT   \n",
       "3592  spotify:artist:00FQb4jTyendYWaN8pK0wa   \n",
       "3593  spotify:artist:0c173mlxpT3dSFRgMO8XPh   \n",
       "3594  spotify:artist:5aBWZE8TOaaA9O50ENS3EM   \n",
       "3595  spotify:artist:1vCWHaC5f2uS3yhpwWbIA6   \n",
       "\n",
       "                                             track_name  \\\n",
       "0                                   Best Friend - Remix   \n",
       "1                                               4 Walls   \n",
       "2                                             Cater 2 U   \n",
       "3                                         All Your Love   \n",
       "4                                              Like You   \n",
       "...                                                 ...   \n",
       "3591         Don't Let Me Fall - Explicit Album Version   \n",
       "3592                                 Summertime Sadness   \n",
       "3593                                             Beware   \n",
       "3594         In My Mind (feat. Georgi Kay) - Axwell Mix   \n",
       "3595  I Could Be The One [Avicii vs Nicky Romero] - ...   \n",
       "\n",
       "                                 album_uri  duration_ms  \\\n",
       "0     spotify:album:27GrIQPCPtPyEUxONxAcRe       254493   \n",
       "1     spotify:album:3A8RsxbFtSzRU2hs7eT1UL       211810   \n",
       "2     spotify:album:3xjdyJjSMNsSRkj3GTmBLi       245400   \n",
       "3     spotify:album:6CxKRU4KeLPHByLbe3ecwe       200543   \n",
       "4     spotify:album:1dQGXePMNkrSavN2pxF48a       205640   \n",
       "...                                    ...          ...   \n",
       "3591  spotify:album:7apLPYT8szV1IqTxyVSy5P       275386   \n",
       "3592  spotify:album:5VoeRuTrGhTbKelUfwymwu       265427   \n",
       "3593  spotify:album:5RlT8X7XGGLKUhoimrDl54       235186   \n",
       "3594  spotify:album:08XPxjZg6MQRWnHiSnoXLH       398121   \n",
       "3595  spotify:album:0z7Mr85v0hPSX0VOUxP51W       455625   \n",
       "\n",
       "                                       album_name  fid  ...  acousticness  \\\n",
       "0                                     Best Friend  354  ...       0.40700   \n",
       "1                                              93  354  ...       0.73300   \n",
       "2                               Destiny Fulfilled  354  ...       0.28600   \n",
       "3                              State of Mind - EP  354  ...       0.71000   \n",
       "4              Playlist: The Very Best Of Bow Wow  354  ...       0.05040   \n",
       "...                                           ...  ...  ...           ...   \n",
       "3591  B.o.B Presents: The Adventures of Bobby Ray  346  ...       0.00631   \n",
       "3592           Born To Die - The Paradise Edition  346  ...       0.05420   \n",
       "3593                                 Hall Of Fame  346  ...       0.21700   \n",
       "3594                In My Mind (feat. Georgi Kay)  346  ...       0.04580   \n",
       "3595  I Could Be The One [Avicii vs Nicky Romero]  346  ...       0.02210   \n",
       "\n",
       "      instrumentalness  liveness  valence    tempo            type  \\\n",
       "0             0.000000    0.1220    0.569  181.818  audio_features   \n",
       "1             0.000000    0.1500    0.739  127.955  audio_features   \n",
       "2             0.000000    0.2350    0.464  125.802  audio_features   \n",
       "3             0.000000    0.1540    0.511   69.619  audio_features   \n",
       "4             0.000000    0.0746    0.501   81.900  audio_features   \n",
       "...                ...       ...      ...      ...             ...   \n",
       "3591          0.000000    0.2130    0.267  150.187  audio_features   \n",
       "3592          0.000002    0.1220    0.235  111.968  audio_features   \n",
       "3593          0.000000    0.4520    0.062   97.219  audio_features   \n",
       "3594          0.001220    0.2690    0.296  127.987  audio_features   \n",
       "3595          0.038500    0.0484    0.470  127.997  audio_features   \n",
       "\n",
       "                          id  \\\n",
       "0     1wI3UvluGGKUeFeVFsP9do   \n",
       "1     5Wcw2hbK2bXYlNpEb07gL5   \n",
       "2     0FZvjrHpAmLKj574M4VwrF   \n",
       "3     6WqmzH7FQDwCaqabn2xz2g   \n",
       "4     5dLvErR6RBbMMvGuDMdur2   \n",
       "...                      ...   \n",
       "3591  3myI1o0izYfh2z9JTQzCfJ   \n",
       "3592  3BJe4B8zGnqEdQPMvfVjuS   \n",
       "3593  6bxUnsSGZCmoHHU5auwtps   \n",
       "3594  6Tufi5UMuDeN0QMYlkVJB1   \n",
       "3595  0ez1sBTH1IfKQXs1aXskNY   \n",
       "\n",
       "                                             track_href  \\\n",
       "0     https://api.spotify.com/v1/tracks/1wI3UvluGGKU...   \n",
       "1     https://api.spotify.com/v1/tracks/5Wcw2hbK2bXY...   \n",
       "2     https://api.spotify.com/v1/tracks/0FZvjrHpAmLK...   \n",
       "3     https://api.spotify.com/v1/tracks/6WqmzH7FQDwC...   \n",
       "4     https://api.spotify.com/v1/tracks/5dLvErR6RBbM...   \n",
       "...                                                 ...   \n",
       "3591  https://api.spotify.com/v1/tracks/3myI1o0izYfh...   \n",
       "3592  https://api.spotify.com/v1/tracks/3BJe4B8zGnqE...   \n",
       "3593  https://api.spotify.com/v1/tracks/6bxUnsSGZCmo...   \n",
       "3594  https://api.spotify.com/v1/tracks/6Tufi5UMuDeN...   \n",
       "3595  https://api.spotify.com/v1/tracks/0ez1sBTH1IfK...   \n",
       "\n",
       "                                           analysis_url  time_signature  \n",
       "0     https://api.spotify.com/v1/audio-analysis/1wI3...               4  \n",
       "1     https://api.spotify.com/v1/audio-analysis/5Wcw...               4  \n",
       "2     https://api.spotify.com/v1/audio-analysis/0FZv...               4  \n",
       "3     https://api.spotify.com/v1/audio-analysis/6Wqm...               3  \n",
       "4     https://api.spotify.com/v1/audio-analysis/5dLv...               4  \n",
       "...                                                 ...             ...  \n",
       "3591  https://api.spotify.com/v1/audio-analysis/3myI...               4  \n",
       "3592  https://api.spotify.com/v1/audio-analysis/3BJe...               4  \n",
       "3593  https://api.spotify.com/v1/audio-analysis/6bxU...               4  \n",
       "3594  https://api.spotify.com/v1/audio-analysis/6Tuf...               4  \n",
       "3595  https://api.spotify.com/v1/audio-analysis/0ez1...               4  \n",
       "\n",
       "[3596 rows x 26 columns]"
      ]
     },
     "execution_count": 203,
     "metadata": {},
     "output_type": "execute_result"
    }
   ],
   "source": [
    "complete_playlists"
   ]
  },
  {
   "cell_type": "code",
   "execution_count": 204,
   "metadata": {},
   "outputs": [],
   "source": [
    "total_songs.to_csv(\"total_songs.csv\", index = False)"
   ]
  },
  {
   "cell_type": "code",
   "execution_count": null,
   "metadata": {},
   "outputs": [],
   "source": []
  }
 ],
 "metadata": {
  "kernelspec": {
   "display_name": "Python 3",
   "language": "python",
   "name": "python3"
  },
  "language_info": {
   "codemirror_mode": {
    "name": "ipython",
    "version": 3
   },
   "file_extension": ".py",
   "mimetype": "text/x-python",
   "name": "python",
   "nbconvert_exporter": "python",
   "pygments_lexer": "ipython3",
   "version": "3.6.9"
  }
 },
 "nbformat": 4,
 "nbformat_minor": 2
}
