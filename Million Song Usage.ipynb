{
 "cells": [
  {
   "cell_type": "code",
   "execution_count": 1,
   "metadata": {},
   "outputs": [],
   "source": [
    "import os\n",
    "import sys\n",
    "import glob\n",
    "import time\n",
    "import datetime\n",
    "import numpy as np\n",
    "import pandas as pd\n",
    "import sqlite3"
   ]
  },
  {
   "cell_type": "markdown",
   "metadata": {},
   "source": [
    "TODO: Use a config file to specify the required info (for final version)"
   ]
  },
  {
   "cell_type": "markdown",
   "metadata": {},
   "source": [
    "From https://github.com/chenyz0601/mmd-project/tree/master/project1/PythonSrc"
   ]
  },
  {
   "cell_type": "code",
   "execution_count": 2,
   "metadata": {},
   "outputs": [],
   "source": [
    "code_path = \"./PythonSrc\"\n",
    "msd_subset_data_path = \"./MillionSongSubset/data/\""
   ]
  },
  {
   "cell_type": "code",
   "execution_count": 3,
   "metadata": {},
   "outputs": [],
   "source": [
    "sys.path.append(code_path)"
   ]
  },
  {
   "cell_type": "code",
   "execution_count": 4,
   "metadata": {},
   "outputs": [],
   "source": [
    "import hdf5_getters as GETTERS"
   ]
  },
  {
   "cell_type": "markdown",
   "metadata": {},
   "source": [
    "## Setup + Open DB"
   ]
  },
  {
   "cell_type": "code",
   "execution_count": 5,
   "metadata": {},
   "outputs": [],
   "source": [
    "def encode_string(s):\n",
    "    \"\"\"\n",
    "    Simple utility function to make sure a string is proper\n",
    "    to be used in a SQLite query\n",
    "    (different than posgtresql, no N to specify unicode)\n",
    "    EXAMPLE:\n",
    "      That's my boy! -> 'That''s my boy!'\n",
    "    \"\"\"\n",
    "    return \"'\"+s.replace(\"'\",\"''\")+\"'\""
   ]
  },
  {
   "cell_type": "code",
   "execution_count": 6,
   "metadata": {},
   "outputs": [],
   "source": [
    "# Change this to your path to database\n",
    "dbfile = \"./MillionSongSubset/AdditionalFiles/subset_track_metadata.db\""
   ]
  },
  {
   "cell_type": "code",
   "execution_count": 7,
   "metadata": {},
   "outputs": [],
   "source": [
    "conn = sqlite3.connect(dbfile)"
   ]
  },
  {
   "cell_type": "code",
   "execution_count": 8,
   "metadata": {},
   "outputs": [],
   "source": [
    "# from that connection, get a cursor to do queries\n",
    "c = conn.cursor()\n",
    "\n",
    "# so there is no confusion, the table name is 'songs'\n",
    "TABLENAME = 'songs'"
   ]
  },
  {
   "cell_type": "markdown",
   "metadata": {},
   "source": [
    "## Demo of how to use the database"
   ]
  },
  {
   "cell_type": "code",
   "execution_count": 9,
   "metadata": {},
   "outputs": [
    {
     "name": "stdout",
     "output_type": "stream",
     "text": [
      "* tables contained in that SQLite file/database (should be only 'songs'):\n",
      "[('songs',)]\n"
     ]
    }
   ],
   "source": [
    "# list all tables in that dataset\n",
    "# note that sqlite does the actual job when we call fetchall() or fetchone()\n",
    "q = \"SELECT name FROM sqlite_master WHERE type='table' ORDER BY name\"\n",
    "res = c.execute(q)\n",
    "print(\"* tables contained in that SQLite file/database (should be only 'songs'):\")\n",
    "print(res.fetchall())"
   ]
  },
  {
   "cell_type": "code",
   "execution_count": 10,
   "metadata": {
    "scrolled": true
   },
   "outputs": [
    {
     "name": "stdout",
     "output_type": "stream",
     "text": [
      "* get info on columns names (original table creation command):\n",
      "CREATE TABLE songs (track_id text PRIMARY KEY, title text, song_id text, release text, artist_id text, artist_mbid text, artist_name text, duration real, artist_familiarity real, artist_hotttnesss real, year int)\n"
     ]
    }
   ],
   "source": [
    "# list all columns names from table 'songs'\n",
    "q = \"SELECT sql FROM sqlite_master WHERE tbl_name = 'songs' AND type = 'table'\"\n",
    "res = c.execute(q)\n",
    "print('* get info on columns names (original table creation command):')\n",
    "print(res.fetchall()[0][0])"
   ]
  },
  {
   "cell_type": "code",
   "execution_count": 11,
   "metadata": {},
   "outputs": [
    {
     "name": "stdout",
     "output_type": "stream",
     "text": [
      "* one of the index we added to the table to make things faster:\n",
      "('idx_artist_id',)\n"
     ]
    }
   ],
   "source": [
    "# list all indices\n",
    "q = \"SELECT name FROM sqlite_master WHERE type='index' AND tbl_name='songs' ORDER BY name\"\n",
    "res = c.execute(q)\n",
    "print('* one of the index we added to the table to make things faster:')\n",
    "print(res.fetchone())"
   ]
  },
  {
   "cell_type": "code",
   "execution_count": 12,
   "metadata": {},
   "outputs": [
    {
     "name": "stdout",
     "output_type": "stream",
     "text": [
      "* get the primary key (row id) of one entry where the artist is The Beatles:\n",
      "(1040,)\n"
     ]
    }
   ],
   "source": [
    "# find the PRIMARY KEY of a query\n",
    "# by default it's called ROWID, it would have been redefined if our primary key\n",
    "# was of type INTEGER\n",
    "q = \"SELECT ROWID FROM songs WHERE artist_name='The Beatles'\"\n",
    "res = c.execute(q)\n",
    "print('* get the primary key (row id) of one entry where the artist is The Beatles:')\n",
    "print(res.fetchone())"
   ]
  },
  {
   "cell_type": "code",
   "execution_count": 13,
   "metadata": {
    "scrolled": true
   },
   "outputs": [
    {
     "name": "stdout",
     "output_type": "stream",
     "text": [
      "* get all we have about one track from The Beatles:\n",
      "('TRAHSSO128EF347345', 'Derek Taylor - Introduction', 'SORTPSA12A67ADBFE2', 'Here There And Everywhere', 'AR6XZ861187FB4CECD', 'b10bbbfc-cf9e-42e0-be17-e2c3e1d2600d', 'The Beatles', 53.78567, 0.840409662154, 0.840462688027, 0)\n"
     ]
    }
   ],
   "source": [
    "# find an entry with The Beatles as artist_name\n",
    "# returns all info (the full table row)\n",
    "q = \"SELECT * FROM songs WHERE artist_name='The Beatles' LIMIT 1\"\n",
    "res = c.execute(q)\n",
    "print('* get all we have about one track from The Beatles:')\n",
    "print(res.fetchone())"
   ]
  },
  {
   "cell_type": "markdown",
   "metadata": {},
   "source": [
    "## Create a pandas dataframe"
   ]
  },
  {
   "cell_type": "code",
   "execution_count": 14,
   "metadata": {},
   "outputs": [],
   "source": [
    "q = \"SELECT * FROM songs\"\n",
    "res = c.execute(q)"
   ]
  },
  {
   "cell_type": "code",
   "execution_count": 15,
   "metadata": {},
   "outputs": [],
   "source": [
    "df = pd.DataFrame(res.fetchall(), columns=[\"Track ID\", \"Title\", \"Song ID\", \"Release\", \"Artist ID\", \"Artist MBIND\", \"Artist Name\", \"Duration\", \"Artist Familiarity\", \"Artist Hotness\", \"Year\"])"
   ]
  },
  {
   "cell_type": "code",
   "execution_count": 16,
   "metadata": {
    "scrolled": false
   },
   "outputs": [
    {
     "data": {
      "text/html": [
       "<div>\n",
       "<style scoped>\n",
       "    .dataframe tbody tr th:only-of-type {\n",
       "        vertical-align: middle;\n",
       "    }\n",
       "\n",
       "    .dataframe tbody tr th {\n",
       "        vertical-align: top;\n",
       "    }\n",
       "\n",
       "    .dataframe thead th {\n",
       "        text-align: right;\n",
       "    }\n",
       "</style>\n",
       "<table border=\"1\" class=\"dataframe\">\n",
       "  <thead>\n",
       "    <tr style=\"text-align: right;\">\n",
       "      <th></th>\n",
       "      <th>Track ID</th>\n",
       "      <th>Title</th>\n",
       "      <th>Song ID</th>\n",
       "      <th>Release</th>\n",
       "      <th>Artist ID</th>\n",
       "      <th>Artist MBIND</th>\n",
       "      <th>Artist Name</th>\n",
       "      <th>Duration</th>\n",
       "      <th>Artist Familiarity</th>\n",
       "      <th>Artist Hotness</th>\n",
       "      <th>Year</th>\n",
       "    </tr>\n",
       "  </thead>\n",
       "  <tbody>\n",
       "    <tr>\n",
       "      <th>0</th>\n",
       "      <td>TRACCVZ128F4291A8A</td>\n",
       "      <td>Deep Sea Creature</td>\n",
       "      <td>SOVLGJY12A8C13FBED</td>\n",
       "      <td>Call of the Mastodon</td>\n",
       "      <td>ARMQHX71187B9890D3</td>\n",
       "      <td>bc5e2ad6-0a4a-4d90-b911-e9a7e6861727</td>\n",
       "      <td>Mastodon</td>\n",
       "      <td>280.21506</td>\n",
       "      <td>0.780462</td>\n",
       "      <td>0.574275</td>\n",
       "      <td>2001</td>\n",
       "    </tr>\n",
       "    <tr>\n",
       "      <th>1</th>\n",
       "      <td>TRACCMH128F428E4CD</td>\n",
       "      <td>No Quieras Marcharte</td>\n",
       "      <td>SOGDQZK12A8C13F37C</td>\n",
       "      <td>Adelante</td>\n",
       "      <td>AR2PT4M1187FB55B1A</td>\n",
       "      <td>d54ea4a6-0b9c-4e47-bed0-289ae9ff4037</td>\n",
       "      <td>Los Chichos</td>\n",
       "      <td>191.68608</td>\n",
       "      <td>0.561590</td>\n",
       "      <td>0.420570</td>\n",
       "      <td>1984</td>\n",
       "    </tr>\n",
       "    <tr>\n",
       "      <th>2</th>\n",
       "      <td>TRACCSW128F148C7C3</td>\n",
       "      <td>If I...</td>\n",
       "      <td>SODMVJR12A6D4F985D</td>\n",
       "      <td>Ill Na Na</td>\n",
       "      <td>ARDI88R1187B98DAB2</td>\n",
       "      <td>fd87374e-ffde-4d36-89a8-8a073f795666</td>\n",
       "      <td>Foxy Brown</td>\n",
       "      <td>222.92853</td>\n",
       "      <td>0.687687</td>\n",
       "      <td>0.406686</td>\n",
       "      <td>0</td>\n",
       "    </tr>\n",
       "    <tr>\n",
       "      <th>3</th>\n",
       "      <td>TRACCXJ128F428F0CF</td>\n",
       "      <td>Werther - Lyric Drama in four Acts/Act I/Alors...</td>\n",
       "      <td>SOIWBDR12A8C13A4AC</td>\n",
       "      <td>Massenet: Werther</td>\n",
       "      <td>ARUKJUP12086C14589</td>\n",
       "      <td>8a5f2736-bcde-4a2e-8d50-72631d66a7ef</td>\n",
       "      <td>Ramón Vargas;Vladimir Jurowski</td>\n",
       "      <td>278.38649</td>\n",
       "      <td>0.391741</td>\n",
       "      <td>0.291265</td>\n",
       "      <td>0</td>\n",
       "    </tr>\n",
       "    <tr>\n",
       "      <th>4</th>\n",
       "      <td>TRACCVS12903D014F8</td>\n",
       "      <td>Ad Te Clamamus Exsvles Mortva Liberi</td>\n",
       "      <td>SOHCCIA12AC907577F</td>\n",
       "      <td>Pentagrammaton</td>\n",
       "      <td>ARZEWUR1187FB53DC8</td>\n",
       "      <td>0be59867-0da4-4e45-9b64-728cdf25487c</td>\n",
       "      <td>Enthroned</td>\n",
       "      <td>89.15546</td>\n",
       "      <td>0.593416</td>\n",
       "      <td>0.395710</td>\n",
       "      <td>2010</td>\n",
       "    </tr>\n",
       "  </tbody>\n",
       "</table>\n",
       "</div>"
      ],
      "text/plain": [
       "             Track ID                                              Title  \\\n",
       "0  TRACCVZ128F4291A8A                                  Deep Sea Creature   \n",
       "1  TRACCMH128F428E4CD                               No Quieras Marcharte   \n",
       "2  TRACCSW128F148C7C3                                            If I...   \n",
       "3  TRACCXJ128F428F0CF  Werther - Lyric Drama in four Acts/Act I/Alors...   \n",
       "4  TRACCVS12903D014F8               Ad Te Clamamus Exsvles Mortva Liberi   \n",
       "\n",
       "              Song ID               Release           Artist ID  \\\n",
       "0  SOVLGJY12A8C13FBED  Call of the Mastodon  ARMQHX71187B9890D3   \n",
       "1  SOGDQZK12A8C13F37C              Adelante  AR2PT4M1187FB55B1A   \n",
       "2  SODMVJR12A6D4F985D             Ill Na Na  ARDI88R1187B98DAB2   \n",
       "3  SOIWBDR12A8C13A4AC     Massenet: Werther  ARUKJUP12086C14589   \n",
       "4  SOHCCIA12AC907577F        Pentagrammaton  ARZEWUR1187FB53DC8   \n",
       "\n",
       "                           Artist MBIND                     Artist Name  \\\n",
       "0  bc5e2ad6-0a4a-4d90-b911-e9a7e6861727                        Mastodon   \n",
       "1  d54ea4a6-0b9c-4e47-bed0-289ae9ff4037                     Los Chichos   \n",
       "2  fd87374e-ffde-4d36-89a8-8a073f795666                      Foxy Brown   \n",
       "3  8a5f2736-bcde-4a2e-8d50-72631d66a7ef  Ramón Vargas;Vladimir Jurowski   \n",
       "4  0be59867-0da4-4e45-9b64-728cdf25487c                       Enthroned   \n",
       "\n",
       "    Duration  Artist Familiarity  Artist Hotness  Year  \n",
       "0  280.21506            0.780462        0.574275  2001  \n",
       "1  191.68608            0.561590        0.420570  1984  \n",
       "2  222.92853            0.687687        0.406686     0  \n",
       "3  278.38649            0.391741        0.291265     0  \n",
       "4   89.15546            0.593416        0.395710  2010  "
      ]
     },
     "execution_count": 16,
     "metadata": {},
     "output_type": "execute_result"
    }
   ],
   "source": [
    "df.head()"
   ]
  },
  {
   "cell_type": "markdown",
   "metadata": {},
   "source": [
    "## How to use the getters for more song information"
   ]
  },
  {
   "cell_type": "code",
   "execution_count": 17,
   "metadata": {},
   "outputs": [],
   "source": [
    "# signature is the raw value of each song\n",
    "selectedFeatures = [\"loudness\", \"tempo\"]\n",
    "num_features = len(selectedFeatures)\n",
    "num_songs = 10\n",
    "signature = np.zeros([num_songs, num_features])"
   ]
  },
  {
   "cell_type": "code",
   "execution_count": 18,
   "metadata": {},
   "outputs": [],
   "source": [
    "# code from https://github.com/chenyz0601/mmd-project/blob/master/project1/Duplication.ipynb\n",
    "s_counter = 0\n",
    "songsIds = [0]*num_songs\n",
    "for root, dirs, files in os.walk(msd_subset_data_path):\n",
    "    files = glob.glob(os.path.join(root,'*'+'.h5'))\n",
    "    for f in files :\n",
    "        if s_counter == num_songs:\n",
    "            break\n",
    "        else:\n",
    "            h5 = GETTERS.open_h5_file_read(f)\n",
    "            f_counter = 0\n",
    "            songsIds[s_counter] = GETTERS.get_song_id(h5)\n",
    "            for features in selectedFeatures:\n",
    "                temp = str(getattr(GETTERS, 'get_'+features)(h5))\n",
    "                signature[s_counter,f_counter] = temp\n",
    "                f_counter += 1\n",
    "            s_counter += 1\n",
    "            h5.close()"
   ]
  },
  {
   "cell_type": "code",
   "execution_count": 19,
   "metadata": {},
   "outputs": [
    {
     "data": {
      "text/plain": [
       "array([[ -9.636, 124.059],\n",
       "       [-11.061,  80.084],\n",
       "       [-24.14 ,  54.874],\n",
       "       [ -5.795,  77.15 ],\n",
       "       [-16.477, 120.382],\n",
       "       [-12.474,  99.024],\n",
       "       [ -4.393, 175.673],\n",
       "       [ -5.05 ,  87.999],\n",
       "       [ -4.264,  92.897],\n",
       "       [-13.885,  86.981]])"
      ]
     },
     "execution_count": 19,
     "metadata": {},
     "output_type": "execute_result"
    }
   ],
   "source": [
    "signature"
   ]
  },
  {
   "cell_type": "markdown",
   "metadata": {},
   "source": [
    "## Closing the connection (run when done)"
   ]
  },
  {
   "cell_type": "code",
   "execution_count": 20,
   "metadata": {
    "scrolled": true
   },
   "outputs": [],
   "source": [
    "# close the cursor and the connection\n",
    "# (if for some reason you added stuff to the db or alter\n",
    "#  a table, you need to also do a conn.commit())\n",
    "c.close()\n",
    "conn.close()"
   ]
  },
  {
   "cell_type": "code",
   "execution_count": null,
   "metadata": {},
   "outputs": [],
   "source": []
  }
 ],
 "metadata": {
  "kernelspec": {
   "display_name": "Python 3",
   "language": "python",
   "name": "python3"
  },
  "language_info": {
   "codemirror_mode": {
    "name": "ipython",
    "version": 3
   },
   "file_extension": ".py",
   "mimetype": "text/x-python",
   "name": "python",
   "nbconvert_exporter": "python",
   "pygments_lexer": "ipython3",
   "version": "3.6.9"
  }
 },
 "nbformat": 4,
 "nbformat_minor": 2
}
