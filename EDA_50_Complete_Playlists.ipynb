{
 "cells": [
  {
   "cell_type": "code",
   "execution_count": 99,
   "metadata": {},
   "outputs": [],
   "source": [
    "import os\n",
    "import sys\n",
    "import time\n",
    "import glob\n",
    "import datetime \n",
    "import sqlite3\n",
    "import numpy as np\n",
    "import pandas as pd\n",
    "import matplotlib\n",
    "import matplotlib.pyplot as plt\n",
    "from sklearn.preprocessing import MinMaxScaler"
   ]
  },
  {
   "cell_type": "code",
   "execution_count": 106,
   "metadata": {},
   "outputs": [],
   "source": [
    "# dataframe with full song data in 10 randomly selected playlists\n",
    "full_50_df = pd.read_csv('complete_playlists_50.csv')\n",
    "\n",
    "col_of_interest = [\"danceability\",\"energy\",\"mode\",\"speechiness\", \"tempo\", \"instrumentalness\", \"loudness\",\n",
    "                   \"acousticness\", \"key\", \"liveness\", \"valence\", \"duration_ms\"]"
   ]
  },
  {
   "cell_type": "code",
   "execution_count": 107,
   "metadata": {},
   "outputs": [],
   "source": [
    "# Standardize values so that we can see variance on the same scale later \n",
    "for i in col_of_interest:\n",
    "    full_50_df[i] = MinMaxScaler().fit_transform(full_50_df[i].values.reshape(-1,1))"
   ]
  },
  {
   "cell_type": "code",
   "execution_count": 108,
   "metadata": {},
   "outputs": [],
   "source": [
    "# Find variance of each feature in the 50 playlists\n",
    "playlist_variance = full_50_df.groupby([\"fid\",'pid']).var()"
   ]
  },
  {
   "cell_type": "code",
   "execution_count": 109,
   "metadata": {
    "scrolled": false
   },
   "outputs": [
    {
     "data": {
      "text/html": [
       "<div>\n",
       "<style scoped>\n",
       "    .dataframe tbody tr th:only-of-type {\n",
       "        vertical-align: middle;\n",
       "    }\n",
       "\n",
       "    .dataframe tbody tr th {\n",
       "        vertical-align: top;\n",
       "    }\n",
       "\n",
       "    .dataframe thead th {\n",
       "        text-align: right;\n",
       "    }\n",
       "</style>\n",
       "<table border=\"1\" class=\"dataframe\">\n",
       "  <thead>\n",
       "    <tr style=\"text-align: right;\">\n",
       "      <th></th>\n",
       "      <th></th>\n",
       "      <th>pos</th>\n",
       "      <th>duration_ms</th>\n",
       "      <th>danceability</th>\n",
       "      <th>energy</th>\n",
       "      <th>key</th>\n",
       "      <th>loudness</th>\n",
       "      <th>mode</th>\n",
       "      <th>speechiness</th>\n",
       "      <th>acousticness</th>\n",
       "      <th>instrumentalness</th>\n",
       "      <th>liveness</th>\n",
       "      <th>valence</th>\n",
       "      <th>tempo</th>\n",
       "      <th>time_signature</th>\n",
       "    </tr>\n",
       "    <tr>\n",
       "      <th>fid</th>\n",
       "      <th>pid</th>\n",
       "      <th></th>\n",
       "      <th></th>\n",
       "      <th></th>\n",
       "      <th></th>\n",
       "      <th></th>\n",
       "      <th></th>\n",
       "      <th></th>\n",
       "      <th></th>\n",
       "      <th></th>\n",
       "      <th></th>\n",
       "      <th></th>\n",
       "      <th></th>\n",
       "      <th></th>\n",
       "      <th></th>\n",
       "    </tr>\n",
       "  </thead>\n",
       "  <tbody>\n",
       "    <tr>\n",
       "      <th>16</th>\n",
       "      <th>705</th>\n",
       "      <td>368.500000</td>\n",
       "      <td>0.001583</td>\n",
       "      <td>0.009252</td>\n",
       "      <td>0.019309</td>\n",
       "      <td>0.104560</td>\n",
       "      <td>0.001888</td>\n",
       "      <td>0.248019</td>\n",
       "      <td>0.010111</td>\n",
       "      <td>0.012009</td>\n",
       "      <td>0.032633</td>\n",
       "      <td>0.020121</td>\n",
       "      <td>0.029451</td>\n",
       "      <td>0.012232</td>\n",
       "      <td>0.015152</td>\n",
       "    </tr>\n",
       "    <tr>\n",
       "      <th>29</th>\n",
       "      <th>736</th>\n",
       "      <td>3.500000</td>\n",
       "      <td>0.002229</td>\n",
       "      <td>0.024922</td>\n",
       "      <td>0.016280</td>\n",
       "      <td>0.142149</td>\n",
       "      <td>0.000886</td>\n",
       "      <td>0.166667</td>\n",
       "      <td>0.000677</td>\n",
       "      <td>0.016139</td>\n",
       "      <td>0.007790</td>\n",
       "      <td>0.001504</td>\n",
       "      <td>0.063813</td>\n",
       "      <td>0.014886</td>\n",
       "      <td>0.000000</td>\n",
       "    </tr>\n",
       "    <tr>\n",
       "      <th>52</th>\n",
       "      <th>746</th>\n",
       "      <td>101.175676</td>\n",
       "      <td>0.002431</td>\n",
       "      <td>0.019373</td>\n",
       "      <td>0.025859</td>\n",
       "      <td>0.140595</td>\n",
       "      <td>0.007580</td>\n",
       "      <td>0.247748</td>\n",
       "      <td>0.019274</td>\n",
       "      <td>0.027657</td>\n",
       "      <td>0.001101</td>\n",
       "      <td>0.026698</td>\n",
       "      <td>0.050108</td>\n",
       "      <td>0.019467</td>\n",
       "      <td>0.027027</td>\n",
       "    </tr>\n",
       "    <tr>\n",
       "      <th>112</th>\n",
       "      <th>480</th>\n",
       "      <td>3451.000000</td>\n",
       "      <td>0.000768</td>\n",
       "      <td>0.010404</td>\n",
       "      <td>0.018977</td>\n",
       "      <td>0.100911</td>\n",
       "      <td>0.003482</td>\n",
       "      <td>0.207189</td>\n",
       "      <td>0.003816</td>\n",
       "      <td>0.015333</td>\n",
       "      <td>0.003518</td>\n",
       "      <td>0.028689</td>\n",
       "      <td>0.046586</td>\n",
       "      <td>0.016486</td>\n",
       "      <td>0.009803</td>\n",
       "    </tr>\n",
       "    <tr>\n",
       "      <th>113</th>\n",
       "      <th>190</th>\n",
       "      <td>208.490196</td>\n",
       "      <td>0.001324</td>\n",
       "      <td>0.020430</td>\n",
       "      <td>0.040405</td>\n",
       "      <td>0.098130</td>\n",
       "      <td>0.005042</td>\n",
       "      <td>0.148235</td>\n",
       "      <td>0.001224</td>\n",
       "      <td>0.080724</td>\n",
       "      <td>0.012160</td>\n",
       "      <td>0.011439</td>\n",
       "      <td>0.060898</td>\n",
       "      <td>0.019944</td>\n",
       "      <td>0.139608</td>\n",
       "    </tr>\n",
       "  </tbody>\n",
       "</table>\n",
       "</div>"
      ],
      "text/plain": [
       "                 pos  duration_ms  danceability    energy       key  loudness  \\\n",
       "fid pid                                                                         \n",
       "16  705   368.500000     0.001583      0.009252  0.019309  0.104560  0.001888   \n",
       "29  736     3.500000     0.002229      0.024922  0.016280  0.142149  0.000886   \n",
       "52  746   101.175676     0.002431      0.019373  0.025859  0.140595  0.007580   \n",
       "112 480  3451.000000     0.000768      0.010404  0.018977  0.100911  0.003482   \n",
       "113 190   208.490196     0.001324      0.020430  0.040405  0.098130  0.005042   \n",
       "\n",
       "             mode  speechiness  acousticness  instrumentalness  liveness  \\\n",
       "fid pid                                                                    \n",
       "16  705  0.248019     0.010111      0.012009          0.032633  0.020121   \n",
       "29  736  0.166667     0.000677      0.016139          0.007790  0.001504   \n",
       "52  746  0.247748     0.019274      0.027657          0.001101  0.026698   \n",
       "112 480  0.207189     0.003816      0.015333          0.003518  0.028689   \n",
       "113 190  0.148235     0.001224      0.080724          0.012160  0.011439   \n",
       "\n",
       "          valence     tempo  time_signature  \n",
       "fid pid                                      \n",
       "16  705  0.029451  0.012232        0.015152  \n",
       "29  736  0.063813  0.014886        0.000000  \n",
       "52  746  0.050108  0.019467        0.027027  \n",
       "112 480  0.046586  0.016486        0.009803  \n",
       "113 190  0.060898  0.019944        0.139608  "
      ]
     },
     "execution_count": 109,
     "metadata": {},
     "output_type": "execute_result"
    }
   ],
   "source": [
    "playlist_variance.head()"
   ]
  },
  {
   "cell_type": "code",
   "execution_count": 110,
   "metadata": {},
   "outputs": [],
   "source": [
    "var_list = []\n",
    "\n",
    "for x in range(len(col_of_interest)):\n",
    "    var_list.append(playlist_variance[col_of_interest[x]])"
   ]
  },
  {
   "cell_type": "code",
   "execution_count": 111,
   "metadata": {},
   "outputs": [
    {
     "data": {
      "image/png": "[encoded data removed]",
      "text/plain": [
       "<Figure size 1080x576 with 1 Axes>"
      ]
     },
     "metadata": {
      "needs_background": "light"
     },
     "output_type": "display_data"
    }
   ],
   "source": [
    "fig, ax = plt.subplots(nrows=1,ncols=1,figsize=(15,8))\n",
    "ax.boxplot(var_list, showfliers=False)\n",
    "ax.set_title(\"Distribution of the Variance of Song Feature Values within Playlists\")\n",
    "ax.set_ylabel(\"Variance\")\n",
    "ax.set_xticklabels(col_of_interest)\n",
    "\n",
    "plt.show()"
   ]
  },
  {
   "cell_type": "markdown",
   "metadata": {},
   "source": [
    "We also took a look at the variance in features expressed in the songs chosen for inclusion within individual playlists.  We took a subset of 50 full playlists from the Spotify API, and from this dataset, found the audio features for each song in each playlist. We then standardized the values (by each feature) so that the variance can be seen at the same scale. We then made the above boxplot, showing the distribution of the variances of each feature across the 50 playlists. \n",
    "\n",
    "As we can see from the above boxplots, there clearly *are* some features that tend to cluster together within playlists; for instance, danceability has on average a relatively low variance across all songs in a playlist.  This means, simply, that most of the songs in any one playlist will tend to have the same values for danceability.  This seems intuitively to make sense: playlists are often made with or without dancing in mind, so a song that is less danceable would not fit into a playlist with songs that are very danceable.  In other words, playlists may tend to select for danceability.  On the other end, acousticness and mode had relatively higher variances, meaning that these features may not necessarily be selected for in particular when people create playlists.  These trends from our EDA will be important to consider when moving on with the project."
   ]
  }
 ],
 "metadata": {
  "kernelspec": {
   "display_name": "Python 3",
   "language": "python",
   "name": "python3"
  },
  "language_info": {
   "codemirror_mode": {
    "name": "ipython",
    "version": 3
   },
   "file_extension": ".py",
   "mimetype": "text/x-python",
   "name": "python",
   "nbconvert_exporter": "python",
   "pygments_lexer": "ipython3",
   "version": "3.6.9"
  }
 },
 "nbformat": 4,
 "nbformat_minor": 2
}
