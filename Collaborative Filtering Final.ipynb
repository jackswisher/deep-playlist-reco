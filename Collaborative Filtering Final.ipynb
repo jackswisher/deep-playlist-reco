{
 "cells": [
  {
   "cell_type": "code",
   "execution_count": 331,
   "metadata": {},
   "outputs": [],
   "source": [
    "import os\n",
    "import sys\n",
    "import glob\n",
    "import time\n",
    "import datetime\n",
    "import math\n",
    "import requests\n",
    "\n",
    "import numpy as np\n",
    "import pandas as pd\n",
    "import matplotlib.pyplot as plt\n",
    "import matplotlib\n",
    "import random\n",
    "import scipy as sp\n",
    "\n",
    "from sklearn.neighbors import NearestNeighbors\n",
    "from sklearn.metrics.pairwise import cosine_similarity\n",
    "from sklearn.metrics.pairwise import cosine_distances\n",
    "\n",
    "from functools import partial\n",
    "from multiprocessing.pool import Pool\n",
    "from time import time\n",
    "\n",
    "np.random.seed(109)"
   ]
  },
  {
   "cell_type": "markdown",
   "metadata": {},
   "source": [
    "# Read in CSVs | Add FID | Concatenate"
   ]
  },
  {
   "cell_type": "code",
   "execution_count": 7,
   "metadata": {
    "scrolled": true
   },
   "outputs": [],
   "source": [
    "random.seed(109)\n",
    "file_ids = random.sample(range(1000), 10)\n",
    "file_list = [f\"songs{i}.csv\" for i in file_ids]"
   ]
  },
  {
   "cell_type": "code",
   "execution_count": 8,
   "metadata": {},
   "outputs": [
    {
     "data": {
      "text/plain": [
       "[286, 234, 470, 460, 560, 59, 103, 233, 514, 509]"
      ]
     },
     "execution_count": 8,
     "metadata": {},
     "output_type": "execute_result"
    }
   ],
   "source": [
    "file_ids"
   ]
  },
  {
   "cell_type": "code",
   "execution_count": 9,
   "metadata": {},
   "outputs": [
    {
     "data": {
      "text/html": [
       "<div>\n",
       "<style scoped>\n",
       "    .dataframe tbody tr th:only-of-type {\n",
       "        vertical-align: middle;\n",
       "    }\n",
       "\n",
       "    .dataframe tbody tr th {\n",
       "        vertical-align: top;\n",
       "    }\n",
       "\n",
       "    .dataframe thead th {\n",
       "        text-align: right;\n",
       "    }\n",
       "</style>\n",
       "<table border=\"1\" class=\"dataframe\">\n",
       "  <thead>\n",
       "    <tr style=\"text-align: right;\">\n",
       "      <th></th>\n",
       "      <th>pid</th>\n",
       "      <th>pos</th>\n",
       "      <th>artist_name</th>\n",
       "      <th>track_uri</th>\n",
       "      <th>artist_uri</th>\n",
       "      <th>track_name</th>\n",
       "      <th>album_uri</th>\n",
       "      <th>duration_ms</th>\n",
       "      <th>album_name</th>\n",
       "      <th>fid</th>\n",
       "    </tr>\n",
       "  </thead>\n",
       "  <tbody>\n",
       "    <tr>\n",
       "      <th>0</th>\n",
       "      <td>0</td>\n",
       "      <td>0</td>\n",
       "      <td>Sam Smith</td>\n",
       "      <td>spotify:track:7Hz6LLOVxrojLPIHJJ1S0E</td>\n",
       "      <td>spotify:artist:2wY79sveU1sp5g7SokKOiI</td>\n",
       "      <td>Have Yourself A Merry Little Christmas</td>\n",
       "      <td>spotify:album:6aT8FGBTfyAhIDQ0IDaebz</td>\n",
       "      <td>170964</td>\n",
       "      <td>Have Yourself A Merry Little Christmas</td>\n",
       "      <td>286</td>\n",
       "    </tr>\n",
       "    <tr>\n",
       "      <th>1</th>\n",
       "      <td>0</td>\n",
       "      <td>1</td>\n",
       "      <td>Bing Crosby</td>\n",
       "      <td>spotify:track:6Z8bwTp3CPk8fAomqEJZHc</td>\n",
       "      <td>spotify:artist:6ZjFtWeHP9XN7FeKSUe80S</td>\n",
       "      <td>Have Yourself A Merry Little Christmas</td>\n",
       "      <td>spotify:album:0RybBCL0oKCwyKur97W2gH</td>\n",
       "      <td>169506</td>\n",
       "      <td>Winter Wonderland</td>\n",
       "      <td>286</td>\n",
       "    </tr>\n",
       "    <tr>\n",
       "      <th>2</th>\n",
       "      <td>0</td>\n",
       "      <td>2</td>\n",
       "      <td>Dean Martin</td>\n",
       "      <td>spotify:track:7H0ABcbcZLjVD83SgeU19l</td>\n",
       "      <td>spotify:artist:49e4v89VmlDcFCMyDv9wQ9</td>\n",
       "      <td>White Christmas</td>\n",
       "      <td>spotify:album:5I48ENiZiaZZSOpec6PdS5</td>\n",
       "      <td>149920</td>\n",
       "      <td>A Winter Romance</td>\n",
       "      <td>286</td>\n",
       "    </tr>\n",
       "    <tr>\n",
       "      <th>3</th>\n",
       "      <td>0</td>\n",
       "      <td>3</td>\n",
       "      <td>Vince Guaraldi Trio</td>\n",
       "      <td>spotify:track:34rzJNfTd5e9s3TICFMPD0</td>\n",
       "      <td>spotify:artist:4ytkhMSAnrDP8XzRNlw9FS</td>\n",
       "      <td>O Tannenbaum</td>\n",
       "      <td>spotify:album:7DuJYWu66RPdcekF5TuZ7w</td>\n",
       "      <td>309386</td>\n",
       "      <td>A Charlie Brown Christmas</td>\n",
       "      <td>286</td>\n",
       "    </tr>\n",
       "    <tr>\n",
       "      <th>4</th>\n",
       "      <td>0</td>\n",
       "      <td>4</td>\n",
       "      <td>Michael Bublé</td>\n",
       "      <td>spotify:track:0lLdorYw7lVrJydTINhWdI</td>\n",
       "      <td>spotify:artist:1GxkXlMwML1oSg5eLPiAz3</td>\n",
       "      <td>It's Beginning To Look A Lot Like Christmas</td>\n",
       "      <td>spotify:album:3CKVXhODttZebJAzjUs2un</td>\n",
       "      <td>206346</td>\n",
       "      <td>Christmas</td>\n",
       "      <td>286</td>\n",
       "    </tr>\n",
       "  </tbody>\n",
       "</table>\n",
       "</div>"
      ],
      "text/plain": [
       "  pid pos          artist_name                             track_uri  \\\n",
       "0   0   0            Sam Smith  spotify:track:7Hz6LLOVxrojLPIHJJ1S0E   \n",
       "1   0   1          Bing Crosby  spotify:track:6Z8bwTp3CPk8fAomqEJZHc   \n",
       "2   0   2          Dean Martin  spotify:track:7H0ABcbcZLjVD83SgeU19l   \n",
       "3   0   3  Vince Guaraldi Trio  spotify:track:34rzJNfTd5e9s3TICFMPD0   \n",
       "4   0   4        Michael Bublé  spotify:track:0lLdorYw7lVrJydTINhWdI   \n",
       "\n",
       "                              artist_uri  \\\n",
       "0  spotify:artist:2wY79sveU1sp5g7SokKOiI   \n",
       "1  spotify:artist:6ZjFtWeHP9XN7FeKSUe80S   \n",
       "2  spotify:artist:49e4v89VmlDcFCMyDv9wQ9   \n",
       "3  spotify:artist:4ytkhMSAnrDP8XzRNlw9FS   \n",
       "4  spotify:artist:1GxkXlMwML1oSg5eLPiAz3   \n",
       "\n",
       "                                    track_name  \\\n",
       "0       Have Yourself A Merry Little Christmas   \n",
       "1       Have Yourself A Merry Little Christmas   \n",
       "2                              White Christmas   \n",
       "3                                 O Tannenbaum   \n",
       "4  It's Beginning To Look A Lot Like Christmas   \n",
       "\n",
       "                              album_uri duration_ms  \\\n",
       "0  spotify:album:6aT8FGBTfyAhIDQ0IDaebz      170964   \n",
       "1  spotify:album:0RybBCL0oKCwyKur97W2gH      169506   \n",
       "2  spotify:album:5I48ENiZiaZZSOpec6PdS5      149920   \n",
       "3  spotify:album:7DuJYWu66RPdcekF5TuZ7w      309386   \n",
       "4  spotify:album:3CKVXhODttZebJAzjUs2un      206346   \n",
       "\n",
       "                               album_name  fid  \n",
       "0  Have Yourself A Merry Little Christmas  286  \n",
       "1                       Winter Wonderland  286  \n",
       "2                        A Winter Romance  286  \n",
       "3               A Charlie Brown Christmas  286  \n",
       "4                               Christmas  286  "
      ]
     },
     "execution_count": 9,
     "metadata": {},
     "output_type": "execute_result"
    }
   ],
   "source": [
    "files_list = []\n",
    "for i in range(len(file_list)):\n",
    "    file_path = \"Songs/\" + file_list[i]\n",
    "    file = pd.read_csv(file_path)\n",
    "    file[\"fid\"] = file_ids[i]\n",
    "    files_list.append(file)\n",
    "complete_playlists = pd.DataFrame(np.concatenate(files_list), columns = file.columns)\n",
    "complete_playlists.head()"
   ]
  },
  {
   "cell_type": "markdown",
   "metadata": {},
   "source": [
    "Playlist (286, 0) is a Christmas playlist!! Maybe use this to test to stay with the holiday season?"
   ]
  },
  {
   "cell_type": "markdown",
   "metadata": {},
   "source": [
    "# Set index to [\"fid\", \"pid\"]"
   ]
  },
  {
   "cell_type": "code",
   "execution_count": 10,
   "metadata": {},
   "outputs": [],
   "source": [
    "complete_playlists.set_index([\"fid\", \"pid\"], inplace=True)\n",
    "complete_playlists.sort_index(inplace = True) # Sort index to make indexing faster later"
   ]
  },
  {
   "cell_type": "markdown",
   "metadata": {},
   "source": [
    "# Get all unique songs, artists, and albums for Collaborative Filtering"
   ]
  },
  {
   "cell_type": "code",
   "execution_count": 11,
   "metadata": {
    "scrolled": true
   },
   "outputs": [],
   "source": [
    "all_unique_songs = complete_playlists['track_name'].unique()\n",
    "all_unique_albums = complete_playlists['album_name'].unique()\n",
    "all_unique_artists = complete_playlists['artist_name'].unique()"
   ]
  },
  {
   "cell_type": "markdown",
   "metadata": {},
   "source": [
    "# Make unique playlist ID's and split into train and test"
   ]
  },
  {
   "cell_type": "code",
   "execution_count": 12,
   "metadata": {},
   "outputs": [],
   "source": [
    "unique_playlist_ids = np.unique(complete_playlists.index.values)\n",
    "np.random.shuffle(unique_playlist_ids)\n",
    "\n",
    "# 0.8 Test and 0.2 Train Split\n",
    "train_idx_cutoff = int(0.8 * unique_playlist_ids.shape[0])\n",
    "train_playlist_ids = unique_playlist_ids[0:train_idx_cutoff]\n",
    "test_playlist_ids = unique_playlist_ids[train_idx_cutoff:unique_playlist_ids.shape[0]]"
   ]
  },
  {
   "cell_type": "markdown",
   "metadata": {},
   "source": [
    "# Create Sparse Matrix"
   ]
  },
  {
   "cell_type": "code",
   "execution_count": 15,
   "metadata": {},
   "outputs": [],
   "source": [
    "# Create sparse matrix based on passed in filter methods\n",
    "def createSparseMatrix(train_playlist_ids, all_candidates_filter, filter_method = \"track_name\"):    \n",
    "    rows_list = []\n",
    "    for ids in train_playlist_ids:\n",
    "        playlist_filter = complete_playlists.loc[pd.IndexSlice[ids]][filter_method]\n",
    "        ones_idx = np.where(np.isin(all_candidates_filter, playlist_filter))[0]\n",
    "        row = np.zeros(all_candidates_filter.shape)\n",
    "        row[ones_idx] = 1 / playlist_filter.shape[0]\n",
    "        rows_list.append(row)\n",
    "    train_sparse = sp.sparse.csr_matrix(np.vstack(rows_list))\n",
    "    return train_sparse"
   ]
  },
  {
   "cell_type": "markdown",
   "metadata": {},
   "source": [
    "# Create Sparse Matricies"
   ]
  },
  {
   "cell_type": "code",
   "execution_count": 16,
   "metadata": {
    "scrolled": true
   },
   "outputs": [],
   "source": [
    "song_sm = createSparseMatrix(train_playlist_ids, all_unique_songs, \"track_name\")\n",
    "artist_sm = createSparseMatrix(train_playlist_ids, all_unique_artists, \"artist_name\")\n",
    "album_sm = createSparseMatrix(train_playlist_ids, all_unique_albums, \"album_name\")"
   ]
  },
  {
   "cell_type": "markdown",
   "metadata": {},
   "source": [
    "# kNN with Collaborative Filtering on Songs"
   ]
  },
  {
   "cell_type": "code",
   "execution_count": 215,
   "metadata": {},
   "outputs": [],
   "source": [
    "model_knn_songs = NearestNeighbors(metric='cosine', \n",
    "                                   algorithm='brute', \n",
    "                                   n_neighbors=50, n_jobs=-1).fit(song_sm)\n",
    "model_knn_albums = NearestNeighbors(metric='cosine', \n",
    "                                    algorithm='brute', \n",
    "                                    n_neighbors=50, n_jobs=-1).fit(album_sm)\n",
    "model_knn_artists = NearestNeighbors(metric='cosine', \n",
    "                                     algorithm='brute', \n",
    "                                     n_neighbors=50, n_jobs=-1).fit(artist_sm)"
   ]
  },
  {
   "cell_type": "markdown",
   "metadata": {},
   "source": [
    "# Save Sparse Matricies"
   ]
  },
  {
   "cell_type": "code",
   "execution_count": 19,
   "metadata": {},
   "outputs": [],
   "source": [
    "sp.sparse.save_npz(\"sparse_train_tracks_final.npz\", song_sm)\n",
    "sp.sparse.save_npz(\"sparse_train_artists_final.npz\", artist_sm)\n",
    "sp.sparse.save_npz(\"sparse_train_albums_final.npz\", album_sm)"
   ]
  },
  {
   "cell_type": "markdown",
   "metadata": {},
   "source": [
    "# Create Sparse Vector for Test Playlists"
   ]
  },
  {
   "cell_type": "code",
   "execution_count": 20,
   "metadata": {},
   "outputs": [],
   "source": [
    "def createSparseVector(test_playlist, all_candidates_filter, filter_method = \"track_name\"):\n",
    "    # Takes a playlist and creates a sparse vector\n",
    "    test_playlist_filter = test_playlist[filter_method]\n",
    "    ones_idx = np.where(np.isin(all_candidates_filter, test_playlist_filter))\n",
    "    row = np.zeros(all_candidates_filter.shape)\n",
    "    row[ones_idx] = 1\n",
    "    return row"
   ]
  },
  {
   "cell_type": "markdown",
   "metadata": {},
   "source": [
    "# Split Test Set into Train and Validation\n",
    "\n",
    "test_playlist_ids: These are the ids for the playlists that we want to make predictions on\n",
    "- We split each test playlist into a \"train\" and \"validation\" set. \n",
    "- We create sparse matrices from the train part, to create a similarity value for the test playlist to existing playlists in our database. 3 are created for our 3 collaborative filtering techniques\n",
    "- Then, we use the similarity value to choose playlists that are most similar and recommend the songs from that playlist"
   ]
  },
  {
   "cell_type": "code",
   "execution_count": 229,
   "metadata": {},
   "outputs": [],
   "source": [
    "random.seed(109)\n",
    "# Sparse matrices for the three collaborative filtering techniques\n",
    "song_sm_list = []\n",
    "album_sm_list = []\n",
    "artist_sm_list = []\n",
    "# Creating a list of validation songs that we later test against\n",
    "val_list = []\n",
    "test_list = []\n",
    "\n",
    "# For each playlist in test playlists\n",
    "for ids in test_playlist_ids:\n",
    "    test_playlist = complete_playlists.loc[ids]\n",
    "    \n",
    "    # Split into test songs and validation songs\n",
    "    idx = np.random.choice(np.arange(len(test_playlist)), int(0.8 * len(test_playlist)), replace=False)\n",
    "    test_idx = np.where(np.isin(np.arange(len(test_playlist)), idx, invert=True))[0]\n",
    "    predictor_playlist = test_playlist.iloc[idx]\n",
    "    evaluation_playlist = test_playlist.iloc[test_idx]\n",
    "    val_list.append(evaluation_playlist)\n",
    "    test_list.append(predictor_playlist)\n",
    "    \n",
    "    # Make the sparse vector for each test playlist - cf on songs\n",
    "    sparse_song_row = createSparseVector(predictor_playlist, all_unique_songs, \"track_name\")\n",
    "    song_sm_list.append(sparse_song_row)\n",
    "    \n",
    "    # Make the sparse vector for each test playlist - cf on album\n",
    "    sparse_album_row = createSparseVector(predictor_playlist, all_unique_albums, \"album_name\")\n",
    "    album_sm_list.append(sparse_album_row)\n",
    "    \n",
    "    # Make the sparse vector for each test playlist - cf on artist\n",
    "    sparse_artist_row = createSparseVector(predictor_playlist, all_unique_artists, \"artist_name\")\n",
    "    artist_sm_list.append(sparse_artist_row)\n",
    "\n",
    "# Compile all vectors for test playlists into a sparse matrix\n",
    "test_song_sm = sp.sparse.csr_matrix(np.vstack(song_sm_list))\n",
    "test_album_sm = sp.sparse.csr_matrix(np.vstack(album_sm_list))\n",
    "test_artist_sm = sp.sparse.csr_matrix(np.vstack(artist_sm_list))\n",
    "\n",
    "# Store the validation sets of each playlist\n",
    "val_df = pd.concat(val_list)\n",
    "test_indices = test_playlist_ids"
   ]
  },
  {
   "cell_type": "code",
   "execution_count": 230,
   "metadata": {},
   "outputs": [],
   "source": [
    "sp.sparse.save_npz(\"sparse_test_tracks_final.npz\", test_song_sm)\n",
    "sp.sparse.save_npz(\"sparse_test_artists_final.npz\", test_artist_sm)\n",
    "sp.sparse.save_npz(\"sparse_test_albums_final.npz\", test_album_sm)"
   ]
  },
  {
   "cell_type": "markdown",
   "metadata": {},
   "source": [
    "# Prediction Function"
   ]
  },
  {
   "cell_type": "code",
   "execution_count": 266,
   "metadata": {},
   "outputs": [],
   "source": [
    "def getSongPredictions(X, model, train_indices, candidate_playlists, top_n, test_list, filter_method):\n",
    "    distances, neighbors = model.kneighbors(X)\n",
    "    predictions_list = []\n",
    "    # For each playlist in the sparse matrix passed in\n",
    "    for i in range(len(test_list)):\n",
    "        best_candidates = neighbors[i][distances[i] != 1]\n",
    "        best_distances = distances[i][distances[i] != 1]\n",
    "        if best_candidates.size != 0:\n",
    "            # get the IDs in candidate_playlists [our database of playlists] with the lowest distance\n",
    "            candidate_idx = train_indices[best_candidates]\n",
    "        else:\n",
    "            # TODO: Change\n",
    "            predictions_list.append(pd.DataFrame(columns = candidate_playlists.columns))\n",
    "            continue\n",
    "            \n",
    "        candidates_df = candidate_playlists.loc[candidate_idx]\n",
    "        \n",
    "        # transform the best_distances into a form that can be concatenated\n",
    "        lengths = candidates_df.groupby(level=[0,1])[\"pos\"].count().values\n",
    "        candidates_df[f\"{filter_method}_distance\"] = np.repeat(best_distances, lengths)\n",
    "        \n",
    "        # want only the songs that are not in the test playlist\n",
    "        idx_songs_in_playlist = np.where(np.isin(candidates_df[\"track_name\"].values,\n",
    "                                                 test_list[i][\"track_name\"].values, invert=True))[0]\n",
    "        not_in_train_df = candidates_df.loc[idx_songs_in_playlist]\n",
    "        \n",
    "        # drop duplicates from final recommendation list\n",
    "        no_duplicates_df = not_in_train_df.drop_duplicates(\"track_name\")\n",
    "        if no_duplicates_df.shape[0] < top_n:\n",
    "            predictions_list.append(no_duplicates_df)\n",
    "        else:\n",
    "            predictions_list.append(no_duplicates_df.iloc[0:top_n])\n",
    "    return predictions_list"
   ]
  },
  {
   "cell_type": "markdown",
   "metadata": {},
   "source": [
    "# Prediction with CF on Songs"
   ]
  },
  {
   "cell_type": "code",
   "execution_count": 267,
   "metadata": {},
   "outputs": [],
   "source": [
    "predictions_cf_song = getSongPredictions(test_song_sm, model_knn_songs, \n",
    "                                         train_playlist_ids, complete_playlists, \n",
    "                                         500, test_list, \"song\")"
   ]
  },
  {
   "cell_type": "code",
   "execution_count": 271,
   "metadata": {},
   "outputs": [
    {
     "data": {
      "text/plain": [
       "496.0345"
      ]
     },
     "execution_count": 271,
     "metadata": {},
     "output_type": "execute_result"
    }
   ],
   "source": [
    "np.mean([i.shape[0] for i in predictions_cf_song])"
   ]
  },
  {
   "cell_type": "markdown",
   "metadata": {},
   "source": [
    "# Prediction with CF on Artists"
   ]
  },
  {
   "cell_type": "code",
   "execution_count": 268,
   "metadata": {},
   "outputs": [],
   "source": [
    "predictions_cf_artist = getSongPredictions(test_artist_sm, model_knn_artists, \n",
    "                                           train_playlist_ids, complete_playlists, \n",
    "                                           500, test_list, \"artist\")"
   ]
  },
  {
   "cell_type": "code",
   "execution_count": 270,
   "metadata": {},
   "outputs": [
    {
     "data": {
      "text/plain": [
       "488.2035"
      ]
     },
     "execution_count": 270,
     "metadata": {},
     "output_type": "execute_result"
    }
   ],
   "source": [
    "np.mean([i.shape[0] for i in predictions_cf_artist])"
   ]
  },
  {
   "cell_type": "markdown",
   "metadata": {},
   "source": [
    "# Prediction with CF on Album"
   ]
  },
  {
   "cell_type": "code",
   "execution_count": 269,
   "metadata": {},
   "outputs": [],
   "source": [
    "predictions_cf_album = getSongPredictions(test_album_sm, model_knn_albums, \n",
    "                                          train_playlist_ids, complete_playlists, \n",
    "                                          500, test_list, \"album\")"
   ]
  },
  {
   "cell_type": "code",
   "execution_count": 272,
   "metadata": {},
   "outputs": [
    {
     "data": {
      "text/plain": [
       "485.5125"
      ]
     },
     "execution_count": 272,
     "metadata": {},
     "output_type": "execute_result"
    }
   ],
   "source": [
    "np.mean([i.shape[0] for i in predictions_cf_album])"
   ]
  },
  {
   "cell_type": "markdown",
   "metadata": {},
   "source": [
    "# Evaluate CF on Songs"
   ]
  },
  {
   "cell_type": "code",
   "execution_count": 239,
   "metadata": {},
   "outputs": [],
   "source": [
    "def clickEvaluation(val_list, predictions_list):\n",
    "    clicks = []\n",
    "    for i in range(len(val_list)):\n",
    "        predictions = predictions_list[i]\n",
    "        val_playlist = val_list[i]\n",
    "        positions_matching = np.where(np.isin(predictions[\"track_name\"].values, val_playlist['track_name'].values))[0]\n",
    "        if positions_matching.size == 0:\n",
    "            clicks.append(50)\n",
    "        else:\n",
    "            clicks.append(math.floor(positions_matching[0] / 10))\n",
    "    return np.mean(clicks)"
   ]
  },
  {
   "cell_type": "code",
   "execution_count": 240,
   "metadata": {
    "scrolled": false
   },
   "outputs": [
    {
     "data": {
      "text/plain": [
       "11.02"
      ]
     },
     "execution_count": 240,
     "metadata": {},
     "output_type": "execute_result"
    }
   ],
   "source": [
    "clickEvaluation(val_list, predictions_cf_song)"
   ]
  },
  {
   "cell_type": "markdown",
   "metadata": {},
   "source": [
    "# Evaluate CF on Artists"
   ]
  },
  {
   "cell_type": "code",
   "execution_count": 248,
   "metadata": {},
   "outputs": [
    {
     "data": {
      "text/plain": [
       "12.105"
      ]
     },
     "execution_count": 248,
     "metadata": {},
     "output_type": "execute_result"
    }
   ],
   "source": [
    "clickEvaluation(val_list, predictions_cf_artist)"
   ]
  },
  {
   "cell_type": "markdown",
   "metadata": {},
   "source": [
    "# Evaluate CF on Albums"
   ]
  },
  {
   "cell_type": "code",
   "execution_count": 249,
   "metadata": {},
   "outputs": [
    {
     "data": {
      "text/plain": [
       "11.092"
      ]
     },
     "execution_count": 249,
     "metadata": {},
     "output_type": "execute_result"
    }
   ],
   "source": [
    "clickEvaluation(val_list, predictions_cf_album)"
   ]
  },
  {
   "cell_type": "markdown",
   "metadata": {},
   "source": [
    "# Load Song Info"
   ]
  },
  {
   "cell_type": "code",
   "execution_count": 31,
   "metadata": {},
   "outputs": [],
   "source": [
    "tracks_with_info = pd.read_csv(\"total_songs_clean.csv\")"
   ]
  },
  {
   "cell_type": "code",
   "execution_count": 33,
   "metadata": {},
   "outputs": [
    {
     "data": {
      "text/html": [
       "<div>\n",
       "<style scoped>\n",
       "    .dataframe tbody tr th:only-of-type {\n",
       "        vertical-align: middle;\n",
       "    }\n",
       "\n",
       "    .dataframe tbody tr th {\n",
       "        vertical-align: top;\n",
       "    }\n",
       "\n",
       "    .dataframe thead th {\n",
       "        text-align: right;\n",
       "    }\n",
       "</style>\n",
       "<table border=\"1\" class=\"dataframe\">\n",
       "  <thead>\n",
       "    <tr style=\"text-align: right;\">\n",
       "      <th></th>\n",
       "      <th>danceability</th>\n",
       "      <th>energy</th>\n",
       "      <th>key</th>\n",
       "      <th>loudness</th>\n",
       "      <th>mode</th>\n",
       "      <th>speechiness</th>\n",
       "      <th>acousticness</th>\n",
       "      <th>instrumentalness</th>\n",
       "      <th>liveness</th>\n",
       "      <th>valence</th>\n",
       "      <th>...</th>\n",
       "      <th>type</th>\n",
       "      <th>id</th>\n",
       "      <th>uri</th>\n",
       "      <th>track_href</th>\n",
       "      <th>analysis_url</th>\n",
       "      <th>duration_ms</th>\n",
       "      <th>time_signature</th>\n",
       "      <th>artist_name</th>\n",
       "      <th>track_name</th>\n",
       "      <th>album_name</th>\n",
       "    </tr>\n",
       "  </thead>\n",
       "  <tbody>\n",
       "    <tr>\n",
       "      <th>0</th>\n",
       "      <td>0.369</td>\n",
       "      <td>0.2230</td>\n",
       "      <td>9</td>\n",
       "      <td>-15.993</td>\n",
       "      <td>1</td>\n",
       "      <td>0.0564</td>\n",
       "      <td>0.957000</td>\n",
       "      <td>0.860000</td>\n",
       "      <td>0.124</td>\n",
       "      <td>0.212</td>\n",
       "      <td>...</td>\n",
       "      <td>audio_features</td>\n",
       "      <td>3R8bbBLfCrl3wXELLDuZiA</td>\n",
       "      <td>spotify:track:3R8bbBLfCrl3wXELLDuZiA</td>\n",
       "      <td>https://api.spotify.com/v1/tracks/3R8bbBLfCrl3...</td>\n",
       "      <td>https://api.spotify.com/v1/audio-analysis/3R8b...</td>\n",
       "      <td>196733</td>\n",
       "      <td>4</td>\n",
       "      <td>Kagan Publishing</td>\n",
       "      <td>The Road to Lucia</td>\n",
       "      <td>Brain Boosters: Inspired Thinking</td>\n",
       "    </tr>\n",
       "    <tr>\n",
       "      <th>1</th>\n",
       "      <td>0.664</td>\n",
       "      <td>0.6050</td>\n",
       "      <td>4</td>\n",
       "      <td>-5.477</td>\n",
       "      <td>0</td>\n",
       "      <td>0.2580</td>\n",
       "      <td>0.242000</td>\n",
       "      <td>0.000000</td>\n",
       "      <td>0.161</td>\n",
       "      <td>0.397</td>\n",
       "      <td>...</td>\n",
       "      <td>audio_features</td>\n",
       "      <td>5Zk7ELDEXqcHZk2euHPVb9</td>\n",
       "      <td>spotify:track:5Zk7ELDEXqcHZk2euHPVb9</td>\n",
       "      <td>https://api.spotify.com/v1/tracks/5Zk7ELDEXqcH...</td>\n",
       "      <td>https://api.spotify.com/v1/audio-analysis/5Zk7...</td>\n",
       "      <td>192320</td>\n",
       "      <td>4</td>\n",
       "      <td>Cherine Anderson</td>\n",
       "      <td>Coming Over Tonight (feat. Chuck Fender)</td>\n",
       "      <td>The Introduction - EP</td>\n",
       "    </tr>\n",
       "    <tr>\n",
       "      <th>2</th>\n",
       "      <td>0.740</td>\n",
       "      <td>0.7120</td>\n",
       "      <td>9</td>\n",
       "      <td>-7.260</td>\n",
       "      <td>0</td>\n",
       "      <td>0.0814</td>\n",
       "      <td>0.071800</td>\n",
       "      <td>0.000000</td>\n",
       "      <td>0.330</td>\n",
       "      <td>0.742</td>\n",
       "      <td>...</td>\n",
       "      <td>audio_features</td>\n",
       "      <td>5tg8mN8KqRfwIvkXF0tRr4</td>\n",
       "      <td>spotify:track:5tg8mN8KqRfwIvkXF0tRr4</td>\n",
       "      <td>https://api.spotify.com/v1/tracks/5tg8mN8KqRfw...</td>\n",
       "      <td>https://api.spotify.com/v1/audio-analysis/5tg8...</td>\n",
       "      <td>276093</td>\n",
       "      <td>4</td>\n",
       "      <td>Kirk Franklin</td>\n",
       "      <td>Keep Your Head</td>\n",
       "      <td>Hero</td>\n",
       "    </tr>\n",
       "    <tr>\n",
       "      <th>3</th>\n",
       "      <td>0.623</td>\n",
       "      <td>0.8630</td>\n",
       "      <td>1</td>\n",
       "      <td>-8.161</td>\n",
       "      <td>0</td>\n",
       "      <td>0.0776</td>\n",
       "      <td>0.000811</td>\n",
       "      <td>0.000002</td>\n",
       "      <td>0.128</td>\n",
       "      <td>0.734</td>\n",
       "      <td>...</td>\n",
       "      <td>audio_features</td>\n",
       "      <td>10qeFHxbayfrkH2kX9kTnv</td>\n",
       "      <td>spotify:track:10qeFHxbayfrkH2kX9kTnv</td>\n",
       "      <td>https://api.spotify.com/v1/tracks/10qeFHxbayfr...</td>\n",
       "      <td>https://api.spotify.com/v1/audio-analysis/10qe...</td>\n",
       "      <td>136067</td>\n",
       "      <td>4</td>\n",
       "      <td>Limp</td>\n",
       "      <td>Bug Dance</td>\n",
       "      <td>Pop &amp; Disorderly</td>\n",
       "    </tr>\n",
       "    <tr>\n",
       "      <th>4</th>\n",
       "      <td>0.413</td>\n",
       "      <td>0.0302</td>\n",
       "      <td>10</td>\n",
       "      <td>-26.692</td>\n",
       "      <td>1</td>\n",
       "      <td>0.0350</td>\n",
       "      <td>0.957000</td>\n",
       "      <td>0.443000</td>\n",
       "      <td>0.113</td>\n",
       "      <td>0.254</td>\n",
       "      <td>...</td>\n",
       "      <td>audio_features</td>\n",
       "      <td>18LVcYNiF05oDfEQ7HEhNR</td>\n",
       "      <td>spotify:track:18LVcYNiF05oDfEQ7HEhNR</td>\n",
       "      <td>https://api.spotify.com/v1/tracks/18LVcYNiF05o...</td>\n",
       "      <td>https://api.spotify.com/v1/audio-analysis/18LV...</td>\n",
       "      <td>233627</td>\n",
       "      <td>4</td>\n",
       "      <td>Ludwig van Beethoven</td>\n",
       "      <td>Beethoven : Symphony No.8 in F major Op.93 : I...</td>\n",
       "      <td>Beethoven : Symphonies Nos 1 - 9</td>\n",
       "    </tr>\n",
       "  </tbody>\n",
       "</table>\n",
       "<p>5 rows × 21 columns</p>\n",
       "</div>"
      ],
      "text/plain": [
       "   danceability  energy  key  loudness  mode  speechiness  acousticness  \\\n",
       "0         0.369  0.2230    9   -15.993     1       0.0564      0.957000   \n",
       "1         0.664  0.6050    4    -5.477     0       0.2580      0.242000   \n",
       "2         0.740  0.7120    9    -7.260     0       0.0814      0.071800   \n",
       "3         0.623  0.8630    1    -8.161     0       0.0776      0.000811   \n",
       "4         0.413  0.0302   10   -26.692     1       0.0350      0.957000   \n",
       "\n",
       "   instrumentalness  liveness  valence  ...            type  \\\n",
       "0          0.860000     0.124    0.212  ...  audio_features   \n",
       "1          0.000000     0.161    0.397  ...  audio_features   \n",
       "2          0.000000     0.330    0.742  ...  audio_features   \n",
       "3          0.000002     0.128    0.734  ...  audio_features   \n",
       "4          0.443000     0.113    0.254  ...  audio_features   \n",
       "\n",
       "                       id                                   uri  \\\n",
       "0  3R8bbBLfCrl3wXELLDuZiA  spotify:track:3R8bbBLfCrl3wXELLDuZiA   \n",
       "1  5Zk7ELDEXqcHZk2euHPVb9  spotify:track:5Zk7ELDEXqcHZk2euHPVb9   \n",
       "2  5tg8mN8KqRfwIvkXF0tRr4  spotify:track:5tg8mN8KqRfwIvkXF0tRr4   \n",
       "3  10qeFHxbayfrkH2kX9kTnv  spotify:track:10qeFHxbayfrkH2kX9kTnv   \n",
       "4  18LVcYNiF05oDfEQ7HEhNR  spotify:track:18LVcYNiF05oDfEQ7HEhNR   \n",
       "\n",
       "                                          track_href  \\\n",
       "0  https://api.spotify.com/v1/tracks/3R8bbBLfCrl3...   \n",
       "1  https://api.spotify.com/v1/tracks/5Zk7ELDEXqcH...   \n",
       "2  https://api.spotify.com/v1/tracks/5tg8mN8KqRfw...   \n",
       "3  https://api.spotify.com/v1/tracks/10qeFHxbayfr...   \n",
       "4  https://api.spotify.com/v1/tracks/18LVcYNiF05o...   \n",
       "\n",
       "                                        analysis_url duration_ms  \\\n",
       "0  https://api.spotify.com/v1/audio-analysis/3R8b...      196733   \n",
       "1  https://api.spotify.com/v1/audio-analysis/5Zk7...      192320   \n",
       "2  https://api.spotify.com/v1/audio-analysis/5tg8...      276093   \n",
       "3  https://api.spotify.com/v1/audio-analysis/10qe...      136067   \n",
       "4  https://api.spotify.com/v1/audio-analysis/18LV...      233627   \n",
       "\n",
       "   time_signature           artist_name  \\\n",
       "0               4      Kagan Publishing   \n",
       "1               4      Cherine Anderson   \n",
       "2               4         Kirk Franklin   \n",
       "3               4                  Limp   \n",
       "4               4  Ludwig van Beethoven   \n",
       "\n",
       "                                          track_name  \\\n",
       "0                                  The Road to Lucia   \n",
       "1           Coming Over Tonight (feat. Chuck Fender)   \n",
       "2                                     Keep Your Head   \n",
       "3                                          Bug Dance   \n",
       "4  Beethoven : Symphony No.8 in F major Op.93 : I...   \n",
       "\n",
       "                          album_name  \n",
       "0  Brain Boosters: Inspired Thinking  \n",
       "1              The Introduction - EP  \n",
       "2                               Hero  \n",
       "3                   Pop & Disorderly  \n",
       "4   Beethoven : Symphonies Nos 1 - 9  \n",
       "\n",
       "[5 rows x 21 columns]"
      ]
     },
     "execution_count": 33,
     "metadata": {},
     "output_type": "execute_result"
    }
   ],
   "source": [
    "tracks_with_info.head()"
   ]
  },
  {
   "cell_type": "code",
   "execution_count": 131,
   "metadata": {},
   "outputs": [],
   "source": [
    "matching_songs = complete_playlists.loc[complete_playlists[\"track_uri\"].isin(tracks_with_info[\"uri\"]), \"track_uri\"].unique()"
   ]
  },
  {
   "cell_type": "code",
   "execution_count": 132,
   "metadata": {},
   "outputs": [
    {
     "data": {
      "text/plain": [
       "(63709,)"
      ]
     },
     "execution_count": 132,
     "metadata": {},
     "output_type": "execute_result"
    }
   ],
   "source": [
    "matching_songs.shape"
   ]
  },
  {
   "cell_type": "code",
   "execution_count": 133,
   "metadata": {},
   "outputs": [],
   "source": [
    "missing_songs = complete_playlists.loc[~complete_playlists[\"track_uri\"].isin(tracks_with_info[\"uri\"]), \"track_uri\"].unique()"
   ]
  },
  {
   "cell_type": "code",
   "execution_count": 134,
   "metadata": {},
   "outputs": [
    {
     "data": {
      "text/plain": [
       "(110481,)"
      ]
     },
     "execution_count": 134,
     "metadata": {},
     "output_type": "execute_result"
    }
   ],
   "source": [
    "missing_songs.shape"
   ]
  },
  {
   "cell_type": "code",
   "execution_count": 135,
   "metadata": {},
   "outputs": [
    {
     "data": {
      "text/plain": [
       "(135750,)"
      ]
     },
     "execution_count": 135,
     "metadata": {},
     "output_type": "execute_result"
    }
   ],
   "source": [
    "all_unique_songs.shape"
   ]
  },
  {
   "cell_type": "markdown",
   "metadata": {},
   "source": [
    "# Need to Scrape the Remaining Songs"
   ]
  },
  {
   "cell_type": "code",
   "execution_count": 67,
   "metadata": {},
   "outputs": [],
   "source": [
    "to_fetch = []\n",
    "for track in missing_songs:\n",
    "    to_fetch.append(track.split(\":\")[-1])"
   ]
  },
  {
   "cell_type": "code",
   "execution_count": 73,
   "metadata": {},
   "outputs": [],
   "source": [
    "track_ids_filtered = to_fetch\n",
    "api_key = \"BQBzq0fYBAPzwjLdM2G9NmhFkLrN-oI8TwkTlHqvATb-zCYxYqOwRP99Ik7VlJY4grVO0JT_9f04TMs8Yfx42Imnya4hOXCYvlc6w9qsuVRXwXPGGQAl9rTOQuWpLY-BO1Xepx5EN0mUpPJQ1NkawmTtm4muqXauvOs\""
   ]
  },
  {
   "cell_type": "code",
   "execution_count": 75,
   "metadata": {},
   "outputs": [],
   "source": [
    "BASE_URL = \"https://api.spotify.com/v1/audio-features?ids=\"\n",
    "features_dfs = []\n",
    "for i in range(0, len(track_ids_filtered), 100):\n",
    "    # print(i)\n",
    "    end = i+100 if i+100 < len(track_ids_filtered) else len(track_ids_filtered)\n",
    "    response = requests.get(BASE_URL + \",\".join(track_ids_filtered[i:end]), \n",
    "                            headers = {\"Authorization\": \"Bearer \" + api_key})\n",
    "    while response.status_code != 200:\n",
    "        if response.status_code == 429:\n",
    "            retry_after = int(response.headers['Retry-After'])\n",
    "            print(f\"Too many requests. Sleeping for {retry_after} seconds.\")\n",
    "            time.sleep(retry_after)\n",
    "        else:\n",
    "            print(\"Request failed! Trying again in 2 seconds.\")\n",
    "            time.sleep(2)\n",
    "        response = requests.get(BASE_URL + \",\".join(track_ids_filtered[i:end]), \n",
    "                                headers = {\"Authorization\": \"Bearer \" + api_key})\n",
    "    if \"audio_features\" in response.json():\n",
    "        features_dfs.append(response.json()[\"audio_features\"])"
   ]
  },
  {
   "cell_type": "code",
   "execution_count": 76,
   "metadata": {},
   "outputs": [],
   "source": [
    "# filter out jsons that are None!\n",
    "df_list = []\n",
    "for request in features_dfs:\n",
    "    for i in request:\n",
    "        if i:\n",
    "            df_list.append(i)\n",
    "fetched_songs = pd.DataFrame(df_list)"
   ]
  },
  {
   "cell_type": "code",
   "execution_count": 96,
   "metadata": {},
   "outputs": [],
   "source": [
    "name_uri = complete_playlists.loc[complete_playlists[\"track_uri\"].isin(fetched_songs[\"uri\"]), [\"artist_name\", \"track_name\", \"album_name\", \"track_uri\"]].groupby(\"track_uri\").first().reset_index()"
   ]
  },
  {
   "cell_type": "code",
   "execution_count": 99,
   "metadata": {},
   "outputs": [],
   "source": [
    "name_uri = name_uri.sort_values(\"track_uri\")"
   ]
  },
  {
   "cell_type": "code",
   "execution_count": 105,
   "metadata": {},
   "outputs": [],
   "source": [
    "fetched_songs = fetched_songs.sort_values(\"uri\").reset_index(drop=True)"
   ]
  },
  {
   "cell_type": "code",
   "execution_count": 109,
   "metadata": {},
   "outputs": [],
   "source": [
    "fetched_songs[\"artist_name\"] = name_uri.loc[name_uri[\"track_uri\"] == fetched_songs[\"uri\"], \"artist_name\"]\n",
    "fetched_songs[\"track_name\"] = name_uri.loc[name_uri[\"track_uri\"] == fetched_songs[\"uri\"], \"track_name\"]\n",
    "fetched_songs[\"album_name\"] = name_uri.loc[name_uri[\"track_uri\"] == fetched_songs[\"uri\"], \"album_name\"]"
   ]
  },
  {
   "cell_type": "code",
   "execution_count": 111,
   "metadata": {},
   "outputs": [
    {
     "data": {
      "text/html": [
       "<div>\n",
       "<style scoped>\n",
       "    .dataframe tbody tr th:only-of-type {\n",
       "        vertical-align: middle;\n",
       "    }\n",
       "\n",
       "    .dataframe tbody tr th {\n",
       "        vertical-align: top;\n",
       "    }\n",
       "\n",
       "    .dataframe thead th {\n",
       "        text-align: right;\n",
       "    }\n",
       "</style>\n",
       "<table border=\"1\" class=\"dataframe\">\n",
       "  <thead>\n",
       "    <tr style=\"text-align: right;\">\n",
       "      <th></th>\n",
       "      <th>danceability</th>\n",
       "      <th>energy</th>\n",
       "      <th>key</th>\n",
       "      <th>loudness</th>\n",
       "      <th>mode</th>\n",
       "      <th>speechiness</th>\n",
       "      <th>acousticness</th>\n",
       "      <th>instrumentalness</th>\n",
       "      <th>liveness</th>\n",
       "      <th>valence</th>\n",
       "      <th>...</th>\n",
       "      <th>type</th>\n",
       "      <th>id</th>\n",
       "      <th>uri</th>\n",
       "      <th>track_href</th>\n",
       "      <th>analysis_url</th>\n",
       "      <th>duration_ms</th>\n",
       "      <th>time_signature</th>\n",
       "      <th>artist_name</th>\n",
       "      <th>track_name</th>\n",
       "      <th>album_name</th>\n",
       "    </tr>\n",
       "  </thead>\n",
       "  <tbody>\n",
       "    <tr>\n",
       "      <th>0</th>\n",
       "      <td>0.631</td>\n",
       "      <td>0.5130</td>\n",
       "      <td>2</td>\n",
       "      <td>-6.376</td>\n",
       "      <td>1</td>\n",
       "      <td>0.0293</td>\n",
       "      <td>0.3660</td>\n",
       "      <td>0.000004</td>\n",
       "      <td>0.1090</td>\n",
       "      <td>0.307</td>\n",
       "      <td>...</td>\n",
       "      <td>audio_features</td>\n",
       "      <td>000DfZJww8KiixTKuk9usJ</td>\n",
       "      <td>spotify:track:000DfZJww8KiixTKuk9usJ</td>\n",
       "      <td>https://api.spotify.com/v1/tracks/000DfZJww8Ki...</td>\n",
       "      <td>https://api.spotify.com/v1/audio-analysis/000D...</td>\n",
       "      <td>357573</td>\n",
       "      <td>4</td>\n",
       "      <td>Mike Love</td>\n",
       "      <td>Earthlings</td>\n",
       "      <td>The Change I'm Seeking</td>\n",
       "    </tr>\n",
       "    <tr>\n",
       "      <th>1</th>\n",
       "      <td>0.496</td>\n",
       "      <td>0.0481</td>\n",
       "      <td>7</td>\n",
       "      <td>-26.668</td>\n",
       "      <td>0</td>\n",
       "      <td>0.0520</td>\n",
       "      <td>0.9790</td>\n",
       "      <td>0.767000</td>\n",
       "      <td>0.1100</td>\n",
       "      <td>0.125</td>\n",
       "      <td>...</td>\n",
       "      <td>audio_features</td>\n",
       "      <td>000JBgYWfJQqdFaRqu2n3f</td>\n",
       "      <td>spotify:track:000JBgYWfJQqdFaRqu2n3f</td>\n",
       "      <td>https://api.spotify.com/v1/tracks/000JBgYWfJQq...</td>\n",
       "      <td>https://api.spotify.com/v1/audio-analysis/000J...</td>\n",
       "      <td>227627</td>\n",
       "      <td>4</td>\n",
       "      <td>Joe Pass</td>\n",
       "      <td>Li'l Darlin'</td>\n",
       "      <td>Portrait</td>\n",
       "    </tr>\n",
       "    <tr>\n",
       "      <th>2</th>\n",
       "      <td>0.480</td>\n",
       "      <td>0.4840</td>\n",
       "      <td>7</td>\n",
       "      <td>-8.627</td>\n",
       "      <td>0</td>\n",
       "      <td>0.0265</td>\n",
       "      <td>0.5250</td>\n",
       "      <td>0.280000</td>\n",
       "      <td>0.0897</td>\n",
       "      <td>0.418</td>\n",
       "      <td>...</td>\n",
       "      <td>audio_features</td>\n",
       "      <td>000WiulMHlYGJ3fQKnRkfz</td>\n",
       "      <td>spotify:track:000WiulMHlYGJ3fQKnRkfz</td>\n",
       "      <td>https://api.spotify.com/v1/tracks/000WiulMHlYG...</td>\n",
       "      <td>https://api.spotify.com/v1/audio-analysis/000W...</td>\n",
       "      <td>257347</td>\n",
       "      <td>4</td>\n",
       "      <td>Smooth Jazz All Stars</td>\n",
       "      <td>No One Will Do</td>\n",
       "      <td>Smooth Jazz Tribute To Mary J. Blige Volume 2</td>\n",
       "    </tr>\n",
       "    <tr>\n",
       "      <th>3</th>\n",
       "      <td>0.509</td>\n",
       "      <td>0.8030</td>\n",
       "      <td>0</td>\n",
       "      <td>-6.743</td>\n",
       "      <td>1</td>\n",
       "      <td>0.0400</td>\n",
       "      <td>0.6840</td>\n",
       "      <td>0.000539</td>\n",
       "      <td>0.4630</td>\n",
       "      <td>0.651</td>\n",
       "      <td>...</td>\n",
       "      <td>audio_features</td>\n",
       "      <td>000xYdQfIZ4pDmBGzQalKU</td>\n",
       "      <td>spotify:track:000xYdQfIZ4pDmBGzQalKU</td>\n",
       "      <td>https://api.spotify.com/v1/tracks/000xYdQfIZ4p...</td>\n",
       "      <td>https://api.spotify.com/v1/audio-analysis/000x...</td>\n",
       "      <td>187119</td>\n",
       "      <td>4</td>\n",
       "      <td>Luan Santana</td>\n",
       "      <td>Eu, Você, O Mar e Ela</td>\n",
       "      <td>1977</td>\n",
       "    </tr>\n",
       "    <tr>\n",
       "      <th>4</th>\n",
       "      <td>0.531</td>\n",
       "      <td>0.9030</td>\n",
       "      <td>7</td>\n",
       "      <td>-3.006</td>\n",
       "      <td>1</td>\n",
       "      <td>0.0450</td>\n",
       "      <td>0.0135</td>\n",
       "      <td>0.000000</td>\n",
       "      <td>0.1130</td>\n",
       "      <td>0.316</td>\n",
       "      <td>...</td>\n",
       "      <td>audio_features</td>\n",
       "      <td>0012kFta5wCFogveUeJN2z</td>\n",
       "      <td>spotify:track:0012kFta5wCFogveUeJN2z</td>\n",
       "      <td>https://api.spotify.com/v1/tracks/0012kFta5wCF...</td>\n",
       "      <td>https://api.spotify.com/v1/audio-analysis/0012...</td>\n",
       "      <td>203733</td>\n",
       "      <td>4</td>\n",
       "      <td>Deaf Havana</td>\n",
       "      <td>Subterranean Bullshit Blues</td>\n",
       "      <td>Old Souls</td>\n",
       "    </tr>\n",
       "  </tbody>\n",
       "</table>\n",
       "<p>5 rows × 21 columns</p>\n",
       "</div>"
      ],
      "text/plain": [
       "   danceability  energy  key  loudness  mode  speechiness  acousticness  \\\n",
       "0         0.631  0.5130    2    -6.376     1       0.0293        0.3660   \n",
       "1         0.496  0.0481    7   -26.668     0       0.0520        0.9790   \n",
       "2         0.480  0.4840    7    -8.627     0       0.0265        0.5250   \n",
       "3         0.509  0.8030    0    -6.743     1       0.0400        0.6840   \n",
       "4         0.531  0.9030    7    -3.006     1       0.0450        0.0135   \n",
       "\n",
       "   instrumentalness  liveness  valence  ...            type  \\\n",
       "0          0.000004    0.1090    0.307  ...  audio_features   \n",
       "1          0.767000    0.1100    0.125  ...  audio_features   \n",
       "2          0.280000    0.0897    0.418  ...  audio_features   \n",
       "3          0.000539    0.4630    0.651  ...  audio_features   \n",
       "4          0.000000    0.1130    0.316  ...  audio_features   \n",
       "\n",
       "                       id                                   uri  \\\n",
       "0  000DfZJww8KiixTKuk9usJ  spotify:track:000DfZJww8KiixTKuk9usJ   \n",
       "1  000JBgYWfJQqdFaRqu2n3f  spotify:track:000JBgYWfJQqdFaRqu2n3f   \n",
       "2  000WiulMHlYGJ3fQKnRkfz  spotify:track:000WiulMHlYGJ3fQKnRkfz   \n",
       "3  000xYdQfIZ4pDmBGzQalKU  spotify:track:000xYdQfIZ4pDmBGzQalKU   \n",
       "4  0012kFta5wCFogveUeJN2z  spotify:track:0012kFta5wCFogveUeJN2z   \n",
       "\n",
       "                                          track_href  \\\n",
       "0  https://api.spotify.com/v1/tracks/000DfZJww8Ki...   \n",
       "1  https://api.spotify.com/v1/tracks/000JBgYWfJQq...   \n",
       "2  https://api.spotify.com/v1/tracks/000WiulMHlYG...   \n",
       "3  https://api.spotify.com/v1/tracks/000xYdQfIZ4p...   \n",
       "4  https://api.spotify.com/v1/tracks/0012kFta5wCF...   \n",
       "\n",
       "                                        analysis_url duration_ms  \\\n",
       "0  https://api.spotify.com/v1/audio-analysis/000D...      357573   \n",
       "1  https://api.spotify.com/v1/audio-analysis/000J...      227627   \n",
       "2  https://api.spotify.com/v1/audio-analysis/000W...      257347   \n",
       "3  https://api.spotify.com/v1/audio-analysis/000x...      187119   \n",
       "4  https://api.spotify.com/v1/audio-analysis/0012...      203733   \n",
       "\n",
       "   time_signature            artist_name                   track_name  \\\n",
       "0               4              Mike Love                   Earthlings   \n",
       "1               4               Joe Pass                 Li'l Darlin'   \n",
       "2               4  Smooth Jazz All Stars               No One Will Do   \n",
       "3               4           Luan Santana        Eu, Você, O Mar e Ela   \n",
       "4               4            Deaf Havana  Subterranean Bullshit Blues   \n",
       "\n",
       "                                      album_name  \n",
       "0                         The Change I'm Seeking  \n",
       "1                                       Portrait  \n",
       "2  Smooth Jazz Tribute To Mary J. Blige Volume 2  \n",
       "3                                           1977  \n",
       "4                                      Old Souls  \n",
       "\n",
       "[5 rows x 21 columns]"
      ]
     },
     "execution_count": 111,
     "metadata": {},
     "output_type": "execute_result"
    }
   ],
   "source": [
    "fetched_songs.head()"
   ]
  },
  {
   "cell_type": "code",
   "execution_count": 122,
   "metadata": {},
   "outputs": [],
   "source": [
    "tracks_with_info = tracks_with_info.groupby(\"uri\").first().reset_index()"
   ]
  },
  {
   "cell_type": "code",
   "execution_count": 125,
   "metadata": {},
   "outputs": [],
   "source": [
    "matching_track_df = tracks_with_info.loc[tracks_with_info[\"uri\"].isin(matching_songs)]"
   ]
  },
  {
   "cell_type": "code",
   "execution_count": 136,
   "metadata": {},
   "outputs": [],
   "source": [
    "all_acoustic_features = pd.concat([matching_track_df, fetched_songs], axis=0, sort=True)"
   ]
  },
  {
   "cell_type": "code",
   "execution_count": 137,
   "metadata": {},
   "outputs": [],
   "source": [
    "all_acoustic_features.to_csv(\"acoustic_features_10k_playlists.csv\", index=False)"
   ]
  },
  {
   "cell_type": "code",
   "execution_count": 139,
   "metadata": {},
   "outputs": [],
   "source": [
    "all_tracks = pd.concat([tracks_with_info, fetched_songs], axis=0, sort=True)"
   ]
  },
  {
   "cell_type": "code",
   "execution_count": 140,
   "metadata": {},
   "outputs": [],
   "source": [
    "all_tracks.to_csv(\"total_songs_clean_v2.csv\", index=False)"
   ]
  },
  {
   "cell_type": "markdown",
   "metadata": {},
   "source": [
    "# Explore"
   ]
  },
  {
   "cell_type": "code",
   "execution_count": 153,
   "metadata": {},
   "outputs": [
    {
     "data": {
      "text/plain": [
       "0              Still Got Time\n",
       "1            It's Alright Now\n",
       "2                   Wet Jeans\n",
       "3                      Ginger\n",
       "5          Yee - Original Mix\n",
       "                 ...         \n",
       "110476              Piano Boy\n",
       "110477         Fear & Delight\n",
       "110478                Iceberg\n",
       "110479    Let's Go Fly a Kite\n",
       "110480            Snow Fields\n",
       "Name: track_name, Length: 174190, dtype: object"
      ]
     },
     "execution_count": 153,
     "metadata": {},
     "output_type": "execute_result"
    }
   ],
   "source": [
    "all_acoustic_features[\"track_name\"]"
   ]
  },
  {
   "cell_type": "code",
   "execution_count": 155,
   "metadata": {},
   "outputs": [
    {
     "data": {
      "text/plain": [
       "array(['Vestiges', 'River - Live at SXSW 2015', 'Man On Fire', ...,\n",
       "       \"Rock 'N' Roll All Nite - Live\", 'All Apologies - Demo',\n",
       "       'Polly - Live In London / 1989'], dtype=object)"
      ]
     },
     "execution_count": 155,
     "metadata": {},
     "output_type": "execute_result"
    }
   ],
   "source": [
    "all_unique_songs"
   ]
  },
  {
   "cell_type": "code",
   "execution_count": 247,
   "metadata": {},
   "outputs": [],
   "source": [
    "np.save(\"test_playlist_ids\", train_playlist_ids)"
   ]
  },
  {
   "cell_type": "markdown",
   "metadata": {},
   "source": [
    "# Make a training matrix for NN"
   ]
  },
  {
   "cell_type": "code",
   "execution_count": 392,
   "metadata": {},
   "outputs": [],
   "source": [
    "tracks_to_consider = pd.read_csv(\"acoustic_features_10k_playlists.csv\")"
   ]
  },
  {
   "cell_type": "code",
   "execution_count": 389,
   "metadata": {
    "scrolled": false
   },
   "outputs": [],
   "source": [
    "#for i in range(len(predictions_cf_song)):\n",
    "for i in range(1):\n",
    "    total = pd.concat([predictions_cf_song[0], predictions_cf_album[0], predictions_cf_artist[0]], axis=0, sort=False)\n",
    "    total_grouped = total.groupby(\"track_name\", sort=False)\n",
    "    unique_preds = total.drop_duplicates(\"track_name\").copy().drop(['song_distance', 'artist_distance', 'album_distance'], axis=1).reset_index()\n",
    "    unique_preds['song_distance'] = total_grouped['song_distance'].max().reset_index(drop=True)\n",
    "    unique_preds['artist_distance'] = total_grouped['artist_distance'].max().reset_index(drop=True)\n",
    "    unique_preds['album_distance'] = total_grouped['album_distance'].max().reset_index(drop=True)\n",
    "    unique_preds.set_index([\"fid\", \"pid\"], inplace=True)\n",
    "    unique_preds.sort_index(inplace=True)\n",
    "    \n",
    "    # get where we are missing values\n",
    "    missing_vals_idx = np.unique(unique_preds.loc[unique_preds['song_distance'].isna() \n",
    "                                         | unique_preds['artist_distance'].isna()\n",
    "                                         | unique_preds['album_distance'].isna()].index)\n",
    "    for idx in missing_vals_idx:\n",
    "        train_row = np.where([train_id == idx for train_id in train_playlist_ids])[0][0]\n",
    "        song_val = cosine_distances(song_sm[train_row], test_song_sm[i])[0][0]\n",
    "        artist_val = cosine_distances(artist_sm[train_row], test_artist_sm[i])[0][0]\n",
    "        album_val = cosine_distances(album_sm[train_row], test_album_sm[i])[0][0]\n",
    "        unique_preds.loc[idx, ('song_distance', 'artist_distance', 'album_distance')] = (song_val, artist_val, album_val)\n",
    "        \n",
    "    # add cosine similarity with musical features\n",
    "    \n",
    "        \n",
    "        \n",
    "    "
   ]
  },
  {
   "cell_type": "code",
   "execution_count": 391,
   "metadata": {
    "scrolled": true
   },
   "outputs": [
    {
     "data": {
      "text/html": [
       "<div>\n",
       "<style scoped>\n",
       "    .dataframe tbody tr th:only-of-type {\n",
       "        vertical-align: middle;\n",
       "    }\n",
       "\n",
       "    .dataframe tbody tr th {\n",
       "        vertical-align: top;\n",
       "    }\n",
       "\n",
       "    .dataframe thead th {\n",
       "        text-align: right;\n",
       "    }\n",
       "</style>\n",
       "<table border=\"1\" class=\"dataframe\">\n",
       "  <thead>\n",
       "    <tr style=\"text-align: right;\">\n",
       "      <th></th>\n",
       "      <th></th>\n",
       "      <th>pos</th>\n",
       "      <th>artist_name</th>\n",
       "      <th>track_uri</th>\n",
       "      <th>artist_uri</th>\n",
       "      <th>track_name</th>\n",
       "      <th>album_uri</th>\n",
       "      <th>duration_ms</th>\n",
       "      <th>album_name</th>\n",
       "    </tr>\n",
       "    <tr>\n",
       "      <th>fid</th>\n",
       "      <th>pid</th>\n",
       "      <th></th>\n",
       "      <th></th>\n",
       "      <th></th>\n",
       "      <th></th>\n",
       "      <th></th>\n",
       "      <th></th>\n",
       "      <th></th>\n",
       "      <th></th>\n",
       "    </tr>\n",
       "  </thead>\n",
       "  <tbody>\n",
       "    <tr>\n",
       "      <th rowspan=\"11\" valign=\"top\">460</th>\n",
       "      <th>39</th>\n",
       "      <td>1</td>\n",
       "      <td>Selena Gomez</td>\n",
       "      <td>spotify:track:7pJgjBf82BrUQ3z7HdQvW1</td>\n",
       "      <td>spotify:artist:0C8ZW7ezQVs4URX5aX7Kqx</td>\n",
       "      <td>The Heart Wants What It Wants</td>\n",
       "      <td>spotify:album:3NkZqXMTPlFgbgvifgrhLN</td>\n",
       "      <td>227360</td>\n",
       "      <td>For You</td>\n",
       "    </tr>\n",
       "    <tr>\n",
       "      <th>39</th>\n",
       "      <td>76</td>\n",
       "      <td>David Guetta</td>\n",
       "      <td>spotify:track:285HeuLxsngjFn4GGegGNm</td>\n",
       "      <td>spotify:artist:1Cs0zKBU1kc0i8ypK3B9ai</td>\n",
       "      <td>Hey Mama (feat. Nicki Minaj, Bebe Rexha &amp; Afro...</td>\n",
       "      <td>spotify:album:77UW17CZFyCaRLHdHeofZu</td>\n",
       "      <td>192560</td>\n",
       "      <td>Listen</td>\n",
       "    </tr>\n",
       "    <tr>\n",
       "      <th>39</th>\n",
       "      <td>195</td>\n",
       "      <td>Justin Bieber</td>\n",
       "      <td>spotify:track:69bp2EbF7Q2rqc5N3ylezZ</td>\n",
       "      <td>spotify:artist:1uNFoZAHBGtllmzznpCI3s</td>\n",
       "      <td>Sorry</td>\n",
       "      <td>spotify:album:7fZH0aUAjY3ay25obOUf2a</td>\n",
       "      <td>200786</td>\n",
       "      <td>Purpose</td>\n",
       "    </tr>\n",
       "    <tr>\n",
       "      <th>39</th>\n",
       "      <td>5</td>\n",
       "      <td>Ella Henderson</td>\n",
       "      <td>spotify:track:4XPWKmy05Rcff6TLHNoNF8</td>\n",
       "      <td>spotify:artist:7nDsS0l5ZAzMedVRKPP8F1</td>\n",
       "      <td>Ghost</td>\n",
       "      <td>spotify:album:6FM2zi33hm46NY9mk5jIV8</td>\n",
       "      <td>213213</td>\n",
       "      <td>Chapter One (Deluxe Version)</td>\n",
       "    </tr>\n",
       "    <tr>\n",
       "      <th>39</th>\n",
       "      <td>142</td>\n",
       "      <td>Zedd</td>\n",
       "      <td>spotify:track:7FJP35tUJ2121EJsFpU1Gh</td>\n",
       "      <td>spotify:artist:2qxJFvFYMEDqd7ui6kSAcq</td>\n",
       "      <td>Beautiful Now</td>\n",
       "      <td>spotify:album:453l82SGKWDAlOpKkUSX1u</td>\n",
       "      <td>218292</td>\n",
       "      <td>True Colors</td>\n",
       "    </tr>\n",
       "    <tr>\n",
       "      <th>...</th>\n",
       "      <td>...</td>\n",
       "      <td>...</td>\n",
       "      <td>...</td>\n",
       "      <td>...</td>\n",
       "      <td>...</td>\n",
       "      <td>...</td>\n",
       "      <td>...</td>\n",
       "      <td>...</td>\n",
       "    </tr>\n",
       "    <tr>\n",
       "      <th>39</th>\n",
       "      <td>183</td>\n",
       "      <td>Years &amp; Years</td>\n",
       "      <td>spotify:track:3vx3J3TSgqR6BW4JBXf4Ui</td>\n",
       "      <td>spotify:artist:5vBSrE1xujD2FXYRarbAXc</td>\n",
       "      <td>Eyes Shut</td>\n",
       "      <td>spotify:album:09mWpzpUOSjjvK2iNqEIYn</td>\n",
       "      <td>198226</td>\n",
       "      <td>Communion</td>\n",
       "    </tr>\n",
       "    <tr>\n",
       "      <th>39</th>\n",
       "      <td>91</td>\n",
       "      <td>Katy Perry</td>\n",
       "      <td>spotify:track:4kgsK0fftHtg9gZOzkU5T2</td>\n",
       "      <td>spotify:artist:6jJ0s89eD6GaHleKKya26X</td>\n",
       "      <td>Dark Horse</td>\n",
       "      <td>spotify:album:4lFDt4sVpCni9DRHRmDjgG</td>\n",
       "      <td>215672</td>\n",
       "      <td>PRISM</td>\n",
       "    </tr>\n",
       "    <tr>\n",
       "      <th>39</th>\n",
       "      <td>170</td>\n",
       "      <td>The Weeknd</td>\n",
       "      <td>spotify:track:25khomWgBVamSdKw7hzm3l</td>\n",
       "      <td>spotify:artist:1Xyo4u8uXC1ZmMpatF05PJ</td>\n",
       "      <td>The Hills</td>\n",
       "      <td>spotify:album:28ZKQMoNBB0etKXZ97G2SN</td>\n",
       "      <td>242253</td>\n",
       "      <td>Beauty Behind The Madness</td>\n",
       "    </tr>\n",
       "    <tr>\n",
       "      <th>39</th>\n",
       "      <td>201</td>\n",
       "      <td>Daya</td>\n",
       "      <td>spotify:track:4Z3qm2aWGTJuJKnv3EWwyD</td>\n",
       "      <td>spotify:artist:6Dd3NScHWwnW6obMFbl1BH</td>\n",
       "      <td>Hide Away</td>\n",
       "      <td>spotify:album:2cE2eOy7alOZHpuelJEV8Q</td>\n",
       "      <td>192386</td>\n",
       "      <td>Sit Still, Look Pretty</td>\n",
       "    </tr>\n",
       "    <tr>\n",
       "      <th>39</th>\n",
       "      <td>88</td>\n",
       "      <td>Ariana Grande</td>\n",
       "      <td>spotify:track:7bJwvubZZaoGE1AGEfu8Fi</td>\n",
       "      <td>spotify:artist:66CXWjxzNUsdJxJ2JdwvnR</td>\n",
       "      <td>One Last Time</td>\n",
       "      <td>spotify:album:2ZnzBwKw4e2SHpGvOTWnj4</td>\n",
       "      <td>197253</td>\n",
       "      <td>My Everything</td>\n",
       "    </tr>\n",
       "  </tbody>\n",
       "</table>\n",
       "<p>169 rows × 8 columns</p>\n",
       "</div>"
      ],
      "text/plain": [
       "         pos     artist_name                             track_uri  \\\n",
       "fid pid                                                              \n",
       "460 39     1    Selena Gomez  spotify:track:7pJgjBf82BrUQ3z7HdQvW1   \n",
       "    39    76    David Guetta  spotify:track:285HeuLxsngjFn4GGegGNm   \n",
       "    39   195   Justin Bieber  spotify:track:69bp2EbF7Q2rqc5N3ylezZ   \n",
       "    39     5  Ella Henderson  spotify:track:4XPWKmy05Rcff6TLHNoNF8   \n",
       "    39   142            Zedd  spotify:track:7FJP35tUJ2121EJsFpU1Gh   \n",
       "...      ...             ...                                   ...   \n",
       "    39   183   Years & Years  spotify:track:3vx3J3TSgqR6BW4JBXf4Ui   \n",
       "    39    91      Katy Perry  spotify:track:4kgsK0fftHtg9gZOzkU5T2   \n",
       "    39   170      The Weeknd  spotify:track:25khomWgBVamSdKw7hzm3l   \n",
       "    39   201            Daya  spotify:track:4Z3qm2aWGTJuJKnv3EWwyD   \n",
       "    39    88   Ariana Grande  spotify:track:7bJwvubZZaoGE1AGEfu8Fi   \n",
       "\n",
       "                                    artist_uri  \\\n",
       "fid pid                                          \n",
       "460 39   spotify:artist:0C8ZW7ezQVs4URX5aX7Kqx   \n",
       "    39   spotify:artist:1Cs0zKBU1kc0i8ypK3B9ai   \n",
       "    39   spotify:artist:1uNFoZAHBGtllmzznpCI3s   \n",
       "    39   spotify:artist:7nDsS0l5ZAzMedVRKPP8F1   \n",
       "    39   spotify:artist:2qxJFvFYMEDqd7ui6kSAcq   \n",
       "...                                        ...   \n",
       "    39   spotify:artist:5vBSrE1xujD2FXYRarbAXc   \n",
       "    39   spotify:artist:6jJ0s89eD6GaHleKKya26X   \n",
       "    39   spotify:artist:1Xyo4u8uXC1ZmMpatF05PJ   \n",
       "    39   spotify:artist:6Dd3NScHWwnW6obMFbl1BH   \n",
       "    39   spotify:artist:66CXWjxzNUsdJxJ2JdwvnR   \n",
       "\n",
       "                                                track_name  \\\n",
       "fid pid                                                      \n",
       "460 39                       The Heart Wants What It Wants   \n",
       "    39   Hey Mama (feat. Nicki Minaj, Bebe Rexha & Afro...   \n",
       "    39                                               Sorry   \n",
       "    39                                               Ghost   \n",
       "    39                                       Beautiful Now   \n",
       "...                                                    ...   \n",
       "    39                                           Eyes Shut   \n",
       "    39                                          Dark Horse   \n",
       "    39                                           The Hills   \n",
       "    39                                           Hide Away   \n",
       "    39                                       One Last Time   \n",
       "\n",
       "                                    album_uri duration_ms  \\\n",
       "fid pid                                                     \n",
       "460 39   spotify:album:3NkZqXMTPlFgbgvifgrhLN      227360   \n",
       "    39   spotify:album:77UW17CZFyCaRLHdHeofZu      192560   \n",
       "    39   spotify:album:7fZH0aUAjY3ay25obOUf2a      200786   \n",
       "    39   spotify:album:6FM2zi33hm46NY9mk5jIV8      213213   \n",
       "    39   spotify:album:453l82SGKWDAlOpKkUSX1u      218292   \n",
       "...                                       ...         ...   \n",
       "    39   spotify:album:09mWpzpUOSjjvK2iNqEIYn      198226   \n",
       "    39   spotify:album:4lFDt4sVpCni9DRHRmDjgG      215672   \n",
       "    39   spotify:album:28ZKQMoNBB0etKXZ97G2SN      242253   \n",
       "    39   spotify:album:2cE2eOy7alOZHpuelJEV8Q      192386   \n",
       "    39   spotify:album:2ZnzBwKw4e2SHpGvOTWnj4      197253   \n",
       "\n",
       "                           album_name  \n",
       "fid pid                                \n",
       "460 39                        For You  \n",
       "    39                         Listen  \n",
       "    39                        Purpose  \n",
       "    39   Chapter One (Deluxe Version)  \n",
       "    39                    True Colors  \n",
       "...                               ...  \n",
       "    39                      Communion  \n",
       "    39                          PRISM  \n",
       "    39      Beauty Behind The Madness  \n",
       "    39         Sit Still, Look Pretty  \n",
       "    39                  My Everything  \n",
       "\n",
       "[169 rows x 8 columns]"
      ]
     },
     "execution_count": 391,
     "metadata": {},
     "output_type": "execute_result"
    }
   ],
   "source": [
    "test_list[0]"
   ]
  },
  {
   "cell_type": "code",
   "execution_count": null,
   "metadata": {},
   "outputs": [],
   "source": []
  }
 ],
 "metadata": {
  "kernelspec": {
   "display_name": "Python 3",
   "language": "python",
   "name": "python3"
  },
  "language_info": {
   "codemirror_mode": {
    "name": "ipython",
    "version": 3
   },
   "file_extension": ".py",
   "mimetype": "text/x-python",
   "name": "python",
   "nbconvert_exporter": "python",
   "pygments_lexer": "ipython3",
   "version": "3.6.9"
  }
 },
 "nbformat": 4,
 "nbformat_minor": 2
}
