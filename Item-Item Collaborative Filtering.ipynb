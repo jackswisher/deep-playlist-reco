{
 "cells": [
  {
   "cell_type": "code",
   "execution_count": 1,
   "metadata": {},
   "outputs": [],
   "source": [
    "import os\n",
    "import sys\n",
    "import glob\n",
    "import time\n",
    "import datetime\n",
    "import math\n",
    "\n",
    "\n",
    "import numpy as np\n",
    "import pandas as pd\n",
    "import matplotlib.pyplot as plt\n",
    "import matplotlib\n",
    "import random\n",
    "from sklearn.neighbors import NearestNeighbors\n",
    "from sklearn.metrics.pairwise import cosine_similarity\n",
    "import scipy as sp"
   ]
  },
  {
   "cell_type": "markdown",
   "metadata": {},
   "source": [
    "Outline:\n",
    "* Want to create a training/test set to try CF on\n",
    "* Create SciPy sparse matrix from unique songs\n",
    "    - Rows: Playlists\n",
    "    - Columns: Songs in a given playlist\n",
    "* Filter + predict songs that are in the other playlists that have lowest distance"
   ]
  },
  {
   "cell_type": "markdown",
   "metadata": {},
   "source": [
    "POSSIBLE CHANGE: If a song appears multiple times in a single playlist, use number of occurrences rather than just presence"
   ]
  },
  {
   "cell_type": "markdown",
   "metadata": {},
   "source": [
    "TODO: TIME THE RUNTIME"
   ]
  },
  {
   "cell_type": "code",
   "execution_count": 2,
   "metadata": {},
   "outputs": [],
   "source": [
    "total_songs = pd.read_csv(\"total_songs_clean.csv\")"
   ]
  },
  {
   "cell_type": "code",
   "execution_count": 21,
   "metadata": {},
   "outputs": [],
   "source": [
    "complete_playlists = pd.read_csv(\"playlist_data.csv\")"
   ]
  },
  {
   "cell_type": "markdown",
   "metadata": {},
   "source": [
    "## Get train/test playlists"
   ]
  },
  {
   "cell_type": "code",
   "execution_count": 27,
   "metadata": {},
   "outputs": [],
   "source": [
    "unique_playlist_ids = np.unique(np.array(complete_playlists[[\"fid\", \"pid\"]]), axis=0)"
   ]
  },
  {
   "cell_type": "code",
   "execution_count": 33,
   "metadata": {},
   "outputs": [],
   "source": [
    "np.random.shuffle(unique_playlist_ids)"
   ]
  },
  {
   "cell_type": "code",
   "execution_count": 34,
   "metadata": {},
   "outputs": [],
   "source": [
    "train_idx_cutoff = int(0.8 * unique_playlist_ids.shape[0])\n",
    "train_playlist_ids = unique_playlist_ids[0:train_idx_cutoff]\n",
    "test_playlist_ids = unique_playlist_ids[train_idx_cutoff:unique_playlist_ids.shape[0]]"
   ]
  },
  {
   "cell_type": "markdown",
   "metadata": {},
   "source": [
    "## Create SciPy Spare Matrix"
   ]
  },
  {
   "cell_type": "code",
   "execution_count": null,
   "metadata": {},
   "outputs": [],
   "source": [
    "TODO: Change to numpy"
   ]
  },
  {
   "cell_type": "code",
   "execution_count": 35,
   "metadata": {},
   "outputs": [
    {
     "ename": "KeyboardInterrupt",
     "evalue": "",
     "output_type": "error",
     "traceback": [
      "\u001b[0;31m---------------------------------------------------------------------------\u001b[0m",
      "\u001b[0;31mKeyboardInterrupt\u001b[0m                         Traceback (most recent call last)",
      "\u001b[0;32m<ipython-input-35-f856b7177d41>\u001b[0m in \u001b[0;36m<module>\u001b[0;34m\u001b[0m\n\u001b[0;32m----> 1\u001b[0;31m \u001b[0mcol_names\u001b[0m \u001b[0;34m=\u001b[0m \u001b[0mcomplete_playlists\u001b[0m\u001b[0;34m[\u001b[0m\u001b[0;34m'track_name'\u001b[0m\u001b[0;34m]\u001b[0m\u001b[0;34m.\u001b[0m\u001b[0munique\u001b[0m\u001b[0;34m(\u001b[0m\u001b[0;34m)\u001b[0m\u001b[0;34m\u001b[0m\u001b[0;34m\u001b[0m\u001b[0m\n\u001b[0m\u001b[1;32m      2\u001b[0m \u001b[0mtrain_indices\u001b[0m \u001b[0;34m=\u001b[0m \u001b[0;34m[\u001b[0m\u001b[0;34m]\u001b[0m\u001b[0;34m\u001b[0m\u001b[0;34m\u001b[0m\u001b[0m\n\u001b[1;32m      3\u001b[0m \u001b[0mcomplete_playlists\u001b[0m\u001b[0;34m.\u001b[0m\u001b[0mset_index\u001b[0m\u001b[0;34m(\u001b[0m\u001b[0;34m[\u001b[0m\u001b[0;34m\"fid\"\u001b[0m\u001b[0;34m,\u001b[0m \u001b[0;34m\"pid\"\u001b[0m\u001b[0;34m]\u001b[0m\u001b[0;34m,\u001b[0m \u001b[0minplace\u001b[0m\u001b[0;34m=\u001b[0m\u001b[0;32mTrue\u001b[0m\u001b[0;34m)\u001b[0m\u001b[0;34m\u001b[0m\u001b[0;34m\u001b[0m\u001b[0m\n",
      "\u001b[0;32m//anaconda3/envs/tfcs109a/lib/python3.6/site-packages/pandas/core/series.py\u001b[0m in \u001b[0;36munique\u001b[0;34m(self)\u001b[0m\n\u001b[1;32m   1989\u001b[0m         \u001b[0mCategories\u001b[0m \u001b[0;34m(\u001b[0m\u001b[0;36m3\u001b[0m\u001b[0;34m,\u001b[0m \u001b[0mobject\u001b[0m\u001b[0;34m)\u001b[0m\u001b[0;34m:\u001b[0m \u001b[0;34m[\u001b[0m\u001b[0ma\u001b[0m \u001b[0;34m<\u001b[0m \u001b[0mb\u001b[0m \u001b[0;34m<\u001b[0m \u001b[0mc\u001b[0m\u001b[0;34m]\u001b[0m\u001b[0;34m\u001b[0m\u001b[0;34m\u001b[0m\u001b[0m\n\u001b[1;32m   1990\u001b[0m         \"\"\"\n\u001b[0;32m-> 1991\u001b[0;31m         \u001b[0mresult\u001b[0m \u001b[0;34m=\u001b[0m \u001b[0msuper\u001b[0m\u001b[0;34m(\u001b[0m\u001b[0;34m)\u001b[0m\u001b[0;34m.\u001b[0m\u001b[0munique\u001b[0m\u001b[0;34m(\u001b[0m\u001b[0;34m)\u001b[0m\u001b[0;34m\u001b[0m\u001b[0;34m\u001b[0m\u001b[0m\n\u001b[0m\u001b[1;32m   1992\u001b[0m         \u001b[0;32mreturn\u001b[0m \u001b[0mresult\u001b[0m\u001b[0;34m\u001b[0m\u001b[0;34m\u001b[0m\u001b[0m\n\u001b[1;32m   1993\u001b[0m \u001b[0;34m\u001b[0m\u001b[0m\n",
      "\u001b[0;32m//anaconda3/envs/tfcs109a/lib/python3.6/site-packages/pandas/core/base.py\u001b[0m in \u001b[0;36munique\u001b[0;34m(self)\u001b[0m\n\u001b[1;32m   1403\u001b[0m             \u001b[0;32mfrom\u001b[0m \u001b[0mpandas\u001b[0m\u001b[0;34m.\u001b[0m\u001b[0mcore\u001b[0m\u001b[0;34m.\u001b[0m\u001b[0malgorithms\u001b[0m \u001b[0;32mimport\u001b[0m \u001b[0munique1d\u001b[0m\u001b[0;34m\u001b[0m\u001b[0;34m\u001b[0m\u001b[0m\n\u001b[1;32m   1404\u001b[0m \u001b[0;34m\u001b[0m\u001b[0m\n\u001b[0;32m-> 1405\u001b[0;31m             \u001b[0mresult\u001b[0m \u001b[0;34m=\u001b[0m \u001b[0munique1d\u001b[0m\u001b[0;34m(\u001b[0m\u001b[0mvalues\u001b[0m\u001b[0;34m)\u001b[0m\u001b[0;34m\u001b[0m\u001b[0;34m\u001b[0m\u001b[0m\n\u001b[0m\u001b[1;32m   1406\u001b[0m \u001b[0;34m\u001b[0m\u001b[0m\n\u001b[1;32m   1407\u001b[0m         \u001b[0;32mreturn\u001b[0m \u001b[0mresult\u001b[0m\u001b[0;34m\u001b[0m\u001b[0;34m\u001b[0m\u001b[0m\n",
      "\u001b[0;32m//anaconda3/envs/tfcs109a/lib/python3.6/site-packages/pandas/core/algorithms.py\u001b[0m in \u001b[0;36munique\u001b[0;34m(values)\u001b[0m\n\u001b[1;32m    403\u001b[0m \u001b[0;34m\u001b[0m\u001b[0m\n\u001b[1;32m    404\u001b[0m     \u001b[0mtable\u001b[0m \u001b[0;34m=\u001b[0m \u001b[0mhtable\u001b[0m\u001b[0;34m(\u001b[0m\u001b[0mlen\u001b[0m\u001b[0;34m(\u001b[0m\u001b[0mvalues\u001b[0m\u001b[0;34m)\u001b[0m\u001b[0;34m)\u001b[0m\u001b[0;34m\u001b[0m\u001b[0;34m\u001b[0m\u001b[0m\n\u001b[0;32m--> 405\u001b[0;31m     \u001b[0muniques\u001b[0m \u001b[0;34m=\u001b[0m \u001b[0mtable\u001b[0m\u001b[0;34m.\u001b[0m\u001b[0munique\u001b[0m\u001b[0;34m(\u001b[0m\u001b[0mvalues\u001b[0m\u001b[0;34m)\u001b[0m\u001b[0;34m\u001b[0m\u001b[0;34m\u001b[0m\u001b[0m\n\u001b[0m\u001b[1;32m    406\u001b[0m     \u001b[0muniques\u001b[0m \u001b[0;34m=\u001b[0m \u001b[0m_reconstruct_data\u001b[0m\u001b[0;34m(\u001b[0m\u001b[0muniques\u001b[0m\u001b[0;34m,\u001b[0m \u001b[0mdtype\u001b[0m\u001b[0;34m,\u001b[0m \u001b[0moriginal\u001b[0m\u001b[0;34m)\u001b[0m\u001b[0;34m\u001b[0m\u001b[0;34m\u001b[0m\u001b[0m\n\u001b[1;32m    407\u001b[0m     \u001b[0;32mreturn\u001b[0m \u001b[0muniques\u001b[0m\u001b[0;34m\u001b[0m\u001b[0;34m\u001b[0m\u001b[0m\n",
      "\u001b[0;31mKeyboardInterrupt\u001b[0m: "
     ]
    }
   ],
   "source": [
    "col_names = complete_playlists['track_name'].unique()\n",
    "train_indices = []\n",
    "complete_playlists.set_index([\"fid\", \"pid\"], inplace=True)"
   ]
  },
  {
   "cell_type": "code",
   "execution_count": 9,
   "metadata": {},
   "outputs": [],
   "source": [
    "rows_list = []\n",
    "for fid, pid in zip(train_playlist_ids[\"fid\"], train_playlist_ids[\"pid\"]):\n",
    "    train_indices.append((fid, pid))\n",
    "    playlist_songs = complete_playlists.loc[pd.Index([fid, pid]), \"track_name\"].values\n",
    "    ones_idx = np.where(np.in1d(col_names, playlist_songs))[0]\n",
    "    row = np.zeros(col_names.shape)\n",
    "    row[ones_idx] = 1 / playlist_songs.shape[0]\n",
    "    rows_list.append(row)\n",
    "train_df = sp.sparse.csr_matrix(np.vstack(rows_list))\n",
    "train_indices = np.array(train_indices)"
   ]
  },
  {
   "cell_type": "markdown",
   "metadata": {},
   "source": [
    "## Use kNN with cosine distance to find nearest neighbors"
   ]
  },
  {
   "cell_type": "code",
   "execution_count": 10,
   "metadata": {},
   "outputs": [],
   "source": [
    "model_knn = NearestNeighbors(metric='cosine', algorithm='brute', n_neighbors=20, n_jobs=-1).fit(train_df)"
   ]
  },
  {
   "cell_type": "markdown",
   "metadata": {},
   "source": [
    "## Actually make predictions!"
   ]
  },
  {
   "cell_type": "code",
   "execution_count": 11,
   "metadata": {},
   "outputs": [],
   "source": [
    "test_indices = []\n",
    "rows_list = []\n",
    "val_list = []\n",
    "for fid, pid in zip(test_playlist_ids[\"fid\"], test_playlist_ids[\"pid\"]):\n",
    "    test_indices.append((fid, pid))\n",
    "    playlist_songs = complete_playlists.loc[pd.Index([fid, pid])]\n",
    "    idx = np.random.choice(np.arange(len(playlist_songs)), int(0.8 * len(playlist_songs)), replace=False)\n",
    "    test_idx = np.where(np.in1d(np.arange(len(playlist_songs)), idx, invert=True))[0]\n",
    "    songs_to_use = playlist_songs[\"track_name\"].values[idx]\n",
    "    songs_to_evaluate = playlist_songs.iloc[test_idx]\n",
    "    val_list.append(songs_to_evaluate)\n",
    "    ones_idx = np.where(np.in1d(col_names, songs_to_use))[0]\n",
    "    row = np.zeros(col_names.shape)\n",
    "    row[ones_idx] = 1 # / songs_to_use.shape[0]\n",
    "    rows_list.append(row)\n",
    "test_df = sp.sparse.csr_matrix(np.vstack(rows_list))\n",
    "val_df = pd.concat(val_list)\n",
    "test_indices = np.array(test_indices)"
   ]
  },
  {
   "cell_type": "code",
   "execution_count": 12,
   "metadata": {},
   "outputs": [],
   "source": [
    "def getSongPredictions(X, model, indices, candidate_playlists, top_n, col_names):\n",
    "    distances, neighbors = model.kneighbors(X)\n",
    "    predictions_list = []\n",
    "    for i in range(X.shape[0]):\n",
    "        best_candidates = neighbors[i][distances[i] != 1]\n",
    "        best_distances = distances[i][distances[i] != 1]\n",
    "        if best_candidates.size != 0:\n",
    "            # get the place in candidate_playlists with the lowest distance\n",
    "            candidate_idx = indices[best_candidates]\n",
    "        else:\n",
    "            # TODO: Change\n",
    "            predictions_list.append(pd.DataFrame(columns = candidate_playlists.columns))\n",
    "            continue\n",
    "            \n",
    "        candidates_df = candidate_playlists.loc[list(map(tuple, candidate_idx))]\n",
    "        \n",
    "        # transform the best_distances into a form that can be concatenated\n",
    "        lengths = candidates_df.groupby(level=[0,1])[\"pos\"].count().values\n",
    "        \n",
    "\n",
    "        candidates_df[\"distance\"] = np.repeat(best_distances, lengths)\n",
    "        \n",
    "        # want only the songs that are not in the playlist\n",
    "        not_in_train_df = candidates_df.iloc[np.where(np.in1d(candidates_df[\"track_name\"].values, \n",
    "                                                      col_names[X[i].toarray()[0] != 0], invert=True))[0]]\n",
    "        \n",
    "        # drop duplicates\n",
    "        no_duplicates_df = not_in_train_df.drop_duplicates(\"track_name\")\n",
    "        if no_duplicates_df.shape[0] < top_n:\n",
    "            predictions_list.append(no_duplicates_df)\n",
    "        else:\n",
    "            predictions_list.append(no_duplicates_df.iloc[0:top_n])\n",
    "    return predictions_list"
   ]
  },
  {
   "cell_type": "code",
   "execution_count": 13,
   "metadata": {
    "scrolled": false
   },
   "outputs": [],
   "source": [
    "predictions_list = getSongPredictions(test_df, model_knn, train_indices, complete_playlists, 500, col_names)"
   ]
  },
  {
   "cell_type": "markdown",
   "metadata": {},
   "source": [
    "## Evaluate Predictions"
   ]
  },
  {
   "cell_type": "code",
   "execution_count": 14,
   "metadata": {
    "scrolled": true
   },
   "outputs": [
    {
     "data": {
      "text/plain": [
       "array([[167,  82],\n",
       "       [172, 599],\n",
       "       [897, 643],\n",
       "       [447, 778],\n",
       "       [865, 866]])"
      ]
     },
     "execution_count": 14,
     "metadata": {},
     "output_type": "execute_result"
    }
   ],
   "source": [
    "test_indices"
   ]
  },
  {
   "cell_type": "code",
   "execution_count": 15,
   "metadata": {
    "scrolled": false
   },
   "outputs": [
    {
     "name": "stderr",
     "output_type": "stream",
     "text": [
      "//anaconda3/envs/tfcs109a/lib/python3.6/site-packages/ipykernel_launcher.py:5: PerformanceWarning: indexing past lexsort depth may impact performance.\n",
      "  \"\"\"\n"
     ]
    }
   ],
   "source": [
    "clicks = []\n",
    "for i in range(test_df.shape[0]):\n",
    "    predictions = predictions_list[i]\n",
    "    idx = test_indices[i]\n",
    "    val_songs = val_df.loc[tuple(idx)]\n",
    "    positions_matching = np.where(np.in1d(predictions[\"track_name\"].values, val_songs['track_name']))[0]\n",
    "    # CLICKS: min pos / 10\n",
    "    if positions_matching.size == 0:\n",
    "        clicks.append(50)\n",
    "    else:\n",
    "        clicks.append(math.ceil(positions_matching[0] / 10))"
   ]
  },
  {
   "cell_type": "code",
   "execution_count": 16,
   "metadata": {},
   "outputs": [
    {
     "data": {
      "text/plain": [
       "[10, 5, 50, 1, 50]"
      ]
     },
     "execution_count": 16,
     "metadata": {},
     "output_type": "execute_result"
    }
   ],
   "source": [
    "clicks"
   ]
  },
  {
   "cell_type": "code",
   "execution_count": 17,
   "metadata": {},
   "outputs": [],
   "source": [
    "distances, neighbors = model_knn.kneighbors(test_df)"
   ]
  },
  {
   "cell_type": "code",
   "execution_count": 18,
   "metadata": {},
   "outputs": [
    {
     "data": {
      "text/plain": [
       "23.2"
      ]
     },
     "execution_count": 18,
     "metadata": {},
     "output_type": "execute_result"
    }
   ],
   "source": [
    "np.mean(clicks)"
   ]
  },
  {
   "cell_type": "code",
   "execution_count": 19,
   "metadata": {
    "scrolled": false
   },
   "outputs": [
    {
     "data": {
      "text/plain": [
       "fid  pid\n",
       "865  866                 BTSTU (Edit)\n",
       "     866                 Breezeblocks\n",
       "     866                 Paper Planes\n",
       "     866                    I Met You\n",
       "     866                   Lofticries\n",
       "     866    Attak (feat. Danny Brown)\n",
       "     866                  Message Man\n",
       "     866           The Devil Is A Lie\n",
       "     866         X Gon' Give It To Ya\n",
       "     866                   Devil Eyes\n",
       "     866               No Role Modelz\n",
       "     866                     Sabotage\n",
       "     866                    One Night\n",
       "     866              Congratulations\n",
       "     866                           17\n",
       "     866                      No Type\n",
       "     866     All Along the Watchtower\n",
       "     866                  Purple Haze\n",
       "     866                    Rivertown\n",
       "Name: track_name, dtype: object"
      ]
     },
     "execution_count": 19,
     "metadata": {},
     "output_type": "execute_result"
    }
   ],
   "source": [
    "val_songs[\"track_name\"]"
   ]
  },
  {
   "cell_type": "code",
   "execution_count": 20,
   "metadata": {},
   "outputs": [
    {
     "data": {
      "text/plain": [
       "Series([], Name: track_name, dtype: object)"
      ]
     },
     "execution_count": 20,
     "metadata": {},
     "output_type": "execute_result"
    }
   ],
   "source": [
    "predictions[\"track_name\"][positions_matching]"
   ]
  },
  {
   "cell_type": "code",
   "execution_count": null,
   "metadata": {},
   "outputs": [],
   "source": []
  }
 ],
 "metadata": {
  "kernelspec": {
   "display_name": "Python 3",
   "language": "python",
   "name": "python3"
  },
  "language_info": {
   "codemirror_mode": {
    "name": "ipython",
    "version": 3
   },
   "file_extension": ".py",
   "mimetype": "text/x-python",
   "name": "python",
   "nbconvert_exporter": "python",
   "pygments_lexer": "ipython3",
   "version": "3.6.9"
  }
 },
 "nbformat": 4,
 "nbformat_minor": 2
}
