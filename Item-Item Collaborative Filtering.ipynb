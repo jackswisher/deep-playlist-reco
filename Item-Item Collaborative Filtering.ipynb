{
 "cells": [
  {
   "cell_type": "code",
   "execution_count": 67,
   "metadata": {},
   "outputs": [],
   "source": [
    "import os\n",
    "import sys\n",
    "import glob\n",
    "import time\n",
    "import datetime\n",
    "import numpy as np\n",
    "import pandas as pd\n",
    "import matplotlib.pyplot as plt\n",
    "import matplotlib\n",
    "import random\n",
    "from sklearn.neighbors import NearestNeighbors\n",
    "from sklearn.metrics.pairwise import cosine_similarity\n",
    "import scipy as sp"
   ]
  },
  {
   "cell_type": "markdown",
   "metadata": {},
   "source": [
    "Outline:\n",
    "* Want to create a training/test set to try CF on\n",
    "* Create SciPy sparse matrix from unique songs\n",
    "    - Rows: Playlists\n",
    "    - Columns: Songs in a given playlist\n",
    "* Filter + predict songs that are in the other playlists that have lowest distance"
   ]
  },
  {
   "cell_type": "markdown",
   "metadata": {},
   "source": [
    "POSSIBLE CHANGE: If a song appears multiple times in a single playlist, use number of occurrences rather than just presence"
   ]
  },
  {
   "cell_type": "code",
   "execution_count": 2,
   "metadata": {},
   "outputs": [],
   "source": [
    "total_songs = pd.read_csv(\"total_songs_clean.csv\")"
   ]
  },
  {
   "cell_type": "code",
   "execution_count": 341,
   "metadata": {},
   "outputs": [],
   "source": [
    "complete_playlists = pd.read_csv(\"complete_playlists_50.csv\")"
   ]
  },
  {
   "cell_type": "markdown",
   "metadata": {},
   "source": [
    "## Get train/test playlists"
   ]
  },
  {
   "cell_type": "code",
   "execution_count": 10,
   "metadata": {},
   "outputs": [],
   "source": [
    "unique_playlist_ids = complete_playlists[[\"pid\", \"fid\"]].groupby(['pid', \"fid\"]).first().reset_index()"
   ]
  },
  {
   "cell_type": "code",
   "execution_count": 114,
   "metadata": {},
   "outputs": [],
   "source": [
    "train_playlist_ids = unique_playlist_ids.sample(45)"
   ]
  },
  {
   "cell_type": "code",
   "execution_count": 115,
   "metadata": {},
   "outputs": [],
   "source": [
    "test_playlist_ids = unique_playlist_ids.loc[-(unique_playlist_ids[\"pid\"].isin(train_playlist_ids[\"pid\"]) & \n",
    "                                              unique_playlist_ids[\"fid\"].isin(train_playlist_ids[\"fid\"]))]"
   ]
  },
  {
   "cell_type": "code",
   "execution_count": 116,
   "metadata": {},
   "outputs": [
    {
     "data": {
      "text/html": [
       "<div>\n",
       "<style scoped>\n",
       "    .dataframe tbody tr th:only-of-type {\n",
       "        vertical-align: middle;\n",
       "    }\n",
       "\n",
       "    .dataframe tbody tr th {\n",
       "        vertical-align: top;\n",
       "    }\n",
       "\n",
       "    .dataframe thead th {\n",
       "        text-align: right;\n",
       "    }\n",
       "</style>\n",
       "<table border=\"1\" class=\"dataframe\">\n",
       "  <thead>\n",
       "    <tr style=\"text-align: right;\">\n",
       "      <th></th>\n",
       "      <th>pid</th>\n",
       "      <th>fid</th>\n",
       "    </tr>\n",
       "  </thead>\n",
       "  <tbody>\n",
       "    <tr>\n",
       "      <th>6</th>\n",
       "      <td>190</td>\n",
       "      <td>113</td>\n",
       "    </tr>\n",
       "    <tr>\n",
       "      <th>12</th>\n",
       "      <td>314</td>\n",
       "      <td>508</td>\n",
       "    </tr>\n",
       "    <tr>\n",
       "      <th>17</th>\n",
       "      <td>453</td>\n",
       "      <td>341</td>\n",
       "    </tr>\n",
       "    <tr>\n",
       "      <th>40</th>\n",
       "      <td>851</td>\n",
       "      <td>320</td>\n",
       "    </tr>\n",
       "    <tr>\n",
       "      <th>47</th>\n",
       "      <td>979</td>\n",
       "      <td>892</td>\n",
       "    </tr>\n",
       "  </tbody>\n",
       "</table>\n",
       "</div>"
      ],
      "text/plain": [
       "    pid  fid\n",
       "6   190  113\n",
       "12  314  508\n",
       "17  453  341\n",
       "40  851  320\n",
       "47  979  892"
      ]
     },
     "execution_count": 116,
     "metadata": {},
     "output_type": "execute_result"
    }
   ],
   "source": [
    "test_playlist_ids.head()"
   ]
  },
  {
   "cell_type": "markdown",
   "metadata": {},
   "source": [
    "## Create SciPy Spare Matrix"
   ]
  },
  {
   "cell_type": "code",
   "execution_count": 342,
   "metadata": {},
   "outputs": [],
   "source": [
    "col_names = complete_playlists['track_name'].unique()\n",
    "train_indicies = []\n",
    "complete_playlists.set_index([\"fid\", \"pid\"], inplace=True)"
   ]
  },
  {
   "cell_type": "code",
   "execution_count": 343,
   "metadata": {},
   "outputs": [],
   "source": [
    "rows_list = []\n",
    "for fid, pid in zip(train_playlist_ids[\"fid\"], train_playlist_ids[\"pid\"]):\n",
    "    train_indicies.append((fid, pid))\n",
    "    playlist_songs = complete_playlists.loc[pd.Index([fid, pid]), \"track_name\"].values\n",
    "    ones_idx = np.where(np.in1d(col_names, playlist_songs))[0]\n",
    "    row = np.zeros(col_names.shape)\n",
    "    row[ones_idx] = 1\n",
    "    rows_list.append(row)\n",
    "train_df = sp.sparse.csr_matrix(np.vstack(rows_list))\n",
    "train_indicies = np.array(train_indicies)"
   ]
  },
  {
   "cell_type": "markdown",
   "metadata": {},
   "source": [
    "## Use kNN with cosine distance to find nearest neighbors"
   ]
  },
  {
   "cell_type": "code",
   "execution_count": 344,
   "metadata": {},
   "outputs": [],
   "source": [
    "model_knn = NearestNeighbors(metric='cosine', algorithm='brute', n_neighbors=20, n_jobs=-1).fit(train_df)"
   ]
  },
  {
   "cell_type": "markdown",
   "metadata": {},
   "source": [
    "## Actually make predictions!"
   ]
  },
  {
   "cell_type": "code",
   "execution_count": 345,
   "metadata": {},
   "outputs": [],
   "source": [
    "test_indicies = []\n",
    "rows_list = []\n",
    "val_list = []\n",
    "for fid, pid in zip(test_playlist_ids[\"fid\"], test_playlist_ids[\"pid\"]):\n",
    "    test_indicies.append((fid, pid))\n",
    "    playlist_songs = complete_playlists.loc[pd.Index([fid, pid])]\n",
    "    idx = np.random.choice(np.arange(len(playlist_songs)), int(0.8 * len(playlist_songs)), replace=False)\n",
    "    test_idx = np.where(np.in1d(np.arange(len(playlist_songs)), idx, invert=True))[0]\n",
    "    songs_to_use = playlist_songs[\"track_name\"].values[idx]\n",
    "    songs_to_evaluate = playlist_songs.iloc[test_idx]\n",
    "    val_list.append(songs_to_evaluate)\n",
    "    ones_idx = np.where(np.in1d(col_names, songs_to_use))[0]\n",
    "    row = np.zeros(col_names.shape)\n",
    "    row[ones_idx] = 1\n",
    "    rows_list.append(row)\n",
    "test_df = sp.sparse.csr_matrix(np.vstack(rows_list))\n",
    "val_df = pd.concat(val_list)\n",
    "test_indicies = np.array(test_indicies)"
   ]
  },
  {
   "cell_type": "code",
   "execution_count": 347,
   "metadata": {},
   "outputs": [],
   "source": [
    "def getSongPredictions(X, model, test_indicies, candidate_playlists, top_n, col_names):\n",
    "    distances, neighbors = model.kneighbors(X)\n",
    "    predictions_list = []\n",
    "    for i in range(X.shape[0]):\n",
    "        best_candidates = neighbors[i][distances[i] != 1]\n",
    "        best_distances = distances[i][distances[i] != 1]\n",
    "        if best_candidates.size != 0:\n",
    "            candidate_idx = test_indicies[best_candidates]\n",
    "        else:\n",
    "            predictions_list.append(np.array([]))\n",
    "            continue\n",
    "        candidates_df = candidate_playlists.loc[pd.Index(candidate_idx)].copy()\n",
    "        \n",
    "        # transform the best_distances into a form that can be concatenated\n",
    "        lengths = candidates_df.groupby(level=[0,1])[\"pos\"].count().values\n",
    "        candidates_df[\"distance\"] = np.repeat(best_distances, lengths)\n",
    "        \n",
    "        # want only the songs that are not in the playlist\n",
    "        np.where(np.in1d(candidates_df[\"track_name\"].values, "
   ]
  },
  {
   "cell_type": "code",
   "execution_count": 348,
   "metadata": {},
   "outputs": [],
   "source": [
    "X = test_df\n",
    "distances, neighbors = model_knn.kneighbors(X)\n",
    "predictions_list = []\n",
    "for i in range(X.shape[0]):\n",
    "    best_candidates = neighbors[i][distances[i] != 1]\n",
    "    best_distances = distances[i][distances[i] != 1]\n",
    "    if best_candidates.size != 0:\n",
    "        candidate_idx = train_indicies[best_candidates]\n",
    "        break\n",
    "    else:\n",
    "        predictions_list.append(np.array([]))\n",
    "        continue   \n",
    "    \n",
    "df = complete_playlists.loc[pd.Index(candidate_idx)].copy()\n",
    "lengths = df.groupby(level=[0,1])[\"pos\"].count().values\n",
    "df[\"distance\"] = np.repeat(best_distances, lengths)\n"
   ]
  },
  {
   "cell_type": "code",
   "execution_count": 360,
   "metadata": {
    "scrolled": true
   },
   "outputs": [
    {
     "data": {
      "text/plain": [
       "<1x3078 sparse matrix of type '<class 'numpy.float64'>'\n",
       "\twith 39 stored elements in Compressed Sparse Row format>"
      ]
     },
     "execution_count": 360,
     "metadata": {},
     "output_type": "execute_result"
    }
   ],
   "source": [
    "np.reshape(X[i], [X[i].shape[1],])"
   ]
  },
  {
   "cell_type": "code",
   "execution_count": null,
   "metadata": {},
   "outputs": [],
   "source": []
  }
 ],
 "metadata": {
  "kernelspec": {
   "display_name": "Python 3",
   "language": "python",
   "name": "python3"
  },
  "language_info": {
   "codemirror_mode": {
    "name": "ipython",
    "version": 3
   },
   "file_extension": ".py",
   "mimetype": "text/x-python",
   "name": "python",
   "nbconvert_exporter": "python",
   "pygments_lexer": "ipython3",
   "version": "3.6.9"
  }
 },
 "nbformat": 4,
 "nbformat_minor": 2
}
