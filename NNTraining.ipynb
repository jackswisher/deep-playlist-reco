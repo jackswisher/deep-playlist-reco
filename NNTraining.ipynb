{
 "cells": [
  {
   "cell_type": "code",
   "execution_count": 107,
   "metadata": {
    "colab": {},
    "colab_type": "code",
    "id": "irAQpPBSWsl2"
   },
   "outputs": [],
   "source": [
    "### cs109default ### \n",
    "import random\n",
    "import math\n",
    "\n",
    "import numpy as np\n",
    "import pandas as pd\n",
    "import matplotlib.pyplot as plt\n",
    "\n",
    "from sklearn.model_selection import cross_val_score\n",
    "from sklearn.utils import resample\n",
    "from sklearn.tree import DecisionTreeClassifier\n",
    "from sklearn.ensemble import RandomForestClassifier\n",
    "from sklearn.ensemble import AdaBoostClassifier\n",
    "from sklearn.linear_model import LogisticRegressionCV\n",
    "from sklearn.model_selection import train_test_split\n",
    "from sklearn.metrics import confusion_matrix\n",
    "from sklearn.preprocessing import scale\n",
    "from sklearn.metrics import roc_auc_score,accuracy_score\n",
    "from sklearn.model_selection import GridSearchCV\n",
    "from random import randint \n",
    "\n",
    "from sklearn import tree\n",
    "%matplotlib inline\n",
    "\n",
    "import seaborn as sns\n",
    "pd.set_option('display.width', 1500)\n",
    "pd.set_option('display.max_columns', 100)\n",
    "\n",
    "from sklearn.utils import shuffle\n",
    "\n",
    "np.random.seed(112358)"
   ]
  },
  {
   "cell_type": "code",
   "execution_count": 2,
   "metadata": {
    "colab": {
     "base_uri": "https://localhost:8080/",
     "height": 81
    },
    "colab_type": "code",
    "id": "7rfF6diNRHUC",
    "outputId": "afc26c59-1761-42ee-819a-23d1f96fb86a"
   },
   "outputs": [
    {
     "name": "stdout",
     "output_type": "stream",
     "text": [
      "2.0.0\n"
     ]
    }
   ],
   "source": [
    "import tensorflow as tf\n",
    "\n",
    "print(tf.__version__)  # You should see a 2.0.0 here!"
   ]
  },
  {
   "cell_type": "code",
   "execution_count": 3,
   "metadata": {
    "colab": {
     "base_uri": "https://localhost:8080/",
     "height": 238
    },
    "colab_type": "code",
    "id": "tr_FkYnqNqse",
    "outputId": "e1bb9605-eed9-4764-8c2b-9dc01e6e5424"
   },
   "outputs": [
    {
     "data": {
      "text/html": [
       "<div>\n",
       "<style scoped>\n",
       "    .dataframe tbody tr th:only-of-type {\n",
       "        vertical-align: middle;\n",
       "    }\n",
       "\n",
       "    .dataframe tbody tr th {\n",
       "        vertical-align: top;\n",
       "    }\n",
       "\n",
       "    .dataframe thead th {\n",
       "        text-align: right;\n",
       "    }\n",
       "</style>\n",
       "<table border=\"1\" class=\"dataframe\">\n",
       "  <thead>\n",
       "    <tr style=\"text-align: right;\">\n",
       "      <th></th>\n",
       "      <th></th>\n",
       "      <th>scaled_duration</th>\n",
       "      <th>num_seed_songs</th>\n",
       "      <th>song_distance</th>\n",
       "      <th>artist_distance</th>\n",
       "      <th>album_distance</th>\n",
       "      <th>musical_similarity</th>\n",
       "      <th>response</th>\n",
       "    </tr>\n",
       "    <tr>\n",
       "      <th>fid</th>\n",
       "      <th>pid</th>\n",
       "      <th></th>\n",
       "      <th></th>\n",
       "      <th></th>\n",
       "      <th></th>\n",
       "      <th></th>\n",
       "      <th></th>\n",
       "      <th></th>\n",
       "    </tr>\n",
       "  </thead>\n",
       "  <tbody>\n",
       "    <tr>\n",
       "      <th rowspan=\"5\" valign=\"top\">59</th>\n",
       "      <th>549</th>\n",
       "      <td>-0.269296</td>\n",
       "      <td>169</td>\n",
       "      <td>0.830842</td>\n",
       "      <td>0.676425</td>\n",
       "      <td>0.689833</td>\n",
       "      <td>0.976354</td>\n",
       "      <td>1</td>\n",
       "    </tr>\n",
       "    <tr>\n",
       "      <th>549</th>\n",
       "      <td>-0.707113</td>\n",
       "      <td>169</td>\n",
       "      <td>0.830842</td>\n",
       "      <td>0.676425</td>\n",
       "      <td>0.689833</td>\n",
       "      <td>0.980082</td>\n",
       "      <td>1</td>\n",
       "    </tr>\n",
       "    <tr>\n",
       "      <th>549</th>\n",
       "      <td>-0.117009</td>\n",
       "      <td>169</td>\n",
       "      <td>0.830842</td>\n",
       "      <td>0.676425</td>\n",
       "      <td>0.689833</td>\n",
       "      <td>0.980873</td>\n",
       "      <td>1</td>\n",
       "    </tr>\n",
       "    <tr>\n",
       "      <th>549</th>\n",
       "      <td>-0.807887</td>\n",
       "      <td>169</td>\n",
       "      <td>0.830842</td>\n",
       "      <td>0.676425</td>\n",
       "      <td>0.689833</td>\n",
       "      <td>0.981221</td>\n",
       "      <td>1</td>\n",
       "    </tr>\n",
       "    <tr>\n",
       "      <th>549</th>\n",
       "      <td>-0.650126</td>\n",
       "      <td>169</td>\n",
       "      <td>0.830842</td>\n",
       "      <td>0.676425</td>\n",
       "      <td>0.689833</td>\n",
       "      <td>0.980248</td>\n",
       "      <td>1</td>\n",
       "    </tr>\n",
       "  </tbody>\n",
       "</table>\n",
       "</div>"
      ],
      "text/plain": [
       "         scaled_duration  num_seed_songs  song_distance  artist_distance  album_distance  musical_similarity  response\n",
       "fid pid                                                                                                               \n",
       "59  549        -0.269296             169       0.830842         0.676425        0.689833            0.976354         1\n",
       "    549        -0.707113             169       0.830842         0.676425        0.689833            0.980082         1\n",
       "    549        -0.117009             169       0.830842         0.676425        0.689833            0.980873         1\n",
       "    549        -0.807887             169       0.830842         0.676425        0.689833            0.981221         1\n",
       "    549        -0.650126             169       0.830842         0.676425        0.689833            0.980248         1"
      ]
     },
     "execution_count": 3,
     "metadata": {},
     "output_type": "execute_result"
    }
   ],
   "source": [
    "nn_train = pd.read_csv(\"nn_train.csv\").set_index([\"fid\", \"pid\"])\n",
    "nn_train.head()"
   ]
  },
  {
   "cell_type": "code",
   "execution_count": 4,
   "metadata": {},
   "outputs": [],
   "source": [
    "nn_train_scaled = scale(nn_train.drop(\"response\", axis=1))"
   ]
  },
  {
   "cell_type": "code",
   "execution_count": 6,
   "metadata": {
    "colab": {},
    "colab_type": "code",
    "id": "7SGguqsTPYJw"
   },
   "outputs": [],
   "source": [
    "X_train, X_test, y_train, y_test = train_test_split(nn_train_scaled, \n",
    "                                                    nn_train[\"response\"], \n",
    "                                                    train_size=5/46, \n",
    "                                                    random_state=42)"
   ]
  },
  {
   "cell_type": "code",
   "execution_count": 158,
   "metadata": {},
   "outputs": [],
   "source": [
    "X_train, X_test, y_train, y_test = train_test_split(nn_train.drop(\"response\", axis=1), \n",
    "                                                    nn_train[\"response\"], \n",
    "                                                    train_size=5/46, \n",
    "                                                    random_state=42)"
   ]
  },
  {
   "cell_type": "code",
   "execution_count": 159,
   "metadata": {},
   "outputs": [
    {
     "data": {
      "text/plain": [
       "0.07905264364036726"
      ]
     },
     "execution_count": 159,
     "metadata": {},
     "output_type": "execute_result"
    }
   ],
   "source": [
    "sum(y_train)/len(y_train)"
   ]
  },
  {
   "cell_type": "code",
   "execution_count": 173,
   "metadata": {
    "colab": {},
    "colab_type": "code",
    "id": "iTXo-VZsY7d1"
   },
   "outputs": [],
   "source": [
    "# distance from 3 colab filters + cosine distance of features + number of seed songs\n",
    "\n",
    "model = tf.keras.models.Sequential([\n",
    "  tf.keras.layers.Dense(32, activation='relu', input_shape = (X_train.shape[1],)),\n",
    "    tf.keras.layers.Dense(64, activation = \"relu\"),\n",
    "    tf.keras.layers.Dense(64, activation = \"relu\"),\n",
    "  tf.keras.layers.Dense(1, activation='sigmoid')\n",
    "])\n",
    "\n",
    "# opt = tf.keras.optimizers.SGD(lr=0.2)\n",
    "model.compile(loss='binary_crossentropy', optimizer=\"adam\", metrics = ['accuracy'])"
   ]
  },
  {
   "cell_type": "code",
   "execution_count": 174,
   "metadata": {},
   "outputs": [],
   "source": [
    "# try class weightings\n",
    "from sklearn.utils import compute_class_weight\n",
    "classWeight = compute_class_weight('balanced', [0,1], nn_train[\"response\"].values) \n",
    "classWeight = dict(enumerate(classWeight))"
   ]
  },
  {
   "cell_type": "code",
   "execution_count": 175,
   "metadata": {
    "colab": {
     "base_uri": "https://localhost:8080/",
     "height": 1000
    },
    "colab_type": "code",
    "id": "LP4Cc0anRiVX",
    "outputId": "3aa43dcf-3cd6-4662-b904-14743ff5c905",
    "scrolled": true
   },
   "outputs": [
    {
     "name": "stdout",
     "output_type": "stream",
     "text": [
      "Train on 160581 samples, validate on 40146 samples\n",
      "Epoch 1/5\n",
      "160581/160581 [==============================] - 10s 65us/sample - loss: 0.6617 - accuracy: 0.6141 - val_loss: 0.6516 - val_accuracy: 0.6729\n",
      "Epoch 2/5\n",
      "160581/160581 [==============================] - 9s 54us/sample - loss: 0.6416 - accuracy: 0.5720 - val_loss: 0.6275 - val_accuracy: 0.5063\n",
      "Epoch 3/5\n",
      "160581/160581 [==============================] - 9s 54us/sample - loss: 0.6335 - accuracy: 0.5856 - val_loss: 0.6239 - val_accuracy: 0.5130\n",
      "Epoch 4/5\n",
      "160581/160581 [==============================] - 9s 57us/sample - loss: 0.6287 - accuracy: 0.5922 - val_loss: 0.6095 - val_accuracy: 0.6857\n",
      "Epoch 5/5\n",
      "160581/160581 [==============================] - 9s 55us/sample - loss: 0.6241 - accuracy: 0.6055 - val_loss: 0.6385 - val_accuracy: 0.4466\n"
     ]
    }
   ],
   "source": [
    "history = model.fit(X_train.values, y_train.values, validation_split=0.2, epochs=5, \n",
    "                    verbose=1, batch_size=64, class_weight=classWeight)"
   ]
  },
  {
   "cell_type": "code",
   "execution_count": 176,
   "metadata": {
    "colab": {
     "base_uri": "https://localhost:8080/",
     "height": 295
    },
    "colab_type": "code",
    "id": "WstCs2VuSVOw",
    "outputId": "d8f2b07d-d194-49c2-9548-52adffa3c0aa",
    "scrolled": true
   },
   "outputs": [
    {
     "data": {
      "image/png": "[encoded data removed]",
      "text/plain": [
       "<Figure size 432x288 with 1 Axes>"
      ]
     },
     "metadata": {
      "needs_background": "light"
     },
     "output_type": "display_data"
    }
   ],
   "source": [
    "plt.plot(history.history['accuracy'])\n",
    "plt.plot(history.history['val_accuracy'])\n",
    "plt.title('Model Accuracy')\n",
    "plt.ylabel('Accuracy')\n",
    "plt.xlabel('Epoch')\n",
    "plt.legend(['train', 'val'], loc='best')\n",
    "plt.show()"
   ]
  },
  {
   "cell_type": "code",
   "execution_count": 177,
   "metadata": {
    "colab": {
     "base_uri": "https://localhost:8080/",
     "height": 295
    },
    "colab_type": "code",
    "id": "HbwnBRjcTei7",
    "outputId": "4ae55493-667c-4927-e7c2-4133cbd31985",
    "scrolled": true
   },
   "outputs": [
    {
     "data": {
      "image/png": "[encoded data removed]",
      "text/plain": [
       "<Figure size 432x288 with 1 Axes>"
      ]
     },
     "metadata": {
      "needs_background": "light"
     },
     "output_type": "display_data"
    }
   ],
   "source": [
    "plt.plot(history.history['loss'])\n",
    "plt.plot(history.history['val_loss'])\n",
    "plt.title('Model Loss')\n",
    "plt.ylabel('Loss')\n",
    "plt.xlabel('Epoch')\n",
    "plt.legend(['train', 'val'], loc='best')\n",
    "plt.show()"
   ]
  },
  {
   "cell_type": "code",
   "execution_count": 32,
   "metadata": {},
   "outputs": [
    {
     "name": "stderr",
     "output_type": "stream",
     "text": [
      "//anaconda3/envs/tfcs109a/lib/python3.6/site-packages/ipykernel_launcher.py:1: PerformanceWarning: indexing past lexsort depth may impact performance.\n",
      "  \"\"\"Entry point for launching an IPython kernel.\n"
     ]
    },
    {
     "data": {
      "text/html": [
       "<div>\n",
       "<style scoped>\n",
       "    .dataframe tbody tr th:only-of-type {\n",
       "        vertical-align: middle;\n",
       "    }\n",
       "\n",
       "    .dataframe tbody tr th {\n",
       "        vertical-align: top;\n",
       "    }\n",
       "\n",
       "    .dataframe thead th {\n",
       "        text-align: right;\n",
       "    }\n",
       "</style>\n",
       "<table border=\"1\" class=\"dataframe\">\n",
       "  <thead>\n",
       "    <tr style=\"text-align: right;\">\n",
       "      <th></th>\n",
       "      <th></th>\n",
       "      <th>scaled_duration</th>\n",
       "      <th>num_seed_songs</th>\n",
       "      <th>song_distance</th>\n",
       "      <th>artist_distance</th>\n",
       "      <th>album_distance</th>\n",
       "      <th>musical_similarity</th>\n",
       "    </tr>\n",
       "    <tr>\n",
       "      <th>fid</th>\n",
       "      <th>pid</th>\n",
       "      <th></th>\n",
       "      <th></th>\n",
       "      <th></th>\n",
       "      <th></th>\n",
       "      <th></th>\n",
       "      <th></th>\n",
       "    </tr>\n",
       "  </thead>\n",
       "  <tbody>\n",
       "    <tr>\n",
       "      <th rowspan=\"11\" valign=\"top\">103</th>\n",
       "      <th>143</th>\n",
       "      <td>2.420438</td>\n",
       "      <td>79</td>\n",
       "      <td>0.980415</td>\n",
       "      <td>0.850929</td>\n",
       "      <td>0.956356</td>\n",
       "      <td>0.980605</td>\n",
       "    </tr>\n",
       "    <tr>\n",
       "      <th>143</th>\n",
       "      <td>3.317974</td>\n",
       "      <td>6</td>\n",
       "      <td>0.928933</td>\n",
       "      <td>0.894591</td>\n",
       "      <td>0.918350</td>\n",
       "      <td>0.990882</td>\n",
       "    </tr>\n",
       "    <tr>\n",
       "      <th>143</th>\n",
       "      <td>-0.368807</td>\n",
       "      <td>100</td>\n",
       "      <td>0.927055</td>\n",
       "      <td>0.785114</td>\n",
       "      <td>0.887761</td>\n",
       "      <td>0.991647</td>\n",
       "    </tr>\n",
       "    <tr>\n",
       "      <th>143</th>\n",
       "      <td>0.230361</td>\n",
       "      <td>107</td>\n",
       "      <td>0.981651</td>\n",
       "      <td>0.701858</td>\n",
       "      <td>0.958297</td>\n",
       "      <td>0.993424</td>\n",
       "    </tr>\n",
       "    <tr>\n",
       "      <th>143</th>\n",
       "      <td>0.507771</td>\n",
       "      <td>11</td>\n",
       "      <td>0.947514</td>\n",
       "      <td>0.850929</td>\n",
       "      <td>0.884530</td>\n",
       "      <td>0.985635</td>\n",
       "    </tr>\n",
       "    <tr>\n",
       "      <th>...</th>\n",
       "      <td>...</td>\n",
       "      <td>...</td>\n",
       "      <td>...</td>\n",
       "      <td>...</td>\n",
       "      <td>...</td>\n",
       "      <td>...</td>\n",
       "    </tr>\n",
       "    <tr>\n",
       "      <th>143</th>\n",
       "      <td>0.418799</td>\n",
       "      <td>76</td>\n",
       "      <td>0.979899</td>\n",
       "      <td>0.844300</td>\n",
       "      <td>0.919096</td>\n",
       "      <td>0.990003</td>\n",
       "    </tr>\n",
       "    <tr>\n",
       "      <th>143</th>\n",
       "      <td>-0.364610</td>\n",
       "      <td>100</td>\n",
       "      <td>0.927055</td>\n",
       "      <td>0.785114</td>\n",
       "      <td>0.887761</td>\n",
       "      <td>0.992008</td>\n",
       "    </tr>\n",
       "    <tr>\n",
       "      <th>143</th>\n",
       "      <td>-0.115792</td>\n",
       "      <td>6</td>\n",
       "      <td>0.928933</td>\n",
       "      <td>0.894591</td>\n",
       "      <td>0.918350</td>\n",
       "      <td>0.990531</td>\n",
       "    </tr>\n",
       "    <tr>\n",
       "      <th>143</th>\n",
       "      <td>1.102042</td>\n",
       "      <td>54</td>\n",
       "      <td>0.928933</td>\n",
       "      <td>0.881875</td>\n",
       "      <td>0.942265</td>\n",
       "      <td>0.987315</td>\n",
       "    </tr>\n",
       "    <tr>\n",
       "      <th>143</th>\n",
       "      <td>1.584970</td>\n",
       "      <td>76</td>\n",
       "      <td>0.979899</td>\n",
       "      <td>0.844300</td>\n",
       "      <td>0.919096</td>\n",
       "      <td>0.994075</td>\n",
       "    </tr>\n",
       "  </tbody>\n",
       "</table>\n",
       "<p>289 rows × 6 columns</p>\n",
       "</div>"
      ],
      "text/plain": [
       "         scaled_duration  num_seed_songs  song_distance  artist_distance  album_distance  musical_similarity\n",
       "fid pid                                                                                                     \n",
       "103 143         2.420438              79       0.980415         0.850929        0.956356            0.980605\n",
       "    143         3.317974               6       0.928933         0.894591        0.918350            0.990882\n",
       "    143        -0.368807             100       0.927055         0.785114        0.887761            0.991647\n",
       "    143         0.230361             107       0.981651         0.701858        0.958297            0.993424\n",
       "    143         0.507771              11       0.947514         0.850929        0.884530            0.985635\n",
       "...                  ...             ...            ...              ...             ...                 ...\n",
       "    143         0.418799              76       0.979899         0.844300        0.919096            0.990003\n",
       "    143        -0.364610             100       0.927055         0.785114        0.887761            0.992008\n",
       "    143        -0.115792               6       0.928933         0.894591        0.918350            0.990531\n",
       "    143         1.102042              54       0.928933         0.881875        0.942265            0.987315\n",
       "    143         1.584970              76       0.979899         0.844300        0.919096            0.994075\n",
       "\n",
       "[289 rows x 6 columns]"
      ]
     },
     "execution_count": 32,
     "metadata": {},
     "output_type": "execute_result"
    }
   ],
   "source": [
    "X_test.loc[(103, 143)]"
   ]
  },
  {
   "cell_type": "code",
   "execution_count": 47,
   "metadata": {},
   "outputs": [
    {
     "name": "stderr",
     "output_type": "stream",
     "text": [
      "//anaconda3/envs/tfcs109a/lib/python3.6/site-packages/ipykernel_launcher.py:1: PerformanceWarning: indexing past lexsort depth may impact performance.\n",
      "  \"\"\"Entry point for launching an IPython kernel.\n"
     ]
    }
   ],
   "source": [
    "labels = y_test.loc[(103, 143)].values"
   ]
  },
  {
   "cell_type": "code",
   "execution_count": 34,
   "metadata": {
    "colab": {},
    "colab_type": "code",
    "id": "uOtlHUoUTl0h",
    "scrolled": true
   },
   "outputs": [
    {
     "name": "stderr",
     "output_type": "stream",
     "text": [
      "//anaconda3/envs/tfcs109a/lib/python3.6/site-packages/ipykernel_launcher.py:1: PerformanceWarning: indexing past lexsort depth may impact performance.\n",
      "  \"\"\"Entry point for launching an IPython kernel.\n"
     ]
    }
   ],
   "source": [
    "predictions = model.predict(X_test.loc[(103, 143)].values)"
   ]
  },
  {
   "cell_type": "code",
   "execution_count": 57,
   "metadata": {},
   "outputs": [],
   "source": [
    "sorted_preds = pd.DataFrame(np.append(predictions, labels.reshape(-1,1), axis=1)).sort_values(0, ascending=False).reset_index(drop=True)"
   ]
  },
  {
   "cell_type": "code",
   "execution_count": 59,
   "metadata": {},
   "outputs": [
    {
     "data": {
      "text/html": [
       "<div>\n",
       "<style scoped>\n",
       "    .dataframe tbody tr th:only-of-type {\n",
       "        vertical-align: middle;\n",
       "    }\n",
       "\n",
       "    .dataframe tbody tr th {\n",
       "        vertical-align: top;\n",
       "    }\n",
       "\n",
       "    .dataframe thead th {\n",
       "        text-align: right;\n",
       "    }\n",
       "</style>\n",
       "<table border=\"1\" class=\"dataframe\">\n",
       "  <thead>\n",
       "    <tr style=\"text-align: right;\">\n",
       "      <th></th>\n",
       "      <th>0</th>\n",
       "      <th>1</th>\n",
       "    </tr>\n",
       "  </thead>\n",
       "  <tbody>\n",
       "    <tr>\n",
       "      <th>28</th>\n",
       "      <td>0.575113</td>\n",
       "      <td>1.0</td>\n",
       "    </tr>\n",
       "    <tr>\n",
       "      <th>38</th>\n",
       "      <td>0.568679</td>\n",
       "      <td>1.0</td>\n",
       "    </tr>\n",
       "    <tr>\n",
       "      <th>51</th>\n",
       "      <td>0.554060</td>\n",
       "      <td>1.0</td>\n",
       "    </tr>\n",
       "    <tr>\n",
       "      <th>80</th>\n",
       "      <td>0.476552</td>\n",
       "      <td>1.0</td>\n",
       "    </tr>\n",
       "    <tr>\n",
       "      <th>124</th>\n",
       "      <td>0.415105</td>\n",
       "      <td>1.0</td>\n",
       "    </tr>\n",
       "    <tr>\n",
       "      <th>131</th>\n",
       "      <td>0.396105</td>\n",
       "      <td>1.0</td>\n",
       "    </tr>\n",
       "    <tr>\n",
       "      <th>138</th>\n",
       "      <td>0.382424</td>\n",
       "      <td>1.0</td>\n",
       "    </tr>\n",
       "    <tr>\n",
       "      <th>161</th>\n",
       "      <td>0.343269</td>\n",
       "      <td>1.0</td>\n",
       "    </tr>\n",
       "  </tbody>\n",
       "</table>\n",
       "</div>"
      ],
      "text/plain": [
       "            0    1\n",
       "28   0.575113  1.0\n",
       "38   0.568679  1.0\n",
       "51   0.554060  1.0\n",
       "80   0.476552  1.0\n",
       "124  0.415105  1.0\n",
       "131  0.396105  1.0\n",
       "138  0.382424  1.0\n",
       "161  0.343269  1.0"
      ]
     },
     "execution_count": 59,
     "metadata": {},
     "output_type": "execute_result"
    }
   ],
   "source": [
    "sorted_preds.loc[sorted_preds[1] == 1]"
   ]
  },
  {
   "cell_type": "code",
   "execution_count": 63,
   "metadata": {},
   "outputs": [
    {
     "data": {
      "text/plain": [
       "0.8062283737024222"
      ]
     },
     "execution_count": 63,
     "metadata": {},
     "output_type": "execute_result"
    }
   ],
   "source": [
    "accuracy_score(labels, (predictions > 0.5).astype('int'))"
   ]
  },
  {
   "cell_type": "markdown",
   "metadata": {},
   "source": [
    "# Evaluate our NN"
   ]
  },
  {
   "cell_type": "code",
   "execution_count": 185,
   "metadata": {},
   "outputs": [],
   "source": [
    "def clickEvaluation(val_list, predictions_list):\n",
    "    clicks = []\n",
    "    for i in range(len(val_list)):\n",
    "        predictions = predictions_list[i]\n",
    "        val_playlist = val_list[i]\n",
    "        positions_matching = np.where(np.isin(predictions[\"track_name\"].values, val_playlist['track_name'].values))[0]\n",
    "        if positions_matching.size == 0:\n",
    "            clicks.append(50)\n",
    "        else:\n",
    "            clicks.append(math.floor(positions_matching[0] / 10))\n",
    "    return np.mean(clicks)"
   ]
  },
  {
   "cell_type": "code",
   "execution_count": 187,
   "metadata": {},
   "outputs": [],
   "source": [
    "nn_test = pd.read_csv(\"nn_train_10_clicks.csv\").set_index([\"val_fid\", \"val_pid\"])\n",
    "nn_test.sort_index(inplace = True)"
   ]
  },
  {
   "cell_type": "code",
   "execution_count": 188,
   "metadata": {},
   "outputs": [],
   "source": [
    "ids = nn_test.index.unique().values"
   ]
  },
  {
   "cell_type": "code",
   "execution_count": 189,
   "metadata": {},
   "outputs": [
    {
     "data": {
      "text/html": [
       "<div>\n",
       "<style scoped>\n",
       "    .dataframe tbody tr th:only-of-type {\n",
       "        vertical-align: middle;\n",
       "    }\n",
       "\n",
       "    .dataframe tbody tr th {\n",
       "        vertical-align: top;\n",
       "    }\n",
       "\n",
       "    .dataframe thead th {\n",
       "        text-align: right;\n",
       "    }\n",
       "</style>\n",
       "<table border=\"1\" class=\"dataframe\">\n",
       "  <thead>\n",
       "    <tr style=\"text-align: right;\">\n",
       "      <th></th>\n",
       "      <th></th>\n",
       "      <th>fid</th>\n",
       "      <th>pid</th>\n",
       "      <th>scaled_duration</th>\n",
       "      <th>num_seed_songs</th>\n",
       "      <th>song_distance</th>\n",
       "      <th>artist_distance</th>\n",
       "      <th>album_distance</th>\n",
       "      <th>musical_similarity</th>\n",
       "      <th>response</th>\n",
       "    </tr>\n",
       "    <tr>\n",
       "      <th>val_fid</th>\n",
       "      <th>val_pid</th>\n",
       "      <th></th>\n",
       "      <th></th>\n",
       "      <th></th>\n",
       "      <th></th>\n",
       "      <th></th>\n",
       "      <th></th>\n",
       "      <th></th>\n",
       "      <th></th>\n",
       "      <th></th>\n",
       "    </tr>\n",
       "  </thead>\n",
       "  <tbody>\n",
       "    <tr>\n",
       "      <th rowspan=\"11\" valign=\"top\">560</th>\n",
       "      <th>995</th>\n",
       "      <td>59</td>\n",
       "      <td>107</td>\n",
       "      <td>-0.231706</td>\n",
       "      <td>66</td>\n",
       "      <td>0.903439</td>\n",
       "      <td>0.806351</td>\n",
       "      <td>0.842500</td>\n",
       "      <td>0.968826</td>\n",
       "      <td>0</td>\n",
       "    </tr>\n",
       "    <tr>\n",
       "      <th>995</th>\n",
       "      <td>59</td>\n",
       "      <td>107</td>\n",
       "      <td>-0.624036</td>\n",
       "      <td>66</td>\n",
       "      <td>0.903439</td>\n",
       "      <td>0.806351</td>\n",
       "      <td>0.842500</td>\n",
       "      <td>0.935565</td>\n",
       "      <td>0</td>\n",
       "    </tr>\n",
       "    <tr>\n",
       "      <th>995</th>\n",
       "      <td>59</td>\n",
       "      <td>107</td>\n",
       "      <td>0.139215</td>\n",
       "      <td>66</td>\n",
       "      <td>0.903439</td>\n",
       "      <td>0.806351</td>\n",
       "      <td>0.842500</td>\n",
       "      <td>0.987643</td>\n",
       "      <td>0</td>\n",
       "    </tr>\n",
       "    <tr>\n",
       "      <th>995</th>\n",
       "      <td>59</td>\n",
       "      <td>107</td>\n",
       "      <td>1.090216</td>\n",
       "      <td>66</td>\n",
       "      <td>0.903439</td>\n",
       "      <td>0.806351</td>\n",
       "      <td>0.842500</td>\n",
       "      <td>0.987865</td>\n",
       "      <td>0</td>\n",
       "    </tr>\n",
       "    <tr>\n",
       "      <th>995</th>\n",
       "      <td>59</td>\n",
       "      <td>107</td>\n",
       "      <td>-0.500541</td>\n",
       "      <td>66</td>\n",
       "      <td>0.903439</td>\n",
       "      <td>0.806351</td>\n",
       "      <td>0.842500</td>\n",
       "      <td>0.987683</td>\n",
       "      <td>0</td>\n",
       "    </tr>\n",
       "    <tr>\n",
       "      <th>...</th>\n",
       "      <td>...</td>\n",
       "      <td>...</td>\n",
       "      <td>...</td>\n",
       "      <td>...</td>\n",
       "      <td>...</td>\n",
       "      <td>...</td>\n",
       "      <td>...</td>\n",
       "      <td>...</td>\n",
       "      <td>...</td>\n",
       "    </tr>\n",
       "    <tr>\n",
       "      <th>995</th>\n",
       "      <td>560</td>\n",
       "      <td>799</td>\n",
       "      <td>-0.587405</td>\n",
       "      <td>66</td>\n",
       "      <td>0.871196</td>\n",
       "      <td>0.759272</td>\n",
       "      <td>0.824772</td>\n",
       "      <td>0.986801</td>\n",
       "      <td>0</td>\n",
       "    </tr>\n",
       "    <tr>\n",
       "      <th>995</th>\n",
       "      <td>560</td>\n",
       "      <td>799</td>\n",
       "      <td>-0.761763</td>\n",
       "      <td>66</td>\n",
       "      <td>0.871196</td>\n",
       "      <td>0.759272</td>\n",
       "      <td>0.824772</td>\n",
       "      <td>0.971335</td>\n",
       "      <td>0</td>\n",
       "    </tr>\n",
       "    <tr>\n",
       "      <th>995</th>\n",
       "      <td>560</td>\n",
       "      <td>799</td>\n",
       "      <td>-0.677482</td>\n",
       "      <td>66</td>\n",
       "      <td>0.871196</td>\n",
       "      <td>0.759272</td>\n",
       "      <td>0.824772</td>\n",
       "      <td>0.983655</td>\n",
       "      <td>0</td>\n",
       "    </tr>\n",
       "    <tr>\n",
       "      <th>995</th>\n",
       "      <td>560</td>\n",
       "      <td>799</td>\n",
       "      <td>-0.609023</td>\n",
       "      <td>66</td>\n",
       "      <td>0.871196</td>\n",
       "      <td>0.759272</td>\n",
       "      <td>0.824772</td>\n",
       "      <td>0.980697</td>\n",
       "      <td>0</td>\n",
       "    </tr>\n",
       "    <tr>\n",
       "      <th>995</th>\n",
       "      <td>560</td>\n",
       "      <td>799</td>\n",
       "      <td>-0.528960</td>\n",
       "      <td>66</td>\n",
       "      <td>0.871196</td>\n",
       "      <td>0.759272</td>\n",
       "      <td>0.824772</td>\n",
       "      <td>0.988713</td>\n",
       "      <td>0</td>\n",
       "    </tr>\n",
       "  </tbody>\n",
       "</table>\n",
       "<p>767 rows × 9 columns</p>\n",
       "</div>"
      ],
      "text/plain": [
       "                 fid  pid  scaled_duration  num_seed_songs  song_distance  artist_distance  album_distance  musical_similarity  response\n",
       "val_fid val_pid                                                                                                                         \n",
       "560     995       59  107        -0.231706              66       0.903439         0.806351        0.842500            0.968826         0\n",
       "        995       59  107        -0.624036              66       0.903439         0.806351        0.842500            0.935565         0\n",
       "        995       59  107         0.139215              66       0.903439         0.806351        0.842500            0.987643         0\n",
       "        995       59  107         1.090216              66       0.903439         0.806351        0.842500            0.987865         0\n",
       "        995       59  107        -0.500541              66       0.903439         0.806351        0.842500            0.987683         0\n",
       "...              ...  ...              ...             ...            ...              ...             ...                 ...       ...\n",
       "        995      560  799        -0.587405              66       0.871196         0.759272        0.824772            0.986801         0\n",
       "        995      560  799        -0.761763              66       0.871196         0.759272        0.824772            0.971335         0\n",
       "        995      560  799        -0.677482              66       0.871196         0.759272        0.824772            0.983655         0\n",
       "        995      560  799        -0.609023              66       0.871196         0.759272        0.824772            0.980697         0\n",
       "        995      560  799        -0.528960              66       0.871196         0.759272        0.824772            0.988713         0\n",
       "\n",
       "[767 rows x 9 columns]"
      ]
     },
     "execution_count": 189,
     "metadata": {},
     "output_type": "execute_result"
    }
   ],
   "source": [
    "X"
   ]
  },
  {
   "cell_type": "code",
   "execution_count": 190,
   "metadata": {},
   "outputs": [],
   "source": [
    "original_clicks = []\n",
    "new_clicks = []\n",
    "for i in ids:\n",
    "    X = nn_test.loc[i]\n",
    "    positions_matching = np.where(X['response'].values == 1)[0]\n",
    "    if positions_matching.size == 0:\n",
    "        original_clicks.append(50)\n",
    "        new_clicks.append(50)\n",
    "    else:\n",
    "        o_click = math.floor(positions_matching[0] / 10)\n",
    "        original_clicks.append(o_click if o_click < 50 else 50)\n",
    "        predictions = model.predict(X.drop([\"fid\", \"pid\", \"response\"], axis=1).values)\n",
    "        X_pred = X.copy()\n",
    "        X_pred['predictions'] = predictions\n",
    "        sorted_response = X_pred.sort_values(\"predictions\", ascending=False)[\"response\"].values\n",
    "        positions_matching = np.where(sorted_response == 1)[0]\n",
    "        n_click = math.floor(positions_matching[0] / 10)\n",
    "        new_clicks.append(n_click if n_click < 50 else 50)"
   ]
  },
  {
   "cell_type": "code",
   "execution_count": 191,
   "metadata": {},
   "outputs": [
    {
     "data": {
      "text/plain": [
       "20.322483725588384"
      ]
     },
     "execution_count": 191,
     "metadata": {},
     "output_type": "execute_result"
    }
   ],
   "source": [
    "np.mean(original_clicks)"
   ]
  },
  {
   "cell_type": "code",
   "execution_count": 192,
   "metadata": {},
   "outputs": [
    {
     "data": {
      "text/plain": [
       "14.271407110665999"
      ]
     },
     "execution_count": 192,
     "metadata": {},
     "output_type": "execute_result"
    }
   ],
   "source": [
    "np.mean(new_clicks)"
   ]
  },
  {
   "cell_type": "markdown",
   "metadata": {},
   "source": [
    "## Evaluate adjusted precision"
   ]
  },
  {
   "cell_type": "code",
   "execution_count": 181,
   "metadata": {},
   "outputs": [],
   "source": [
    "nn_test = pd.read_csv(\"nn_train_10_r.csv\").set_index([\"val_fid\", \"val_pid\"])\n",
    "nn_test.sort_index(inplace = True)"
   ]
  },
  {
   "cell_type": "code",
   "execution_count": 182,
   "metadata": {},
   "outputs": [
    {
     "data": {
      "text/html": [
       "<div>\n",
       "<style scoped>\n",
       "    .dataframe tbody tr th:only-of-type {\n",
       "        vertical-align: middle;\n",
       "    }\n",
       "\n",
       "    .dataframe tbody tr th {\n",
       "        vertical-align: top;\n",
       "    }\n",
       "\n",
       "    .dataframe thead th {\n",
       "        text-align: right;\n",
       "    }\n",
       "</style>\n",
       "<table border=\"1\" class=\"dataframe\">\n",
       "  <thead>\n",
       "    <tr style=\"text-align: right;\">\n",
       "      <th></th>\n",
       "      <th></th>\n",
       "      <th>fid</th>\n",
       "      <th>pid</th>\n",
       "      <th>scaled_duration</th>\n",
       "      <th>num_seed_songs</th>\n",
       "      <th>song_distance</th>\n",
       "      <th>artist_distance</th>\n",
       "      <th>album_distance</th>\n",
       "      <th>musical_similarity</th>\n",
       "      <th>response</th>\n",
       "    </tr>\n",
       "    <tr>\n",
       "      <th>val_fid</th>\n",
       "      <th>val_pid</th>\n",
       "      <th></th>\n",
       "      <th></th>\n",
       "      <th></th>\n",
       "      <th></th>\n",
       "      <th></th>\n",
       "      <th></th>\n",
       "      <th></th>\n",
       "      <th></th>\n",
       "      <th></th>\n",
       "    </tr>\n",
       "  </thead>\n",
       "  <tbody>\n",
       "    <tr>\n",
       "      <th rowspan=\"5\" valign=\"top\">59</th>\n",
       "      <th>0</th>\n",
       "      <td>59</td>\n",
       "      <td>452</td>\n",
       "      <td>2.051246</td>\n",
       "      <td>143</td>\n",
       "      <td>0.950703</td>\n",
       "      <td>0.833292</td>\n",
       "      <td>0.904253</td>\n",
       "      <td>0.991222</td>\n",
       "      <td>0</td>\n",
       "    </tr>\n",
       "    <tr>\n",
       "      <th>0</th>\n",
       "      <td>59</td>\n",
       "      <td>452</td>\n",
       "      <td>-0.446089</td>\n",
       "      <td>143</td>\n",
       "      <td>0.950703</td>\n",
       "      <td>0.833292</td>\n",
       "      <td>0.904253</td>\n",
       "      <td>0.989765</td>\n",
       "      <td>0</td>\n",
       "    </tr>\n",
       "    <tr>\n",
       "      <th>0</th>\n",
       "      <td>59</td>\n",
       "      <td>452</td>\n",
       "      <td>0.158627</td>\n",
       "      <td>143</td>\n",
       "      <td>0.950703</td>\n",
       "      <td>0.833292</td>\n",
       "      <td>0.904253</td>\n",
       "      <td>0.988848</td>\n",
       "      <td>0</td>\n",
       "    </tr>\n",
       "    <tr>\n",
       "      <th>0</th>\n",
       "      <td>59</td>\n",
       "      <td>452</td>\n",
       "      <td>0.376808</td>\n",
       "      <td>143</td>\n",
       "      <td>0.950703</td>\n",
       "      <td>0.833292</td>\n",
       "      <td>0.904253</td>\n",
       "      <td>0.984226</td>\n",
       "      <td>0</td>\n",
       "    </tr>\n",
       "    <tr>\n",
       "      <th>0</th>\n",
       "      <td>59</td>\n",
       "      <td>452</td>\n",
       "      <td>-0.144032</td>\n",
       "      <td>143</td>\n",
       "      <td>0.950703</td>\n",
       "      <td>0.833292</td>\n",
       "      <td>0.904253</td>\n",
       "      <td>0.991195</td>\n",
       "      <td>0</td>\n",
       "    </tr>\n",
       "    <tr>\n",
       "      <th>...</th>\n",
       "      <th>...</th>\n",
       "      <td>...</td>\n",
       "      <td>...</td>\n",
       "      <td>...</td>\n",
       "      <td>...</td>\n",
       "      <td>...</td>\n",
       "      <td>...</td>\n",
       "      <td>...</td>\n",
       "      <td>...</td>\n",
       "      <td>...</td>\n",
       "    </tr>\n",
       "    <tr>\n",
       "      <th rowspan=\"5\" valign=\"top\">560</th>\n",
       "      <th>995</th>\n",
       "      <td>560</td>\n",
       "      <td>799</td>\n",
       "      <td>-0.587405</td>\n",
       "      <td>66</td>\n",
       "      <td>0.871196</td>\n",
       "      <td>0.759272</td>\n",
       "      <td>0.824772</td>\n",
       "      <td>0.986801</td>\n",
       "      <td>0</td>\n",
       "    </tr>\n",
       "    <tr>\n",
       "      <th>995</th>\n",
       "      <td>560</td>\n",
       "      <td>799</td>\n",
       "      <td>-0.761763</td>\n",
       "      <td>66</td>\n",
       "      <td>0.871196</td>\n",
       "      <td>0.759272</td>\n",
       "      <td>0.824772</td>\n",
       "      <td>0.971335</td>\n",
       "      <td>0</td>\n",
       "    </tr>\n",
       "    <tr>\n",
       "      <th>995</th>\n",
       "      <td>560</td>\n",
       "      <td>799</td>\n",
       "      <td>-0.677482</td>\n",
       "      <td>66</td>\n",
       "      <td>0.871196</td>\n",
       "      <td>0.759272</td>\n",
       "      <td>0.824772</td>\n",
       "      <td>0.983655</td>\n",
       "      <td>0</td>\n",
       "    </tr>\n",
       "    <tr>\n",
       "      <th>995</th>\n",
       "      <td>560</td>\n",
       "      <td>799</td>\n",
       "      <td>-0.609023</td>\n",
       "      <td>66</td>\n",
       "      <td>0.871196</td>\n",
       "      <td>0.759272</td>\n",
       "      <td>0.824772</td>\n",
       "      <td>0.980697</td>\n",
       "      <td>0</td>\n",
       "    </tr>\n",
       "    <tr>\n",
       "      <th>995</th>\n",
       "      <td>560</td>\n",
       "      <td>799</td>\n",
       "      <td>-0.528960</td>\n",
       "      <td>66</td>\n",
       "      <td>0.871196</td>\n",
       "      <td>0.759272</td>\n",
       "      <td>0.824772</td>\n",
       "      <td>0.988713</td>\n",
       "      <td>0</td>\n",
       "    </tr>\n",
       "  </tbody>\n",
       "</table>\n",
       "<p>1871912 rows × 9 columns</p>\n",
       "</div>"
      ],
      "text/plain": [
       "                 fid  pid  scaled_duration  num_seed_songs  song_distance  artist_distance  album_distance  musical_similarity  response\n",
       "val_fid val_pid                                                                                                                         \n",
       "59      0         59  452         2.051246             143       0.950703         0.833292        0.904253            0.991222         0\n",
       "        0         59  452        -0.446089             143       0.950703         0.833292        0.904253            0.989765         0\n",
       "        0         59  452         0.158627             143       0.950703         0.833292        0.904253            0.988848         0\n",
       "        0         59  452         0.376808             143       0.950703         0.833292        0.904253            0.984226         0\n",
       "        0         59  452        -0.144032             143       0.950703         0.833292        0.904253            0.991195         0\n",
       "...              ...  ...              ...             ...            ...              ...             ...                 ...       ...\n",
       "560     995      560  799        -0.587405              66       0.871196         0.759272        0.824772            0.986801         0\n",
       "        995      560  799        -0.761763              66       0.871196         0.759272        0.824772            0.971335         0\n",
       "        995      560  799        -0.677482              66       0.871196         0.759272        0.824772            0.983655         0\n",
       "        995      560  799        -0.609023              66       0.871196         0.759272        0.824772            0.980697         0\n",
       "        995      560  799        -0.528960              66       0.871196         0.759272        0.824772            0.988713         0\n",
       "\n",
       "[1871912 rows x 9 columns]"
      ]
     },
     "execution_count": 182,
     "metadata": {},
     "output_type": "execute_result"
    }
   ],
   "source": [
    "nn_test"
   ]
  },
  {
   "cell_type": "code",
   "execution_count": 183,
   "metadata": {},
   "outputs": [],
   "source": [
    "adjusted_precision = []\n",
    "for i in ids:\n",
    "    X = nn_test.loc[i]\n",
    "    predictions = model.predict(X.drop([\"fid\", \"pid\", \"response\"], axis=1).values)\n",
    "    X_pred = X.copy()\n",
    "    X_pred['predictions'] = predictions\n",
    "    sorted_response = X_pred.sort_values(\"predictions\", ascending=False)[\"response\"].values\n",
    "    top_500 = sorted_response[0:500] if sorted_response.shape[0] > 500 else sorted_response\n",
    "    adjusted_precision.append(sum((top_500 == 1).astype(\"int\")) / top_500.shape[0])"
   ]
  },
  {
   "cell_type": "code",
   "execution_count": 184,
   "metadata": {},
   "outputs": [
    {
     "data": {
      "text/plain": [
       "0.0949934713390841"
      ]
     },
     "execution_count": 184,
     "metadata": {},
     "output_type": "execute_result"
    }
   ],
   "source": [
    "np.mean(adjusted_precision)"
   ]
  },
  {
   "cell_type": "code",
   "execution_count": null,
   "metadata": {},
   "outputs": [],
   "source": []
  }
 ],
 "metadata": {
  "colab": {
   "collapsed_sections": [],
   "name": "NNTraining.ipynb",
   "provenance": []
  },
  "kernelspec": {
   "display_name": "Python 3",
   "language": "python",
   "name": "python3"
  },
  "language_info": {
   "codemirror_mode": {
    "name": "ipython",
    "version": 3
   },
   "file_extension": ".py",
   "mimetype": "text/x-python",
   "name": "python",
   "nbconvert_exporter": "python",
   "pygments_lexer": "ipython3",
   "version": "3.6.9"
  }
 },
 "nbformat": 4,
 "nbformat_minor": 1
}
